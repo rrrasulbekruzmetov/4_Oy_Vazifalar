{
 "cells": [
  {
   "cell_type": "code",
   "execution_count": 1,
   "id": "95e1d2c4",
   "metadata": {},
   "outputs": [],
   "source": [
    "import pandas as pd \n",
    "df=pd.read_csv('Data_preprocessing.csv')"
   ]
  },
  {
   "cell_type": "code",
   "execution_count": 2,
   "id": "d6458896",
   "metadata": {},
   "outputs": [
    {
     "name": "stdout",
     "output_type": "stream",
     "text": [
      "<class 'pandas.core.frame.DataFrame'>\n",
      "RangeIndex: 50000 entries, 0 to 49999\n",
      "Data columns (total 25 columns):\n",
      " #   Column                  Non-Null Count  Dtype  \n",
      "---  ------                  --------------  -----  \n",
      " 0   Model                   50000 non-null  float64\n",
      " 1   Year                    50000 non-null  float64\n",
      " 2   Engine_Size_L           50000 non-null  float64\n",
      " 3   Mileage_KM              50000 non-null  float64\n",
      " 4   Price_USD               50000 non-null  float64\n",
      " 5   Sales_Volume            50000 non-null  float64\n",
      " 6   Sales_Classification    50000 non-null  int64  \n",
      " 7   Region_Africa           50000 non-null  float64\n",
      " 8   Region_Asia             50000 non-null  float64\n",
      " 9   Region_Europe           50000 non-null  float64\n",
      " 10  Region_Middle East      50000 non-null  float64\n",
      " 11  Region_North America    50000 non-null  float64\n",
      " 12  Region_South America    50000 non-null  float64\n",
      " 13  Color_Black             50000 non-null  float64\n",
      " 14  Color_Blue              50000 non-null  float64\n",
      " 15  Color_Grey              50000 non-null  float64\n",
      " 16  Color_Red               50000 non-null  float64\n",
      " 17  Color_Silver            50000 non-null  float64\n",
      " 18  Color_White             50000 non-null  float64\n",
      " 19  Fuel_Type_Diesel        50000 non-null  float64\n",
      " 20  Fuel_Type_Electric      50000 non-null  float64\n",
      " 21  Fuel_Type_Hybrid        50000 non-null  float64\n",
      " 22  Fuel_Type_Petrol        50000 non-null  float64\n",
      " 23  Transmission_Automatic  50000 non-null  float64\n",
      " 24  Transmission_Manual     50000 non-null  float64\n",
      "dtypes: float64(24), int64(1)\n",
      "memory usage: 9.5 MB\n"
     ]
    }
   ],
   "source": [
    "df.info()"
   ]
  },
  {
   "cell_type": "code",
   "execution_count": 3,
   "id": "3559275f",
   "metadata": {},
   "outputs": [
    {
     "data": {
      "text/html": [
       "<div>\n",
       "<style scoped>\n",
       "    .dataframe tbody tr th:only-of-type {\n",
       "        vertical-align: middle;\n",
       "    }\n",
       "\n",
       "    .dataframe tbody tr th {\n",
       "        vertical-align: top;\n",
       "    }\n",
       "\n",
       "    .dataframe thead th {\n",
       "        text-align: right;\n",
       "    }\n",
       "</style>\n",
       "<table border=\"1\" class=\"dataframe\">\n",
       "  <thead>\n",
       "    <tr style=\"text-align: right;\">\n",
       "      <th></th>\n",
       "      <th>Model</th>\n",
       "      <th>Year</th>\n",
       "      <th>Engine_Size_L</th>\n",
       "      <th>Mileage_KM</th>\n",
       "      <th>Price_USD</th>\n",
       "      <th>Sales_Volume</th>\n",
       "      <th>Sales_Classification</th>\n",
       "      <th>Region_Africa</th>\n",
       "      <th>Region_Asia</th>\n",
       "      <th>Region_Europe</th>\n",
       "      <th>...</th>\n",
       "      <th>Color_Grey</th>\n",
       "      <th>Color_Red</th>\n",
       "      <th>Color_Silver</th>\n",
       "      <th>Color_White</th>\n",
       "      <th>Fuel_Type_Diesel</th>\n",
       "      <th>Fuel_Type_Electric</th>\n",
       "      <th>Fuel_Type_Hybrid</th>\n",
       "      <th>Fuel_Type_Petrol</th>\n",
       "      <th>Transmission_Automatic</th>\n",
       "      <th>Transmission_Manual</th>\n",
       "    </tr>\n",
       "  </thead>\n",
       "  <tbody>\n",
       "    <tr>\n",
       "      <th>0</th>\n",
       "      <td>-1.258064</td>\n",
       "      <td>-0.234876</td>\n",
       "      <td>0.250548</td>\n",
       "      <td>0.887814</td>\n",
       "      <td>0.911817</td>\n",
       "      <td>1.131530</td>\n",
       "      <td>1</td>\n",
       "      <td>-0.444624</td>\n",
       "      <td>2.216836</td>\n",
       "      <td>-0.447235</td>\n",
       "      <td>...</td>\n",
       "      <td>-0.447686</td>\n",
       "      <td>2.215417</td>\n",
       "      <td>-0.447750</td>\n",
       "      <td>-0.446269</td>\n",
       "      <td>-0.570052</td>\n",
       "      <td>-0.576457</td>\n",
       "      <td>-0.584002</td>\n",
       "      <td>1.727444</td>\n",
       "      <td>-0.993859</td>\n",
       "      <td>0.993859</td>\n",
       "    </tr>\n",
       "    <tr>\n",
       "      <th>1</th>\n",
       "      <td>1.575953</td>\n",
       "      <td>-0.928611</td>\n",
       "      <td>-1.632377</td>\n",
       "      <td>0.368717</td>\n",
       "      <td>0.160951</td>\n",
       "      <td>-0.573911</td>\n",
       "      <td>0</td>\n",
       "      <td>-0.444624</td>\n",
       "      <td>-0.451093</td>\n",
       "      <td>-0.447235</td>\n",
       "      <td>...</td>\n",
       "      <td>-0.447686</td>\n",
       "      <td>2.215417</td>\n",
       "      <td>-0.447750</td>\n",
       "      <td>-0.446269</td>\n",
       "      <td>-0.570052</td>\n",
       "      <td>-0.576457</td>\n",
       "      <td>1.712324</td>\n",
       "      <td>-0.578890</td>\n",
       "      <td>1.006179</td>\n",
       "      <td>-1.006179</td>\n",
       "    </tr>\n",
       "    <tr>\n",
       "      <th>2</th>\n",
       "      <td>-1.258064</td>\n",
       "      <td>1.152595</td>\n",
       "      <td>1.241561</td>\n",
       "      <td>-1.541504</td>\n",
       "      <td>1.470514</td>\n",
       "      <td>0.674365</td>\n",
       "      <td>0</td>\n",
       "      <td>-0.444624</td>\n",
       "      <td>-0.451093</td>\n",
       "      <td>-0.447235</td>\n",
       "      <td>...</td>\n",
       "      <td>-0.447686</td>\n",
       "      <td>-0.451382</td>\n",
       "      <td>-0.447750</td>\n",
       "      <td>-0.446269</td>\n",
       "      <td>-0.570052</td>\n",
       "      <td>-0.576457</td>\n",
       "      <td>-0.584002</td>\n",
       "      <td>1.727444</td>\n",
       "      <td>1.006179</td>\n",
       "      <td>-1.006179</td>\n",
       "    </tr>\n",
       "    <tr>\n",
       "      <th>3</th>\n",
       "      <td>0.316390</td>\n",
       "      <td>1.615085</td>\n",
       "      <td>-1.533276</td>\n",
       "      <td>-1.260805</td>\n",
       "      <td>-0.540950</td>\n",
       "      <td>-0.357231</td>\n",
       "      <td>0</td>\n",
       "      <td>-0.444624</td>\n",
       "      <td>-0.451093</td>\n",
       "      <td>-0.447235</td>\n",
       "      <td>...</td>\n",
       "      <td>-0.447686</td>\n",
       "      <td>-0.451382</td>\n",
       "      <td>-0.447750</td>\n",
       "      <td>-0.446269</td>\n",
       "      <td>-0.570052</td>\n",
       "      <td>-0.576457</td>\n",
       "      <td>-0.584002</td>\n",
       "      <td>1.727444</td>\n",
       "      <td>1.006179</td>\n",
       "      <td>-1.006179</td>\n",
       "    </tr>\n",
       "    <tr>\n",
       "      <th>4</th>\n",
       "      <td>-0.943173</td>\n",
       "      <td>0.690105</td>\n",
       "      <td>-1.136871</td>\n",
       "      <td>0.376656</td>\n",
       "      <td>-0.966867</td>\n",
       "      <td>-0.695729</td>\n",
       "      <td>0</td>\n",
       "      <td>-0.444624</td>\n",
       "      <td>-0.451093</td>\n",
       "      <td>-0.447235</td>\n",
       "      <td>...</td>\n",
       "      <td>-0.447686</td>\n",
       "      <td>-0.451382</td>\n",
       "      <td>-0.447750</td>\n",
       "      <td>-0.446269</td>\n",
       "      <td>1.754225</td>\n",
       "      <td>-0.576457</td>\n",
       "      <td>-0.584002</td>\n",
       "      <td>-0.578890</td>\n",
       "      <td>-0.993859</td>\n",
       "      <td>0.993859</td>\n",
       "    </tr>\n",
       "    <tr>\n",
       "      <th>...</th>\n",
       "      <td>...</td>\n",
       "      <td>...</td>\n",
       "      <td>...</td>\n",
       "      <td>...</td>\n",
       "      <td>...</td>\n",
       "      <td>...</td>\n",
       "      <td>...</td>\n",
       "      <td>...</td>\n",
       "      <td>...</td>\n",
       "      <td>...</td>\n",
       "      <td>...</td>\n",
       "      <td>...</td>\n",
       "      <td>...</td>\n",
       "      <td>...</td>\n",
       "      <td>...</td>\n",
       "      <td>...</td>\n",
       "      <td>...</td>\n",
       "      <td>...</td>\n",
       "      <td>...</td>\n",
       "      <td>...</td>\n",
       "      <td>...</td>\n",
       "    </tr>\n",
       "    <tr>\n",
       "      <th>49995</th>\n",
       "      <td>1.261062</td>\n",
       "      <td>-0.697366</td>\n",
       "      <td>1.340662</td>\n",
       "      <td>0.875423</td>\n",
       "      <td>-1.234811</td>\n",
       "      <td>1.090224</td>\n",
       "      <td>1</td>\n",
       "      <td>-0.444624</td>\n",
       "      <td>2.216836</td>\n",
       "      <td>-0.447235</td>\n",
       "      <td>...</td>\n",
       "      <td>-0.447686</td>\n",
       "      <td>2.215417</td>\n",
       "      <td>-0.447750</td>\n",
       "      <td>-0.446269</td>\n",
       "      <td>-0.570052</td>\n",
       "      <td>-0.576457</td>\n",
       "      <td>1.712324</td>\n",
       "      <td>-0.578890</td>\n",
       "      <td>-0.993859</td>\n",
       "      <td>0.993859</td>\n",
       "    </tr>\n",
       "    <tr>\n",
       "      <th>49996</th>\n",
       "      <td>1.261062</td>\n",
       "      <td>1.383840</td>\n",
       "      <td>0.944257</td>\n",
       "      <td>0.812704</td>\n",
       "      <td>-1.012409</td>\n",
       "      <td>1.662205</td>\n",
       "      <td>1</td>\n",
       "      <td>-0.444624</td>\n",
       "      <td>-0.451093</td>\n",
       "      <td>-0.447235</td>\n",
       "      <td>...</td>\n",
       "      <td>-0.447686</td>\n",
       "      <td>-0.451382</td>\n",
       "      <td>2.233388</td>\n",
       "      <td>-0.446269</td>\n",
       "      <td>-0.570052</td>\n",
       "      <td>1.734734</td>\n",
       "      <td>-0.584002</td>\n",
       "      <td>-0.578890</td>\n",
       "      <td>-0.993859</td>\n",
       "      <td>0.993859</td>\n",
       "    </tr>\n",
       "    <tr>\n",
       "      <th>49997</th>\n",
       "      <td>-1.258064</td>\n",
       "      <td>-1.622346</td>\n",
       "      <td>1.241561</td>\n",
       "      <td>1.288067</td>\n",
       "      <td>-1.111955</td>\n",
       "      <td>1.124529</td>\n",
       "      <td>1</td>\n",
       "      <td>-0.444624</td>\n",
       "      <td>-0.451093</td>\n",
       "      <td>-0.447235</td>\n",
       "      <td>...</td>\n",
       "      <td>-0.447686</td>\n",
       "      <td>2.215417</td>\n",
       "      <td>-0.447750</td>\n",
       "      <td>-0.446269</td>\n",
       "      <td>-0.570052</td>\n",
       "      <td>-0.576457</td>\n",
       "      <td>-0.584002</td>\n",
       "      <td>1.727444</td>\n",
       "      <td>1.006179</td>\n",
       "      <td>-1.006179</td>\n",
       "    </tr>\n",
       "    <tr>\n",
       "      <th>49998</th>\n",
       "      <td>1.261062</td>\n",
       "      <td>0.690105</td>\n",
       "      <td>0.547852</td>\n",
       "      <td>-1.672880</td>\n",
       "      <td>-0.633457</td>\n",
       "      <td>1.546689</td>\n",
       "      <td>1</td>\n",
       "      <td>-0.444624</td>\n",
       "      <td>2.216836</td>\n",
       "      <td>-0.447235</td>\n",
       "      <td>...</td>\n",
       "      <td>-0.447686</td>\n",
       "      <td>-0.451382</td>\n",
       "      <td>-0.447750</td>\n",
       "      <td>2.240802</td>\n",
       "      <td>-0.570052</td>\n",
       "      <td>1.734734</td>\n",
       "      <td>-0.584002</td>\n",
       "      <td>-0.578890</td>\n",
       "      <td>1.006179</td>\n",
       "      <td>-1.006179</td>\n",
       "    </tr>\n",
       "    <tr>\n",
       "      <th>49999</th>\n",
       "      <td>0.001499</td>\n",
       "      <td>0.690105</td>\n",
       "      <td>0.052345</td>\n",
       "      <td>1.220136</td>\n",
       "      <td>0.094523</td>\n",
       "      <td>-1.156394</td>\n",
       "      <td>0</td>\n",
       "      <td>-0.444624</td>\n",
       "      <td>-0.451093</td>\n",
       "      <td>-0.447235</td>\n",
       "      <td>...</td>\n",
       "      <td>-0.447686</td>\n",
       "      <td>-0.451382</td>\n",
       "      <td>-0.447750</td>\n",
       "      <td>-0.446269</td>\n",
       "      <td>1.754225</td>\n",
       "      <td>-0.576457</td>\n",
       "      <td>-0.584002</td>\n",
       "      <td>-0.578890</td>\n",
       "      <td>-0.993859</td>\n",
       "      <td>0.993859</td>\n",
       "    </tr>\n",
       "  </tbody>\n",
       "</table>\n",
       "<p>50000 rows × 25 columns</p>\n",
       "</div>"
      ],
      "text/plain": [
       "          Model      Year  Engine_Size_L  Mileage_KM  Price_USD  Sales_Volume  \\\n",
       "0     -1.258064 -0.234876       0.250548    0.887814   0.911817      1.131530   \n",
       "1      1.575953 -0.928611      -1.632377    0.368717   0.160951     -0.573911   \n",
       "2     -1.258064  1.152595       1.241561   -1.541504   1.470514      0.674365   \n",
       "3      0.316390  1.615085      -1.533276   -1.260805  -0.540950     -0.357231   \n",
       "4     -0.943173  0.690105      -1.136871    0.376656  -0.966867     -0.695729   \n",
       "...         ...       ...            ...         ...        ...           ...   \n",
       "49995  1.261062 -0.697366       1.340662    0.875423  -1.234811      1.090224   \n",
       "49996  1.261062  1.383840       0.944257    0.812704  -1.012409      1.662205   \n",
       "49997 -1.258064 -1.622346       1.241561    1.288067  -1.111955      1.124529   \n",
       "49998  1.261062  0.690105       0.547852   -1.672880  -0.633457      1.546689   \n",
       "49999  0.001499  0.690105       0.052345    1.220136   0.094523     -1.156394   \n",
       "\n",
       "       Sales_Classification  Region_Africa  Region_Asia  Region_Europe  ...  \\\n",
       "0                         1      -0.444624     2.216836      -0.447235  ...   \n",
       "1                         0      -0.444624    -0.451093      -0.447235  ...   \n",
       "2                         0      -0.444624    -0.451093      -0.447235  ...   \n",
       "3                         0      -0.444624    -0.451093      -0.447235  ...   \n",
       "4                         0      -0.444624    -0.451093      -0.447235  ...   \n",
       "...                     ...            ...          ...            ...  ...   \n",
       "49995                     1      -0.444624     2.216836      -0.447235  ...   \n",
       "49996                     1      -0.444624    -0.451093      -0.447235  ...   \n",
       "49997                     1      -0.444624    -0.451093      -0.447235  ...   \n",
       "49998                     1      -0.444624     2.216836      -0.447235  ...   \n",
       "49999                     0      -0.444624    -0.451093      -0.447235  ...   \n",
       "\n",
       "       Color_Grey  Color_Red  Color_Silver  Color_White  Fuel_Type_Diesel  \\\n",
       "0       -0.447686   2.215417     -0.447750    -0.446269         -0.570052   \n",
       "1       -0.447686   2.215417     -0.447750    -0.446269         -0.570052   \n",
       "2       -0.447686  -0.451382     -0.447750    -0.446269         -0.570052   \n",
       "3       -0.447686  -0.451382     -0.447750    -0.446269         -0.570052   \n",
       "4       -0.447686  -0.451382     -0.447750    -0.446269          1.754225   \n",
       "...           ...        ...           ...          ...               ...   \n",
       "49995   -0.447686   2.215417     -0.447750    -0.446269         -0.570052   \n",
       "49996   -0.447686  -0.451382      2.233388    -0.446269         -0.570052   \n",
       "49997   -0.447686   2.215417     -0.447750    -0.446269         -0.570052   \n",
       "49998   -0.447686  -0.451382     -0.447750     2.240802         -0.570052   \n",
       "49999   -0.447686  -0.451382     -0.447750    -0.446269          1.754225   \n",
       "\n",
       "       Fuel_Type_Electric  Fuel_Type_Hybrid  Fuel_Type_Petrol  \\\n",
       "0               -0.576457         -0.584002          1.727444   \n",
       "1               -0.576457          1.712324         -0.578890   \n",
       "2               -0.576457         -0.584002          1.727444   \n",
       "3               -0.576457         -0.584002          1.727444   \n",
       "4               -0.576457         -0.584002         -0.578890   \n",
       "...                   ...               ...               ...   \n",
       "49995           -0.576457          1.712324         -0.578890   \n",
       "49996            1.734734         -0.584002         -0.578890   \n",
       "49997           -0.576457         -0.584002          1.727444   \n",
       "49998            1.734734         -0.584002         -0.578890   \n",
       "49999           -0.576457         -0.584002         -0.578890   \n",
       "\n",
       "       Transmission_Automatic  Transmission_Manual  \n",
       "0                   -0.993859             0.993859  \n",
       "1                    1.006179            -1.006179  \n",
       "2                    1.006179            -1.006179  \n",
       "3                    1.006179            -1.006179  \n",
       "4                   -0.993859             0.993859  \n",
       "...                       ...                  ...  \n",
       "49995               -0.993859             0.993859  \n",
       "49996               -0.993859             0.993859  \n",
       "49997                1.006179            -1.006179  \n",
       "49998                1.006179            -1.006179  \n",
       "49999               -0.993859             0.993859  \n",
       "\n",
       "[50000 rows x 25 columns]"
      ]
     },
     "execution_count": 3,
     "metadata": {},
     "output_type": "execute_result"
    }
   ],
   "source": [
    "df"
   ]
  },
  {
   "cell_type": "markdown",
   "id": "6d61ca7b",
   "metadata": {},
   "source": [
    "# Filter Methods"
   ]
  },
  {
   "cell_type": "code",
   "execution_count": 4,
   "id": "69593658",
   "metadata": {},
   "outputs": [
    {
     "name": "stdout",
     "output_type": "stream",
     "text": [
      "\n",
      "Original shape: (50000, 25)\n",
      "Shape after dropping correlated features: (50000, 24)\n"
     ]
    }
   ],
   "source": [
    "# Correlation\n",
    "import numpy as np   # Numpy kutubxonasini import qilamiz (matematik amallar uchun kerak bo‘ladi)\n",
    "\n",
    "# Korrelatsiya matritsasini hisoblash va modul qiymatini olish\n",
    "corr_matrix = df.corr().abs()  \n",
    "# df.corr() → DataFrame ustunlari orasidagi korrelatsiyani (Pearson) hisoblaydi\n",
    "# .abs() → manfiy qiymatlarni ham musbatga aylantiradi (faqat bog‘lanish kuchi kerak bo‘ladi)\n",
    "\n",
    "# Korrelatsiya matritsasining yuqori uchburchagini olish (faqat ustunlar orasidagi takrorlanmagan qism kerak)\n",
    "upper = corr_matrix.where(np.triu(np.ones(corr_matrix.shape), k=1).astype(bool))  \n",
    "# np.ones(corr_matrix.shape) → korrelatsiya matritsasi o‘lchamida 1’lardan iborat matritsa hosil qiladi\n",
    "# np.triu(..., k=1) → faqat yuqori uchburchak (diagonal ustidan boshlab) qismi 1 bo‘ladi, pastki qismi 0\n",
    "# .astype(bool) → True/False ga aylantirish\n",
    "# .where(...) → yuqori uchburchak joylarida qiymatni qoldiradi, boshqa joylarni NaN qiladi\n",
    "\n",
    "# 0.8 dan katta korrelatsiyaga ega bo‘lgan ustunlarni aniqlash\n",
    "to_drop = [col for col in upper.columns if any(upper[col] > 0.8)]  \n",
    "# upper[col] > 0.8 → shu ustunning boshqa ustunlar bilan korrelatsiyasini tekshiradi\n",
    "# any(...) → agar bitta bo‘lsa ham 0.8 dan katta bo‘lsa → True\n",
    "# col → bunday ustunlar ro‘yxatiga qo‘shiladi\n",
    "# Natijada, o‘zaro yuqori korrelyatsiyaga ega bo‘lgan ustunlarning nomlari chiqadi\n",
    "\n",
    "# Yuqori korrelyatsiyaga ega ustunlarni olib tashlash\n",
    "df_filtered = df.drop(columns=to_drop)  \n",
    "# df.drop(columns=to_drop) → yuqori bog‘langan ustunlarni olib tashlagan yangi DataFrame yaratadi\n",
    "\n",
    "# Natijalarni chop qilish\n",
    "print(\"\\nOriginal shape:\", df.shape)  \n",
    "# df.shape → asl DataFrame’ning o‘lchamini (qatorlar soni, ustunlar soni) chiqaradi\n",
    "\n",
    "print(\"Shape after dropping correlated features:\", df_filtered.shape)  \n",
    "# df_filtered.shape → korrelyatsiya asosida ustunlar olib tashlangandan keyingi o‘lcham\n"
   ]
  },
  {
   "cell_type": "markdown",
   "id": "8b034eba",
   "metadata": {},
   "source": [
    "📌 Umumiy ma’nosi:\n",
    "Bu kod DataFrame’dagi ustunlar orasidagi yuqori korrelatsiyali (bog‘lanishi juda kuchli, >0.8) ustunlarni olib tashlash uchun ishlatiladi. Bu ML modelda multicollinearity (ko‘p yo‘nalishli bog‘liqlik) muammosini kamaytirishga yordam beradi."
   ]
  },
  {
   "cell_type": "code",
   "execution_count": 5,
   "id": "db296b3a",
   "metadata": {},
   "outputs": [
    {
     "name": "stdout",
     "output_type": "stream",
     "text": [
      "<class 'pandas.core.frame.DataFrame'>\n",
      "RangeIndex: 50000 entries, 0 to 49999\n",
      "Data columns (total 24 columns):\n",
      " #   Column                  Non-Null Count  Dtype  \n",
      "---  ------                  --------------  -----  \n",
      " 0   Model                   50000 non-null  float64\n",
      " 1   Year                    50000 non-null  float64\n",
      " 2   Engine_Size_L           50000 non-null  float64\n",
      " 3   Mileage_KM              50000 non-null  float64\n",
      " 4   Price_USD               50000 non-null  float64\n",
      " 5   Sales_Volume            50000 non-null  float64\n",
      " 6   Sales_Classification    50000 non-null  int64  \n",
      " 7   Region_Africa           50000 non-null  float64\n",
      " 8   Region_Asia             50000 non-null  float64\n",
      " 9   Region_Europe           50000 non-null  float64\n",
      " 10  Region_Middle East      50000 non-null  float64\n",
      " 11  Region_North America    50000 non-null  float64\n",
      " 12  Region_South America    50000 non-null  float64\n",
      " 13  Color_Black             50000 non-null  float64\n",
      " 14  Color_Blue              50000 non-null  float64\n",
      " 15  Color_Grey              50000 non-null  float64\n",
      " 16  Color_Red               50000 non-null  float64\n",
      " 17  Color_Silver            50000 non-null  float64\n",
      " 18  Color_White             50000 non-null  float64\n",
      " 19  Fuel_Type_Diesel        50000 non-null  float64\n",
      " 20  Fuel_Type_Electric      50000 non-null  float64\n",
      " 21  Fuel_Type_Hybrid        50000 non-null  float64\n",
      " 22  Fuel_Type_Petrol        50000 non-null  float64\n",
      " 23  Transmission_Automatic  50000 non-null  float64\n",
      "dtypes: float64(23), int64(1)\n",
      "memory usage: 9.2 MB\n"
     ]
    }
   ],
   "source": [
    "df_filtered.info()"
   ]
  },
  {
   "cell_type": "code",
   "execution_count": 6,
   "id": "0f72dca9",
   "metadata": {},
   "outputs": [],
   "source": [
    "# More analysis\n",
    "import seaborn as sns                # seaborn → vizualizatsiya (chiroyli grafiklar) uchun kutubxona\n",
    "import matplotlib.pyplot as plt      # matplotlib.pyplot → grafik chizish uchun kutubxona\n",
    "\n",
    "# Korrelatsiya matritsasini hisoblash va modul qiymatini olish\n",
    "corr_matrix = df.corr().abs()  \n",
    "# df.corr() → ustunlar orasidagi korrelatsiyani hisoblaydi (Pearson default)\n",
    "# .abs() → qiymatlarni modulga aylantiradi (manfiy bo‘lsa ham musbat bo‘ladi)\n",
    "\n",
    "# Yuqori uchburchak matritsasini olish (takroriy qiymatlarni yo‘qotish uchun)\n",
    "upper = corr_matrix.where(np.triu(np.ones(corr_matrix.shape), k=1).astype(bool))  \n",
    "# np.ones(corr_matrix.shape) → korrelatsiya matritsasining o‘lchamida faqat 1’lardan iborat matritsa\n",
    "# np.triu(..., k=1) → faqat yuqori uchburchak qismi 1 bo‘ladi, pastki qismi 0\n",
    "# .astype(bool) → 1 → True, 0 → False qilib o‘zgartiradi\n",
    "# corr_matrix.where(...) → faqat True bo‘lgan joylarni qoldiradi, qolganlari NaN bo‘ladi\n",
    "# Shunday qilib, korrelatsiya matritsasining **yuqori qismi** qoladi (takroriy pastki qismini olib tashlaydi)\n",
    "\n",
    "# Kuchsiz emas, balki yuqori korrelatsiyali ustunlarni aniqlash\n",
    "to_drop = [col for col in upper.columns if any(upper[col] > 0.8)]  \n",
    "# upper[col] > 0.8 → shu ustun boshqa ustunlar bilan qanchalik bog‘langanini tekshiradi\n",
    "# any(...) → agar bitta bo‘lsa ham 0.8 dan katta korrelatsiya bo‘lsa → True\n",
    "# col → bunday ustun nomlarini list’ga qo‘shadi\n",
    "# Natijada, yuqori bog‘langan ustunlarning nomlari chiqadi\n"
   ]
  },
  {
   "cell_type": "code",
   "execution_count": 7,
   "id": "e5158f54",
   "metadata": {},
   "outputs": [
    {
     "name": "stdout",
     "output_type": "stream",
     "text": [
      "                           Model      Year  Engine_Size_L  Mileage_KM  \\\n",
      "Model                   1.000000  0.003107       0.001271    0.009262   \n",
      "Year                    0.003107  1.000000       0.001944    0.008741   \n",
      "Engine_Size_L           0.001271  0.001944       1.000000    0.004906   \n",
      "Mileage_KM              0.009262  0.008741       0.004906    1.000000   \n",
      "Price_USD               0.006762  0.003547       0.000146    0.004238   \n",
      "Sales_Volume            0.001374  0.001671       0.003942    0.001434   \n",
      "Sales_Classification    0.002304  0.005391       0.001796    0.006580   \n",
      "Region_Africa           0.000904  0.004579       0.004822    0.000919   \n",
      "Region_Asia             0.005205  0.006820       0.006978    0.002610   \n",
      "Region_Europe           0.006213  0.007125       0.003983    0.002638   \n",
      "Region_Middle East      0.001824  0.006559       0.003990    0.003025   \n",
      "Region_North America    0.000248  0.001565       0.001146    0.004415   \n",
      "Region_South America    0.000301  0.003857       0.001058    0.002322   \n",
      "Color_Black             0.005582  0.005478       0.004321    0.006183   \n",
      "Color_Blue              0.004465  0.005968       0.008245    0.000455   \n",
      "Color_Grey              0.000840  0.005495       0.001061    0.002292   \n",
      "Color_Red               0.000190  0.002995       0.010667    0.002248   \n",
      "Color_Silver            0.007856  0.001551       0.002883    0.000646   \n",
      "Color_White             0.003189  0.001347       0.000031    0.007244   \n",
      "Fuel_Type_Diesel        0.001308  0.000285       0.000246    0.005887   \n",
      "Fuel_Type_Electric      0.000155  0.000693       0.006509    0.002160   \n",
      "Fuel_Type_Hybrid        0.006789  0.001618       0.002033    0.002454   \n",
      "Fuel_Type_Petrol        0.005675  0.000651       0.004210    0.005532   \n",
      "Transmission_Automatic  0.003901  0.005116       0.001357    0.013476   \n",
      "Transmission_Manual     0.003901  0.005116       0.001357    0.013476   \n",
      "\n",
      "                        Price_USD  Sales_Volume  Sales_Classification  \\\n",
      "Model                    0.006762      0.001374              0.002304   \n",
      "Year                     0.003547      0.001671              0.005391   \n",
      "Engine_Size_L            0.000146      0.003942              0.001796   \n",
      "Mileage_KM               0.004238      0.001434              0.006580   \n",
      "Price_USD                1.000000      0.000080              0.001727   \n",
      "Sales_Volume             0.000080      1.000000              0.795238   \n",
      "Sales_Classification     0.001727      0.795238              1.000000   \n",
      "Region_Africa            0.002545      0.004846              0.005559   \n",
      "Region_Asia              0.009028      0.002494              0.004660   \n",
      "Region_Europe            0.000796      0.006058              0.007903   \n",
      "Region_Middle East       0.005310      0.001944              0.005363   \n",
      "Region_North America     0.000610      0.003097              0.000757   \n",
      "Region_South America     0.001043      0.004908              0.002445   \n",
      "Color_Black              0.000851      0.004010              0.003110   \n",
      "Color_Blue               0.006720      0.001978              0.003948   \n",
      "Color_Grey               0.007452      0.005791              0.005996   \n",
      "Color_Red                0.002399      0.002543              0.006203   \n",
      "Color_Silver             0.002420      0.006763              0.006397   \n",
      "Color_White              0.006454      0.003618              0.005013   \n",
      "Fuel_Type_Diesel         0.000991      0.003562              0.001895   \n",
      "Fuel_Type_Electric       0.005360      0.000636              0.000869   \n",
      "Fuel_Type_Hybrid         0.005325      0.001504              0.000163   \n",
      "Fuel_Type_Petrol         0.000984      0.004411              0.001177   \n",
      "Transmission_Automatic   0.005230      0.001487              0.001647   \n",
      "Transmission_Manual      0.005230      0.001487              0.001647   \n",
      "\n",
      "                        Region_Africa  Region_Asia  Region_Europe  ...  \\\n",
      "Model                        0.000904     0.005205       0.006213  ...   \n",
      "Year                         0.004579     0.006820       0.007125  ...   \n",
      "Engine_Size_L                0.004822     0.006978       0.003983  ...   \n",
      "Mileage_KM                   0.000919     0.002610       0.002638  ...   \n",
      "Price_USD                    0.002545     0.009028       0.000796  ...   \n",
      "Sales_Volume                 0.004846     0.002494       0.006058  ...   \n",
      "Sales_Classification         0.005559     0.004660       0.007903  ...   \n",
      "Region_Africa                1.000000     0.200567       0.198852  ...   \n",
      "Region_Asia                  0.200567     1.000000       0.201745  ...   \n",
      "Region_Europe                0.198852     0.201745       1.000000  ...   \n",
      "Region_Middle East           0.199410     0.202311       0.200581  ...   \n",
      "Region_North America         0.198866     0.201759       0.200034  ...   \n",
      "Region_South America         0.197662     0.200538       0.198823  ...   \n",
      "Color_Black                  0.003993     0.008788       0.013583  ...   \n",
      "Color_Blue                   0.000765     0.001284       0.001140  ...   \n",
      "Color_Grey                   0.003190     0.001505       0.003805  ...   \n",
      "Color_Red                    0.000158     0.003120       0.004238  ...   \n",
      "Color_Silver                 0.003358     0.003264       0.006011  ...   \n",
      "Color_White                  0.003234     0.002587       0.000593  ...   \n",
      "Fuel_Type_Diesel             0.000768     0.000301       0.000749  ...   \n",
      "Fuel_Type_Electric           0.001063     0.007596       0.002770  ...   \n",
      "Fuel_Type_Hybrid             0.000854     0.010290       0.000554  ...   \n",
      "Fuel_Type_Petrol             0.000559     0.002456       0.004064  ...   \n",
      "Transmission_Automatic       0.002146     0.006087       0.002611  ...   \n",
      "Transmission_Manual          0.002146     0.006087       0.002611  ...   \n",
      "\n",
      "                        Color_Grey  Color_Red  Color_Silver  Color_White  \\\n",
      "Model                     0.000840   0.000190      0.007856     0.003189   \n",
      "Year                      0.005495   0.002995      0.001551     0.001347   \n",
      "Engine_Size_L             0.001061   0.010667      0.002883     0.000031   \n",
      "Mileage_KM                0.002292   0.002248      0.000646     0.007244   \n",
      "Price_USD                 0.007452   0.002399      0.002420     0.006454   \n",
      "Sales_Volume              0.005791   0.002543      0.006763     0.003618   \n",
      "Sales_Classification      0.005996   0.006203      0.006397     0.005013   \n",
      "Region_Africa             0.003190   0.000158      0.003358     0.003234   \n",
      "Region_Asia               0.001505   0.003120      0.003264     0.002587   \n",
      "Region_Europe             0.003805   0.004238      0.006011     0.000593   \n",
      "Region_Middle East        0.004459   0.001398      0.003261     0.000229   \n",
      "Region_North America      0.001815   0.007186      0.006194     0.004942   \n",
      "Region_South America      0.003552   0.001374      0.003190     0.005165   \n",
      "Color_Black               0.199341   0.200987      0.199369     0.198710   \n",
      "Color_Blue                0.199182   0.200827      0.199211     0.198552   \n",
      "Color_Grey                1.000000   0.202077      0.200451     0.199788   \n",
      "Color_Red                 0.202077   1.000000      0.202107     0.201438   \n",
      "Color_Silver              0.200451   0.202107      1.000000     0.199817   \n",
      "Color_White               0.199788   0.201438      0.199817     1.000000   \n",
      "Fuel_Type_Diesel          0.006428   0.001905      0.003231     0.008289   \n",
      "Fuel_Type_Electric        0.004690   0.006514      0.000786     0.000101   \n",
      "Fuel_Type_Hybrid          0.009121   0.001064      0.003131     0.010968   \n",
      "Fuel_Type_Petrol          0.001898   0.003541      0.000723     0.002689   \n",
      "Transmission_Automatic    0.000460   0.007833      0.002604     0.008016   \n",
      "Transmission_Manual       0.000460   0.007833      0.002604     0.008016   \n",
      "\n",
      "                        Fuel_Type_Diesel  Fuel_Type_Electric  \\\n",
      "Model                           0.001308            0.000155   \n",
      "Year                            0.000285            0.000693   \n",
      "Engine_Size_L                   0.000246            0.006509   \n",
      "Mileage_KM                      0.005887            0.002160   \n",
      "Price_USD                       0.000991            0.005360   \n",
      "Sales_Volume                    0.003562            0.000636   \n",
      "Sales_Classification            0.001895            0.000869   \n",
      "Region_Africa                   0.000768            0.001063   \n",
      "Region_Asia                     0.000301            0.007596   \n",
      "Region_Europe                   0.000749            0.002770   \n",
      "Region_Middle East              0.001922            0.005248   \n",
      "Region_North America            0.004021            0.006088   \n",
      "Region_South America            0.002424            0.002993   \n",
      "Color_Black                     0.006885            0.001810   \n",
      "Color_Blue                      0.006551            0.000835   \n",
      "Color_Grey                      0.006428            0.004690   \n",
      "Color_Red                       0.001905            0.006514   \n",
      "Color_Silver                    0.003231            0.000786   \n",
      "Color_White                     0.008289            0.000101   \n",
      "Fuel_Type_Diesel                1.000000            0.328611   \n",
      "Fuel_Type_Electric              0.328611            1.000000   \n",
      "Fuel_Type_Hybrid                0.332911            0.336652   \n",
      "Fuel_Type_Petrol                0.329997            0.333705   \n",
      "Transmission_Automatic          0.002485            0.005354   \n",
      "Transmission_Manual             0.002485            0.005354   \n",
      "\n",
      "                        Fuel_Type_Hybrid  Fuel_Type_Petrol  \\\n",
      "Model                           0.006789          0.005675   \n",
      "Year                            0.001618          0.000651   \n",
      "Engine_Size_L                   0.002033          0.004210   \n",
      "Mileage_KM                      0.002454          0.005532   \n",
      "Price_USD                       0.005325          0.000984   \n",
      "Sales_Volume                    0.001504          0.004411   \n",
      "Sales_Classification            0.000163          0.001177   \n",
      "Region_Africa                   0.000854          0.000559   \n",
      "Region_Asia                     0.010290          0.002456   \n",
      "Region_Europe                   0.000554          0.004064   \n",
      "Region_Middle East              0.003250          0.006594   \n",
      "Region_North America            0.001262          0.003352   \n",
      "Region_South America            0.008091          0.002734   \n",
      "Color_Black                     0.004945          0.000059   \n",
      "Color_Blue                      0.010982          0.003696   \n",
      "Color_Grey                      0.009121          0.001898   \n",
      "Color_Red                       0.001064          0.003541   \n",
      "Color_Silver                    0.003131          0.000723   \n",
      "Color_White                     0.010968          0.002689   \n",
      "Fuel_Type_Diesel                0.332911          0.329997   \n",
      "Fuel_Type_Electric              0.336652          0.333705   \n",
      "Fuel_Type_Hybrid                1.000000          0.338073   \n",
      "Fuel_Type_Petrol                0.338073          1.000000   \n",
      "Transmission_Automatic          0.000077          0.002800   \n",
      "Transmission_Manual             0.000077          0.002800   \n",
      "\n",
      "                        Transmission_Automatic  Transmission_Manual  \n",
      "Model                                 0.003901             0.003901  \n",
      "Year                                  0.005116             0.005116  \n",
      "Engine_Size_L                         0.001357             0.001357  \n",
      "Mileage_KM                            0.013476             0.013476  \n",
      "Price_USD                             0.005230             0.005230  \n",
      "Sales_Volume                          0.001487             0.001487  \n",
      "Sales_Classification                  0.001647             0.001647  \n",
      "Region_Africa                         0.002146             0.002146  \n",
      "Region_Asia                           0.006087             0.006087  \n",
      "Region_Europe                         0.002611             0.002611  \n",
      "Region_Middle East                    0.001683             0.001683  \n",
      "Region_North America                  0.003238             0.003238  \n",
      "Region_South America                  0.007229             0.007229  \n",
      "Color_Black                           0.002043             0.002043  \n",
      "Color_Blue                            0.000910             0.000910  \n",
      "Color_Grey                            0.000460             0.000460  \n",
      "Color_Red                             0.007833             0.007833  \n",
      "Color_Silver                          0.002604             0.002604  \n",
      "Color_White                           0.008016             0.008016  \n",
      "Fuel_Type_Diesel                      0.002485             0.002485  \n",
      "Fuel_Type_Electric                    0.005354             0.005354  \n",
      "Fuel_Type_Hybrid                      0.000077             0.000077  \n",
      "Fuel_Type_Petrol                      0.002800             0.002800  \n",
      "Transmission_Automatic                1.000000             1.000000  \n",
      "Transmission_Manual                   1.000000             1.000000  \n",
      "\n",
      "[25 rows x 25 columns]\n"
     ]
    }
   ],
   "source": [
    "# DataFrame ustunlari orasidagi korrelatsiya matritsasini hisoblash va modul qiymatini olish\n",
    "corr_matrix = df.corr().abs()  \n",
    "\n",
    "# df.corr() → DataFrame’dagi barcha sonli ustunlar orasida **korrelatsiyani** hisoblaydi  \n",
    "#              (default – Pearson korrelatsiyasi).  \n",
    "#              Natija: kvadrat matritsa (ustunlar va ustunlar orasidagi bog‘liqlik).  \n",
    "#\n",
    "# .abs()      → Korrelatsiya -1 dan 1 gacha qiymat oladi.  \n",
    "#              -1 yoki 1 → kuchli bog‘lanish,  \n",
    "#              0 → bog‘lanish yo‘q.  \n",
    "#              Ba’zida bizga faqat kuchi kerak bo‘ladi, shuning uchun **modul qiymat** olinadi  \n",
    "#              (ya’ni manfiy belgilar yo‘qoladi, -0.9 → 0.9).  \n",
    "#\n",
    "# Natija: faqat musbat qiymatlardan iborat korrelatsiya matritsasi.\n",
    "\n",
    "# Korrelatsiya matritsasini chop etish\n",
    "print(corr_matrix)  \n",
    "\n",
    "# Bu qator butun korrelatsiya matritsasini chiqarib beradi.  \n",
    "# Jadval ko‘rinishida: diagonali 1 (har bir ustun o‘zi bilan 100% bog‘liq).  \n",
    "# Qolgan joylarda ustunlar orasidagi bog‘liqlik ko‘rsatiladi.\n"
   ]
  },
  {
   "cell_type": "code",
   "execution_count": 8,
   "id": "ab4d3e7a",
   "metadata": {},
   "outputs": [
    {
     "name": "stdout",
     "output_type": "stream",
     "text": [
      "Highly correlated feature pairs (correlation > 0.8):\n",
      "                Feature 1            Feature 2  Correlation\n",
      "0  Transmission_Automatic  Transmission_Manual          1.0\n"
     ]
    }
   ],
   "source": [
    "# Yuqori korrelyatsiyaga ega juftliklarni saqlash uchun bo‘sh ro‘yxat yaratamiz\n",
    "high_corr_pairs = []\n",
    "\n",
    "# Matritsaning ustunlari bo‘yicha aylanish (kolonlar)\n",
    "for col in upper.columns:\n",
    "    # Matritsaning qatorlari bo‘yicha aylanish (indekslar)\n",
    "    for row in upper.index:\n",
    "        # Agar qiymat NaN emas va korrelyatsiya 0.85 dan katta bo‘lsa\n",
    "        if upper.loc[row, col] is not np.nan and upper.loc[row, col] > 0.85:\n",
    "            # Ustun va qator nomini, hamda korrelyatsiya qiymatini (2 xonali yaxlitlangan holda) qo‘shamiz\n",
    "            high_corr_pairs.append([row, col, round(upper.loc[row, col], 2)])\n",
    "\n",
    "# Yuqori korrelyatsiyali juftliklardan jadval (DataFrame) hosil qilamiz\n",
    "corr_table = pd.DataFrame(high_corr_pairs, columns=['Feature 1', 'Feature 2', 'Correlation'])\n",
    "\n",
    "# Natijani ekranga chiqaramiz\n",
    "print(\"Highly correlated feature pairs (correlation > 0.8):\")\n",
    "print(corr_table)\n"
   ]
  },
  {
   "cell_type": "code",
   "execution_count": 9,
   "id": "1dc9e76d",
   "metadata": {},
   "outputs": [
    {
     "name": "stdout",
     "output_type": "stream",
     "text": [
      "\n",
      "Original shape: (50000, 25)\n",
      "Shape after dropping correlated features: (50000, 24)\n"
     ]
    }
   ],
   "source": [
    "# Yuqori korrelyatsiyaga ega ustunlarni olib tashlash\n",
    "df_filtered = df.drop(columns=to_drop)  \n",
    "# df.drop(columns=to_drop) → DataFrame’dan `to_drop` ro‘yxatida keltirilgan ustunlarni olib tashlaydi\n",
    "# Natija: yangi DataFrame (`df_filtered`) hosil bo‘ladi, lekin asl df o‘zgarmaydi\n",
    "\n",
    "# Asl DataFrame o‘lchamini (qatorlar soni, ustunlar soni) chop qilish\n",
    "print(\"\\nOriginal shape:\", df.shape)  \n",
    "# df.shape → tuple qaytaradi: (qatorlar soni, ustunlar soni)\n",
    "# \"\\n\" → chop etishdan oldin yangi qatordan boshlash uchun ishlatilgan\n",
    "\n",
    "# Yuqori korrelyatsiyali ustunlar olib tashlangandan keyingi o‘lchamni chop qilish\n",
    "print(\"Shape after dropping correlated features:\", df_filtered.shape)  \n",
    "# df_filtered.shape → endi ustunlar soni kamaygan bo‘ladi\n",
    "# Bu natija orqali nechta ustun olib tashlanganini solishtirish mumkin\n"
   ]
  },
  {
   "cell_type": "code",
   "execution_count": 10,
   "id": "f21e4762",
   "metadata": {},
   "outputs": [
    {
     "data": {
      "image/png": "[encoded data removed]",
      "text/plain": [
       "<Figure size 1200x1000 with 2 Axes>"
      ]
     },
     "metadata": {},
     "output_type": "display_data"
    }
   ],
   "source": [
    "# Grafik oynasini yaratish va o‘lchamini belgilash (eni=12, bo‘yi=10)\n",
    "plt.figure(figsize=(12, 10))  \n",
    "# Bu grafikning umumiy o‘lchamini sozlaydi (inchlarda)\n",
    "\n",
    "# Seaborn yordamida korrelyatsiya matritsasini heatmap tarzida chizish\n",
    "sns.heatmap(corr_matrix, annot=True, fmt=\".2f\", cmap=\"coolwarm\", cbar=True)  \n",
    "# corr_matrix → oldin hisoblangan korrelyatsiya matritsasi\n",
    "# annot=True   → har bir katak ichida raqam (korrelatsiya qiymati) ko‘rsatiladi\n",
    "# fmt=\".2f\"    → raqamlarni 2 xonali kasr bilan formatlaydi (masalan, 0.87)\n",
    "# cmap=\"coolwarm\" → rang sxemasi (sovuqdan issiqqa o‘tuvchi ranglar: ko‘k→qizil)\n",
    "# cbar=True    → yon tomonda rang shkalasi (color bar) chiqadi\n",
    "\n",
    "# Grafik sarlavhasini qo‘shish\n",
    "plt.title(\"Correlation Matrix Heatmap\")  \n",
    "# Grafikning yuqorisida nom chiqaradi\n",
    "\n",
    "# Grafikni ekranga chiqarish\n",
    "plt.show()  \n",
    "# Grafikni ko‘rsatadi (Jupyter Notebook yoki Python muhiti orqali)\n"
   ]
  },
  {
   "cell_type": "code",
   "execution_count": 11,
   "id": "087c76b1",
   "metadata": {},
   "outputs": [
    {
     "data": {
      "application/vnd.plotly.v1+json": {
       "config": {
        "plotlyServerURL": "https://plot.ly"
       },
       "data": [
        {
         "coloraxis": "coloraxis",
         "hovertemplate": "x: %{x}<br>y: %{y}<br>color: %{z}<extra></extra>",
         "name": "0",
         "texttemplate": "%{z:.2f}",
         "type": "heatmap",
         "x": [
          "Model",
          "Year",
          "Engine_Size_L",
          "Mileage_KM",
          "Price_USD",
          "Sales_Volume",
          "Sales_Classification",
          "Region_Africa",
          "Region_Asia",
          "Region_Europe",
          "Region_Middle East",
          "Region_North America",
          "Region_South America",
          "Color_Black",
          "Color_Blue",
          "Color_Grey",
          "Color_Red",
          "Color_Silver",
          "Color_White",
          "Fuel_Type_Diesel",
          "Fuel_Type_Electric",
          "Fuel_Type_Hybrid",
          "Fuel_Type_Petrol",
          "Transmission_Automatic",
          "Transmission_Manual"
         ],
         "xaxis": "x",
         "y": [
          "Model",
          "Year",
          "Engine_Size_L",
          "Mileage_KM",
          "Price_USD",
          "Sales_Volume",
          "Sales_Classification",
          "Region_Africa",
          "Region_Asia",
          "Region_Europe",
          "Region_Middle East",
          "Region_North America",
          "Region_South America",
          "Color_Black",
          "Color_Blue",
          "Color_Grey",
          "Color_Red",
          "Color_Silver",
          "Color_White",
          "Fuel_Type_Diesel",
          "Fuel_Type_Electric",
          "Fuel_Type_Hybrid",
          "Fuel_Type_Petrol",
          "Transmission_Automatic",
          "Transmission_Manual"
         ],
         "yaxis": "y",
         "z": {
          "bdata": "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",
          "dtype": "f8",
          "shape": "25, 25"
         }
        }
       ],
       "layout": {
        "coloraxis": {
         "cmax": 1,
         "cmin": -1,
         "colorscale": [
          [
           0,
           "rgb(5,48,97)"
          ],
          [
           0.1,
           "rgb(33,102,172)"
          ],
          [
           0.2,
           "rgb(67,147,195)"
          ],
          [
           0.3,
           "rgb(146,197,222)"
          ],
          [
           0.4,
           "rgb(209,229,240)"
          ],
          [
           0.5,
           "rgb(247,247,247)"
          ],
          [
           0.6,
           "rgb(253,219,199)"
          ],
          [
           0.7,
           "rgb(244,165,130)"
          ],
          [
           0.8,
           "rgb(214,96,77)"
          ],
          [
           0.9,
           "rgb(178,24,43)"
          ],
          [
           1,
           "rgb(103,0,31)"
          ]
         ]
        },
        "height": 800,
        "template": {
         "data": {
          "bar": [
           {
            "error_x": {
             "color": "#2a3f5f"
            },
            "error_y": {
             "color": "#2a3f5f"
            },
            "marker": {
             "line": {
              "color": "#E5ECF6",
              "width": 0.5
             },
             "pattern": {
              "fillmode": "overlay",
              "size": 10,
              "solidity": 0.2
             }
            },
            "type": "bar"
           }
          ],
          "barpolar": [
           {
            "marker": {
             "line": {
              "color": "#E5ECF6",
              "width": 0.5
             },
             "pattern": {
              "fillmode": "overlay",
              "size": 10,
              "solidity": 0.2
             }
            },
            "type": "barpolar"
           }
          ],
          "carpet": [
           {
            "aaxis": {
             "endlinecolor": "#2a3f5f",
             "gridcolor": "white",
             "linecolor": "white",
             "minorgridcolor": "white",
             "startlinecolor": "#2a3f5f"
            },
            "baxis": {
             "endlinecolor": "#2a3f5f",
             "gridcolor": "white",
             "linecolor": "white",
             "minorgridcolor": "white",
             "startlinecolor": "#2a3f5f"
            },
            "type": "carpet"
           }
          ],
          "choropleth": [
           {
            "colorbar": {
             "outlinewidth": 0,
             "ticks": ""
            },
            "type": "choropleth"
           }
          ],
          "contour": [
           {
            "colorbar": {
             "outlinewidth": 0,
             "ticks": ""
            },
            "colorscale": [
             [
              0,
              "#0d0887"
             ],
             [
              0.1111111111111111,
              "#46039f"
             ],
             [
              0.2222222222222222,
              "#7201a8"
             ],
             [
              0.3333333333333333,
              "#9c179e"
             ],
             [
              0.4444444444444444,
              "#bd3786"
             ],
             [
              0.5555555555555556,
              "#d8576b"
             ],
             [
              0.6666666666666666,
              "#ed7953"
             ],
             [
              0.7777777777777778,
              "#fb9f3a"
             ],
             [
              0.8888888888888888,
              "#fdca26"
             ],
             [
              1,
              "#f0f921"
             ]
            ],
            "type": "contour"
           }
          ],
          "contourcarpet": [
           {
            "colorbar": {
             "outlinewidth": 0,
             "ticks": ""
            },
            "type": "contourcarpet"
           }
          ],
          "heatmap": [
           {
            "colorbar": {
             "outlinewidth": 0,
             "ticks": ""
            },
            "colorscale": [
             [
              0,
              "#0d0887"
             ],
             [
              0.1111111111111111,
              "#46039f"
             ],
             [
              0.2222222222222222,
              "#7201a8"
             ],
             [
              0.3333333333333333,
              "#9c179e"
             ],
             [
              0.4444444444444444,
              "#bd3786"
             ],
             [
              0.5555555555555556,
              "#d8576b"
             ],
             [
              0.6666666666666666,
              "#ed7953"
             ],
             [
              0.7777777777777778,
              "#fb9f3a"
             ],
             [
              0.8888888888888888,
              "#fdca26"
             ],
             [
              1,
              "#f0f921"
             ]
            ],
            "type": "heatmap"
           }
          ],
          "histogram": [
           {
            "marker": {
             "pattern": {
              "fillmode": "overlay",
              "size": 10,
              "solidity": 0.2
             }
            },
            "type": "histogram"
           }
          ],
          "histogram2d": [
           {
            "colorbar": {
             "outlinewidth": 0,
             "ticks": ""
            },
            "colorscale": [
             [
              0,
              "#0d0887"
             ],
             [
              0.1111111111111111,
              "#46039f"
             ],
             [
              0.2222222222222222,
              "#7201a8"
             ],
             [
              0.3333333333333333,
              "#9c179e"
             ],
             [
              0.4444444444444444,
              "#bd3786"
             ],
             [
              0.5555555555555556,
              "#d8576b"
             ],
             [
              0.6666666666666666,
              "#ed7953"
             ],
             [
              0.7777777777777778,
              "#fb9f3a"
             ],
             [
              0.8888888888888888,
              "#fdca26"
             ],
             [
              1,
              "#f0f921"
             ]
            ],
            "type": "histogram2d"
           }
          ],
          "histogram2dcontour": [
           {
            "colorbar": {
             "outlinewidth": 0,
             "ticks": ""
            },
            "colorscale": [
             [
              0,
              "#0d0887"
             ],
             [
              0.1111111111111111,
              "#46039f"
             ],
             [
              0.2222222222222222,
              "#7201a8"
             ],
             [
              0.3333333333333333,
              "#9c179e"
             ],
             [
              0.4444444444444444,
              "#bd3786"
             ],
             [
              0.5555555555555556,
              "#d8576b"
             ],
             [
              0.6666666666666666,
              "#ed7953"
             ],
             [
              0.7777777777777778,
              "#fb9f3a"
             ],
             [
              0.8888888888888888,
              "#fdca26"
             ],
             [
              1,
              "#f0f921"
             ]
            ],
            "type": "histogram2dcontour"
           }
          ],
          "mesh3d": [
           {
            "colorbar": {
             "outlinewidth": 0,
             "ticks": ""
            },
            "type": "mesh3d"
           }
          ],
          "parcoords": [
           {
            "line": {
             "colorbar": {
              "outlinewidth": 0,
              "ticks": ""
             }
            },
            "type": "parcoords"
           }
          ],
          "pie": [
           {
            "automargin": true,
            "type": "pie"
           }
          ],
          "scatter": [
           {
            "fillpattern": {
             "fillmode": "overlay",
             "size": 10,
             "solidity": 0.2
            },
            "type": "scatter"
           }
          ],
          "scatter3d": [
           {
            "line": {
             "colorbar": {
              "outlinewidth": 0,
              "ticks": ""
             }
            },
            "marker": {
             "colorbar": {
              "outlinewidth": 0,
              "ticks": ""
             }
            },
            "type": "scatter3d"
           }
          ],
          "scattercarpet": [
           {
            "marker": {
             "colorbar": {
              "outlinewidth": 0,
              "ticks": ""
             }
            },
            "type": "scattercarpet"
           }
          ],
          "scattergeo": [
           {
            "marker": {
             "colorbar": {
              "outlinewidth": 0,
              "ticks": ""
             }
            },
            "type": "scattergeo"
           }
          ],
          "scattergl": [
           {
            "marker": {
             "colorbar": {
              "outlinewidth": 0,
              "ticks": ""
             }
            },
            "type": "scattergl"
           }
          ],
          "scattermap": [
           {
            "marker": {
             "colorbar": {
              "outlinewidth": 0,
              "ticks": ""
             }
            },
            "type": "scattermap"
           }
          ],
          "scattermapbox": [
           {
            "marker": {
             "colorbar": {
              "outlinewidth": 0,
              "ticks": ""
             }
            },
            "type": "scattermapbox"
           }
          ],
          "scatterpolar": [
           {
            "marker": {
             "colorbar": {
              "outlinewidth": 0,
              "ticks": ""
             }
            },
            "type": "scatterpolar"
           }
          ],
          "scatterpolargl": [
           {
            "marker": {
             "colorbar": {
              "outlinewidth": 0,
              "ticks": ""
             }
            },
            "type": "scatterpolargl"
           }
          ],
          "scatterternary": [
           {
            "marker": {
             "colorbar": {
              "outlinewidth": 0,
              "ticks": ""
             }
            },
            "type": "scatterternary"
           }
          ],
          "surface": [
           {
            "colorbar": {
             "outlinewidth": 0,
             "ticks": ""
            },
            "colorscale": [
             [
              0,
              "#0d0887"
             ],
             [
              0.1111111111111111,
              "#46039f"
             ],
             [
              0.2222222222222222,
              "#7201a8"
             ],
             [
              0.3333333333333333,
              "#9c179e"
             ],
             [
              0.4444444444444444,
              "#bd3786"
             ],
             [
              0.5555555555555556,
              "#d8576b"
             ],
             [
              0.6666666666666666,
              "#ed7953"
             ],
             [
              0.7777777777777778,
              "#fb9f3a"
             ],
             [
              0.8888888888888888,
              "#fdca26"
             ],
             [
              1,
              "#f0f921"
             ]
            ],
            "type": "surface"
           }
          ],
          "table": [
           {
            "cells": {
             "fill": {
              "color": "#EBF0F8"
             },
             "line": {
              "color": "white"
             }
            },
            "header": {
             "fill": {
              "color": "#C8D4E3"
             },
             "line": {
              "color": "white"
             }
            },
            "type": "table"
           }
          ]
         },
         "layout": {
          "annotationdefaults": {
           "arrowcolor": "#2a3f5f",
           "arrowhead": 0,
           "arrowwidth": 1
          },
          "autotypenumbers": "strict",
          "coloraxis": {
           "colorbar": {
            "outlinewidth": 0,
            "ticks": ""
           }
          },
          "colorscale": {
           "diverging": [
            [
             0,
             "#8e0152"
            ],
            [
             0.1,
             "#c51b7d"
            ],
            [
             0.2,
             "#de77ae"
            ],
            [
             0.3,
             "#f1b6da"
            ],
            [
             0.4,
             "#fde0ef"
            ],
            [
             0.5,
             "#f7f7f7"
            ],
            [
             0.6,
             "#e6f5d0"
            ],
            [
             0.7,
             "#b8e186"
            ],
            [
             0.8,
             "#7fbc41"
            ],
            [
             0.9,
             "#4d9221"
            ],
            [
             1,
             "#276419"
            ]
           ],
           "sequential": [
            [
             0,
             "#0d0887"
            ],
            [
             0.1111111111111111,
             "#46039f"
            ],
            [
             0.2222222222222222,
             "#7201a8"
            ],
            [
             0.3333333333333333,
             "#9c179e"
            ],
            [
             0.4444444444444444,
             "#bd3786"
            ],
            [
             0.5555555555555556,
             "#d8576b"
            ],
            [
             0.6666666666666666,
             "#ed7953"
            ],
            [
             0.7777777777777778,
             "#fb9f3a"
            ],
            [
             0.8888888888888888,
             "#fdca26"
            ],
            [
             1,
             "#f0f921"
            ]
           ],
           "sequentialminus": [
            [
             0,
             "#0d0887"
            ],
            [
             0.1111111111111111,
             "#46039f"
            ],
            [
             0.2222222222222222,
             "#7201a8"
            ],
            [
             0.3333333333333333,
             "#9c179e"
            ],
            [
             0.4444444444444444,
             "#bd3786"
            ],
            [
             0.5555555555555556,
             "#d8576b"
            ],
            [
             0.6666666666666666,
             "#ed7953"
            ],
            [
             0.7777777777777778,
             "#fb9f3a"
            ],
            [
             0.8888888888888888,
             "#fdca26"
            ],
            [
             1,
             "#f0f921"
            ]
           ]
          },
          "colorway": [
           "#636efa",
           "#EF553B",
           "#00cc96",
           "#ab63fa",
           "#FFA15A",
           "#19d3f3",
           "#FF6692",
           "#B6E880",
           "#FF97FF",
           "#FECB52"
          ],
          "font": {
           "color": "#2a3f5f"
          },
          "geo": {
           "bgcolor": "white",
           "lakecolor": "white",
           "landcolor": "#E5ECF6",
           "showlakes": true,
           "showland": true,
           "subunitcolor": "white"
          },
          "hoverlabel": {
           "align": "left"
          },
          "hovermode": "closest",
          "mapbox": {
           "style": "light"
          },
          "paper_bgcolor": "white",
          "plot_bgcolor": "#E5ECF6",
          "polar": {
           "angularaxis": {
            "gridcolor": "white",
            "linecolor": "white",
            "ticks": ""
           },
           "bgcolor": "#E5ECF6",
           "radialaxis": {
            "gridcolor": "white",
            "linecolor": "white",
            "ticks": ""
           }
          },
          "scene": {
           "xaxis": {
            "backgroundcolor": "#E5ECF6",
            "gridcolor": "white",
            "gridwidth": 2,
            "linecolor": "white",
            "showbackground": true,
            "ticks": "",
            "zerolinecolor": "white"
           },
           "yaxis": {
            "backgroundcolor": "#E5ECF6",
            "gridcolor": "white",
            "gridwidth": 2,
            "linecolor": "white",
            "showbackground": true,
            "ticks": "",
            "zerolinecolor": "white"
           },
           "zaxis": {
            "backgroundcolor": "#E5ECF6",
            "gridcolor": "white",
            "gridwidth": 2,
            "linecolor": "white",
            "showbackground": true,
            "ticks": "",
            "zerolinecolor": "white"
           }
          },
          "shapedefaults": {
           "line": {
            "color": "#2a3f5f"
           }
          },
          "ternary": {
           "aaxis": {
            "gridcolor": "white",
            "linecolor": "white",
            "ticks": ""
           },
           "baxis": {
            "gridcolor": "white",
            "linecolor": "white",
            "ticks": ""
           },
           "bgcolor": "#E5ECF6",
           "caxis": {
            "gridcolor": "white",
            "linecolor": "white",
            "ticks": ""
           }
          },
          "title": {
           "x": 0.05
          },
          "xaxis": {
           "automargin": true,
           "gridcolor": "white",
           "linecolor": "white",
           "ticks": "",
           "title": {
            "standoff": 15
           },
           "zerolinecolor": "white",
           "zerolinewidth": 2
          },
          "yaxis": {
           "automargin": true,
           "gridcolor": "white",
           "linecolor": "white",
           "ticks": "",
           "title": {
            "standoff": 15
           },
           "zerolinecolor": "white",
           "zerolinewidth": 2
          }
         }
        },
        "title": {
         "text": "Correlation Matrix Heatmap (Interactive)"
        },
        "width": 900,
        "xaxis": {
         "anchor": "y",
         "domain": [
          0,
          1
         ],
         "title": {
          "text": "Features"
         }
        },
        "yaxis": {
         "anchor": "x",
         "autorange": "reversed",
         "domain": [
          0,
          1
         ],
         "title": {
          "text": "Features"
         }
        }
       }
      }
     },
     "metadata": {},
     "output_type": "display_data"
    }
   ],
   "source": [
    "import plotly.express as px  \n",
    "# Plotly Express kutubxonasini import qilamiz.\n",
    "# U interaktiv grafiklar (heatmap, scatter, bar va boshqalar) yaratish uchun ishlatiladi.\n",
    "\n",
    "# Create a long-form dataframe for Plotly\n",
    "# Plotly uchun \"long-form\" (uzun shakldagi) DataFrame yaratish\n",
    "corr_long = corr_matrix.reset_index().melt(id_vars='index')  \n",
    "# corr_matrix.reset_index() → korrelyatsiya matritsasining indeksini (ustun nomlari) alohida ustunga o‘tkazadi.  \n",
    "# .melt(id_vars='index')   → keng formatdagi jadvalni uzun formatga aylantiradi, \n",
    "# ya’ni har bir ustun-ustun juftligi uchun alohida qator hosil qiladi.\n",
    "corr_long.columns = ['Feature 1', 'Feature 2', 'Correlation']  \n",
    "# Ustun nomlarini yanada tushunarli qilib o‘zgartiramiz:  \n",
    "# Feature 1 → birinchi ustun,  \n",
    "# Feature 2 → ikkinchi ustun,  \n",
    "# Correlation → ular orasidagi korrelatsiya qiymati.\n",
    "\n",
    "# Plotly Express yordamida interaktiv korrelyatsiya heatmap chizish\n",
    "fig = px.imshow(\n",
    "    corr_matrix,                  # korrelatsiya matritsasini grafik uchun uzatamiz\n",
    "    text_auto='.2f',              # kataklarda qiymatlarni 2 xonali kasr bilan chiqaradi (masalan, 0.87)\n",
    "    aspect=\"auto\",                # kataklarning nisbatini avtomatik sozlaydi\n",
    "    color_continuous_scale='RdBu_r',  # rang palitrasi: qizil→salbiy, ko‘k→musbat (teskari)\n",
    "    zmin=-1, zmax=1,              # rang shkalasini -1 dan 1 gacha belgilash (korrelatsiya diapazoni)\n",
    "    title=\"Correlation Matrix Heatmap (Interactive)\"  # grafik sarlavhasi\n",
    ")\n",
    "\n",
    "# Grafikning tashqi ko‘rinishini sozlash\n",
    "fig.update_layout(\n",
    "    width=900,           # grafik eni (pikselda)\n",
    "    height=800,          # grafik bo‘yi (pikselda)\n",
    "    xaxis_title=\"Features\",  # X o‘qi nomi (ustunlar nomi)\n",
    "    yaxis_title=\"Features\"   # Y o‘qi nomi (ustunlar nomi)\n",
    ")\n",
    "\n",
    "fig.show()\n",
    "# Grafikni ko‘rsatadi.\n",
    "# Natija: interaktiv heatmap — katak ustiga sichqoncha olib borilganda qiymat ko‘rinadi,\n",
    "# zoom qilish, aylantirish va boshqa interaktiv funksiyalar ishlaydi.\n"
   ]
  },
  {
   "cell_type": "code",
   "execution_count": 12,
   "id": "a94324b6",
   "metadata": {},
   "outputs": [
    {
     "name": "stdout",
     "output_type": "stream",
     "text": [
      "\n",
      "Original shape: (50000, 24)\n",
      "Shape after dropping low-variance features: (50000, 24)\n"
     ]
    }
   ],
   "source": [
    "# Low Variance\n",
    "from sklearn.feature_selection import VarianceThreshold  \n",
    "# sklearn kutubxonasidan VarianceThreshold klassini import qilamiz.\n",
    "# Bu klass ustunlardagi varians (tarqalish) qiymati past bo‘lgan ustunlarni aniqlash uchun ishlatiladi.\n",
    "\n",
    "# Varians uchun chegara qiymatini belgilash (masalan, 0.01)\n",
    "threshold = 0.01  \n",
    "# Agar ustunning variansi 0.01 dan kichik bo‘lsa, u \"kam variansli\" deb hisoblanadi.\n",
    "# Kam varians → ustun deyarli o‘zgarmaydi (masalan, barcha qiymatlar bir xil yoki juda o‘xshash).\n",
    "\n",
    "# VarianceThreshold obyektini yaratish\n",
    "selector = VarianceThreshold(threshold=threshold)  \n",
    "# threshold parametrini yuqorida belgilangan qiymatga teng qilib qo‘yamiz.\n",
    "# Bu obyekt yordamida biz DataFrame ustunlarini filtrlashimiz mumkin.\n",
    "\n",
    "\n",
    "# Dataset ustida modelni o‘rgatish (faqat variansni hisoblaydi)\n",
    "selector.fit(df_filtered)  \n",
    "# df_filtered → korrelyatsiyadan keyin qolgan DataFrame.\n",
    "# Bu qadamda sklearn har bir ustunning variansini hisoblaydi va\n",
    "# uni belgilangan threshold bilan taqqoslaydi.\n",
    "\n",
    "\n",
    "# Kam variansga ega ustunlarni aniqlash\n",
    "low_variance_features = df_filtered.columns[~selector.get_support()]  \n",
    "# selector.get_support() → True/False massiv qaytaradi:\n",
    "#     True  → ustun saqlanadi (variansi yuqori)\n",
    "#     False → ustun olib tashlanadi (variansi past)\n",
    "# ~ belgisini qo‘llash → False ni True ga aylantiradi (ya’ni olib tashlanishi kerak bo‘lganlarni tanlaydi).\n",
    "# Natija: past variansli ustunlarning nomlari chiqadi.\n",
    "\n",
    "\n",
    "# Past variansli ustunlarni olib tashlash\n",
    "df_low_variance_filtered = df_filtered.drop(columns=low_variance_features)  \n",
    "# DataFrame’dan aniqlangan past variansli ustunlar olib tashlanadi.\n",
    "# Yangi DataFrame → df_low_variance_filtered\n",
    "\n",
    "\n",
    "print(\"\\nOriginal shape:\", df_filtered.shape)  \n",
    "# Korrelyatsiyadan keyin qolgan DataFrame’ning o‘lchamini chiqaradi (qatorlar soni, ustunlar soni).\n",
    "\n",
    "print(\"Shape after dropping low-variance features:\", df_low_variance_filtered.shape)  \n",
    "# Past variansli ustunlarni olib tashlaganidan keyin yangi o‘lchamni chiqaradi.\n"
   ]
  },
  {
   "cell_type": "code",
   "execution_count": 13,
   "id": "18800886",
   "metadata": {},
   "outputs": [
    {
     "name": "stdout",
     "output_type": "stream",
     "text": [
      "Features with low variance (to drop): []\n"
     ]
    }
   ],
   "source": [
    "# Past variansli ustunlarni aniqlash:\n",
    "# selector.get_support() -> True/False massiv qaytaradi (True = ustun saqlanadi, False = olib tashlanadi)\n",
    "# ~ belgisidan foydalansak, qiymatlar teskarilanadi (True = olib tashlanishi kerak bo‘lgan ustunlar)\n",
    "low_variance_features = df_filtered.columns[~selector.get_support()]\n",
    "\n",
    "# Past variansli ustunlarning nomlarini ro‘yxat shaklida ekranga chiqaramiz\n",
    "print(\"Features with low variance (to drop):\", list(low_variance_features))"
   ]
  },
  {
   "cell_type": "code",
   "execution_count": 14,
   "id": "81c836b2",
   "metadata": {},
   "outputs": [
    {
     "data": {
      "application/vnd.plotly.v1+json": {
       "config": {
        "plotlyServerURL": "https://plot.ly"
       },
       "data": [
        {
         "hovertemplate": "LowVariance=No<br>Feature=%{x}<br>Variance=%{text}<extra></extra>",
         "legendgroup": "No",
         "marker": {
          "color": "blue",
          "pattern": {
           "shape": ""
          }
         },
         "name": "No",
         "orientation": "v",
         "showlegend": true,
         "text": {
          "bdata": "5wXR+BQA8D/nBdH4FADwP+cF0fgUAPA/6AXR+BQA8D/oBdH4FADwP+gF0fgUAPA/UVcm9hwhyz/pBdH4FADwP+kF0fgUAPA/5wXR+BQA8D/nBdH4FADwP+oF0fgUAPA/6QXR+BQA8D/nBdH4FADwP+cF0fgUAPA/5gXR+BQA8D/mBdH4FADwP+gF0fgUAPA/7AXR+BQA8D/nBdH4FADwP+YF0fgUAPA/6AXR+BQA8D/nBdH4FADwP+YF0fgUAPA/5gXR+BQA8D8=",
          "dtype": "f8"
         },
         "textposition": "auto",
         "type": "bar",
         "x": [
          "Model",
          "Year",
          "Engine_Size_L",
          "Mileage_KM",
          "Price_USD",
          "Sales_Volume",
          "Sales_Classification",
          "Region_Africa",
          "Region_Asia",
          "Region_Europe",
          "Region_Middle East",
          "Region_North America",
          "Region_South America",
          "Color_Black",
          "Color_Blue",
          "Color_Grey",
          "Color_Red",
          "Color_Silver",
          "Color_White",
          "Fuel_Type_Diesel",
          "Fuel_Type_Electric",
          "Fuel_Type_Hybrid",
          "Fuel_Type_Petrol",
          "Transmission_Automatic",
          "Transmission_Manual"
         ],
         "xaxis": "x",
         "y": {
          "bdata": "5wXR+BQA8D/nBdH4FADwP+cF0fgUAPA/6AXR+BQA8D/oBdH4FADwP+gF0fgUAPA/UVcm9hwhyz/pBdH4FADwP+kF0fgUAPA/5wXR+BQA8D/nBdH4FADwP+oF0fgUAPA/6QXR+BQA8D/nBdH4FADwP+cF0fgUAPA/5gXR+BQA8D/mBdH4FADwP+gF0fgUAPA/7AXR+BQA8D/nBdH4FADwP+YF0fgUAPA/6AXR+BQA8D/nBdH4FADwP+YF0fgUAPA/5gXR+BQA8D8=",
          "dtype": "f8"
         },
         "yaxis": "y"
        }
       ],
       "layout": {
        "barmode": "relative",
        "height": 600,
        "legend": {
         "title": {
          "text": "LowVariance"
         },
         "tracegroupgap": 0
        },
        "template": {
         "data": {
          "bar": [
           {
            "error_x": {
             "color": "#2a3f5f"
            },
            "error_y": {
             "color": "#2a3f5f"
            },
            "marker": {
             "line": {
              "color": "#E5ECF6",
              "width": 0.5
             },
             "pattern": {
              "fillmode": "overlay",
              "size": 10,
              "solidity": 0.2
             }
            },
            "type": "bar"
           }
          ],
          "barpolar": [
           {
            "marker": {
             "line": {
              "color": "#E5ECF6",
              "width": 0.5
             },
             "pattern": {
              "fillmode": "overlay",
              "size": 10,
              "solidity": 0.2
             }
            },
            "type": "barpolar"
           }
          ],
          "carpet": [
           {
            "aaxis": {
             "endlinecolor": "#2a3f5f",
             "gridcolor": "white",
             "linecolor": "white",
             "minorgridcolor": "white",
             "startlinecolor": "#2a3f5f"
            },
            "baxis": {
             "endlinecolor": "#2a3f5f",
             "gridcolor": "white",
             "linecolor": "white",
             "minorgridcolor": "white",
             "startlinecolor": "#2a3f5f"
            },
            "type": "carpet"
           }
          ],
          "choropleth": [
           {
            "colorbar": {
             "outlinewidth": 0,
             "ticks": ""
            },
            "type": "choropleth"
           }
          ],
          "contour": [
           {
            "colorbar": {
             "outlinewidth": 0,
             "ticks": ""
            },
            "colorscale": [
             [
              0,
              "#0d0887"
             ],
             [
              0.1111111111111111,
              "#46039f"
             ],
             [
              0.2222222222222222,
              "#7201a8"
             ],
             [
              0.3333333333333333,
              "#9c179e"
             ],
             [
              0.4444444444444444,
              "#bd3786"
             ],
             [
              0.5555555555555556,
              "#d8576b"
             ],
             [
              0.6666666666666666,
              "#ed7953"
             ],
             [
              0.7777777777777778,
              "#fb9f3a"
             ],
             [
              0.8888888888888888,
              "#fdca26"
             ],
             [
              1,
              "#f0f921"
             ]
            ],
            "type": "contour"
           }
          ],
          "contourcarpet": [
           {
            "colorbar": {
             "outlinewidth": 0,
             "ticks": ""
            },
            "type": "contourcarpet"
           }
          ],
          "heatmap": [
           {
            "colorbar": {
             "outlinewidth": 0,
             "ticks": ""
            },
            "colorscale": [
             [
              0,
              "#0d0887"
             ],
             [
              0.1111111111111111,
              "#46039f"
             ],
             [
              0.2222222222222222,
              "#7201a8"
             ],
             [
              0.3333333333333333,
              "#9c179e"
             ],
             [
              0.4444444444444444,
              "#bd3786"
             ],
             [
              0.5555555555555556,
              "#d8576b"
             ],
             [
              0.6666666666666666,
              "#ed7953"
             ],
             [
              0.7777777777777778,
              "#fb9f3a"
             ],
             [
              0.8888888888888888,
              "#fdca26"
             ],
             [
              1,
              "#f0f921"
             ]
            ],
            "type": "heatmap"
           }
          ],
          "histogram": [
           {
            "marker": {
             "pattern": {
              "fillmode": "overlay",
              "size": 10,
              "solidity": 0.2
             }
            },
            "type": "histogram"
           }
          ],
          "histogram2d": [
           {
            "colorbar": {
             "outlinewidth": 0,
             "ticks": ""
            },
            "colorscale": [
             [
              0,
              "#0d0887"
             ],
             [
              0.1111111111111111,
              "#46039f"
             ],
             [
              0.2222222222222222,
              "#7201a8"
             ],
             [
              0.3333333333333333,
              "#9c179e"
             ],
             [
              0.4444444444444444,
              "#bd3786"
             ],
             [
              0.5555555555555556,
              "#d8576b"
             ],
             [
              0.6666666666666666,
              "#ed7953"
             ],
             [
              0.7777777777777778,
              "#fb9f3a"
             ],
             [
              0.8888888888888888,
              "#fdca26"
             ],
             [
              1,
              "#f0f921"
             ]
            ],
            "type": "histogram2d"
           }
          ],
          "histogram2dcontour": [
           {
            "colorbar": {
             "outlinewidth": 0,
             "ticks": ""
            },
            "colorscale": [
             [
              0,
              "#0d0887"
             ],
             [
              0.1111111111111111,
              "#46039f"
             ],
             [
              0.2222222222222222,
              "#7201a8"
             ],
             [
              0.3333333333333333,
              "#9c179e"
             ],
             [
              0.4444444444444444,
              "#bd3786"
             ],
             [
              0.5555555555555556,
              "#d8576b"
             ],
             [
              0.6666666666666666,
              "#ed7953"
             ],
             [
              0.7777777777777778,
              "#fb9f3a"
             ],
             [
              0.8888888888888888,
              "#fdca26"
             ],
             [
              1,
              "#f0f921"
             ]
            ],
            "type": "histogram2dcontour"
           }
          ],
          "mesh3d": [
           {
            "colorbar": {
             "outlinewidth": 0,
             "ticks": ""
            },
            "type": "mesh3d"
           }
          ],
          "parcoords": [
           {
            "line": {
             "colorbar": {
              "outlinewidth": 0,
              "ticks": ""
             }
            },
            "type": "parcoords"
           }
          ],
          "pie": [
           {
            "automargin": true,
            "type": "pie"
           }
          ],
          "scatter": [
           {
            "fillpattern": {
             "fillmode": "overlay",
             "size": 10,
             "solidity": 0.2
            },
            "type": "scatter"
           }
          ],
          "scatter3d": [
           {
            "line": {
             "colorbar": {
              "outlinewidth": 0,
              "ticks": ""
             }
            },
            "marker": {
             "colorbar": {
              "outlinewidth": 0,
              "ticks": ""
             }
            },
            "type": "scatter3d"
           }
          ],
          "scattercarpet": [
           {
            "marker": {
             "colorbar": {
              "outlinewidth": 0,
              "ticks": ""
             }
            },
            "type": "scattercarpet"
           }
          ],
          "scattergeo": [
           {
            "marker": {
             "colorbar": {
              "outlinewidth": 0,
              "ticks": ""
             }
            },
            "type": "scattergeo"
           }
          ],
          "scattergl": [
           {
            "marker": {
             "colorbar": {
              "outlinewidth": 0,
              "ticks": ""
             }
            },
            "type": "scattergl"
           }
          ],
          "scattermap": [
           {
            "marker": {
             "colorbar": {
              "outlinewidth": 0,
              "ticks": ""
             }
            },
            "type": "scattermap"
           }
          ],
          "scattermapbox": [
           {
            "marker": {
             "colorbar": {
              "outlinewidth": 0,
              "ticks": ""
             }
            },
            "type": "scattermapbox"
           }
          ],
          "scatterpolar": [
           {
            "marker": {
             "colorbar": {
              "outlinewidth": 0,
              "ticks": ""
             }
            },
            "type": "scatterpolar"
           }
          ],
          "scatterpolargl": [
           {
            "marker": {
             "colorbar": {
              "outlinewidth": 0,
              "ticks": ""
             }
            },
            "type": "scatterpolargl"
           }
          ],
          "scatterternary": [
           {
            "marker": {
             "colorbar": {
              "outlinewidth": 0,
              "ticks": ""
             }
            },
            "type": "scatterternary"
           }
          ],
          "surface": [
           {
            "colorbar": {
             "outlinewidth": 0,
             "ticks": ""
            },
            "colorscale": [
             [
              0,
              "#0d0887"
             ],
             [
              0.1111111111111111,
              "#46039f"
             ],
             [
              0.2222222222222222,
              "#7201a8"
             ],
             [
              0.3333333333333333,
              "#9c179e"
             ],
             [
              0.4444444444444444,
              "#bd3786"
             ],
             [
              0.5555555555555556,
              "#d8576b"
             ],
             [
              0.6666666666666666,
              "#ed7953"
             ],
             [
              0.7777777777777778,
              "#fb9f3a"
             ],
             [
              0.8888888888888888,
              "#fdca26"
             ],
             [
              1,
              "#f0f921"
             ]
            ],
            "type": "surface"
           }
          ],
          "table": [
           {
            "cells": {
             "fill": {
              "color": "#EBF0F8"
             },
             "line": {
              "color": "white"
             }
            },
            "header": {
             "fill": {
              "color": "#C8D4E3"
             },
             "line": {
              "color": "white"
             }
            },
            "type": "table"
           }
          ]
         },
         "layout": {
          "annotationdefaults": {
           "arrowcolor": "#2a3f5f",
           "arrowhead": 0,
           "arrowwidth": 1
          },
          "autotypenumbers": "strict",
          "coloraxis": {
           "colorbar": {
            "outlinewidth": 0,
            "ticks": ""
           }
          },
          "colorscale": {
           "diverging": [
            [
             0,
             "#8e0152"
            ],
            [
             0.1,
             "#c51b7d"
            ],
            [
             0.2,
             "#de77ae"
            ],
            [
             0.3,
             "#f1b6da"
            ],
            [
             0.4,
             "#fde0ef"
            ],
            [
             0.5,
             "#f7f7f7"
            ],
            [
             0.6,
             "#e6f5d0"
            ],
            [
             0.7,
             "#b8e186"
            ],
            [
             0.8,
             "#7fbc41"
            ],
            [
             0.9,
             "#4d9221"
            ],
            [
             1,
             "#276419"
            ]
           ],
           "sequential": [
            [
             0,
             "#0d0887"
            ],
            [
             0.1111111111111111,
             "#46039f"
            ],
            [
             0.2222222222222222,
             "#7201a8"
            ],
            [
             0.3333333333333333,
             "#9c179e"
            ],
            [
             0.4444444444444444,
             "#bd3786"
            ],
            [
             0.5555555555555556,
             "#d8576b"
            ],
            [
             0.6666666666666666,
             "#ed7953"
            ],
            [
             0.7777777777777778,
             "#fb9f3a"
            ],
            [
             0.8888888888888888,
             "#fdca26"
            ],
            [
             1,
             "#f0f921"
            ]
           ],
           "sequentialminus": [
            [
             0,
             "#0d0887"
            ],
            [
             0.1111111111111111,
             "#46039f"
            ],
            [
             0.2222222222222222,
             "#7201a8"
            ],
            [
             0.3333333333333333,
             "#9c179e"
            ],
            [
             0.4444444444444444,
             "#bd3786"
            ],
            [
             0.5555555555555556,
             "#d8576b"
            ],
            [
             0.6666666666666666,
             "#ed7953"
            ],
            [
             0.7777777777777778,
             "#fb9f3a"
            ],
            [
             0.8888888888888888,
             "#fdca26"
            ],
            [
             1,
             "#f0f921"
            ]
           ]
          },
          "colorway": [
           "#636efa",
           "#EF553B",
           "#00cc96",
           "#ab63fa",
           "#FFA15A",
           "#19d3f3",
           "#FF6692",
           "#B6E880",
           "#FF97FF",
           "#FECB52"
          ],
          "font": {
           "color": "#2a3f5f"
          },
          "geo": {
           "bgcolor": "white",
           "lakecolor": "white",
           "landcolor": "#E5ECF6",
           "showlakes": true,
           "showland": true,
           "subunitcolor": "white"
          },
          "hoverlabel": {
           "align": "left"
          },
          "hovermode": "closest",
          "mapbox": {
           "style": "light"
          },
          "paper_bgcolor": "white",
          "plot_bgcolor": "#E5ECF6",
          "polar": {
           "angularaxis": {
            "gridcolor": "white",
            "linecolor": "white",
            "ticks": ""
           },
           "bgcolor": "#E5ECF6",
           "radialaxis": {
            "gridcolor": "white",
            "linecolor": "white",
            "ticks": ""
           }
          },
          "scene": {
           "xaxis": {
            "backgroundcolor": "#E5ECF6",
            "gridcolor": "white",
            "gridwidth": 2,
            "linecolor": "white",
            "showbackground": true,
            "ticks": "",
            "zerolinecolor": "white"
           },
           "yaxis": {
            "backgroundcolor": "#E5ECF6",
            "gridcolor": "white",
            "gridwidth": 2,
            "linecolor": "white",
            "showbackground": true,
            "ticks": "",
            "zerolinecolor": "white"
           },
           "zaxis": {
            "backgroundcolor": "#E5ECF6",
            "gridcolor": "white",
            "gridwidth": 2,
            "linecolor": "white",
            "showbackground": true,
            "ticks": "",
            "zerolinecolor": "white"
           }
          },
          "shapedefaults": {
           "line": {
            "color": "#2a3f5f"
           }
          },
          "ternary": {
           "aaxis": {
            "gridcolor": "white",
            "linecolor": "white",
            "ticks": ""
           },
           "baxis": {
            "gridcolor": "white",
            "linecolor": "white",
            "ticks": ""
           },
           "bgcolor": "#E5ECF6",
           "caxis": {
            "gridcolor": "white",
            "linecolor": "white",
            "ticks": ""
           }
          },
          "title": {
           "x": 0.05
          },
          "xaxis": {
           "automargin": true,
           "gridcolor": "white",
           "linecolor": "white",
           "ticks": "",
           "title": {
            "standoff": 15
           },
           "zerolinecolor": "white",
           "zerolinewidth": 2
          },
          "yaxis": {
           "automargin": true,
           "gridcolor": "white",
           "linecolor": "white",
           "ticks": "",
           "title": {
            "standoff": 15
           },
           "zerolinecolor": "white",
           "zerolinewidth": 2
          }
         }
        },
        "title": {
         "text": "Feature Variance (Low-Variance Highlighted in Red)"
        },
        "width": 1000,
        "xaxis": {
         "anchor": "y",
         "domain": [
          0,
          1
         ],
         "tickangle": -45,
         "title": {
          "text": "Feature"
         }
        },
        "yaxis": {
         "anchor": "x",
         "domain": [
          0,
          1
         ],
         "title": {
          "text": "Variance"
         }
        }
       }
      }
     },
     "metadata": {},
     "output_type": "display_data"
    }
   ],
   "source": [
    "# Faqat sonli ustunlarni tanlab olamiz\n",
    "numeric_cols = df.select_dtypes(include=[np.number]).columns\n",
    "\n",
    "# Har bir sonli ustun uchun variansani hisoblaymiz\n",
    "variances = df[numeric_cols].var()\n",
    "\n",
    "# Past variansa uchun threshold belgilaymiz (masalan: 0.01)\n",
    "threshold = 0.01\n",
    "\n",
    "# Threshold’dan kichik bo‘lgan variansali ustunlarni topamiz\n",
    "low_variance_features = variances[variances < threshold].index.tolist()\n",
    "\n",
    "# Natijani DataFrame ko‘rinishida saqlaymiz\n",
    "# Feature -> ustun nomi\n",
    "# Variance -> ustunning varians qiymati\n",
    "# LowVariance -> agar ustun past variansli bo‘lsa 'Yes', aks holda 'No'\n",
    "var_df = pd.DataFrame({\n",
    "    'Feature': variances.index,\n",
    "    'Variance': variances.values,\n",
    "    'LowVariance': ['Yes' if f in low_variance_features else 'No' for f in variances.index]\n",
    "})\n",
    "\n",
    "# Plotly Express yordamida bar chart (ustunli grafik) chizamiz\n",
    "fig = px.bar(\n",
    "    var_df,\n",
    "    x='Feature',        # x o‘qi – ustun nomlari\n",
    "    y='Variance',       # y o‘qi – varians qiymati\n",
    "    color='LowVariance',  # rang past variansli yoki yo‘qligiga qarab belgilanadi\n",
    "    color_discrete_map={'Yes': 'red', 'No': 'blue'},  # Yes -> qizil, No -> ko‘k\n",
    "    text='Variance',    # ustun ustiga varians qiymatini yozib qo‘yish\n",
    "    title='Feature Variance (Low-Variance Highlighted in Red)'  # grafik sarlavhasi\n",
    ")\n",
    "\n",
    "# Grafikni sozlash: x o‘qi yozuvlarini 45° buramiz, grafik o‘lchamini belgilaymiz\n",
    "fig.update_layout(\n",
    "    xaxis_tickangle=-45,\n",
    "    width=1000,\n",
    "    height=600\n",
    ")\n",
    "\n",
    "# Grafikni ko‘rsatish\n",
    "fig.show()"
   ]
  },
  {
   "cell_type": "code",
   "execution_count": 15,
   "id": "bd4d4b96",
   "metadata": {},
   "outputs": [
    {
     "name": "stdout",
     "output_type": "stream",
     "text": [
      "<class 'pandas.core.frame.DataFrame'>\n",
      "RangeIndex: 50000 entries, 0 to 49999\n",
      "Data columns (total 24 columns):\n",
      " #   Column                  Non-Null Count  Dtype  \n",
      "---  ------                  --------------  -----  \n",
      " 0   Model                   50000 non-null  float64\n",
      " 1   Year                    50000 non-null  float64\n",
      " 2   Engine_Size_L           50000 non-null  float64\n",
      " 3   Mileage_KM              50000 non-null  float64\n",
      " 4   Price_USD               50000 non-null  float64\n",
      " 5   Sales_Volume            50000 non-null  float64\n",
      " 6   Sales_Classification    50000 non-null  int64  \n",
      " 7   Region_Africa           50000 non-null  float64\n",
      " 8   Region_Asia             50000 non-null  float64\n",
      " 9   Region_Europe           50000 non-null  float64\n",
      " 10  Region_Middle East      50000 non-null  float64\n",
      " 11  Region_North America    50000 non-null  float64\n",
      " 12  Region_South America    50000 non-null  float64\n",
      " 13  Color_Black             50000 non-null  float64\n",
      " 14  Color_Blue              50000 non-null  float64\n",
      " 15  Color_Grey              50000 non-null  float64\n",
      " 16  Color_Red               50000 non-null  float64\n",
      " 17  Color_Silver            50000 non-null  float64\n",
      " 18  Color_White             50000 non-null  float64\n",
      " 19  Fuel_Type_Diesel        50000 non-null  float64\n",
      " 20  Fuel_Type_Electric      50000 non-null  float64\n",
      " 21  Fuel_Type_Hybrid        50000 non-null  float64\n",
      " 22  Fuel_Type_Petrol        50000 non-null  float64\n",
      " 23  Transmission_Automatic  50000 non-null  float64\n",
      "dtypes: float64(23), int64(1)\n",
      "memory usage: 9.2 MB\n"
     ]
    }
   ],
   "source": [
    "df_filtered.info()"
   ]
  },
  {
   "cell_type": "code",
   "execution_count": null,
   "id": "820fa36a",
   "metadata": {},
   "outputs": [],
   "source": [
    "#Drop qilinishi kerak"
   ]
  },
  {
   "cell_type": "code",
   "execution_count": 16,
   "id": "fe80da68",
   "metadata": {},
   "outputs": [],
   "source": [
    "# Recursive Feature Elimination (RFE) uchun kerakli kutubxonalarni chaqirib olamiz\n",
    "from sklearn.feature_selection import RFE\n",
    "from sklearn.linear_model import LinearRegression\n",
    "\n",
    "# Ma'lumotlarni X va y ga ajratamiz:\n",
    "# X - xususiyatlar (features), ya'ni 'Medical Condition' dan tashqari barcha ustunlar\n",
    "X = df.drop('Sales_Classification', axis=1)\n",
    "\n",
    "# y - target (maqsadli ustun), ya'ni 'xG'\n",
    "y = df['Sales_Classification']\n"
   ]
  },
  {
   "cell_type": "code",
   "execution_count": 17,
   "id": "a9e43cac",
   "metadata": {},
   "outputs": [
    {
     "name": "stdout",
     "output_type": "stream",
     "text": [
      "Selected features: Index(['Year', 'Mileage_KM', 'Price_USD', 'Sales_Volume', 'Region_Africa',\n",
      "       'Region_Middle East', 'Region_North America', 'Color_Grey', 'Color_Red',\n",
      "       'Fuel_Type_Petrol'],\n",
      "      dtype='object')\n"
     ]
    }
   ],
   "source": [
    "# Oddiy chiziqli regressiya modelini yaratamiz (bu model RFE uchun asos bo'ladi)\n",
    "model = LinearRegression()\n",
    "\n",
    "# RFE (Recursive Feature Elimination) obyektini yaratamiz\n",
    "# Bu yerda model sifatida LinearRegression ishlatiladi\n",
    "# n_features_to_select=10 -> eng yaxshi 10 ta xususiyat (feature) tanlab olinadi\n",
    "rfe = RFE(model, n_features_to_select=10)\n",
    "\n",
    "# RFE ni X va y ma'lumotlari bo'yicha o'rgatamiz\n",
    "# Bu jarayonda RFE iterativ ravishda eng kam ahamiyatli xususiyatlarni olib tashlaydi\n",
    "rfe.fit(X, y)\n",
    "\n",
    "# Tanlab olingan xususiyatlarni olish:\n",
    "# rfe.support_ -> True/False massiv qaytaradi (True = tanlangan feature)\n",
    "selected_features = X.columns[rfe.support_]\n",
    "\n",
    "# Eng yaxshi tanlangan featurelarni chiqaramiz\n",
    "print(\"Selected features:\", selected_features)\n"
   ]
  },
  {
   "cell_type": "code",
   "execution_count": 19,
   "id": "211642b5",
   "metadata": {},
   "outputs": [],
   "source": [
    "# --- Embedded Methods ---\n",
    "# Xususiyat tanlash uchun Linear Model'larda ishlatiladigan usul (LASSO regression)\n",
    "\n",
    "# LassoCV (L1-regularizatsiya) ni import qilamiz\n",
    "# CV - cross-validation, u model uchun optimal alpha (regulyarizatsiya kuchi) tanlab beradi\n",
    "from sklearn.linear_model import LassoCV\n",
    "\n",
    "# X = Featurelar (kiruvchi ma'lumotlar), ya'ni 'Medical Condition' ustunidan tashqari barcha ustunlar\n",
    "X = df.drop('Sales_Classification', axis=1)\n",
    "\n",
    "# y = Target (chiqish qiymati), ya'ni 'Medical Condition' ustuni\n",
    "y = df['Sales_Classification']\n",
    "\n",
    "# LassoCV modelini yaratib, uni darhol X va y ma'lumotlariga o'rgatamiz\n",
    "# cv=10 -> 10-fold cross-validation ishlatiladi\n",
    "# random_state=42 -> natijalarni qayta ishlab bo‘lganda bir xil chiqishi uchun\n",
    "lasso = LassoCV(cv=10, random_state=42).fit(X, y)\n",
    "\n",
    "# Olingan koeffitsientlarning qiymatini absolut qilib olamiz\n",
    "# Chunki LASSO ba'zi koeffitsientlarni 0 ga tenglashtirib tashlaydi (ahamyatsiz xususiyatlar)\n",
    "# Qolganlar esa ahamiyat darajasini ko'rsatadi\n",
    "importance = np.abs(lasso.coef_)"
   ]
  },
  {
   "cell_type": "code",
   "execution_count": 25,
   "id": "bf6a3300",
   "metadata": {},
   "outputs": [
    {
     "name": "stdout",
     "output_type": "stream",
     "text": [
      "Selected features using Lasso (non-zero coefficients):\n",
      "[]\n"
     ]
    }
   ],
   "source": [
    "# LASSO modelida nol bo'lmagan koeffitsientlarga ega bo'lgan ustunlarni tanlab olamiz\n",
    "# importance > 0 -> faqat ahamiyatli (muqim) ustunlarni olib qoladi\n",
    "selected_features = X.columns[importance > 0]\n",
    "\n",
    "# Natijani chiqaramiz: LASSO orqali tanlangan ustunlar ro'yxati\n",
    "print(\"Selected features using Lasso (non-zero coefficients):\")\n",
    "\n",
    "# Tanlangan ustunlarni list ko'rinishida chiqaramiz\n",
    "print(selected_features.tolist())\n"
   ]
  },
  {
   "cell_type": "code",
   "execution_count": 20,
   "id": "eb199edd",
   "metadata": {},
   "outputs": [
    {
     "name": "stdout",
     "output_type": "stream",
     "text": [
      "\n",
      "Top 25% important features based on Lasso coefficients:\n",
      "['Model', 'Year', 'Engine_Size_L', 'Mileage_KM', 'Price_USD', 'Sales_Volume', 'Region_Africa', 'Region_Asia', 'Region_Europe', 'Region_Middle East', 'Region_North America', 'Region_South America', 'Color_Black', 'Color_Blue', 'Color_Grey', 'Color_Red', 'Color_Silver', 'Color_White', 'Fuel_Type_Diesel', 'Fuel_Type_Electric', 'Fuel_Type_Hybrid', 'Fuel_Type_Petrol', 'Transmission_Automatic', 'Transmission_Manual']\n"
     ]
    }
   ],
   "source": [
    "# Faqat muhim featurelarni saqlab qolish\n",
    "\n",
    "# importance qiymatlari ichidan 75-percentile (ya'ni yuqori 25% chegarasi) ni hisoblaymiz\n",
    "# np.percentile(importance, 75) -> importance qiymatlarining 75 foizdan yuqori bo'lgan qismi\n",
    "percentile_threshold = np.percentile(importance, 75)  # top 25% features\n",
    "\n",
    "# Yuqori 25% ga tushadigan featurelarni tanlaymiz\n",
    "# importance >= percentile_threshold bo'lgan ustunlar qoldiriladi\n",
    "top_features = X.columns[importance >= percentile_threshold]\n",
    "\n",
    "# Natija chiqishi uchun bo'sh qatordan keyin matn chiqaramiz\n",
    "print(\"\\nTop 25% important features based on Lasso coefficients:\")\n",
    "\n",
    "# Yuqori 25% muhim ustunlarning nomlarini ro'yxat ko'rinishida chiqaramiz\n",
    "print(top_features.tolist())\n"
   ]
  },
  {
   "cell_type": "code",
   "execution_count": 21,
   "id": "1b97d162",
   "metadata": {},
   "outputs": [
    {
     "name": "stdout",
     "output_type": "stream",
     "text": [
      "Feature Importance Table:\n",
      "                   Feature  Importance Top25%\n",
      "5             Sales_Volume    0.363523    Yes\n",
      "0                    Model    0.000000    Yes\n",
      "2            Engine_Size_L    0.000000    Yes\n",
      "1                     Year    0.000000    Yes\n",
      "3               Mileage_KM    0.000000    Yes\n",
      "4                Price_USD    0.000000    Yes\n",
      "6            Region_Africa    0.000000    Yes\n",
      "7              Region_Asia    0.000000    Yes\n",
      "8            Region_Europe    0.000000    Yes\n",
      "9       Region_Middle East    0.000000    Yes\n",
      "10    Region_North America    0.000000    Yes\n",
      "11    Region_South America    0.000000    Yes\n",
      "12             Color_Black    0.000000    Yes\n",
      "13              Color_Blue    0.000000    Yes\n",
      "14              Color_Grey    0.000000    Yes\n",
      "15               Color_Red    0.000000    Yes\n",
      "16            Color_Silver    0.000000    Yes\n",
      "17             Color_White    0.000000    Yes\n",
      "18        Fuel_Type_Diesel    0.000000    Yes\n",
      "19      Fuel_Type_Electric    0.000000    Yes\n",
      "20        Fuel_Type_Hybrid    0.000000    Yes\n",
      "21        Fuel_Type_Petrol    0.000000    Yes\n",
      "22  Transmission_Automatic    0.000000    Yes\n",
      "23     Transmission_Manual    0.000000    Yes\n"
     ]
    }
   ],
   "source": [
    "# Feature importance'ni jadval shaklida tayyorlash\n",
    "\n",
    "# DataFrame yaratamiz:\n",
    "# Feature -> ustun nomlari\n",
    "# Importance -> LASSO orqali olingan ahamiyat qiymatlari\n",
    "feat_df = pd.DataFrame({\n",
    "    'Feature': X.columns,\n",
    "    'Importance': importance\n",
    "})\n",
    "\n",
    "# Importance qiymatlariga qarab kamayish tartibida (eng muhimdan kam muhimga qarab) saralaymiz\n",
    "feat_df = feat_df.sort_values(by='Importance', ascending=False)\n",
    "\n",
    "# Yuqori 25% eng muhim featurelarni belgilash uchun threshold hisoblaymiz\n",
    "# Bu yerda 65-percentile ishlatilgan (demak, top 35% olinadi, agar top 25% bo‘lsa 75 qilamiz)\n",
    "percentile_threshold = np.percentile(importance, 65)\n",
    "\n",
    "# Agar Importance >= threshold bo‘lsa -> 'Yes' deb belgilanadi (Top25%)\n",
    "# Aks holda -> 'No' deb yoziladi\n",
    "feat_df['Top25%'] = np.where(feat_df['Importance'] >= percentile_threshold, 'Yes', 'No')\n",
    "\n",
    "# Jadval haqida ma'lumot chiqaramiz\n",
    "print(\"Feature Importance Table:\")\n",
    "\n",
    "# Tayyor jadvalni ekranga chiqaramiz\n",
    "print(feat_df)"
   ]
  },
  {
   "cell_type": "code",
   "execution_count": 22,
   "id": "194c9a4a",
   "metadata": {},
   "outputs": [
    {
     "data": {
      "application/vnd.plotly.v1+json": {
       "config": {
        "plotlyServerURL": "https://plot.ly"
       },
       "data": [
        {
         "hovertemplate": "Top25%=Yes<br>Feature=%{x}<br>Importance=%{text}<extra></extra>",
         "legendgroup": "Yes",
         "marker": {
          "color": "red",
          "pattern": {
           "shape": ""
          }
         },
         "name": "Yes",
         "orientation": "v",
         "showlegend": true,
         "text": {
          "bdata": "LMt1EfhD1z8AAAAAAAAAAAAAAAAAAAAAAAAAAAAAAAAAAAAAAAAAAAAAAAAAAAAAAAAAAAAAAAAAAAAAAAAAAAAAAAAAAAAAAAAAAAAAAAAAAAAAAAAAAAAAAAAAAAAAAAAAAAAAAAAAAAAAAAAAAAAAAAAAAAAAAAAAAAAAAAAAAAAAAAAAAAAAAAAAAAAAAAAAAAAAAAAAAAAAAAAAAAAAAAAAAAAAAAAAAAAAAAAAAAAAAAAAAAAAAAAAAAAA",
          "dtype": "f8"
         },
         "textposition": "auto",
         "type": "bar",
         "x": [
          "Sales_Volume",
          "Model",
          "Engine_Size_L",
          "Year",
          "Mileage_KM",
          "Price_USD",
          "Region_Africa",
          "Region_Asia",
          "Region_Europe",
          "Region_Middle East",
          "Region_North America",
          "Region_South America",
          "Color_Black",
          "Color_Blue",
          "Color_Grey",
          "Color_Red",
          "Color_Silver",
          "Color_White",
          "Fuel_Type_Diesel",
          "Fuel_Type_Electric",
          "Fuel_Type_Hybrid",
          "Fuel_Type_Petrol",
          "Transmission_Automatic",
          "Transmission_Manual"
         ],
         "xaxis": "x",
         "y": {
          "bdata": "LMt1EfhD1z8AAAAAAAAAAAAAAAAAAAAAAAAAAAAAAAAAAAAAAAAAAAAAAAAAAAAAAAAAAAAAAAAAAAAAAAAAAAAAAAAAAAAAAAAAAAAAAAAAAAAAAAAAAAAAAAAAAAAAAAAAAAAAAAAAAAAAAAAAAAAAAAAAAAAAAAAAAAAAAAAAAAAAAAAAAAAAAAAAAAAAAAAAAAAAAAAAAAAAAAAAAAAAAAAAAAAAAAAAAAAAAAAAAAAAAAAAAAAAAAAAAAAA",
          "dtype": "f8"
         },
         "yaxis": "y"
        }
       ],
       "layout": {
        "barmode": "relative",
        "height": 600,
        "legend": {
         "title": {
          "text": "Top25%"
         },
         "tracegroupgap": 0
        },
        "template": {
         "data": {
          "bar": [
           {
            "error_x": {
             "color": "#2a3f5f"
            },
            "error_y": {
             "color": "#2a3f5f"
            },
            "marker": {
             "line": {
              "color": "#E5ECF6",
              "width": 0.5
             },
             "pattern": {
              "fillmode": "overlay",
              "size": 10,
              "solidity": 0.2
             }
            },
            "type": "bar"
           }
          ],
          "barpolar": [
           {
            "marker": {
             "line": {
              "color": "#E5ECF6",
              "width": 0.5
             },
             "pattern": {
              "fillmode": "overlay",
              "size": 10,
              "solidity": 0.2
             }
            },
            "type": "barpolar"
           }
          ],
          "carpet": [
           {
            "aaxis": {
             "endlinecolor": "#2a3f5f",
             "gridcolor": "white",
             "linecolor": "white",
             "minorgridcolor": "white",
             "startlinecolor": "#2a3f5f"
            },
            "baxis": {
             "endlinecolor": "#2a3f5f",
             "gridcolor": "white",
             "linecolor": "white",
             "minorgridcolor": "white",
             "startlinecolor": "#2a3f5f"
            },
            "type": "carpet"
           }
          ],
          "choropleth": [
           {
            "colorbar": {
             "outlinewidth": 0,
             "ticks": ""
            },
            "type": "choropleth"
           }
          ],
          "contour": [
           {
            "colorbar": {
             "outlinewidth": 0,
             "ticks": ""
            },
            "colorscale": [
             [
              0,
              "#0d0887"
             ],
             [
              0.1111111111111111,
              "#46039f"
             ],
             [
              0.2222222222222222,
              "#7201a8"
             ],
             [
              0.3333333333333333,
              "#9c179e"
             ],
             [
              0.4444444444444444,
              "#bd3786"
             ],
             [
              0.5555555555555556,
              "#d8576b"
             ],
             [
              0.6666666666666666,
              "#ed7953"
             ],
             [
              0.7777777777777778,
              "#fb9f3a"
             ],
             [
              0.8888888888888888,
              "#fdca26"
             ],
             [
              1,
              "#f0f921"
             ]
            ],
            "type": "contour"
           }
          ],
          "contourcarpet": [
           {
            "colorbar": {
             "outlinewidth": 0,
             "ticks": ""
            },
            "type": "contourcarpet"
           }
          ],
          "heatmap": [
           {
            "colorbar": {
             "outlinewidth": 0,
             "ticks": ""
            },
            "colorscale": [
             [
              0,
              "#0d0887"
             ],
             [
              0.1111111111111111,
              "#46039f"
             ],
             [
              0.2222222222222222,
              "#7201a8"
             ],
             [
              0.3333333333333333,
              "#9c179e"
             ],
             [
              0.4444444444444444,
              "#bd3786"
             ],
             [
              0.5555555555555556,
              "#d8576b"
             ],
             [
              0.6666666666666666,
              "#ed7953"
             ],
             [
              0.7777777777777778,
              "#fb9f3a"
             ],
             [
              0.8888888888888888,
              "#fdca26"
             ],
             [
              1,
              "#f0f921"
             ]
            ],
            "type": "heatmap"
           }
          ],
          "histogram": [
           {
            "marker": {
             "pattern": {
              "fillmode": "overlay",
              "size": 10,
              "solidity": 0.2
             }
            },
            "type": "histogram"
           }
          ],
          "histogram2d": [
           {
            "colorbar": {
             "outlinewidth": 0,
             "ticks": ""
            },
            "colorscale": [
             [
              0,
              "#0d0887"
             ],
             [
              0.1111111111111111,
              "#46039f"
             ],
             [
              0.2222222222222222,
              "#7201a8"
             ],
             [
              0.3333333333333333,
              "#9c179e"
             ],
             [
              0.4444444444444444,
              "#bd3786"
             ],
             [
              0.5555555555555556,
              "#d8576b"
             ],
             [
              0.6666666666666666,
              "#ed7953"
             ],
             [
              0.7777777777777778,
              "#fb9f3a"
             ],
             [
              0.8888888888888888,
              "#fdca26"
             ],
             [
              1,
              "#f0f921"
             ]
            ],
            "type": "histogram2d"
           }
          ],
          "histogram2dcontour": [
           {
            "colorbar": {
             "outlinewidth": 0,
             "ticks": ""
            },
            "colorscale": [
             [
              0,
              "#0d0887"
             ],
             [
              0.1111111111111111,
              "#46039f"
             ],
             [
              0.2222222222222222,
              "#7201a8"
             ],
             [
              0.3333333333333333,
              "#9c179e"
             ],
             [
              0.4444444444444444,
              "#bd3786"
             ],
             [
              0.5555555555555556,
              "#d8576b"
             ],
             [
              0.6666666666666666,
              "#ed7953"
             ],
             [
              0.7777777777777778,
              "#fb9f3a"
             ],
             [
              0.8888888888888888,
              "#fdca26"
             ],
             [
              1,
              "#f0f921"
             ]
            ],
            "type": "histogram2dcontour"
           }
          ],
          "mesh3d": [
           {
            "colorbar": {
             "outlinewidth": 0,
             "ticks": ""
            },
            "type": "mesh3d"
           }
          ],
          "parcoords": [
           {
            "line": {
             "colorbar": {
              "outlinewidth": 0,
              "ticks": ""
             }
            },
            "type": "parcoords"
           }
          ],
          "pie": [
           {
            "automargin": true,
            "type": "pie"
           }
          ],
          "scatter": [
           {
            "fillpattern": {
             "fillmode": "overlay",
             "size": 10,
             "solidity": 0.2
            },
            "type": "scatter"
           }
          ],
          "scatter3d": [
           {
            "line": {
             "colorbar": {
              "outlinewidth": 0,
              "ticks": ""
             }
            },
            "marker": {
             "colorbar": {
              "outlinewidth": 0,
              "ticks": ""
             }
            },
            "type": "scatter3d"
           }
          ],
          "scattercarpet": [
           {
            "marker": {
             "colorbar": {
              "outlinewidth": 0,
              "ticks": ""
             }
            },
            "type": "scattercarpet"
           }
          ],
          "scattergeo": [
           {
            "marker": {
             "colorbar": {
              "outlinewidth": 0,
              "ticks": ""
             }
            },
            "type": "scattergeo"
           }
          ],
          "scattergl": [
           {
            "marker": {
             "colorbar": {
              "outlinewidth": 0,
              "ticks": ""
             }
            },
            "type": "scattergl"
           }
          ],
          "scattermap": [
           {
            "marker": {
             "colorbar": {
              "outlinewidth": 0,
              "ticks": ""
             }
            },
            "type": "scattermap"
           }
          ],
          "scattermapbox": [
           {
            "marker": {
             "colorbar": {
              "outlinewidth": 0,
              "ticks": ""
             }
            },
            "type": "scattermapbox"
           }
          ],
          "scatterpolar": [
           {
            "marker": {
             "colorbar": {
              "outlinewidth": 0,
              "ticks": ""
             }
            },
            "type": "scatterpolar"
           }
          ],
          "scatterpolargl": [
           {
            "marker": {
             "colorbar": {
              "outlinewidth": 0,
              "ticks": ""
             }
            },
            "type": "scatterpolargl"
           }
          ],
          "scatterternary": [
           {
            "marker": {
             "colorbar": {
              "outlinewidth": 0,
              "ticks": ""
             }
            },
            "type": "scatterternary"
           }
          ],
          "surface": [
           {
            "colorbar": {
             "outlinewidth": 0,
             "ticks": ""
            },
            "colorscale": [
             [
              0,
              "#0d0887"
             ],
             [
              0.1111111111111111,
              "#46039f"
             ],
             [
              0.2222222222222222,
              "#7201a8"
             ],
             [
              0.3333333333333333,
              "#9c179e"
             ],
             [
              0.4444444444444444,
              "#bd3786"
             ],
             [
              0.5555555555555556,
              "#d8576b"
             ],
             [
              0.6666666666666666,
              "#ed7953"
             ],
             [
              0.7777777777777778,
              "#fb9f3a"
             ],
             [
              0.8888888888888888,
              "#fdca26"
             ],
             [
              1,
              "#f0f921"
             ]
            ],
            "type": "surface"
           }
          ],
          "table": [
           {
            "cells": {
             "fill": {
              "color": "#EBF0F8"
             },
             "line": {
              "color": "white"
             }
            },
            "header": {
             "fill": {
              "color": "#C8D4E3"
             },
             "line": {
              "color": "white"
             }
            },
            "type": "table"
           }
          ]
         },
         "layout": {
          "annotationdefaults": {
           "arrowcolor": "#2a3f5f",
           "arrowhead": 0,
           "arrowwidth": 1
          },
          "autotypenumbers": "strict",
          "coloraxis": {
           "colorbar": {
            "outlinewidth": 0,
            "ticks": ""
           }
          },
          "colorscale": {
           "diverging": [
            [
             0,
             "#8e0152"
            ],
            [
             0.1,
             "#c51b7d"
            ],
            [
             0.2,
             "#de77ae"
            ],
            [
             0.3,
             "#f1b6da"
            ],
            [
             0.4,
             "#fde0ef"
            ],
            [
             0.5,
             "#f7f7f7"
            ],
            [
             0.6,
             "#e6f5d0"
            ],
            [
             0.7,
             "#b8e186"
            ],
            [
             0.8,
             "#7fbc41"
            ],
            [
             0.9,
             "#4d9221"
            ],
            [
             1,
             "#276419"
            ]
           ],
           "sequential": [
            [
             0,
             "#0d0887"
            ],
            [
             0.1111111111111111,
             "#46039f"
            ],
            [
             0.2222222222222222,
             "#7201a8"
            ],
            [
             0.3333333333333333,
             "#9c179e"
            ],
            [
             0.4444444444444444,
             "#bd3786"
            ],
            [
             0.5555555555555556,
             "#d8576b"
            ],
            [
             0.6666666666666666,
             "#ed7953"
            ],
            [
             0.7777777777777778,
             "#fb9f3a"
            ],
            [
             0.8888888888888888,
             "#fdca26"
            ],
            [
             1,
             "#f0f921"
            ]
           ],
           "sequentialminus": [
            [
             0,
             "#0d0887"
            ],
            [
             0.1111111111111111,
             "#46039f"
            ],
            [
             0.2222222222222222,
             "#7201a8"
            ],
            [
             0.3333333333333333,
             "#9c179e"
            ],
            [
             0.4444444444444444,
             "#bd3786"
            ],
            [
             0.5555555555555556,
             "#d8576b"
            ],
            [
             0.6666666666666666,
             "#ed7953"
            ],
            [
             0.7777777777777778,
             "#fb9f3a"
            ],
            [
             0.8888888888888888,
             "#fdca26"
            ],
            [
             1,
             "#f0f921"
            ]
           ]
          },
          "colorway": [
           "#636efa",
           "#EF553B",
           "#00cc96",
           "#ab63fa",
           "#FFA15A",
           "#19d3f3",
           "#FF6692",
           "#B6E880",
           "#FF97FF",
           "#FECB52"
          ],
          "font": {
           "color": "#2a3f5f"
          },
          "geo": {
           "bgcolor": "white",
           "lakecolor": "white",
           "landcolor": "#E5ECF6",
           "showlakes": true,
           "showland": true,
           "subunitcolor": "white"
          },
          "hoverlabel": {
           "align": "left"
          },
          "hovermode": "closest",
          "mapbox": {
           "style": "light"
          },
          "paper_bgcolor": "white",
          "plot_bgcolor": "#E5ECF6",
          "polar": {
           "angularaxis": {
            "gridcolor": "white",
            "linecolor": "white",
            "ticks": ""
           },
           "bgcolor": "#E5ECF6",
           "radialaxis": {
            "gridcolor": "white",
            "linecolor": "white",
            "ticks": ""
           }
          },
          "scene": {
           "xaxis": {
            "backgroundcolor": "#E5ECF6",
            "gridcolor": "white",
            "gridwidth": 2,
            "linecolor": "white",
            "showbackground": true,
            "ticks": "",
            "zerolinecolor": "white"
           },
           "yaxis": {
            "backgroundcolor": "#E5ECF6",
            "gridcolor": "white",
            "gridwidth": 2,
            "linecolor": "white",
            "showbackground": true,
            "ticks": "",
            "zerolinecolor": "white"
           },
           "zaxis": {
            "backgroundcolor": "#E5ECF6",
            "gridcolor": "white",
            "gridwidth": 2,
            "linecolor": "white",
            "showbackground": true,
            "ticks": "",
            "zerolinecolor": "white"
           }
          },
          "shapedefaults": {
           "line": {
            "color": "#2a3f5f"
           }
          },
          "ternary": {
           "aaxis": {
            "gridcolor": "white",
            "linecolor": "white",
            "ticks": ""
           },
           "baxis": {
            "gridcolor": "white",
            "linecolor": "white",
            "ticks": ""
           },
           "bgcolor": "#E5ECF6",
           "caxis": {
            "gridcolor": "white",
            "linecolor": "white",
            "ticks": ""
           }
          },
          "title": {
           "x": 0.05
          },
          "xaxis": {
           "automargin": true,
           "gridcolor": "white",
           "linecolor": "white",
           "ticks": "",
           "title": {
            "standoff": 15
           },
           "zerolinecolor": "white",
           "zerolinewidth": 2
          },
          "yaxis": {
           "automargin": true,
           "gridcolor": "white",
           "linecolor": "white",
           "ticks": "",
           "title": {
            "standoff": 15
           },
           "zerolinecolor": "white",
           "zerolinewidth": 2
          }
         }
        },
        "title": {
         "text": "Lasso Feature Importance"
        },
        "width": 1000,
        "xaxis": {
         "anchor": "y",
         "domain": [
          0,
          1
         ],
         "tickangle": -45,
         "title": {
          "text": "Feature"
         }
        },
        "yaxis": {
         "anchor": "x",
         "domain": [
          0,
          1
         ],
         "title": {
          "text": "Importance"
         }
        }
       }
      }
     },
     "metadata": {},
     "output_type": "display_data"
    }
   ],
   "source": [
    "# Plotly Express yordamida feature importance'ni ustunli grafik (bar chart) ko'rinishida chizish\n",
    "fig = px.bar(\n",
    "    feat_df,                # Ma'lumot manbasi sifatida feat_df jadvalini olamiz\n",
    "    x='Feature',            # X o‘qi – feature (ustun) nomlari\n",
    "    y='Importance',         # Y o‘qi – importance qiymatlari\n",
    "    color='Top25%',         # Ranglash – Top25% ustuni bo‘yicha ('Yes' yoki 'No')\n",
    "    color_discrete_map={'Yes': 'red', 'No': 'blue'},  # 'Yes' qizil, 'No' ko‘k rang bilan ajratiladi\n",
    "    text='Importance',      # Har bir ustun ustiga importance qiymatini yozib qo‘yish\n",
    "    title='Lasso Feature Importance'  # Grafik sarlavhasi\n",
    ")\n",
    "\n",
    "# Grafikning umumiy ko‘rinishini sozlash\n",
    "fig.update_layout(\n",
    "    xaxis_tickangle=-45,  # X o‘qi yozuvlarini 45° ga buramiz, uzun nomlar chiroyli ko‘rinishi uchun\n",
    "    width=1000,           # Grafikning eni\n",
    "    height=600            # Grafikning bo‘yi\n",
    ")\n",
    "\n",
    "# Grafikni interaktiv tarzda ko‘rsatamiz\n",
    "fig.show()\n"
   ]
  },
  {
   "cell_type": "code",
   "execution_count": 23,
   "id": "f367dd57",
   "metadata": {},
   "outputs": [
    {
     "name": "stdout",
     "output_type": "stream",
     "text": [
      "Random Forest Feature Importance Table:\n",
      "                   Feature  Importance Top25%\n",
      "5             Sales_Volume         1.0    Yes\n",
      "0                    Model         0.0    Yes\n",
      "2            Engine_Size_L         0.0    Yes\n",
      "1                     Year         0.0    Yes\n",
      "3               Mileage_KM         0.0    Yes\n",
      "4                Price_USD         0.0    Yes\n",
      "6            Region_Africa         0.0    Yes\n",
      "7              Region_Asia         0.0    Yes\n",
      "8            Region_Europe         0.0    Yes\n",
      "9       Region_Middle East         0.0    Yes\n",
      "10    Region_North America         0.0    Yes\n",
      "11    Region_South America         0.0    Yes\n",
      "12             Color_Black         0.0    Yes\n",
      "13              Color_Blue         0.0    Yes\n",
      "14              Color_Grey         0.0    Yes\n",
      "15               Color_Red         0.0    Yes\n",
      "16            Color_Silver         0.0    Yes\n",
      "17             Color_White         0.0    Yes\n",
      "18        Fuel_Type_Diesel         0.0    Yes\n",
      "19      Fuel_Type_Electric         0.0    Yes\n",
      "20        Fuel_Type_Hybrid         0.0    Yes\n",
      "21        Fuel_Type_Petrol         0.0    Yes\n",
      "22  Transmission_Automatic         0.0    Yes\n",
      "23     Transmission_Manual         0.0    Yes\n"
     ]
    }
   ],
   "source": [
    "# --- Tree based (Random Forest) Feature Importance ---\n",
    "\n",
    "# Random Forest Regressorni import qilamiz\n",
    "from sklearn.ensemble import RandomForestRegressor\n",
    "\n",
    "# Random Forest modelini yaratamiz\n",
    "# n_estimators=500 -> 500 ta daraxt quriladi\n",
    "# random_state=42 -> natijani barqaror qilish uchun tasodifiylikni cheklaydi\n",
    "rf = RandomForestRegressor(n_estimators=500, random_state=42)\n",
    "\n",
    "# Modelni ma'lumotlarga o'rgatamiz (X = features, y = target)\n",
    "rf.fit(X, y)\n",
    "\n",
    "# Har bir feature uchun ahamiyat darajasini (importance) olamiz\n",
    "# Random Forest buni \"daraxtlarda qanchalik tez-tez split qilinishi\" orqali hisoblaydi\n",
    "importances = rf.feature_importances_\n",
    "\n",
    "# Feature importance jadvali yaratamiz\n",
    "feat_df = pd.DataFrame({\n",
    "    'Feature': X.columns,       # ustun nomlari\n",
    "    'Importance': importances   # ularning ahamiyat qiymatlari\n",
    "})\n",
    "\n",
    "# Jadvalni ahamiyat darajasiga qarab kamayish tartibida saralaymiz\n",
    "feat_df = feat_df.sort_values(by='Importance', ascending=False)\n",
    "\n",
    "# Eng muhim 25% featurelarni belgilash uchun threshold hisoblaymiz\n",
    "percentile_threshold = np.percentile(importances, 75)\n",
    "\n",
    "# Agar feature importance >= threshold bo‘lsa, 'Yes' deb belgilanadi, aks holda 'No'\n",
    "feat_df['Top25%'] = np.where(feat_df['Importance'] >= percentile_threshold, 'Yes', 'No')\n",
    "\n",
    "# Jadval haqida xabar chiqaramiz\n",
    "print(\"Random Forest Feature Importance Table:\")\n",
    "\n",
    "# Tayyor jadvalni ekranga chiqaramiz\n",
    "print(feat_df)\n"
   ]
  },
  {
   "cell_type": "code",
   "execution_count": 24,
   "id": "e2bcafed",
   "metadata": {},
   "outputs": [
    {
     "data": {
      "application/vnd.plotly.v1+json": {
       "config": {
        "plotlyServerURL": "https://plot.ly"
       },
       "data": [
        {
         "hovertemplate": "Top25%=Yes<br>Feature=%{x}<br>Importance=%{text}<extra></extra>",
         "legendgroup": "Yes",
         "marker": {
          "color": "red",
          "pattern": {
           "shape": ""
          }
         },
         "name": "Yes",
         "orientation": "v",
         "showlegend": true,
         "text": {
          "bdata": "AAAAAAAA8D8AAAAAAAAAAAAAAAAAAAAAAAAAAAAAAAAAAAAAAAAAAAAAAAAAAAAAAAAAAAAAAAAAAAAAAAAAAAAAAAAAAAAAAAAAAAAAAAAAAAAAAAAAAAAAAAAAAAAAAAAAAAAAAAAAAAAAAAAAAAAAAAAAAAAAAAAAAAAAAAAAAAAAAAAAAAAAAAAAAAAAAAAAAAAAAAAAAAAAAAAAAAAAAAAAAAAAAAAAAAAAAAAAAAAAAAAAAAAAAAAAAAAA",
          "dtype": "f8"
         },
         "textposition": "auto",
         "type": "bar",
         "x": [
          "Sales_Volume",
          "Model",
          "Engine_Size_L",
          "Year",
          "Mileage_KM",
          "Price_USD",
          "Region_Africa",
          "Region_Asia",
          "Region_Europe",
          "Region_Middle East",
          "Region_North America",
          "Region_South America",
          "Color_Black",
          "Color_Blue",
          "Color_Grey",
          "Color_Red",
          "Color_Silver",
          "Color_White",
          "Fuel_Type_Diesel",
          "Fuel_Type_Electric",
          "Fuel_Type_Hybrid",
          "Fuel_Type_Petrol",
          "Transmission_Automatic",
          "Transmission_Manual"
         ],
         "xaxis": "x",
         "y": {
          "bdata": "AAAAAAAA8D8AAAAAAAAAAAAAAAAAAAAAAAAAAAAAAAAAAAAAAAAAAAAAAAAAAAAAAAAAAAAAAAAAAAAAAAAAAAAAAAAAAAAAAAAAAAAAAAAAAAAAAAAAAAAAAAAAAAAAAAAAAAAAAAAAAAAAAAAAAAAAAAAAAAAAAAAAAAAAAAAAAAAAAAAAAAAAAAAAAAAAAAAAAAAAAAAAAAAAAAAAAAAAAAAAAAAAAAAAAAAAAAAAAAAAAAAAAAAAAAAAAAAA",
          "dtype": "f8"
         },
         "yaxis": "y"
        }
       ],
       "layout": {
        "barmode": "relative",
        "height": 600,
        "legend": {
         "title": {
          "text": "Top25%"
         },
         "tracegroupgap": 0
        },
        "template": {
         "data": {
          "bar": [
           {
            "error_x": {
             "color": "#2a3f5f"
            },
            "error_y": {
             "color": "#2a3f5f"
            },
            "marker": {
             "line": {
              "color": "#E5ECF6",
              "width": 0.5
             },
             "pattern": {
              "fillmode": "overlay",
              "size": 10,
              "solidity": 0.2
             }
            },
            "type": "bar"
           }
          ],
          "barpolar": [
           {
            "marker": {
             "line": {
              "color": "#E5ECF6",
              "width": 0.5
             },
             "pattern": {
              "fillmode": "overlay",
              "size": 10,
              "solidity": 0.2
             }
            },
            "type": "barpolar"
           }
          ],
          "carpet": [
           {
            "aaxis": {
             "endlinecolor": "#2a3f5f",
             "gridcolor": "white",
             "linecolor": "white",
             "minorgridcolor": "white",
             "startlinecolor": "#2a3f5f"
            },
            "baxis": {
             "endlinecolor": "#2a3f5f",
             "gridcolor": "white",
             "linecolor": "white",
             "minorgridcolor": "white",
             "startlinecolor": "#2a3f5f"
            },
            "type": "carpet"
           }
          ],
          "choropleth": [
           {
            "colorbar": {
             "outlinewidth": 0,
             "ticks": ""
            },
            "type": "choropleth"
           }
          ],
          "contour": [
           {
            "colorbar": {
             "outlinewidth": 0,
             "ticks": ""
            },
            "colorscale": [
             [
              0,
              "#0d0887"
             ],
             [
              0.1111111111111111,
              "#46039f"
             ],
             [
              0.2222222222222222,
              "#7201a8"
             ],
             [
              0.3333333333333333,
              "#9c179e"
             ],
             [
              0.4444444444444444,
              "#bd3786"
             ],
             [
              0.5555555555555556,
              "#d8576b"
             ],
             [
              0.6666666666666666,
              "#ed7953"
             ],
             [
              0.7777777777777778,
              "#fb9f3a"
             ],
             [
              0.8888888888888888,
              "#fdca26"
             ],
             [
              1,
              "#f0f921"
             ]
            ],
            "type": "contour"
           }
          ],
          "contourcarpet": [
           {
            "colorbar": {
             "outlinewidth": 0,
             "ticks": ""
            },
            "type": "contourcarpet"
           }
          ],
          "heatmap": [
           {
            "colorbar": {
             "outlinewidth": 0,
             "ticks": ""
            },
            "colorscale": [
             [
              0,
              "#0d0887"
             ],
             [
              0.1111111111111111,
              "#46039f"
             ],
             [
              0.2222222222222222,
              "#7201a8"
             ],
             [
              0.3333333333333333,
              "#9c179e"
             ],
             [
              0.4444444444444444,
              "#bd3786"
             ],
             [
              0.5555555555555556,
              "#d8576b"
             ],
             [
              0.6666666666666666,
              "#ed7953"
             ],
             [
              0.7777777777777778,
              "#fb9f3a"
             ],
             [
              0.8888888888888888,
              "#fdca26"
             ],
             [
              1,
              "#f0f921"
             ]
            ],
            "type": "heatmap"
           }
          ],
          "histogram": [
           {
            "marker": {
             "pattern": {
              "fillmode": "overlay",
              "size": 10,
              "solidity": 0.2
             }
            },
            "type": "histogram"
           }
          ],
          "histogram2d": [
           {
            "colorbar": {
             "outlinewidth": 0,
             "ticks": ""
            },
            "colorscale": [
             [
              0,
              "#0d0887"
             ],
             [
              0.1111111111111111,
              "#46039f"
             ],
             [
              0.2222222222222222,
              "#7201a8"
             ],
             [
              0.3333333333333333,
              "#9c179e"
             ],
             [
              0.4444444444444444,
              "#bd3786"
             ],
             [
              0.5555555555555556,
              "#d8576b"
             ],
             [
              0.6666666666666666,
              "#ed7953"
             ],
             [
              0.7777777777777778,
              "#fb9f3a"
             ],
             [
              0.8888888888888888,
              "#fdca26"
             ],
             [
              1,
              "#f0f921"
             ]
            ],
            "type": "histogram2d"
           }
          ],
          "histogram2dcontour": [
           {
            "colorbar": {
             "outlinewidth": 0,
             "ticks": ""
            },
            "colorscale": [
             [
              0,
              "#0d0887"
             ],
             [
              0.1111111111111111,
              "#46039f"
             ],
             [
              0.2222222222222222,
              "#7201a8"
             ],
             [
              0.3333333333333333,
              "#9c179e"
             ],
             [
              0.4444444444444444,
              "#bd3786"
             ],
             [
              0.5555555555555556,
              "#d8576b"
             ],
             [
              0.6666666666666666,
              "#ed7953"
             ],
             [
              0.7777777777777778,
              "#fb9f3a"
             ],
             [
              0.8888888888888888,
              "#fdca26"
             ],
             [
              1,
              "#f0f921"
             ]
            ],
            "type": "histogram2dcontour"
           }
          ],
          "mesh3d": [
           {
            "colorbar": {
             "outlinewidth": 0,
             "ticks": ""
            },
            "type": "mesh3d"
           }
          ],
          "parcoords": [
           {
            "line": {
             "colorbar": {
              "outlinewidth": 0,
              "ticks": ""
             }
            },
            "type": "parcoords"
           }
          ],
          "pie": [
           {
            "automargin": true,
            "type": "pie"
           }
          ],
          "scatter": [
           {
            "fillpattern": {
             "fillmode": "overlay",
             "size": 10,
             "solidity": 0.2
            },
            "type": "scatter"
           }
          ],
          "scatter3d": [
           {
            "line": {
             "colorbar": {
              "outlinewidth": 0,
              "ticks": ""
             }
            },
            "marker": {
             "colorbar": {
              "outlinewidth": 0,
              "ticks": ""
             }
            },
            "type": "scatter3d"
           }
          ],
          "scattercarpet": [
           {
            "marker": {
             "colorbar": {
              "outlinewidth": 0,
              "ticks": ""
             }
            },
            "type": "scattercarpet"
           }
          ],
          "scattergeo": [
           {
            "marker": {
             "colorbar": {
              "outlinewidth": 0,
              "ticks": ""
             }
            },
            "type": "scattergeo"
           }
          ],
          "scattergl": [
           {
            "marker": {
             "colorbar": {
              "outlinewidth": 0,
              "ticks": ""
             }
            },
            "type": "scattergl"
           }
          ],
          "scattermap": [
           {
            "marker": {
             "colorbar": {
              "outlinewidth": 0,
              "ticks": ""
             }
            },
            "type": "scattermap"
           }
          ],
          "scattermapbox": [
           {
            "marker": {
             "colorbar": {
              "outlinewidth": 0,
              "ticks": ""
             }
            },
            "type": "scattermapbox"
           }
          ],
          "scatterpolar": [
           {
            "marker": {
             "colorbar": {
              "outlinewidth": 0,
              "ticks": ""
             }
            },
            "type": "scatterpolar"
           }
          ],
          "scatterpolargl": [
           {
            "marker": {
             "colorbar": {
              "outlinewidth": 0,
              "ticks": ""
             }
            },
            "type": "scatterpolargl"
           }
          ],
          "scatterternary": [
           {
            "marker": {
             "colorbar": {
              "outlinewidth": 0,
              "ticks": ""
             }
            },
            "type": "scatterternary"
           }
          ],
          "surface": [
           {
            "colorbar": {
             "outlinewidth": 0,
             "ticks": ""
            },
            "colorscale": [
             [
              0,
              "#0d0887"
             ],
             [
              0.1111111111111111,
              "#46039f"
             ],
             [
              0.2222222222222222,
              "#7201a8"
             ],
             [
              0.3333333333333333,
              "#9c179e"
             ],
             [
              0.4444444444444444,
              "#bd3786"
             ],
             [
              0.5555555555555556,
              "#d8576b"
             ],
             [
              0.6666666666666666,
              "#ed7953"
             ],
             [
              0.7777777777777778,
              "#fb9f3a"
             ],
             [
              0.8888888888888888,
              "#fdca26"
             ],
             [
              1,
              "#f0f921"
             ]
            ],
            "type": "surface"
           }
          ],
          "table": [
           {
            "cells": {
             "fill": {
              "color": "#EBF0F8"
             },
             "line": {
              "color": "white"
             }
            },
            "header": {
             "fill": {
              "color": "#C8D4E3"
             },
             "line": {
              "color": "white"
             }
            },
            "type": "table"
           }
          ]
         },
         "layout": {
          "annotationdefaults": {
           "arrowcolor": "#2a3f5f",
           "arrowhead": 0,
           "arrowwidth": 1
          },
          "autotypenumbers": "strict",
          "coloraxis": {
           "colorbar": {
            "outlinewidth": 0,
            "ticks": ""
           }
          },
          "colorscale": {
           "diverging": [
            [
             0,
             "#8e0152"
            ],
            [
             0.1,
             "#c51b7d"
            ],
            [
             0.2,
             "#de77ae"
            ],
            [
             0.3,
             "#f1b6da"
            ],
            [
             0.4,
             "#fde0ef"
            ],
            [
             0.5,
             "#f7f7f7"
            ],
            [
             0.6,
             "#e6f5d0"
            ],
            [
             0.7,
             "#b8e186"
            ],
            [
             0.8,
             "#7fbc41"
            ],
            [
             0.9,
             "#4d9221"
            ],
            [
             1,
             "#276419"
            ]
           ],
           "sequential": [
            [
             0,
             "#0d0887"
            ],
            [
             0.1111111111111111,
             "#46039f"
            ],
            [
             0.2222222222222222,
             "#7201a8"
            ],
            [
             0.3333333333333333,
             "#9c179e"
            ],
            [
             0.4444444444444444,
             "#bd3786"
            ],
            [
             0.5555555555555556,
             "#d8576b"
            ],
            [
             0.6666666666666666,
             "#ed7953"
            ],
            [
             0.7777777777777778,
             "#fb9f3a"
            ],
            [
             0.8888888888888888,
             "#fdca26"
            ],
            [
             1,
             "#f0f921"
            ]
           ],
           "sequentialminus": [
            [
             0,
             "#0d0887"
            ],
            [
             0.1111111111111111,
             "#46039f"
            ],
            [
             0.2222222222222222,
             "#7201a8"
            ],
            [
             0.3333333333333333,
             "#9c179e"
            ],
            [
             0.4444444444444444,
             "#bd3786"
            ],
            [
             0.5555555555555556,
             "#d8576b"
            ],
            [
             0.6666666666666666,
             "#ed7953"
            ],
            [
             0.7777777777777778,
             "#fb9f3a"
            ],
            [
             0.8888888888888888,
             "#fdca26"
            ],
            [
             1,
             "#f0f921"
            ]
           ]
          },
          "colorway": [
           "#636efa",
           "#EF553B",
           "#00cc96",
           "#ab63fa",
           "#FFA15A",
           "#19d3f3",
           "#FF6692",
           "#B6E880",
           "#FF97FF",
           "#FECB52"
          ],
          "font": {
           "color": "#2a3f5f"
          },
          "geo": {
           "bgcolor": "white",
           "lakecolor": "white",
           "landcolor": "#E5ECF6",
           "showlakes": true,
           "showland": true,
           "subunitcolor": "white"
          },
          "hoverlabel": {
           "align": "left"
          },
          "hovermode": "closest",
          "mapbox": {
           "style": "light"
          },
          "paper_bgcolor": "white",
          "plot_bgcolor": "#E5ECF6",
          "polar": {
           "angularaxis": {
            "gridcolor": "white",
            "linecolor": "white",
            "ticks": ""
           },
           "bgcolor": "#E5ECF6",
           "radialaxis": {
            "gridcolor": "white",
            "linecolor": "white",
            "ticks": ""
           }
          },
          "scene": {
           "xaxis": {
            "backgroundcolor": "#E5ECF6",
            "gridcolor": "white",
            "gridwidth": 2,
            "linecolor": "white",
            "showbackground": true,
            "ticks": "",
            "zerolinecolor": "white"
           },
           "yaxis": {
            "backgroundcolor": "#E5ECF6",
            "gridcolor": "white",
            "gridwidth": 2,
            "linecolor": "white",
            "showbackground": true,
            "ticks": "",
            "zerolinecolor": "white"
           },
           "zaxis": {
            "backgroundcolor": "#E5ECF6",
            "gridcolor": "white",
            "gridwidth": 2,
            "linecolor": "white",
            "showbackground": true,
            "ticks": "",
            "zerolinecolor": "white"
           }
          },
          "shapedefaults": {
           "line": {
            "color": "#2a3f5f"
           }
          },
          "ternary": {
           "aaxis": {
            "gridcolor": "white",
            "linecolor": "white",
            "ticks": ""
           },
           "baxis": {
            "gridcolor": "white",
            "linecolor": "white",
            "ticks": ""
           },
           "bgcolor": "#E5ECF6",
           "caxis": {
            "gridcolor": "white",
            "linecolor": "white",
            "ticks": ""
           }
          },
          "title": {
           "x": 0.05
          },
          "xaxis": {
           "automargin": true,
           "gridcolor": "white",
           "linecolor": "white",
           "ticks": "",
           "title": {
            "standoff": 15
           },
           "zerolinecolor": "white",
           "zerolinewidth": 2
          },
          "yaxis": {
           "automargin": true,
           "gridcolor": "white",
           "linecolor": "white",
           "ticks": "",
           "title": {
            "standoff": 15
           },
           "zerolinecolor": "white",
           "zerolinewidth": 2
          }
         }
        },
        "title": {
         "text": "Random Forest Feature Importance"
        },
        "width": 1000,
        "xaxis": {
         "anchor": "y",
         "domain": [
          0,
          1
         ],
         "tickangle": -45,
         "title": {
          "text": "Feature"
         }
        },
        "yaxis": {
         "anchor": "x",
         "domain": [
          0,
          1
         ],
         "title": {
          "text": "Importance"
         }
        }
       }
      }
     },
     "metadata": {},
     "output_type": "display_data"
    }
   ],
   "source": [
    "# Plotly Express yordamida Random Forest feature importance'ni grafik ko'rinishida chiqaramiz\n",
    "fig = px.bar(\n",
    "    feat_df,                # Ma'lumot manbasi – feat_df jadvali\n",
    "    x='Feature',            # X o‘qi – ustun (feature) nomlari\n",
    "    y='Importance',         # Y o‘qi – feature importance qiymatlari\n",
    "    color='Top25%',         # Ranglash – 'Top25%' ustuni bo‘yicha ('Yes' = muhim, 'No' = kamroq muhim)\n",
    "    color_discrete_map={'Yes': 'red', 'No': 'blue'},  # Rang sozlamasi: Yes = qizil, No = ko‘k\n",
    "    text='Importance',      # Har bir ustunning ustiga importance qiymatini yozib qo‘yish\n",
    "    title='Random Forest Feature Importance'  # Grafik sarlavhasi\n",
    ")\n",
    "\n",
    "# Grafikning umumiy ko‘rinishini sozlash\n",
    "fig.update_layout(\n",
    "    xaxis_tickangle=-45,  # X o‘qi yozuvlarini 45° ga buramiz (uzun nomlar chiroyli ko‘rinsin)\n",
    "    width=1000,           # Grafikning eni\n",
    "    height=600            # Grafikning bo‘yi\n",
    ")\n",
    "\n",
    "# Grafikni interaktiv tarzda ko‘rsatamiz\n",
    "fig.show()\n"
   ]
  },
  {
   "cell_type": "code",
   "execution_count": 25,
   "id": "a002c005",
   "metadata": {},
   "outputs": [],
   "source": [
    "# Recursev Feature Elimination\n",
    "from sklearn.feature_selection import RFE\n",
    "from sklearn.linear_model import LinearRegression\n",
    "\n",
    "X = df.drop('Sales_Classification', axis=1)\n",
    "y = df['Sales_Classification']\n"
   ]
  },
  {
   "cell_type": "code",
   "execution_count": 26,
   "id": "fde2a5ff",
   "metadata": {},
   "outputs": [
    {
     "name": "stdout",
     "output_type": "stream",
     "text": [
      "Selected features: Index(['Year', 'Mileage_KM', 'Price_USD', 'Sales_Volume', 'Region_Africa',\n",
      "       'Region_Middle East', 'Region_North America', 'Color_Grey', 'Color_Red',\n",
      "       'Fuel_Type_Petrol'],\n",
      "      dtype='object')\n"
     ]
    }
   ],
   "source": [
    "model = LinearRegression()\n",
    "rfe = RFE(model, n_features_to_select=10)\n",
    "rfe.fit(X, y)\n",
    "\n",
    "selected_features = X.columns[rfe.support_]\n",
    "print(\"Selected features:\", selected_features)"
   ]
  },
  {
   "cell_type": "code",
   "execution_count": 27,
   "id": "8a82887a",
   "metadata": {},
   "outputs": [],
   "source": [
    "from sklearn.linear_model import LassoCV\n",
    "X = df.drop('Sales_Classification', axis=1)\n",
    "y = df['Sales_Classification']\n",
    "lasso = LassoCV(cv=10, random_state=42).fit(X, y)\n",
    "importance = np.abs(lasso.coef_)"
   ]
  },
  {
   "cell_type": "code",
   "execution_count": 28,
   "id": "61878842",
   "metadata": {},
   "outputs": [
    {
     "name": "stdout",
     "output_type": "stream",
     "text": [
      "Selected features using Lasso (non-zero coefficients):\n",
      "['Sales_Volume']\n"
     ]
    }
   ],
   "source": [
    "selected_features = X.columns[importance > 0]\n",
    "\n",
    "print(\"Selected features using Lasso (non-zero coefficients):\")\n",
    "print(selected_features.tolist())"
   ]
  },
  {
   "cell_type": "code",
   "execution_count": 29,
   "id": "08474c3f",
   "metadata": {},
   "outputs": [
    {
     "name": "stdout",
     "output_type": "stream",
     "text": [
      "\n",
      "Top 25% important features based on Lasso coefficients:\n",
      "['Model', 'Year', 'Engine_Size_L', 'Mileage_KM', 'Price_USD', 'Sales_Volume', 'Region_Africa', 'Region_Asia', 'Region_Europe', 'Region_Middle East', 'Region_North America', 'Region_South America', 'Color_Black', 'Color_Blue', 'Color_Grey', 'Color_Red', 'Color_Silver', 'Color_White', 'Fuel_Type_Diesel', 'Fuel_Type_Electric', 'Fuel_Type_Hybrid', 'Fuel_Type_Petrol', 'Transmission_Automatic', 'Transmission_Manual']\n"
     ]
    }
   ],
   "source": [
    "percentile_threshold = np.percentile(importance, 75)  # top 25% features\n",
    "top_features = X.columns[importance >= percentile_threshold]\n",
    "\n",
    "print(\"\\nTop 25% important features based on Lasso coefficients:\")\n",
    "print(top_features.tolist())"
   ]
  },
  {
   "cell_type": "code",
   "execution_count": 30,
   "id": "449b322e",
   "metadata": {},
   "outputs": [
    {
     "data": {
      "application/vnd.plotly.v1+json": {
       "config": {
        "plotlyServerURL": "https://plot.ly"
       },
       "data": [
        {
         "hovertemplate": "Top25%=Yes<br>Feature=%{x}<br>Importance=%{text}<extra></extra>",
         "legendgroup": "Yes",
         "marker": {
          "color": "red",
          "pattern": {
           "shape": ""
          }
         },
         "name": "Yes",
         "orientation": "v",
         "showlegend": true,
         "text": {
          "bdata": "AAAAAAAA8D8AAAAAAAAAAAAAAAAAAAAAAAAAAAAAAAAAAAAAAAAAAAAAAAAAAAAAAAAAAAAAAAAAAAAAAAAAAAAAAAAAAAAAAAAAAAAAAAAAAAAAAAAAAAAAAAAAAAAAAAAAAAAAAAAAAAAAAAAAAAAAAAAAAAAAAAAAAAAAAAAAAAAAAAAAAAAAAAAAAAAAAAAAAAAAAAAAAAAAAAAAAAAAAAAAAAAAAAAAAAAAAAAAAAAAAAAAAAAAAAAAAAAA",
          "dtype": "f8"
         },
         "textposition": "auto",
         "type": "bar",
         "x": [
          "Sales_Volume",
          "Model",
          "Engine_Size_L",
          "Year",
          "Mileage_KM",
          "Price_USD",
          "Region_Africa",
          "Region_Asia",
          "Region_Europe",
          "Region_Middle East",
          "Region_North America",
          "Region_South America",
          "Color_Black",
          "Color_Blue",
          "Color_Grey",
          "Color_Red",
          "Color_Silver",
          "Color_White",
          "Fuel_Type_Diesel",
          "Fuel_Type_Electric",
          "Fuel_Type_Hybrid",
          "Fuel_Type_Petrol",
          "Transmission_Automatic",
          "Transmission_Manual"
         ],
         "xaxis": "x",
         "y": {
          "bdata": "AAAAAAAA8D8AAAAAAAAAAAAAAAAAAAAAAAAAAAAAAAAAAAAAAAAAAAAAAAAAAAAAAAAAAAAAAAAAAAAAAAAAAAAAAAAAAAAAAAAAAAAAAAAAAAAAAAAAAAAAAAAAAAAAAAAAAAAAAAAAAAAAAAAAAAAAAAAAAAAAAAAAAAAAAAAAAAAAAAAAAAAAAAAAAAAAAAAAAAAAAAAAAAAAAAAAAAAAAAAAAAAAAAAAAAAAAAAAAAAAAAAAAAAAAAAAAAAA",
          "dtype": "f8"
         },
         "yaxis": "y"
        }
       ],
       "layout": {
        "barmode": "relative",
        "height": 600,
        "legend": {
         "title": {
          "text": "Top25%"
         },
         "tracegroupgap": 0
        },
        "template": {
         "data": {
          "bar": [
           {
            "error_x": {
             "color": "#2a3f5f"
            },
            "error_y": {
             "color": "#2a3f5f"
            },
            "marker": {
             "line": {
              "color": "#E5ECF6",
              "width": 0.5
             },
             "pattern": {
              "fillmode": "overlay",
              "size": 10,
              "solidity": 0.2
             }
            },
            "type": "bar"
           }
          ],
          "barpolar": [
           {
            "marker": {
             "line": {
              "color": "#E5ECF6",
              "width": 0.5
             },
             "pattern": {
              "fillmode": "overlay",
              "size": 10,
              "solidity": 0.2
             }
            },
            "type": "barpolar"
           }
          ],
          "carpet": [
           {
            "aaxis": {
             "endlinecolor": "#2a3f5f",
             "gridcolor": "white",
             "linecolor": "white",
             "minorgridcolor": "white",
             "startlinecolor": "#2a3f5f"
            },
            "baxis": {
             "endlinecolor": "#2a3f5f",
             "gridcolor": "white",
             "linecolor": "white",
             "minorgridcolor": "white",
             "startlinecolor": "#2a3f5f"
            },
            "type": "carpet"
           }
          ],
          "choropleth": [
           {
            "colorbar": {
             "outlinewidth": 0,
             "ticks": ""
            },
            "type": "choropleth"
           }
          ],
          "contour": [
           {
            "colorbar": {
             "outlinewidth": 0,
             "ticks": ""
            },
            "colorscale": [
             [
              0,
              "#0d0887"
             ],
             [
              0.1111111111111111,
              "#46039f"
             ],
             [
              0.2222222222222222,
              "#7201a8"
             ],
             [
              0.3333333333333333,
              "#9c179e"
             ],
             [
              0.4444444444444444,
              "#bd3786"
             ],
             [
              0.5555555555555556,
              "#d8576b"
             ],
             [
              0.6666666666666666,
              "#ed7953"
             ],
             [
              0.7777777777777778,
              "#fb9f3a"
             ],
             [
              0.8888888888888888,
              "#fdca26"
             ],
             [
              1,
              "#f0f921"
             ]
            ],
            "type": "contour"
           }
          ],
          "contourcarpet": [
           {
            "colorbar": {
             "outlinewidth": 0,
             "ticks": ""
            },
            "type": "contourcarpet"
           }
          ],
          "heatmap": [
           {
            "colorbar": {
             "outlinewidth": 0,
             "ticks": ""
            },
            "colorscale": [
             [
              0,
              "#0d0887"
             ],
             [
              0.1111111111111111,
              "#46039f"
             ],
             [
              0.2222222222222222,
              "#7201a8"
             ],
             [
              0.3333333333333333,
              "#9c179e"
             ],
             [
              0.4444444444444444,
              "#bd3786"
             ],
             [
              0.5555555555555556,
              "#d8576b"
             ],
             [
              0.6666666666666666,
              "#ed7953"
             ],
             [
              0.7777777777777778,
              "#fb9f3a"
             ],
             [
              0.8888888888888888,
              "#fdca26"
             ],
             [
              1,
              "#f0f921"
             ]
            ],
            "type": "heatmap"
           }
          ],
          "histogram": [
           {
            "marker": {
             "pattern": {
              "fillmode": "overlay",
              "size": 10,
              "solidity": 0.2
             }
            },
            "type": "histogram"
           }
          ],
          "histogram2d": [
           {
            "colorbar": {
             "outlinewidth": 0,
             "ticks": ""
            },
            "colorscale": [
             [
              0,
              "#0d0887"
             ],
             [
              0.1111111111111111,
              "#46039f"
             ],
             [
              0.2222222222222222,
              "#7201a8"
             ],
             [
              0.3333333333333333,
              "#9c179e"
             ],
             [
              0.4444444444444444,
              "#bd3786"
             ],
             [
              0.5555555555555556,
              "#d8576b"
             ],
             [
              0.6666666666666666,
              "#ed7953"
             ],
             [
              0.7777777777777778,
              "#fb9f3a"
             ],
             [
              0.8888888888888888,
              "#fdca26"
             ],
             [
              1,
              "#f0f921"
             ]
            ],
            "type": "histogram2d"
           }
          ],
          "histogram2dcontour": [
           {
            "colorbar": {
             "outlinewidth": 0,
             "ticks": ""
            },
            "colorscale": [
             [
              0,
              "#0d0887"
             ],
             [
              0.1111111111111111,
              "#46039f"
             ],
             [
              0.2222222222222222,
              "#7201a8"
             ],
             [
              0.3333333333333333,
              "#9c179e"
             ],
             [
              0.4444444444444444,
              "#bd3786"
             ],
             [
              0.5555555555555556,
              "#d8576b"
             ],
             [
              0.6666666666666666,
              "#ed7953"
             ],
             [
              0.7777777777777778,
              "#fb9f3a"
             ],
             [
              0.8888888888888888,
              "#fdca26"
             ],
             [
              1,
              "#f0f921"
             ]
            ],
            "type": "histogram2dcontour"
           }
          ],
          "mesh3d": [
           {
            "colorbar": {
             "outlinewidth": 0,
             "ticks": ""
            },
            "type": "mesh3d"
           }
          ],
          "parcoords": [
           {
            "line": {
             "colorbar": {
              "outlinewidth": 0,
              "ticks": ""
             }
            },
            "type": "parcoords"
           }
          ],
          "pie": [
           {
            "automargin": true,
            "type": "pie"
           }
          ],
          "scatter": [
           {
            "fillpattern": {
             "fillmode": "overlay",
             "size": 10,
             "solidity": 0.2
            },
            "type": "scatter"
           }
          ],
          "scatter3d": [
           {
            "line": {
             "colorbar": {
              "outlinewidth": 0,
              "ticks": ""
             }
            },
            "marker": {
             "colorbar": {
              "outlinewidth": 0,
              "ticks": ""
             }
            },
            "type": "scatter3d"
           }
          ],
          "scattercarpet": [
           {
            "marker": {
             "colorbar": {
              "outlinewidth": 0,
              "ticks": ""
             }
            },
            "type": "scattercarpet"
           }
          ],
          "scattergeo": [
           {
            "marker": {
             "colorbar": {
              "outlinewidth": 0,
              "ticks": ""
             }
            },
            "type": "scattergeo"
           }
          ],
          "scattergl": [
           {
            "marker": {
             "colorbar": {
              "outlinewidth": 0,
              "ticks": ""
             }
            },
            "type": "scattergl"
           }
          ],
          "scattermap": [
           {
            "marker": {
             "colorbar": {
              "outlinewidth": 0,
              "ticks": ""
             }
            },
            "type": "scattermap"
           }
          ],
          "scattermapbox": [
           {
            "marker": {
             "colorbar": {
              "outlinewidth": 0,
              "ticks": ""
             }
            },
            "type": "scattermapbox"
           }
          ],
          "scatterpolar": [
           {
            "marker": {
             "colorbar": {
              "outlinewidth": 0,
              "ticks": ""
             }
            },
            "type": "scatterpolar"
           }
          ],
          "scatterpolargl": [
           {
            "marker": {
             "colorbar": {
              "outlinewidth": 0,
              "ticks": ""
             }
            },
            "type": "scatterpolargl"
           }
          ],
          "scatterternary": [
           {
            "marker": {
             "colorbar": {
              "outlinewidth": 0,
              "ticks": ""
             }
            },
            "type": "scatterternary"
           }
          ],
          "surface": [
           {
            "colorbar": {
             "outlinewidth": 0,
             "ticks": ""
            },
            "colorscale": [
             [
              0,
              "#0d0887"
             ],
             [
              0.1111111111111111,
              "#46039f"
             ],
             [
              0.2222222222222222,
              "#7201a8"
             ],
             [
              0.3333333333333333,
              "#9c179e"
             ],
             [
              0.4444444444444444,
              "#bd3786"
             ],
             [
              0.5555555555555556,
              "#d8576b"
             ],
             [
              0.6666666666666666,
              "#ed7953"
             ],
             [
              0.7777777777777778,
              "#fb9f3a"
             ],
             [
              0.8888888888888888,
              "#fdca26"
             ],
             [
              1,
              "#f0f921"
             ]
            ],
            "type": "surface"
           }
          ],
          "table": [
           {
            "cells": {
             "fill": {
              "color": "#EBF0F8"
             },
             "line": {
              "color": "white"
             }
            },
            "header": {
             "fill": {
              "color": "#C8D4E3"
             },
             "line": {
              "color": "white"
             }
            },
            "type": "table"
           }
          ]
         },
         "layout": {
          "annotationdefaults": {
           "arrowcolor": "#2a3f5f",
           "arrowhead": 0,
           "arrowwidth": 1
          },
          "autotypenumbers": "strict",
          "coloraxis": {
           "colorbar": {
            "outlinewidth": 0,
            "ticks": ""
           }
          },
          "colorscale": {
           "diverging": [
            [
             0,
             "#8e0152"
            ],
            [
             0.1,
             "#c51b7d"
            ],
            [
             0.2,
             "#de77ae"
            ],
            [
             0.3,
             "#f1b6da"
            ],
            [
             0.4,
             "#fde0ef"
            ],
            [
             0.5,
             "#f7f7f7"
            ],
            [
             0.6,
             "#e6f5d0"
            ],
            [
             0.7,
             "#b8e186"
            ],
            [
             0.8,
             "#7fbc41"
            ],
            [
             0.9,
             "#4d9221"
            ],
            [
             1,
             "#276419"
            ]
           ],
           "sequential": [
            [
             0,
             "#0d0887"
            ],
            [
             0.1111111111111111,
             "#46039f"
            ],
            [
             0.2222222222222222,
             "#7201a8"
            ],
            [
             0.3333333333333333,
             "#9c179e"
            ],
            [
             0.4444444444444444,
             "#bd3786"
            ],
            [
             0.5555555555555556,
             "#d8576b"
            ],
            [
             0.6666666666666666,
             "#ed7953"
            ],
            [
             0.7777777777777778,
             "#fb9f3a"
            ],
            [
             0.8888888888888888,
             "#fdca26"
            ],
            [
             1,
             "#f0f921"
            ]
           ],
           "sequentialminus": [
            [
             0,
             "#0d0887"
            ],
            [
             0.1111111111111111,
             "#46039f"
            ],
            [
             0.2222222222222222,
             "#7201a8"
            ],
            [
             0.3333333333333333,
             "#9c179e"
            ],
            [
             0.4444444444444444,
             "#bd3786"
            ],
            [
             0.5555555555555556,
             "#d8576b"
            ],
            [
             0.6666666666666666,
             "#ed7953"
            ],
            [
             0.7777777777777778,
             "#fb9f3a"
            ],
            [
             0.8888888888888888,
             "#fdca26"
            ],
            [
             1,
             "#f0f921"
            ]
           ]
          },
          "colorway": [
           "#636efa",
           "#EF553B",
           "#00cc96",
           "#ab63fa",
           "#FFA15A",
           "#19d3f3",
           "#FF6692",
           "#B6E880",
           "#FF97FF",
           "#FECB52"
          ],
          "font": {
           "color": "#2a3f5f"
          },
          "geo": {
           "bgcolor": "white",
           "lakecolor": "white",
           "landcolor": "#E5ECF6",
           "showlakes": true,
           "showland": true,
           "subunitcolor": "white"
          },
          "hoverlabel": {
           "align": "left"
          },
          "hovermode": "closest",
          "mapbox": {
           "style": "light"
          },
          "paper_bgcolor": "white",
          "plot_bgcolor": "#E5ECF6",
          "polar": {
           "angularaxis": {
            "gridcolor": "white",
            "linecolor": "white",
            "ticks": ""
           },
           "bgcolor": "#E5ECF6",
           "radialaxis": {
            "gridcolor": "white",
            "linecolor": "white",
            "ticks": ""
           }
          },
          "scene": {
           "xaxis": {
            "backgroundcolor": "#E5ECF6",
            "gridcolor": "white",
            "gridwidth": 2,
            "linecolor": "white",
            "showbackground": true,
            "ticks": "",
            "zerolinecolor": "white"
           },
           "yaxis": {
            "backgroundcolor": "#E5ECF6",
            "gridcolor": "white",
            "gridwidth": 2,
            "linecolor": "white",
            "showbackground": true,
            "ticks": "",
            "zerolinecolor": "white"
           },
           "zaxis": {
            "backgroundcolor": "#E5ECF6",
            "gridcolor": "white",
            "gridwidth": 2,
            "linecolor": "white",
            "showbackground": true,
            "ticks": "",
            "zerolinecolor": "white"
           }
          },
          "shapedefaults": {
           "line": {
            "color": "#2a3f5f"
           }
          },
          "ternary": {
           "aaxis": {
            "gridcolor": "white",
            "linecolor": "white",
            "ticks": ""
           },
           "baxis": {
            "gridcolor": "white",
            "linecolor": "white",
            "ticks": ""
           },
           "bgcolor": "#E5ECF6",
           "caxis": {
            "gridcolor": "white",
            "linecolor": "white",
            "ticks": ""
           }
          },
          "title": {
           "x": 0.05
          },
          "xaxis": {
           "automargin": true,
           "gridcolor": "white",
           "linecolor": "white",
           "ticks": "",
           "title": {
            "standoff": 15
           },
           "zerolinecolor": "white",
           "zerolinewidth": 2
          },
          "yaxis": {
           "automargin": true,
           "gridcolor": "white",
           "linecolor": "white",
           "ticks": "",
           "title": {
            "standoff": 15
           },
           "zerolinecolor": "white",
           "zerolinewidth": 2
          }
         }
        },
        "title": {
         "text": "Lasso Feature Importance"
        },
        "width": 1000,
        "xaxis": {
         "anchor": "y",
         "domain": [
          0,
          1
         ],
         "tickangle": -45,
         "title": {
          "text": "Feature"
         }
        },
        "yaxis": {
         "anchor": "x",
         "domain": [
          0,
          1
         ],
         "title": {
          "text": "Importance"
         }
        }
       }
      }
     },
     "metadata": {},
     "output_type": "display_data"
    }
   ],
   "source": [
    "fig = px.bar(\n",
    "    feat_df,\n",
    "    x='Feature',\n",
    "    y='Importance',\n",
    "    color='Top25%',\n",
    "    color_discrete_map={'Yes': 'red', 'No': 'blue'},\n",
    "    text='Importance',\n",
    "    title='Lasso Feature Importance'\n",
    ")\n",
    "\n",
    "fig.update_layout(\n",
    "    xaxis_tickangle=-45,\n",
    "    width=1000,\n",
    "    height=600\n",
    ")\n",
    "\n",
    "fig.show()"
   ]
  },
  {
   "cell_type": "code",
   "execution_count": 31,
   "id": "388c0a00",
   "metadata": {},
   "outputs": [
    {
     "name": "stdout",
     "output_type": "stream",
     "text": [
      "Random Forest Feature Importance Table:\n",
      "                   Feature  Importance Top25%\n",
      "5             Sales_Volume         1.0    Yes\n",
      "0                    Model         0.0    Yes\n",
      "2            Engine_Size_L         0.0    Yes\n",
      "1                     Year         0.0    Yes\n",
      "3               Mileage_KM         0.0    Yes\n",
      "4                Price_USD         0.0    Yes\n",
      "6            Region_Africa         0.0    Yes\n",
      "7              Region_Asia         0.0    Yes\n",
      "8            Region_Europe         0.0    Yes\n",
      "9       Region_Middle East         0.0    Yes\n",
      "10    Region_North America         0.0    Yes\n",
      "11    Region_South America         0.0    Yes\n",
      "12             Color_Black         0.0    Yes\n",
      "13              Color_Blue         0.0    Yes\n",
      "14              Color_Grey         0.0    Yes\n",
      "15               Color_Red         0.0    Yes\n",
      "16            Color_Silver         0.0    Yes\n",
      "17             Color_White         0.0    Yes\n",
      "18        Fuel_Type_Diesel         0.0    Yes\n",
      "19      Fuel_Type_Electric         0.0    Yes\n",
      "20        Fuel_Type_Hybrid         0.0    Yes\n",
      "21        Fuel_Type_Petrol         0.0    Yes\n",
      "22  Transmission_Automatic         0.0    Yes\n",
      "23     Transmission_Manual         0.0    Yes\n"
     ]
    }
   ],
   "source": [
    "# Tree based(Random Forest)\n",
    "from sklearn.ensemble import RandomForestRegressor\n",
    "rf = RandomForestRegressor(n_estimators=500, random_state=42)\n",
    "rf.fit(X, y)\n",
    "importances = rf.feature_importances_\n",
    "\n",
    "# Create a DataFrame for feature importance\n",
    "feat_df = pd.DataFrame({\n",
    "    'Feature': X.columns,\n",
    "    'Importance': importances\n",
    "})\n",
    "feat_df = feat_df.sort_values(by='Importance', ascending=False)\n",
    "\n",
    "# Mark top 25% most important features\n",
    "percentile_threshold = np.percentile(importances, 50)\n",
    "feat_df['Top25%'] = np.where(feat_df['Importance'] >= percentile_threshold, 'Yes', 'No')\n",
    "\n",
    "# Show table\n",
    "print(\"Random Forest Feature Importance Table:\")\n",
    "print(feat_df)"
   ]
  },
  {
   "cell_type": "code",
   "execution_count": 32,
   "id": "fa66bcb9",
   "metadata": {},
   "outputs": [
    {
     "data": {
      "text/plain": [
       "array([0., 0., 0., 0., 0., 1., 0., 0., 0., 0., 0., 0., 0., 0., 0., 0., 0.,\n",
       "       0., 0., 0., 0., 0., 0., 0.])"
      ]
     },
     "execution_count": 32,
     "metadata": {},
     "output_type": "execute_result"
    }
   ],
   "source": [
    "importances"
   ]
  },
  {
   "cell_type": "code",
   "execution_count": 33,
   "id": "3941135f",
   "metadata": {},
   "outputs": [
    {
     "data": {
      "application/vnd.plotly.v1+json": {
       "config": {
        "plotlyServerURL": "https://plot.ly"
       },
       "data": [
        {
         "hovertemplate": "Top25%=Yes<br>Feature=%{x}<br>Importance=%{text}<extra></extra>",
         "legendgroup": "Yes",
         "marker": {
          "color": "red",
          "pattern": {
           "shape": ""
          }
         },
         "name": "Yes",
         "orientation": "v",
         "showlegend": true,
         "text": {
          "bdata": "AAAAAAAA8D8AAAAAAAAAAAAAAAAAAAAAAAAAAAAAAAAAAAAAAAAAAAAAAAAAAAAAAAAAAAAAAAAAAAAAAAAAAAAAAAAAAAAAAAAAAAAAAAAAAAAAAAAAAAAAAAAAAAAAAAAAAAAAAAAAAAAAAAAAAAAAAAAAAAAAAAAAAAAAAAAAAAAAAAAAAAAAAAAAAAAAAAAAAAAAAAAAAAAAAAAAAAAAAAAAAAAAAAAAAAAAAAAAAAAAAAAAAAAAAAAAAAAA",
          "dtype": "f8"
         },
         "textposition": "auto",
         "type": "bar",
         "x": [
          "Sales_Volume",
          "Model",
          "Engine_Size_L",
          "Year",
          "Mileage_KM",
          "Price_USD",
          "Region_Africa",
          "Region_Asia",
          "Region_Europe",
          "Region_Middle East",
          "Region_North America",
          "Region_South America",
          "Color_Black",
          "Color_Blue",
          "Color_Grey",
          "Color_Red",
          "Color_Silver",
          "Color_White",
          "Fuel_Type_Diesel",
          "Fuel_Type_Electric",
          "Fuel_Type_Hybrid",
          "Fuel_Type_Petrol",
          "Transmission_Automatic",
          "Transmission_Manual"
         ],
         "xaxis": "x",
         "y": {
          "bdata": "AAAAAAAA8D8AAAAAAAAAAAAAAAAAAAAAAAAAAAAAAAAAAAAAAAAAAAAAAAAAAAAAAAAAAAAAAAAAAAAAAAAAAAAAAAAAAAAAAAAAAAAAAAAAAAAAAAAAAAAAAAAAAAAAAAAAAAAAAAAAAAAAAAAAAAAAAAAAAAAAAAAAAAAAAAAAAAAAAAAAAAAAAAAAAAAAAAAAAAAAAAAAAAAAAAAAAAAAAAAAAAAAAAAAAAAAAAAAAAAAAAAAAAAAAAAAAAAA",
          "dtype": "f8"
         },
         "yaxis": "y"
        }
       ],
       "layout": {
        "barmode": "relative",
        "height": 600,
        "legend": {
         "title": {
          "text": "Top25%"
         },
         "tracegroupgap": 0
        },
        "template": {
         "data": {
          "bar": [
           {
            "error_x": {
             "color": "#2a3f5f"
            },
            "error_y": {
             "color": "#2a3f5f"
            },
            "marker": {
             "line": {
              "color": "#E5ECF6",
              "width": 0.5
             },
             "pattern": {
              "fillmode": "overlay",
              "size": 10,
              "solidity": 0.2
             }
            },
            "type": "bar"
           }
          ],
          "barpolar": [
           {
            "marker": {
             "line": {
              "color": "#E5ECF6",
              "width": 0.5
             },
             "pattern": {
              "fillmode": "overlay",
              "size": 10,
              "solidity": 0.2
             }
            },
            "type": "barpolar"
           }
          ],
          "carpet": [
           {
            "aaxis": {
             "endlinecolor": "#2a3f5f",
             "gridcolor": "white",
             "linecolor": "white",
             "minorgridcolor": "white",
             "startlinecolor": "#2a3f5f"
            },
            "baxis": {
             "endlinecolor": "#2a3f5f",
             "gridcolor": "white",
             "linecolor": "white",
             "minorgridcolor": "white",
             "startlinecolor": "#2a3f5f"
            },
            "type": "carpet"
           }
          ],
          "choropleth": [
           {
            "colorbar": {
             "outlinewidth": 0,
             "ticks": ""
            },
            "type": "choropleth"
           }
          ],
          "contour": [
           {
            "colorbar": {
             "outlinewidth": 0,
             "ticks": ""
            },
            "colorscale": [
             [
              0,
              "#0d0887"
             ],
             [
              0.1111111111111111,
              "#46039f"
             ],
             [
              0.2222222222222222,
              "#7201a8"
             ],
             [
              0.3333333333333333,
              "#9c179e"
             ],
             [
              0.4444444444444444,
              "#bd3786"
             ],
             [
              0.5555555555555556,
              "#d8576b"
             ],
             [
              0.6666666666666666,
              "#ed7953"
             ],
             [
              0.7777777777777778,
              "#fb9f3a"
             ],
             [
              0.8888888888888888,
              "#fdca26"
             ],
             [
              1,
              "#f0f921"
             ]
            ],
            "type": "contour"
           }
          ],
          "contourcarpet": [
           {
            "colorbar": {
             "outlinewidth": 0,
             "ticks": ""
            },
            "type": "contourcarpet"
           }
          ],
          "heatmap": [
           {
            "colorbar": {
             "outlinewidth": 0,
             "ticks": ""
            },
            "colorscale": [
             [
              0,
              "#0d0887"
             ],
             [
              0.1111111111111111,
              "#46039f"
             ],
             [
              0.2222222222222222,
              "#7201a8"
             ],
             [
              0.3333333333333333,
              "#9c179e"
             ],
             [
              0.4444444444444444,
              "#bd3786"
             ],
             [
              0.5555555555555556,
              "#d8576b"
             ],
             [
              0.6666666666666666,
              "#ed7953"
             ],
             [
              0.7777777777777778,
              "#fb9f3a"
             ],
             [
              0.8888888888888888,
              "#fdca26"
             ],
             [
              1,
              "#f0f921"
             ]
            ],
            "type": "heatmap"
           }
          ],
          "histogram": [
           {
            "marker": {
             "pattern": {
              "fillmode": "overlay",
              "size": 10,
              "solidity": 0.2
             }
            },
            "type": "histogram"
           }
          ],
          "histogram2d": [
           {
            "colorbar": {
             "outlinewidth": 0,
             "ticks": ""
            },
            "colorscale": [
             [
              0,
              "#0d0887"
             ],
             [
              0.1111111111111111,
              "#46039f"
             ],
             [
              0.2222222222222222,
              "#7201a8"
             ],
             [
              0.3333333333333333,
              "#9c179e"
             ],
             [
              0.4444444444444444,
              "#bd3786"
             ],
             [
              0.5555555555555556,
              "#d8576b"
             ],
             [
              0.6666666666666666,
              "#ed7953"
             ],
             [
              0.7777777777777778,
              "#fb9f3a"
             ],
             [
              0.8888888888888888,
              "#fdca26"
             ],
             [
              1,
              "#f0f921"
             ]
            ],
            "type": "histogram2d"
           }
          ],
          "histogram2dcontour": [
           {
            "colorbar": {
             "outlinewidth": 0,
             "ticks": ""
            },
            "colorscale": [
             [
              0,
              "#0d0887"
             ],
             [
              0.1111111111111111,
              "#46039f"
             ],
             [
              0.2222222222222222,
              "#7201a8"
             ],
             [
              0.3333333333333333,
              "#9c179e"
             ],
             [
              0.4444444444444444,
              "#bd3786"
             ],
             [
              0.5555555555555556,
              "#d8576b"
             ],
             [
              0.6666666666666666,
              "#ed7953"
             ],
             [
              0.7777777777777778,
              "#fb9f3a"
             ],
             [
              0.8888888888888888,
              "#fdca26"
             ],
             [
              1,
              "#f0f921"
             ]
            ],
            "type": "histogram2dcontour"
           }
          ],
          "mesh3d": [
           {
            "colorbar": {
             "outlinewidth": 0,
             "ticks": ""
            },
            "type": "mesh3d"
           }
          ],
          "parcoords": [
           {
            "line": {
             "colorbar": {
              "outlinewidth": 0,
              "ticks": ""
             }
            },
            "type": "parcoords"
           }
          ],
          "pie": [
           {
            "automargin": true,
            "type": "pie"
           }
          ],
          "scatter": [
           {
            "fillpattern": {
             "fillmode": "overlay",
             "size": 10,
             "solidity": 0.2
            },
            "type": "scatter"
           }
          ],
          "scatter3d": [
           {
            "line": {
             "colorbar": {
              "outlinewidth": 0,
              "ticks": ""
             }
            },
            "marker": {
             "colorbar": {
              "outlinewidth": 0,
              "ticks": ""
             }
            },
            "type": "scatter3d"
           }
          ],
          "scattercarpet": [
           {
            "marker": {
             "colorbar": {
              "outlinewidth": 0,
              "ticks": ""
             }
            },
            "type": "scattercarpet"
           }
          ],
          "scattergeo": [
           {
            "marker": {
             "colorbar": {
              "outlinewidth": 0,
              "ticks": ""
             }
            },
            "type": "scattergeo"
           }
          ],
          "scattergl": [
           {
            "marker": {
             "colorbar": {
              "outlinewidth": 0,
              "ticks": ""
             }
            },
            "type": "scattergl"
           }
          ],
          "scattermap": [
           {
            "marker": {
             "colorbar": {
              "outlinewidth": 0,
              "ticks": ""
             }
            },
            "type": "scattermap"
           }
          ],
          "scattermapbox": [
           {
            "marker": {
             "colorbar": {
              "outlinewidth": 0,
              "ticks": ""
             }
            },
            "type": "scattermapbox"
           }
          ],
          "scatterpolar": [
           {
            "marker": {
             "colorbar": {
              "outlinewidth": 0,
              "ticks": ""
             }
            },
            "type": "scatterpolar"
           }
          ],
          "scatterpolargl": [
           {
            "marker": {
             "colorbar": {
              "outlinewidth": 0,
              "ticks": ""
             }
            },
            "type": "scatterpolargl"
           }
          ],
          "scatterternary": [
           {
            "marker": {
             "colorbar": {
              "outlinewidth": 0,
              "ticks": ""
             }
            },
            "type": "scatterternary"
           }
          ],
          "surface": [
           {
            "colorbar": {
             "outlinewidth": 0,
             "ticks": ""
            },
            "colorscale": [
             [
              0,
              "#0d0887"
             ],
             [
              0.1111111111111111,
              "#46039f"
             ],
             [
              0.2222222222222222,
              "#7201a8"
             ],
             [
              0.3333333333333333,
              "#9c179e"
             ],
             [
              0.4444444444444444,
              "#bd3786"
             ],
             [
              0.5555555555555556,
              "#d8576b"
             ],
             [
              0.6666666666666666,
              "#ed7953"
             ],
             [
              0.7777777777777778,
              "#fb9f3a"
             ],
             [
              0.8888888888888888,
              "#fdca26"
             ],
             [
              1,
              "#f0f921"
             ]
            ],
            "type": "surface"
           }
          ],
          "table": [
           {
            "cells": {
             "fill": {
              "color": "#EBF0F8"
             },
             "line": {
              "color": "white"
             }
            },
            "header": {
             "fill": {
              "color": "#C8D4E3"
             },
             "line": {
              "color": "white"
             }
            },
            "type": "table"
           }
          ]
         },
         "layout": {
          "annotationdefaults": {
           "arrowcolor": "#2a3f5f",
           "arrowhead": 0,
           "arrowwidth": 1
          },
          "autotypenumbers": "strict",
          "coloraxis": {
           "colorbar": {
            "outlinewidth": 0,
            "ticks": ""
           }
          },
          "colorscale": {
           "diverging": [
            [
             0,
             "#8e0152"
            ],
            [
             0.1,
             "#c51b7d"
            ],
            [
             0.2,
             "#de77ae"
            ],
            [
             0.3,
             "#f1b6da"
            ],
            [
             0.4,
             "#fde0ef"
            ],
            [
             0.5,
             "#f7f7f7"
            ],
            [
             0.6,
             "#e6f5d0"
            ],
            [
             0.7,
             "#b8e186"
            ],
            [
             0.8,
             "#7fbc41"
            ],
            [
             0.9,
             "#4d9221"
            ],
            [
             1,
             "#276419"
            ]
           ],
           "sequential": [
            [
             0,
             "#0d0887"
            ],
            [
             0.1111111111111111,
             "#46039f"
            ],
            [
             0.2222222222222222,
             "#7201a8"
            ],
            [
             0.3333333333333333,
             "#9c179e"
            ],
            [
             0.4444444444444444,
             "#bd3786"
            ],
            [
             0.5555555555555556,
             "#d8576b"
            ],
            [
             0.6666666666666666,
             "#ed7953"
            ],
            [
             0.7777777777777778,
             "#fb9f3a"
            ],
            [
             0.8888888888888888,
             "#fdca26"
            ],
            [
             1,
             "#f0f921"
            ]
           ],
           "sequentialminus": [
            [
             0,
             "#0d0887"
            ],
            [
             0.1111111111111111,
             "#46039f"
            ],
            [
             0.2222222222222222,
             "#7201a8"
            ],
            [
             0.3333333333333333,
             "#9c179e"
            ],
            [
             0.4444444444444444,
             "#bd3786"
            ],
            [
             0.5555555555555556,
             "#d8576b"
            ],
            [
             0.6666666666666666,
             "#ed7953"
            ],
            [
             0.7777777777777778,
             "#fb9f3a"
            ],
            [
             0.8888888888888888,
             "#fdca26"
            ],
            [
             1,
             "#f0f921"
            ]
           ]
          },
          "colorway": [
           "#636efa",
           "#EF553B",
           "#00cc96",
           "#ab63fa",
           "#FFA15A",
           "#19d3f3",
           "#FF6692",
           "#B6E880",
           "#FF97FF",
           "#FECB52"
          ],
          "font": {
           "color": "#2a3f5f"
          },
          "geo": {
           "bgcolor": "white",
           "lakecolor": "white",
           "landcolor": "#E5ECF6",
           "showlakes": true,
           "showland": true,
           "subunitcolor": "white"
          },
          "hoverlabel": {
           "align": "left"
          },
          "hovermode": "closest",
          "mapbox": {
           "style": "light"
          },
          "paper_bgcolor": "white",
          "plot_bgcolor": "#E5ECF6",
          "polar": {
           "angularaxis": {
            "gridcolor": "white",
            "linecolor": "white",
            "ticks": ""
           },
           "bgcolor": "#E5ECF6",
           "radialaxis": {
            "gridcolor": "white",
            "linecolor": "white",
            "ticks": ""
           }
          },
          "scene": {
           "xaxis": {
            "backgroundcolor": "#E5ECF6",
            "gridcolor": "white",
            "gridwidth": 2,
            "linecolor": "white",
            "showbackground": true,
            "ticks": "",
            "zerolinecolor": "white"
           },
           "yaxis": {
            "backgroundcolor": "#E5ECF6",
            "gridcolor": "white",
            "gridwidth": 2,
            "linecolor": "white",
            "showbackground": true,
            "ticks": "",
            "zerolinecolor": "white"
           },
           "zaxis": {
            "backgroundcolor": "#E5ECF6",
            "gridcolor": "white",
            "gridwidth": 2,
            "linecolor": "white",
            "showbackground": true,
            "ticks": "",
            "zerolinecolor": "white"
           }
          },
          "shapedefaults": {
           "line": {
            "color": "#2a3f5f"
           }
          },
          "ternary": {
           "aaxis": {
            "gridcolor": "white",
            "linecolor": "white",
            "ticks": ""
           },
           "baxis": {
            "gridcolor": "white",
            "linecolor": "white",
            "ticks": ""
           },
           "bgcolor": "#E5ECF6",
           "caxis": {
            "gridcolor": "white",
            "linecolor": "white",
            "ticks": ""
           }
          },
          "title": {
           "x": 0.05
          },
          "xaxis": {
           "automargin": true,
           "gridcolor": "white",
           "linecolor": "white",
           "ticks": "",
           "title": {
            "standoff": 15
           },
           "zerolinecolor": "white",
           "zerolinewidth": 2
          },
          "yaxis": {
           "automargin": true,
           "gridcolor": "white",
           "linecolor": "white",
           "ticks": "",
           "title": {
            "standoff": 15
           },
           "zerolinecolor": "white",
           "zerolinewidth": 2
          }
         }
        },
        "title": {
         "text": "Random Forest Feature Importance"
        },
        "width": 1000,
        "xaxis": {
         "anchor": "y",
         "domain": [
          0,
          1
         ],
         "tickangle": -45,
         "title": {
          "text": "Feature"
         }
        },
        "yaxis": {
         "anchor": "x",
         "domain": [
          0,
          1
         ],
         "title": {
          "text": "Importance"
         }
        }
       }
      }
     },
     "metadata": {},
     "output_type": "display_data"
    }
   ],
   "source": [
    "fig = px.bar(\n",
    "    feat_df,\n",
    "    x='Feature',\n",
    "    y='Importance',\n",
    "    color='Top25%',\n",
    "    color_discrete_map={'Yes': 'red', 'No': 'blue'},\n",
    "    text='Importance',\n",
    "    title='Random Forest Feature Importance'\n",
    ")\n",
    "\n",
    "fig.update_layout(\n",
    "    xaxis_tickangle=-45,\n",
    "    width=1000,\n",
    "    height=600\n",
    ")\n",
    "\n",
    "fig.show()\n"
   ]
  },
  {
   "cell_type": "code",
   "execution_count": null,
   "id": "379c10aa",
   "metadata": {},
   "outputs": [],
   "source": []
  }
 ],
 "metadata": {
  "kernelspec": {
   "display_name": "Python 3",
   "language": "python",
   "name": "python3"
  },
  "language_info": {
   "codemirror_mode": {
    "name": "ipython",
    "version": 3
   },
   "file_extension": ".py",
   "mimetype": "text/x-python",
   "name": "python",
   "nbconvert_exporter": "python",
   "pygments_lexer": "ipython3",
   "version": "3.13.3"
  }
 },
 "nbformat": 4,
 "nbformat_minor": 5
}
