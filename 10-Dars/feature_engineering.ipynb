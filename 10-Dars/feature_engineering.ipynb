{
 "cells": [
  {
   "cell_type": "code",
   "execution_count": 1,
   "id": "95e1d2c4",
   "metadata": {},
   "outputs": [],
   "source": [
    "import pandas as pd \n",
    "df=pd.read_csv('healthcare_dataset.csv')"
   ]
  },
  {
   "cell_type": "code",
   "execution_count": 2,
   "id": "d6458896",
   "metadata": {},
   "outputs": [
    {
     "name": "stdout",
     "output_type": "stream",
     "text": [
      "<class 'pandas.core.frame.DataFrame'>\n",
      "RangeIndex: 55500 entries, 0 to 55499\n",
      "Data columns (total 15 columns):\n",
      " #   Column              Non-Null Count  Dtype  \n",
      "---  ------              --------------  -----  \n",
      " 0   Name                55500 non-null  object \n",
      " 1   Age                 55500 non-null  int64  \n",
      " 2   Gender              55500 non-null  object \n",
      " 3   Blood Type          55500 non-null  object \n",
      " 4   Medical Condition   55500 non-null  object \n",
      " 5   Date of Admission   55500 non-null  object \n",
      " 6   Doctor              55500 non-null  object \n",
      " 7   Hospital            55500 non-null  object \n",
      " 8   Insurance Provider  55500 non-null  object \n",
      " 9   Billing Amount      55500 non-null  float64\n",
      " 10  Room Number         55500 non-null  int64  \n",
      " 11  Admission Type      55500 non-null  object \n",
      " 12  Discharge Date      55500 non-null  object \n",
      " 13  Medication          55500 non-null  object \n",
      " 14  Test Results        55500 non-null  object \n",
      "dtypes: float64(1), int64(2), object(12)\n",
      "memory usage: 6.4+ MB\n"
     ]
    }
   ],
   "source": [
    "df.info()"
   ]
  },
  {
   "cell_type": "code",
   "execution_count": 21,
   "id": "3559275f",
   "metadata": {},
   "outputs": [
    {
     "data": {
      "text/html": [
       "<div>\n",
       "<style scoped>\n",
       "    .dataframe tbody tr th:only-of-type {\n",
       "        vertical-align: middle;\n",
       "    }\n",
       "\n",
       "    .dataframe tbody tr th {\n",
       "        vertical-align: top;\n",
       "    }\n",
       "\n",
       "    .dataframe thead th {\n",
       "        text-align: right;\n",
       "    }\n",
       "</style>\n",
       "<table border=\"1\" class=\"dataframe\">\n",
       "  <thead>\n",
       "    <tr style=\"text-align: right;\">\n",
       "      <th></th>\n",
       "      <th>Name</th>\n",
       "      <th>Age</th>\n",
       "      <th>Blood Type</th>\n",
       "      <th>Medical Condition</th>\n",
       "      <th>Date of Admission</th>\n",
       "      <th>Doctor</th>\n",
       "      <th>Hospital</th>\n",
       "      <th>Billing Amount</th>\n",
       "      <th>Room Number</th>\n",
       "      <th>Discharge Date</th>\n",
       "      <th>...</th>\n",
       "      <th>Admission Type_Emergency</th>\n",
       "      <th>Admission Type_Urgent</th>\n",
       "      <th>Medication_Aspirin</th>\n",
       "      <th>Medication_Ibuprofen</th>\n",
       "      <th>Medication_Lipitor</th>\n",
       "      <th>Medication_Paracetamol</th>\n",
       "      <th>Medication_Penicillin</th>\n",
       "      <th>Test Results_Abnormal</th>\n",
       "      <th>Test Results_Inconclusive</th>\n",
       "      <th>Test Results_Normal</th>\n",
       "    </tr>\n",
       "  </thead>\n",
       "  <tbody>\n",
       "    <tr>\n",
       "      <th>0</th>\n",
       "      <td>0.061371</td>\n",
       "      <td>0.223684</td>\n",
       "      <td>0.714286</td>\n",
       "      <td>0.4</td>\n",
       "      <td>0.946878</td>\n",
       "      <td>0.659693</td>\n",
       "      <td>0.750671</td>\n",
       "      <td>0.380933</td>\n",
       "      <td>0.568922</td>\n",
       "      <td>0.932615</td>\n",
       "      <td>...</td>\n",
       "      <td>0.0</td>\n",
       "      <td>1.0</td>\n",
       "      <td>0.0</td>\n",
       "      <td>0.0</td>\n",
       "      <td>0.0</td>\n",
       "      <td>1.0</td>\n",
       "      <td>0.0</td>\n",
       "      <td>0.0</td>\n",
       "      <td>0.0</td>\n",
       "      <td>1.0</td>\n",
       "    </tr>\n",
       "    <tr>\n",
       "      <th>1</th>\n",
       "      <td>0.304275</td>\n",
       "      <td>0.644737</td>\n",
       "      <td>0.000000</td>\n",
       "      <td>1.0</td>\n",
       "      <td>0.056955</td>\n",
       "      <td>0.834110</td>\n",
       "      <td>0.401555</td>\n",
       "      <td>0.650904</td>\n",
       "      <td>0.411028</td>\n",
       "      <td>0.058760</td>\n",
       "      <td>...</td>\n",
       "      <td>1.0</td>\n",
       "      <td>0.0</td>\n",
       "      <td>0.0</td>\n",
       "      <td>1.0</td>\n",
       "      <td>0.0</td>\n",
       "      <td>0.0</td>\n",
       "      <td>0.0</td>\n",
       "      <td>0.0</td>\n",
       "      <td>1.0</td>\n",
       "      <td>0.0</td>\n",
       "    </tr>\n",
       "    <tr>\n",
       "      <th>2</th>\n",
       "      <td>0.129543</td>\n",
       "      <td>0.828947</td>\n",
       "      <td>0.142857</td>\n",
       "      <td>1.0</td>\n",
       "      <td>0.675246</td>\n",
       "      <td>0.937729</td>\n",
       "      <td>0.137254</td>\n",
       "      <td>0.547053</td>\n",
       "      <td>0.260652</td>\n",
       "      <td>0.672237</td>\n",
       "      <td>...</td>\n",
       "      <td>1.0</td>\n",
       "      <td>0.0</td>\n",
       "      <td>1.0</td>\n",
       "      <td>0.0</td>\n",
       "      <td>0.0</td>\n",
       "      <td>0.0</td>\n",
       "      <td>0.0</td>\n",
       "      <td>0.0</td>\n",
       "      <td>0.0</td>\n",
       "      <td>1.0</td>\n",
       "    </tr>\n",
       "    <tr>\n",
       "      <th>3</th>\n",
       "      <td>0.538797</td>\n",
       "      <td>0.197368</td>\n",
       "      <td>0.857143</td>\n",
       "      <td>0.6</td>\n",
       "      <td>0.306681</td>\n",
       "      <td>0.558032</td>\n",
       "      <td>0.308890</td>\n",
       "      <td>0.728798</td>\n",
       "      <td>0.874687</td>\n",
       "      <td>0.317520</td>\n",
       "      <td>...</td>\n",
       "      <td>0.0</td>\n",
       "      <td>0.0</td>\n",
       "      <td>0.0</td>\n",
       "      <td>1.0</td>\n",
       "      <td>0.0</td>\n",
       "      <td>0.0</td>\n",
       "      <td>0.0</td>\n",
       "      <td>1.0</td>\n",
       "      <td>0.0</td>\n",
       "      <td>0.0</td>\n",
       "    </tr>\n",
       "    <tr>\n",
       "      <th>4</th>\n",
       "      <td>0.524914</td>\n",
       "      <td>0.394737</td>\n",
       "      <td>0.285714</td>\n",
       "      <td>0.4</td>\n",
       "      <td>0.673604</td>\n",
       "      <td>0.526996</td>\n",
       "      <td>0.842583</td>\n",
       "      <td>0.296622</td>\n",
       "      <td>0.894737</td>\n",
       "      <td>0.673315</td>\n",
       "      <td>...</td>\n",
       "      <td>0.0</td>\n",
       "      <td>1.0</td>\n",
       "      <td>0.0</td>\n",
       "      <td>0.0</td>\n",
       "      <td>0.0</td>\n",
       "      <td>0.0</td>\n",
       "      <td>1.0</td>\n",
       "      <td>1.0</td>\n",
       "      <td>0.0</td>\n",
       "      <td>0.0</td>\n",
       "    </tr>\n",
       "    <tr>\n",
       "      <th>...</th>\n",
       "      <td>...</td>\n",
       "      <td>...</td>\n",
       "      <td>...</td>\n",
       "      <td>...</td>\n",
       "      <td>...</td>\n",
       "      <td>...</td>\n",
       "      <td>...</td>\n",
       "      <td>...</td>\n",
       "      <td>...</td>\n",
       "      <td>...</td>\n",
       "      <td>...</td>\n",
       "      <td>...</td>\n",
       "      <td>...</td>\n",
       "      <td>...</td>\n",
       "      <td>...</td>\n",
       "      <td>...</td>\n",
       "      <td>...</td>\n",
       "      <td>...</td>\n",
       "      <td>...</td>\n",
       "      <td>...</td>\n",
       "      <td>...</td>\n",
       "    </tr>\n",
       "    <tr>\n",
       "      <th>55495</th>\n",
       "      <td>0.648437</td>\n",
       "      <td>0.381579</td>\n",
       "      <td>0.857143</td>\n",
       "      <td>0.2</td>\n",
       "      <td>0.255203</td>\n",
       "      <td>0.495860</td>\n",
       "      <td>0.390044</td>\n",
       "      <td>0.085064</td>\n",
       "      <td>0.791980</td>\n",
       "      <td>0.266846</td>\n",
       "      <td>...</td>\n",
       "      <td>0.0</td>\n",
       "      <td>0.0</td>\n",
       "      <td>0.0</td>\n",
       "      <td>0.0</td>\n",
       "      <td>0.0</td>\n",
       "      <td>0.0</td>\n",
       "      <td>1.0</td>\n",
       "      <td>1.0</td>\n",
       "      <td>0.0</td>\n",
       "      <td>0.0</td>\n",
       "    </tr>\n",
       "    <tr>\n",
       "      <th>55496</th>\n",
       "      <td>0.273769</td>\n",
       "      <td>0.631579</td>\n",
       "      <td>0.428571</td>\n",
       "      <td>1.0</td>\n",
       "      <td>0.142388</td>\n",
       "      <td>0.920897</td>\n",
       "      <td>0.795536</td>\n",
       "      <td>0.611002</td>\n",
       "      <td>0.538847</td>\n",
       "      <td>0.144474</td>\n",
       "      <td>...</td>\n",
       "      <td>0.0</td>\n",
       "      <td>0.0</td>\n",
       "      <td>1.0</td>\n",
       "      <td>0.0</td>\n",
       "      <td>0.0</td>\n",
       "      <td>0.0</td>\n",
       "      <td>0.0</td>\n",
       "      <td>0.0</td>\n",
       "      <td>0.0</td>\n",
       "      <td>1.0</td>\n",
       "    </tr>\n",
       "    <tr>\n",
       "      <th>55497</th>\n",
       "      <td>0.174871</td>\n",
       "      <td>0.328947</td>\n",
       "      <td>0.571429</td>\n",
       "      <td>0.8</td>\n",
       "      <td>0.236583</td>\n",
       "      <td>0.459841</td>\n",
       "      <td>0.938132</td>\n",
       "      <td>0.540949</td>\n",
       "      <td>0.616541</td>\n",
       "      <td>0.247439</td>\n",
       "      <td>...</td>\n",
       "      <td>0.0</td>\n",
       "      <td>1.0</td>\n",
       "      <td>0.0</td>\n",
       "      <td>1.0</td>\n",
       "      <td>0.0</td>\n",
       "      <td>0.0</td>\n",
       "      <td>0.0</td>\n",
       "      <td>1.0</td>\n",
       "      <td>0.0</td>\n",
       "      <td>0.0</td>\n",
       "    </tr>\n",
       "    <tr>\n",
       "      <th>55498</th>\n",
       "      <td>0.195215</td>\n",
       "      <td>0.394737</td>\n",
       "      <td>1.000000</td>\n",
       "      <td>0.0</td>\n",
       "      <td>0.009310</td>\n",
       "      <td>0.561849</td>\n",
       "      <td>0.359348</td>\n",
       "      <td>0.629137</td>\n",
       "      <td>0.551378</td>\n",
       "      <td>0.011860</td>\n",
       "      <td>...</td>\n",
       "      <td>0.0</td>\n",
       "      <td>0.0</td>\n",
       "      <td>0.0</td>\n",
       "      <td>1.0</td>\n",
       "      <td>0.0</td>\n",
       "      <td>0.0</td>\n",
       "      <td>0.0</td>\n",
       "      <td>1.0</td>\n",
       "      <td>0.0</td>\n",
       "      <td>0.0</td>\n",
       "    </tr>\n",
       "    <tr>\n",
       "      <th>55499</th>\n",
       "      <td>0.684423</td>\n",
       "      <td>0.526316</td>\n",
       "      <td>0.857143</td>\n",
       "      <td>0.0</td>\n",
       "      <td>0.980832</td>\n",
       "      <td>0.267278</td>\n",
       "      <td>0.306132</td>\n",
       "      <td>0.109884</td>\n",
       "      <td>0.869674</td>\n",
       "      <td>0.979515</td>\n",
       "      <td>...</td>\n",
       "      <td>0.0</td>\n",
       "      <td>1.0</td>\n",
       "      <td>0.0</td>\n",
       "      <td>1.0</td>\n",
       "      <td>0.0</td>\n",
       "      <td>0.0</td>\n",
       "      <td>0.0</td>\n",
       "      <td>1.0</td>\n",
       "      <td>0.0</td>\n",
       "      <td>0.0</td>\n",
       "    </tr>\n",
       "  </tbody>\n",
       "</table>\n",
       "<p>55500 rows × 28 columns</p>\n",
       "</div>"
      ],
      "text/plain": [
       "           Name       Age  Blood Type  Medical Condition  Date of Admission  \\\n",
       "0      0.061371  0.223684    0.714286                0.4           0.946878   \n",
       "1      0.304275  0.644737    0.000000                1.0           0.056955   \n",
       "2      0.129543  0.828947    0.142857                1.0           0.675246   \n",
       "3      0.538797  0.197368    0.857143                0.6           0.306681   \n",
       "4      0.524914  0.394737    0.285714                0.4           0.673604   \n",
       "...         ...       ...         ...                ...                ...   \n",
       "55495  0.648437  0.381579    0.857143                0.2           0.255203   \n",
       "55496  0.273769  0.631579    0.428571                1.0           0.142388   \n",
       "55497  0.174871  0.328947    0.571429                0.8           0.236583   \n",
       "55498  0.195215  0.394737    1.000000                0.0           0.009310   \n",
       "55499  0.684423  0.526316    0.857143                0.0           0.980832   \n",
       "\n",
       "         Doctor  Hospital  Billing Amount  Room Number  Discharge Date  ...  \\\n",
       "0      0.659693  0.750671        0.380933     0.568922        0.932615  ...   \n",
       "1      0.834110  0.401555        0.650904     0.411028        0.058760  ...   \n",
       "2      0.937729  0.137254        0.547053     0.260652        0.672237  ...   \n",
       "3      0.558032  0.308890        0.728798     0.874687        0.317520  ...   \n",
       "4      0.526996  0.842583        0.296622     0.894737        0.673315  ...   \n",
       "...         ...       ...             ...          ...             ...  ...   \n",
       "55495  0.495860  0.390044        0.085064     0.791980        0.266846  ...   \n",
       "55496  0.920897  0.795536        0.611002     0.538847        0.144474  ...   \n",
       "55497  0.459841  0.938132        0.540949     0.616541        0.247439  ...   \n",
       "55498  0.561849  0.359348        0.629137     0.551378        0.011860  ...   \n",
       "55499  0.267278  0.306132        0.109884     0.869674        0.979515  ...   \n",
       "\n",
       "       Admission Type_Emergency  Admission Type_Urgent  Medication_Aspirin  \\\n",
       "0                           0.0                    1.0                 0.0   \n",
       "1                           1.0                    0.0                 0.0   \n",
       "2                           1.0                    0.0                 1.0   \n",
       "3                           0.0                    0.0                 0.0   \n",
       "4                           0.0                    1.0                 0.0   \n",
       "...                         ...                    ...                 ...   \n",
       "55495                       0.0                    0.0                 0.0   \n",
       "55496                       0.0                    0.0                 1.0   \n",
       "55497                       0.0                    1.0                 0.0   \n",
       "55498                       0.0                    0.0                 0.0   \n",
       "55499                       0.0                    1.0                 0.0   \n",
       "\n",
       "       Medication_Ibuprofen  Medication_Lipitor  Medication_Paracetamol  \\\n",
       "0                       0.0                 0.0                     1.0   \n",
       "1                       1.0                 0.0                     0.0   \n",
       "2                       0.0                 0.0                     0.0   \n",
       "3                       1.0                 0.0                     0.0   \n",
       "4                       0.0                 0.0                     0.0   \n",
       "...                     ...                 ...                     ...   \n",
       "55495                   0.0                 0.0                     0.0   \n",
       "55496                   0.0                 0.0                     0.0   \n",
       "55497                   1.0                 0.0                     0.0   \n",
       "55498                   1.0                 0.0                     0.0   \n",
       "55499                   1.0                 0.0                     0.0   \n",
       "\n",
       "       Medication_Penicillin  Test Results_Abnormal  \\\n",
       "0                        0.0                    0.0   \n",
       "1                        0.0                    0.0   \n",
       "2                        0.0                    0.0   \n",
       "3                        0.0                    1.0   \n",
       "4                        1.0                    1.0   \n",
       "...                      ...                    ...   \n",
       "55495                    1.0                    1.0   \n",
       "55496                    0.0                    0.0   \n",
       "55497                    0.0                    1.0   \n",
       "55498                    0.0                    1.0   \n",
       "55499                    0.0                    1.0   \n",
       "\n",
       "       Test Results_Inconclusive  Test Results_Normal  \n",
       "0                            0.0                  1.0  \n",
       "1                            1.0                  0.0  \n",
       "2                            0.0                  1.0  \n",
       "3                            0.0                  0.0  \n",
       "4                            0.0                  0.0  \n",
       "...                          ...                  ...  \n",
       "55495                        0.0                  0.0  \n",
       "55496                        0.0                  1.0  \n",
       "55497                        0.0                  0.0  \n",
       "55498                        0.0                  0.0  \n",
       "55499                        0.0                  0.0  \n",
       "\n",
       "[55500 rows x 28 columns]"
      ]
     },
     "execution_count": 21,
     "metadata": {},
     "output_type": "execute_result"
    }
   ],
   "source": [
    "df"
   ]
  },
  {
   "cell_type": "markdown",
   "id": "57480c7c",
   "metadata": {},
   "source": [
    "# Classes\n"
   ]
  },
  {
   "cell_type": "code",
   "execution_count": 3,
   "id": "41157b44",
   "metadata": {},
   "outputs": [],
   "source": [
    "import pandas as pd\n",
    "import numpy as np\n",
    "from sklearn.preprocessing import LabelEncoder, MinMaxScaler\n",
    "\n",
    "class Datapreprocessing:\n",
    "    def __init__(self, df):\n",
    "        self.df = df.copy()\n",
    "    \n",
    "    # Handle missing values\n",
    "    def tozala(self):\n",
    "        for col in self.df.columns:\n",
    "            if self.df[col].isnull().any():\n",
    "                if self.df[col].dtype == 'object':\n",
    "                    self.df[col].fillna(self.df[col].mode()[0], inplace=True)\n",
    "                else:\n",
    "                    self.df[col].fillna(self.df[col].mean(), inplace=True)\n",
    "        return self\n",
    "    \n",
    "    # Encode categorical variables\n",
    "    def encodla(self):\n",
    "        encoder = LabelEncoder()\n",
    "        for col in self.df.columns:\n",
    "            if self.df[col].dtype == 'object':\n",
    "                if self.df[col].nunique() <= 5:  # few categories → OneHot\n",
    "                    dummies = pd.get_dummies(self.df[col], prefix=col, dtype=int)\n",
    "                    self.df = pd.concat([self.df.drop(columns=[col]), dummies], axis=1)\n",
    "                else:  # many categories → Label Encoding\n",
    "                    self.df[col] = encoder.fit_transform(self.df[col])\n",
    "        return self\n",
    "    \n",
    "    # Scale numeric features\n",
    "    def scale_qil(self):\n",
    "        scaler = MinMaxScaler()\n",
    "        num_cols = self.df.select_dtypes(include=['int64', 'float64']).columns.drop('xG', errors='ignore')\n",
    "        self.df[num_cols] = scaler.fit_transform(self.df[num_cols])\n",
    "        return self\n",
    "    \n",
    "    # Log transformation for skewed features\n",
    "    def log_transform(self, threshold=0.5):\n",
    "        skewness = self.df.skew()\n",
    "        features_log = skewness[(skewness >= threshold)].index.tolist()\n",
    "        \n",
    "        for col in features_log:\n",
    "            if (self.df[col] > 0).all():  # only positive values\n",
    "                self.df[col] = np.log1p(self.df[col])\n",
    "        return self\n"
   ]
  },
  {
   "cell_type": "code",
   "execution_count": 4,
   "id": "f0417411",
   "metadata": {},
   "outputs": [
    {
     "name": "stdout",
     "output_type": "stream",
     "text": [
      "       Name       Age  Blood Type  Medical Condition  Date of Admission  \\\n",
      "0  0.061371  0.223684    0.714286                0.4           0.946878   \n",
      "1  0.304275  0.644737    0.000000                1.0           0.056955   \n",
      "2  0.129543  0.828947    0.142857                1.0           0.675246   \n",
      "3  0.538797  0.197368    0.857143                0.6           0.306681   \n",
      "4  0.524914  0.394737    0.285714                0.4           0.673604   \n",
      "\n",
      "     Doctor  Hospital  Billing Amount  Room Number  Discharge Date  ...  \\\n",
      "0  0.659693  0.750671        0.380933     0.568922        0.932615  ...   \n",
      "1  0.834110  0.401555        0.650904     0.411028        0.058760  ...   \n",
      "2  0.937729  0.137254        0.547053     0.260652        0.672237  ...   \n",
      "3  0.558032  0.308890        0.728798     0.874687        0.317520  ...   \n",
      "4  0.526996  0.842583        0.296622     0.894737        0.673315  ...   \n",
      "\n",
      "   Admission Type_Emergency  Admission Type_Urgent  Medication_Aspirin  \\\n",
      "0                       0.0                    1.0                 0.0   \n",
      "1                       1.0                    0.0                 0.0   \n",
      "2                       1.0                    0.0                 1.0   \n",
      "3                       0.0                    0.0                 0.0   \n",
      "4                       0.0                    1.0                 0.0   \n",
      "\n",
      "   Medication_Ibuprofen  Medication_Lipitor  Medication_Paracetamol  \\\n",
      "0                   0.0                 0.0                     1.0   \n",
      "1                   1.0                 0.0                     0.0   \n",
      "2                   0.0                 0.0                     0.0   \n",
      "3                   1.0                 0.0                     0.0   \n",
      "4                   0.0                 0.0                     0.0   \n",
      "\n",
      "   Medication_Penicillin  Test Results_Abnormal  Test Results_Inconclusive  \\\n",
      "0                    0.0                    0.0                        0.0   \n",
      "1                    0.0                    0.0                        1.0   \n",
      "2                    0.0                    0.0                        0.0   \n",
      "3                    0.0                    1.0                        0.0   \n",
      "4                    1.0                    1.0                        0.0   \n",
      "\n",
      "   Test Results_Normal  \n",
      "0                  1.0  \n",
      "1                  0.0  \n",
      "2                  1.0  \n",
      "3                  0.0  \n",
      "4                  0.0  \n",
      "\n",
      "[5 rows x 28 columns]\n"
     ]
    }
   ],
   "source": [
    "processor = Datapreprocessing(df)\n",
    "\n",
    "df_ready = (\n",
    "    processor\n",
    "    .tozala()\n",
    "    .encodla()\n",
    "    .scale_qil()\n",
    "    .log_transform()\n",
    "    .df\n",
    ")\n",
    "\n",
    "print(df_ready.head())\n"
   ]
  },
  {
   "cell_type": "code",
   "execution_count": 5,
   "id": "b8994994",
   "metadata": {},
   "outputs": [],
   "source": [
    "df=df_ready"
   ]
  },
  {
   "cell_type": "code",
   "execution_count": 6,
   "id": "ffb3335f",
   "metadata": {},
   "outputs": [
    {
     "name": "stdout",
     "output_type": "stream",
     "text": [
      "<class 'pandas.core.frame.DataFrame'>\n",
      "RangeIndex: 55500 entries, 0 to 55499\n",
      "Data columns (total 28 columns):\n",
      " #   Column                               Non-Null Count  Dtype  \n",
      "---  ------                               --------------  -----  \n",
      " 0   Name                                 55500 non-null  float64\n",
      " 1   Age                                  55500 non-null  float64\n",
      " 2   Blood Type                           55500 non-null  float64\n",
      " 3   Medical Condition                    55500 non-null  float64\n",
      " 4   Date of Admission                    55500 non-null  float64\n",
      " 5   Doctor                               55500 non-null  float64\n",
      " 6   Hospital                             55500 non-null  float64\n",
      " 7   Billing Amount                       55500 non-null  float64\n",
      " 8   Room Number                          55500 non-null  float64\n",
      " 9   Discharge Date                       55500 non-null  float64\n",
      " 10  Gender_Female                        55500 non-null  float64\n",
      " 11  Gender_Male                          55500 non-null  float64\n",
      " 12  Insurance Provider_Aetna             55500 non-null  float64\n",
      " 13  Insurance Provider_Blue Cross        55500 non-null  float64\n",
      " 14  Insurance Provider_Cigna             55500 non-null  float64\n",
      " 15  Insurance Provider_Medicare          55500 non-null  float64\n",
      " 16  Insurance Provider_UnitedHealthcare  55500 non-null  float64\n",
      " 17  Admission Type_Elective              55500 non-null  float64\n",
      " 18  Admission Type_Emergency             55500 non-null  float64\n",
      " 19  Admission Type_Urgent                55500 non-null  float64\n",
      " 20  Medication_Aspirin                   55500 non-null  float64\n",
      " 21  Medication_Ibuprofen                 55500 non-null  float64\n",
      " 22  Medication_Lipitor                   55500 non-null  float64\n",
      " 23  Medication_Paracetamol               55500 non-null  float64\n",
      " 24  Medication_Penicillin                55500 non-null  float64\n",
      " 25  Test Results_Abnormal                55500 non-null  float64\n",
      " 26  Test Results_Inconclusive            55500 non-null  float64\n",
      " 27  Test Results_Normal                  55500 non-null  float64\n",
      "dtypes: float64(28)\n",
      "memory usage: 11.9 MB\n"
     ]
    }
   ],
   "source": [
    "df.info()"
   ]
  },
  {
   "cell_type": "markdown",
   "id": "6d61ca7b",
   "metadata": {},
   "source": [
    "# Filter Methods"
   ]
  },
  {
   "cell_type": "code",
   "execution_count": null,
   "id": "69593658",
   "metadata": {},
   "outputs": [
    {
     "name": "stdout",
     "output_type": "stream",
     "text": [
      "\n",
      "Original shape: (55500, 28)\n",
      "Shape after dropping correlated features: (55500, 26)\n"
     ]
    }
   ],
   "source": [
    "# Correlation\n",
    "import numpy as np   # Numpy kutubxonasini import qilamiz (matematik amallar uchun kerak bo‘ladi)\n",
    "\n",
    "# Korrelatsiya matritsasini hisoblash va modul qiymatini olish\n",
    "corr_matrix = df.corr().abs()  \n",
    "# df.corr() → DataFrame ustunlari orasidagi korrelatsiyani (Pearson) hisoblaydi\n",
    "# .abs() → manfiy qiymatlarni ham musbatga aylantiradi (faqat bog‘lanish kuchi kerak bo‘ladi)\n",
    "\n",
    "# Korrelatsiya matritsasining yuqori uchburchagini olish (faqat ustunlar orasidagi takrorlanmagan qism kerak)\n",
    "upper = corr_matrix.where(np.triu(np.ones(corr_matrix.shape), k=1).astype(bool))  \n",
    "# np.ones(corr_matrix.shape) → korrelatsiya matritsasi o‘lchamida 1’lardan iborat matritsa hosil qiladi\n",
    "# np.triu(..., k=1) → faqat yuqori uchburchak (diagonal ustidan boshlab) qismi 1 bo‘ladi, pastki qismi 0\n",
    "# .astype(bool) → True/False ga aylantirish\n",
    "# .where(...) → yuqori uchburchak joylarida qiymatni qoldiradi, boshqa joylarni NaN qiladi\n",
    "\n",
    "# 0.8 dan katta korrelatsiyaga ega bo‘lgan ustunlarni aniqlash\n",
    "to_drop = [col for col in upper.columns if any(upper[col] > 0.8)]  \n",
    "# upper[col] > 0.8 → shu ustunning boshqa ustunlar bilan korrelatsiyasini tekshiradi\n",
    "# any(...) → agar bitta bo‘lsa ham 0.8 dan katta bo‘lsa → True\n",
    "# col → bunday ustunlar ro‘yxatiga qo‘shiladi\n",
    "# Natijada, o‘zaro yuqori korrelyatsiyaga ega bo‘lgan ustunlarning nomlari chiqadi\n",
    "\n",
    "# Yuqori korrelyatsiyaga ega ustunlarni olib tashlash\n",
    "df_filtered = df.drop(columns=to_drop)  \n",
    "# df.drop(columns=to_drop) → yuqori bog‘langan ustunlarni olib tashlagan yangi DataFrame yaratadi\n",
    "\n",
    "# Natijalarni chop qilish\n",
    "print(\"\\nOriginal shape:\", df.shape)  \n",
    "# df.shape → asl DataFrame’ning o‘lchamini (qatorlar soni, ustunlar soni) chiqaradi\n",
    "\n",
    "print(\"Shape after dropping correlated features:\", df_filtered.shape)  \n",
    "# df_filtered.shape → korrelyatsiya asosida ustunlar olib tashlangandan keyingi o‘lcham\n"
   ]
  },
  {
   "cell_type": "markdown",
   "id": "8b034eba",
   "metadata": {},
   "source": [
    "📌 Umumiy ma’nosi:\n",
    "Bu kod DataFrame’dagi ustunlar orasidagi yuqori korrelatsiyali (bog‘lanishi juda kuchli, >0.8) ustunlarni olib tashlash uchun ishlatiladi. Bu ML modelda multicollinearity (ko‘p yo‘nalishli bog‘liqlik) muammosini kamaytirishga yordam beradi."
   ]
  },
  {
   "cell_type": "code",
   "execution_count": 8,
   "id": "db296b3a",
   "metadata": {},
   "outputs": [
    {
     "name": "stdout",
     "output_type": "stream",
     "text": [
      "<class 'pandas.core.frame.DataFrame'>\n",
      "RangeIndex: 55500 entries, 0 to 55499\n",
      "Data columns (total 26 columns):\n",
      " #   Column                               Non-Null Count  Dtype  \n",
      "---  ------                               --------------  -----  \n",
      " 0   Name                                 55500 non-null  float64\n",
      " 1   Age                                  55500 non-null  float64\n",
      " 2   Blood Type                           55500 non-null  float64\n",
      " 3   Medical Condition                    55500 non-null  float64\n",
      " 4   Date of Admission                    55500 non-null  float64\n",
      " 5   Doctor                               55500 non-null  float64\n",
      " 6   Hospital                             55500 non-null  float64\n",
      " 7   Billing Amount                       55500 non-null  float64\n",
      " 8   Room Number                          55500 non-null  float64\n",
      " 9   Gender_Female                        55500 non-null  float64\n",
      " 10  Insurance Provider_Aetna             55500 non-null  float64\n",
      " 11  Insurance Provider_Blue Cross        55500 non-null  float64\n",
      " 12  Insurance Provider_Cigna             55500 non-null  float64\n",
      " 13  Insurance Provider_Medicare          55500 non-null  float64\n",
      " 14  Insurance Provider_UnitedHealthcare  55500 non-null  float64\n",
      " 15  Admission Type_Elective              55500 non-null  float64\n",
      " 16  Admission Type_Emergency             55500 non-null  float64\n",
      " 17  Admission Type_Urgent                55500 non-null  float64\n",
      " 18  Medication_Aspirin                   55500 non-null  float64\n",
      " 19  Medication_Ibuprofen                 55500 non-null  float64\n",
      " 20  Medication_Lipitor                   55500 non-null  float64\n",
      " 21  Medication_Paracetamol               55500 non-null  float64\n",
      " 22  Medication_Penicillin                55500 non-null  float64\n",
      " 23  Test Results_Abnormal                55500 non-null  float64\n",
      " 24  Test Results_Inconclusive            55500 non-null  float64\n",
      " 25  Test Results_Normal                  55500 non-null  float64\n",
      "dtypes: float64(26)\n",
      "memory usage: 11.0 MB\n"
     ]
    }
   ],
   "source": [
    "df_filtered.info()"
   ]
  },
  {
   "cell_type": "code",
   "execution_count": null,
   "id": "0f72dca9",
   "metadata": {},
   "outputs": [],
   "source": [
    "# More analysis\n",
    "import seaborn as sns                # seaborn → vizualizatsiya (chiroyli grafiklar) uchun kutubxona\n",
    "import matplotlib.pyplot as plt      # matplotlib.pyplot → grafik chizish uchun kutubxona\n",
    "\n",
    "# Korrelatsiya matritsasini hisoblash va modul qiymatini olish\n",
    "corr_matrix = df.corr().abs()  \n",
    "# df.corr() → ustunlar orasidagi korrelatsiyani hisoblaydi (Pearson default)\n",
    "# .abs() → qiymatlarni modulga aylantiradi (manfiy bo‘lsa ham musbat bo‘ladi)\n",
    "\n",
    "# Yuqori uchburchak matritsasini olish (takroriy qiymatlarni yo‘qotish uchun)\n",
    "upper = corr_matrix.where(np.triu(np.ones(corr_matrix.shape), k=1).astype(bool))  \n",
    "# np.ones(corr_matrix.shape) → korrelatsiya matritsasining o‘lchamida faqat 1’lardan iborat matritsa\n",
    "# np.triu(..., k=1) → faqat yuqori uchburchak qismi 1 bo‘ladi, pastki qismi 0\n",
    "# .astype(bool) → 1 → True, 0 → False qilib o‘zgartiradi\n",
    "# corr_matrix.where(...) → faqat True bo‘lgan joylarni qoldiradi, qolganlari NaN bo‘ladi\n",
    "# Shunday qilib, korrelatsiya matritsasining **yuqori qismi** qoladi (takroriy pastki qismini olib tashlaydi)\n",
    "\n",
    "# Kuchsiz emas, balki yuqori korrelatsiyali ustunlarni aniqlash\n",
    "to_drop = [col for col in upper.columns if any(upper[col] > 0.8)]  \n",
    "# upper[col] > 0.8 → shu ustun boshqa ustunlar bilan qanchalik bog‘langanini tekshiradi\n",
    "# any(...) → agar bitta bo‘lsa ham 0.8 dan katta korrelatsiya bo‘lsa → True\n",
    "# col → bunday ustun nomlarini list’ga qo‘shadi\n",
    "# Natijada, yuqori bog‘langan ustunlarning nomlari chiqadi\n"
   ]
  },
  {
   "cell_type": "code",
   "execution_count": null,
   "id": "e5158f54",
   "metadata": {},
   "outputs": [
    {
     "name": "stdout",
     "output_type": "stream",
     "text": [
      "                                         Name       Age  Blood Type  \\\n",
      "Name                                 1.000000  0.001327    0.001247   \n",
      "Age                                  0.001327  1.000000    0.000402   \n",
      "Blood Type                           0.001247  0.000402    1.000000   \n",
      "Medical Condition                    0.003205  0.002809    0.004616   \n",
      "Date of Admission                    0.003024  0.000367    0.000428   \n",
      "Doctor                               0.005388  0.003110    0.005388   \n",
      "Hospital                             0.003625  0.002232    0.000229   \n",
      "Billing Amount                       0.001627  0.003832    0.001152   \n",
      "Room Number                          0.001307  0.000720    0.004261   \n",
      "Discharge Date                       0.003046  0.000232    0.000460   \n",
      "Gender_Female                        0.007901  0.002002    0.000839   \n",
      "Gender_Male                          0.007901  0.002002    0.000839   \n",
      "Insurance Provider_Aetna             0.002253  0.003422    0.004144   \n",
      "Insurance Provider_Blue Cross        0.000833  0.003954    0.004169   \n",
      "Insurance Provider_Cigna             0.006126  0.002397    0.004115   \n",
      "Insurance Provider_Medicare          0.009539  0.003755    0.005962   \n",
      "Insurance Provider_UnitedHealthcare  0.004803  0.001177    0.001791   \n",
      "Admission Type_Elective              0.004297  0.004389    0.003509   \n",
      "Admission Type_Emergency             0.002456  0.000502    0.000238   \n",
      "Admission Type_Urgent                0.001856  0.003894    0.003276   \n",
      "Medication_Aspirin                   0.005159  0.007620    0.002575   \n",
      "Medication_Ibuprofen                 0.003366  0.001163    0.000332   \n",
      "Medication_Lipitor                   0.000730  0.006982    0.000304   \n",
      "Medication_Paracetamol               0.005267  0.000825    0.000109   \n",
      "Medication_Penicillin                0.004208  0.002617    0.002047   \n",
      "Test Results_Abnormal                0.009311  0.003135    0.002690   \n",
      "Test Results_Inconclusive            0.008729  0.004964    0.003965   \n",
      "Test Results_Normal                  0.000616  0.008092    0.001262   \n",
      "\n",
      "                                     Medical Condition  Date of Admission  \\\n",
      "Name                                          0.003205           0.003024   \n",
      "Age                                           0.002809           0.000367   \n",
      "Blood Type                                    0.004616           0.000428   \n",
      "Medical Condition                             1.000000           0.002012   \n",
      "Date of Admission                             0.002012           1.000000   \n",
      "Doctor                                        0.001820           0.007528   \n",
      "Hospital                                      0.001592           0.002168   \n",
      "Billing Amount                                0.005512           0.001057   \n",
      "Room Number                                   0.005342           0.006546   \n",
      "Discharge Date                                0.002109           0.999866   \n",
      "Gender_Female                                 0.000317           0.001506   \n",
      "Gender_Male                                   0.000317           0.001506   \n",
      "Insurance Provider_Aetna                      0.004195           0.003216   \n",
      "Insurance Provider_Blue Cross                 0.002726           0.001803   \n",
      "Insurance Provider_Cigna                      0.005025           0.001624   \n",
      "Insurance Provider_Medicare                   0.001576           0.001205   \n",
      "Insurance Provider_UnitedHealthcare           0.003416           0.002155   \n",
      "Admission Type_Elective                       0.001228           0.001562   \n",
      "Admission Type_Emergency                      0.001472           0.003583   \n",
      "Admission Type_Urgent                         0.002695           0.002005   \n",
      "Medication_Aspirin                            0.000285           0.003029   \n",
      "Medication_Ibuprofen                          0.004698           0.011909   \n",
      "Medication_Lipitor                            0.001207           0.004601   \n",
      "Medication_Paracetamol                        0.007304           0.006369   \n",
      "Medication_Penicillin                         0.001102           0.003983   \n",
      "Test Results_Abnormal                         0.001988           0.001162   \n",
      "Test Results_Inconclusive                     0.000176           0.001310   \n",
      "Test Results_Normal                           0.002166           0.002471   \n",
      "\n",
      "                                       Doctor  Hospital  Billing Amount  \\\n",
      "Name                                 0.005388  0.003625        0.001627   \n",
      "Age                                  0.003110  0.002232        0.003832   \n",
      "Blood Type                           0.005388  0.000229        0.001152   \n",
      "Medical Condition                    0.001820  0.001592        0.005512   \n",
      "Date of Admission                    0.007528  0.002168        0.001057   \n",
      "Doctor                               1.000000  0.003483        0.003066   \n",
      "Hospital                             0.003483  1.000000        0.003992   \n",
      "Billing Amount                       0.003066  0.003992        1.000000   \n",
      "Room Number                          0.008256  0.000994        0.002943   \n",
      "Discharge Date                       0.007537  0.002100        0.001149   \n",
      "Gender_Female                        0.003368  0.003204        0.004827   \n",
      "Gender_Male                          0.003368  0.003204        0.004827   \n",
      "Insurance Provider_Aetna             0.000402  0.002656        0.000487   \n",
      "Insurance Provider_Blue Cross        0.000053  0.000683        0.002587   \n",
      "Insurance Provider_Cigna             0.000866  0.007283        0.000481   \n",
      "Insurance Provider_Medicare          0.003185  0.001327        0.002706   \n",
      "Insurance Provider_UnitedHealthcare  0.004509  0.005323        0.005290   \n",
      "Admission Type_Elective              0.006228  0.002659        0.003150   \n",
      "Admission Type_Emergency             0.004217  0.000954        0.002066   \n",
      "Admission Type_Urgent                0.002035  0.001712        0.001096   \n",
      "Medication_Aspirin                   0.004680  0.004107        0.001932   \n",
      "Medication_Ibuprofen                 0.001842  0.001858        0.006916   \n",
      "Medication_Lipitor                   0.002778  0.005051        0.006941   \n",
      "Medication_Paracetamol               0.003043  0.007279        0.000205   \n",
      "Medication_Penicillin                0.000702  0.000033        0.001700   \n",
      "Test Results_Abnormal                0.001732  0.006768        0.000048   \n",
      "Test Results_Inconclusive            0.005508  0.004842        0.004174   \n",
      "Test Results_Normal                  0.003762  0.001947        0.004116   \n",
      "\n",
      "                                     Room Number  Discharge Date  ...  \\\n",
      "Name                                    0.001307        0.003046  ...   \n",
      "Age                                     0.000720        0.000232  ...   \n",
      "Blood Type                              0.004261        0.000460  ...   \n",
      "Medical Condition                       0.005342        0.002109  ...   \n",
      "Date of Admission                       0.006546        0.999866  ...   \n",
      "Doctor                                  0.008256        0.007537  ...   \n",
      "Hospital                                0.000994        0.002100  ...   \n",
      "Billing Amount                          0.002943        0.001149  ...   \n",
      "Room Number                             1.000000        0.006455  ...   \n",
      "Discharge Date                          0.006455        1.000000  ...   \n",
      "Gender_Female                           0.006332        0.001568  ...   \n",
      "Gender_Male                             0.006332        0.001568  ...   \n",
      "Insurance Provider_Aetna                0.000784        0.003273  ...   \n",
      "Insurance Provider_Blue Cross           0.011674        0.001790  ...   \n",
      "Insurance Provider_Cigna                0.002982        0.001602  ...   \n",
      "Insurance Provider_Medicare             0.000224        0.001322  ...   \n",
      "Insurance Provider_UnitedHealthcare     0.009207        0.002104  ...   \n",
      "Admission Type_Elective                 0.002062        0.001540  ...   \n",
      "Admission Type_Emergency                0.003417        0.003697  ...   \n",
      "Admission Type_Urgent                   0.005467        0.002140  ...   \n",
      "Medication_Aspirin                      0.007681        0.003054  ...   \n",
      "Medication_Ibuprofen                    0.003108        0.011866  ...   \n",
      "Medication_Lipitor                      0.000740        0.004629  ...   \n",
      "Medication_Paracetamol                  0.005230        0.006364  ...   \n",
      "Medication_Penicillin                   0.001399        0.003941  ...   \n",
      "Test Results_Abnormal                   0.000117        0.001162  ...   \n",
      "Test Results_Inconclusive               0.003239        0.001257  ...   \n",
      "Test Results_Normal                     0.003349        0.002419  ...   \n",
      "\n",
      "                                     Admission Type_Emergency  \\\n",
      "Name                                                 0.002456   \n",
      "Age                                                  0.000502   \n",
      "Blood Type                                           0.000238   \n",
      "Medical Condition                                    0.001472   \n",
      "Date of Admission                                    0.003583   \n",
      "Doctor                                               0.004217   \n",
      "Hospital                                             0.000954   \n",
      "Billing Amount                                       0.002066   \n",
      "Room Number                                          0.003417   \n",
      "Discharge Date                                       0.003697   \n",
      "Gender_Female                                        0.009003   \n",
      "Gender_Male                                          0.009003   \n",
      "Insurance Provider_Aetna                             0.007984   \n",
      "Insurance Provider_Blue Cross                        0.001085   \n",
      "Insurance Provider_Cigna                             0.002465   \n",
      "Insurance Provider_Medicare                          0.000328   \n",
      "Insurance Provider_UnitedHealthcare                  0.004696   \n",
      "Admission Type_Elective                              0.498441   \n",
      "Admission Type_Emergency                             1.000000   \n",
      "Admission Type_Urgent                                0.496852   \n",
      "Medication_Aspirin                                   0.002668   \n",
      "Medication_Ibuprofen                                 0.000832   \n",
      "Medication_Lipitor                                   0.000093   \n",
      "Medication_Paracetamol                               0.002854   \n",
      "Medication_Penicillin                                0.000742   \n",
      "Test Results_Abnormal                                0.003286   \n",
      "Test Results_Inconclusive                            0.002423   \n",
      "Test Results_Normal                                  0.000873   \n",
      "\n",
      "                                     Admission Type_Urgent  \\\n",
      "Name                                              0.001856   \n",
      "Age                                               0.003894   \n",
      "Blood Type                                        0.003276   \n",
      "Medical Condition                                 0.002695   \n",
      "Date of Admission                                 0.002005   \n",
      "Doctor                                            0.002035   \n",
      "Hospital                                          0.001712   \n",
      "Billing Amount                                    0.001096   \n",
      "Room Number                                       0.005467   \n",
      "Discharge Date                                    0.002140   \n",
      "Gender_Female                                     0.013132   \n",
      "Gender_Male                                       0.013132   \n",
      "Insurance Provider_Aetna                          0.016198   \n",
      "Insurance Provider_Blue Cross                     0.001766   \n",
      "Insurance Provider_Cigna                          0.009302   \n",
      "Insurance Provider_Medicare                       0.006358   \n",
      "Insurance Provider_UnitedHealthcare               0.002140   \n",
      "Admission Type_Elective                           0.504696   \n",
      "Admission Type_Emergency                          0.496852   \n",
      "Admission Type_Urgent                             1.000000   \n",
      "Medication_Aspirin                                0.002596   \n",
      "Medication_Ibuprofen                              0.001408   \n",
      "Medication_Lipitor                                0.007475   \n",
      "Medication_Paracetamol                            0.004347   \n",
      "Medication_Penicillin                             0.001958   \n",
      "Test Results_Abnormal                             0.000444   \n",
      "Test Results_Inconclusive                         0.001801   \n",
      "Test Results_Normal                               0.002242   \n",
      "\n",
      "                                     Medication_Aspirin  Medication_Ibuprofen  \\\n",
      "Name                                           0.005159              0.003366   \n",
      "Age                                            0.007620              0.001163   \n",
      "Blood Type                                     0.002575              0.000332   \n",
      "Medical Condition                              0.000285              0.004698   \n",
      "Date of Admission                              0.003029              0.011909   \n",
      "Doctor                                         0.004680              0.001842   \n",
      "Hospital                                       0.004107              0.001858   \n",
      "Billing Amount                                 0.001932              0.006916   \n",
      "Room Number                                    0.007681              0.003108   \n",
      "Discharge Date                                 0.003054              0.011866   \n",
      "Gender_Female                                  0.007190              0.003088   \n",
      "Gender_Male                                    0.007190              0.003088   \n",
      "Insurance Provider_Aetna                       0.001635              0.007123   \n",
      "Insurance Provider_Blue Cross                  0.002752              0.002724   \n",
      "Insurance Provider_Cigna                       0.003521              0.001710   \n",
      "Insurance Provider_Medicare                    0.001732              0.004804   \n",
      "Insurance Provider_UnitedHealthcare            0.006392              0.006699   \n",
      "Admission Type_Elective                        0.005247              0.000579   \n",
      "Admission Type_Emergency                       0.002668              0.000832   \n",
      "Admission Type_Urgent                          0.002596              0.001408   \n",
      "Medication_Aspirin                             1.000000              0.250295   \n",
      "Medication_Ibuprofen                           0.250295              1.000000   \n",
      "Medication_Lipitor                             0.250478              0.250944   \n",
      "Medication_Paracetamol                         0.249507              0.249971   \n",
      "Medication_Penicillin                          0.249465              0.249929   \n",
      "Test Results_Abnormal                          0.000822              0.001195   \n",
      "Test Results_Inconclusive                      0.004330              0.003360   \n",
      "Test Results_Normal                            0.003497              0.002156   \n",
      "\n",
      "                                     Medication_Lipitor  \\\n",
      "Name                                           0.000730   \n",
      "Age                                            0.006982   \n",
      "Blood Type                                     0.000304   \n",
      "Medical Condition                              0.001207   \n",
      "Date of Admission                              0.004601   \n",
      "Doctor                                         0.002778   \n",
      "Hospital                                       0.005051   \n",
      "Billing Amount                                 0.006941   \n",
      "Room Number                                    0.000740   \n",
      "Discharge Date                                 0.004629   \n",
      "Gender_Female                                  0.001276   \n",
      "Gender_Male                                    0.001276   \n",
      "Insurance Provider_Aetna                       0.000740   \n",
      "Insurance Provider_Blue Cross                  0.003855   \n",
      "Insurance Provider_Cigna                       0.000906   \n",
      "Insurance Provider_Medicare                    0.005258   \n",
      "Insurance Provider_UnitedHealthcare            0.000227   \n",
      "Admission Type_Elective                        0.007375   \n",
      "Admission Type_Emergency                       0.000093   \n",
      "Admission Type_Urgent                          0.007475   \n",
      "Medication_Aspirin                             0.250478   \n",
      "Medication_Ibuprofen                           0.250944   \n",
      "Medication_Lipitor                             1.000000   \n",
      "Medication_Paracetamol                         0.250154   \n",
      "Medication_Penicillin                          0.250111   \n",
      "Test Results_Abnormal                          0.003032   \n",
      "Test Results_Inconclusive                      0.005887   \n",
      "Test Results_Normal                            0.002838   \n",
      "\n",
      "                                     Medication_Paracetamol  \\\n",
      "Name                                               0.005267   \n",
      "Age                                                0.000825   \n",
      "Blood Type                                         0.000109   \n",
      "Medical Condition                                  0.007304   \n",
      "Date of Admission                                  0.006369   \n",
      "Doctor                                             0.003043   \n",
      "Hospital                                           0.007279   \n",
      "Billing Amount                                     0.000205   \n",
      "Room Number                                        0.005230   \n",
      "Discharge Date                                     0.006364   \n",
      "Gender_Female                                      0.008902   \n",
      "Gender_Male                                        0.008902   \n",
      "Insurance Provider_Aetna                           0.004776   \n",
      "Insurance Provider_Blue Cross                      0.001921   \n",
      "Insurance Provider_Cigna                           0.002235   \n",
      "Insurance Provider_Medicare                        0.001241   \n",
      "Insurance Provider_UnitedHealthcare                0.001823   \n",
      "Admission Type_Elective                            0.001503   \n",
      "Admission Type_Emergency                           0.002854   \n",
      "Admission Type_Urgent                              0.004347   \n",
      "Medication_Aspirin                                 0.249507   \n",
      "Medication_Ibuprofen                               0.249971   \n",
      "Medication_Lipitor                                 0.250154   \n",
      "Medication_Paracetamol                             1.000000   \n",
      "Medication_Penicillin                              0.249142   \n",
      "Test Results_Abnormal                              0.002037   \n",
      "Test Results_Inconclusive                          0.001858   \n",
      "Test Results_Normal                                0.003894   \n",
      "\n",
      "                                     Medication_Penicillin  \\\n",
      "Name                                              0.004208   \n",
      "Age                                               0.002617   \n",
      "Blood Type                                        0.002047   \n",
      "Medical Condition                                 0.001102   \n",
      "Date of Admission                                 0.003983   \n",
      "Doctor                                            0.000702   \n",
      "Hospital                                          0.000033   \n",
      "Billing Amount                                    0.001700   \n",
      "Room Number                                       0.001399   \n",
      "Discharge Date                                    0.003941   \n",
      "Gender_Female                                     0.000109   \n",
      "Gender_Male                                       0.000109   \n",
      "Insurance Provider_Aetna                          0.003255   \n",
      "Insurance Provider_Blue Cross                     0.001967   \n",
      "Insurance Provider_Cigna                          0.000484   \n",
      "Insurance Provider_Medicare                       0.002517   \n",
      "Insurance Provider_UnitedHealthcare               0.001736   \n",
      "Admission Type_Elective                           0.001218   \n",
      "Admission Type_Emergency                          0.000742   \n",
      "Admission Type_Urgent                             0.001958   \n",
      "Medication_Aspirin                                0.249465   \n",
      "Medication_Ibuprofen                              0.249929   \n",
      "Medication_Lipitor                                0.250111   \n",
      "Medication_Paracetamol                            0.249142   \n",
      "Medication_Penicillin                             1.000000   \n",
      "Test Results_Abnormal                             0.001018   \n",
      "Test Results_Inconclusive                         0.000059   \n",
      "Test Results_Normal                               0.001078   \n",
      "\n",
      "                                     Test Results_Abnormal  \\\n",
      "Name                                              0.009311   \n",
      "Age                                               0.003135   \n",
      "Blood Type                                        0.002690   \n",
      "Medical Condition                                 0.001988   \n",
      "Date of Admission                                 0.001162   \n",
      "Doctor                                            0.001732   \n",
      "Hospital                                          0.006768   \n",
      "Billing Amount                                    0.000048   \n",
      "Room Number                                       0.000117   \n",
      "Discharge Date                                    0.001162   \n",
      "Gender_Female                                     0.002484   \n",
      "Gender_Male                                       0.002484   \n",
      "Insurance Provider_Aetna                          0.003037   \n",
      "Insurance Provider_Blue Cross                     0.007034   \n",
      "Insurance Provider_Cigna                          0.002999   \n",
      "Insurance Provider_Medicare                       0.003854   \n",
      "Insurance Provider_UnitedHealthcare               0.003165   \n",
      "Admission Type_Elective                           0.002825   \n",
      "Admission Type_Emergency                          0.003286   \n",
      "Admission Type_Urgent                             0.000444   \n",
      "Medication_Aspirin                                0.000822   \n",
      "Medication_Ibuprofen                              0.001195   \n",
      "Medication_Lipitor                                0.003032   \n",
      "Medication_Paracetamol                            0.002037   \n",
      "Medication_Penicillin                             0.001018   \n",
      "Test Results_Abnormal                             1.000000   \n",
      "Test Results_Inconclusive                         0.499645   \n",
      "Test Results_Normal                               0.502923   \n",
      "\n",
      "                                     Test Results_Inconclusive  \\\n",
      "Name                                                  0.008729   \n",
      "Age                                                   0.004964   \n",
      "Blood Type                                            0.003965   \n",
      "Medical Condition                                     0.000176   \n",
      "Date of Admission                                     0.001310   \n",
      "Doctor                                                0.005508   \n",
      "Hospital                                              0.004842   \n",
      "Billing Amount                                        0.004174   \n",
      "Room Number                                           0.003239   \n",
      "Discharge Date                                        0.001257   \n",
      "Gender_Female                                         0.003519   \n",
      "Gender_Male                                           0.003519   \n",
      "Insurance Provider_Aetna                              0.004880   \n",
      "Insurance Provider_Blue Cross                         0.007129   \n",
      "Insurance Provider_Cigna                              0.000236   \n",
      "Insurance Provider_Medicare                           0.003542   \n",
      "Insurance Provider_UnitedHealthcare                   0.008176   \n",
      "Admission Type_Elective                               0.004210   \n",
      "Admission Type_Emergency                              0.002423   \n",
      "Admission Type_Urgent                                 0.001801   \n",
      "Medication_Aspirin                                    0.004330   \n",
      "Medication_Ibuprofen                                  0.003360   \n",
      "Medication_Lipitor                                    0.005887   \n",
      "Medication_Paracetamol                                0.001858   \n",
      "Medication_Penicillin                                 0.000059   \n",
      "Test Results_Abnormal                                 0.499645   \n",
      "Test Results_Inconclusive                             1.000000   \n",
      "Test Results_Normal                                   0.497427   \n",
      "\n",
      "                                     Test Results_Normal  \n",
      "Name                                            0.000616  \n",
      "Age                                             0.008092  \n",
      "Blood Type                                      0.001262  \n",
      "Medical Condition                               0.002166  \n",
      "Date of Admission                               0.002471  \n",
      "Doctor                                          0.003762  \n",
      "Hospital                                        0.001947  \n",
      "Billing Amount                                  0.004116  \n",
      "Room Number                                     0.003349  \n",
      "Discharge Date                                  0.002419  \n",
      "Gender_Female                                   0.005999  \n",
      "Gender_Male                                     0.005999  \n",
      "Insurance Provider_Aetna                        0.001828  \n",
      "Insurance Provider_Blue Cross                   0.000069  \n",
      "Insurance Provider_Cigna                        0.002767  \n",
      "Insurance Provider_Medicare                     0.000326  \n",
      "Insurance Provider_UnitedHealthcare             0.004988  \n",
      "Admission Type_Elective                         0.001371  \n",
      "Admission Type_Emergency                        0.000873  \n",
      "Admission Type_Urgent                           0.002242  \n",
      "Medication_Aspirin                              0.003497  \n",
      "Medication_Ibuprofen                            0.002156  \n",
      "Medication_Lipitor                              0.002838  \n",
      "Medication_Paracetamol                          0.003894  \n",
      "Medication_Penicillin                           0.001078  \n",
      "Test Results_Abnormal                           0.502923  \n",
      "Test Results_Inconclusive                       0.497427  \n",
      "Test Results_Normal                             1.000000  \n",
      "\n",
      "[28 rows x 28 columns]\n"
     ]
    }
   ],
   "source": [
    "# DataFrame ustunlari orasidagi korrelatsiya matritsasini hisoblash va modul qiymatini olish\n",
    "corr_matrix = df.corr().abs()  \n",
    "\n",
    "# df.corr() → DataFrame’dagi barcha sonli ustunlar orasida **korrelatsiyani** hisoblaydi  \n",
    "#              (default – Pearson korrelatsiyasi).  \n",
    "#              Natija: kvadrat matritsa (ustunlar va ustunlar orasidagi bog‘liqlik).  \n",
    "#\n",
    "# .abs()      → Korrelatsiya -1 dan 1 gacha qiymat oladi.  \n",
    "#              -1 yoki 1 → kuchli bog‘lanish,  \n",
    "#              0 → bog‘lanish yo‘q.  \n",
    "#              Ba’zida bizga faqat kuchi kerak bo‘ladi, shuning uchun **modul qiymat** olinadi  \n",
    "#              (ya’ni manfiy belgilar yo‘qoladi, -0.9 → 0.9).  \n",
    "#\n",
    "# Natija: faqat musbat qiymatlardan iborat korrelatsiya matritsasi.\n",
    "\n",
    "# Korrelatsiya matritsasini chop etish\n",
    "print(corr_matrix)  \n",
    "\n",
    "# Bu qator butun korrelatsiya matritsasini chiqarib beradi.  \n",
    "# Jadval ko‘rinishida: diagonali 1 (har bir ustun o‘zi bilan 100% bog‘liq).  \n",
    "# Qolgan joylarda ustunlar orasidagi bog‘liqlik ko‘rsatiladi.\n"
   ]
  },
  {
   "cell_type": "code",
   "execution_count": null,
   "id": "ab4d3e7a",
   "metadata": {},
   "outputs": [
    {
     "name": "stdout",
     "output_type": "stream",
     "text": [
      "Highly correlated feature pairs (correlation > 0.8):\n",
      "           Feature 1       Feature 2  Correlation\n",
      "0  Date of Admission  Discharge Date          1.0\n",
      "1      Gender_Female     Gender_Male          1.0\n"
     ]
    }
   ],
   "source": [
    "# Yuqori korrelyatsiyaga ega juftliklarni saqlash uchun bo‘sh ro‘yxat yaratamiz\n",
    "high_corr_pairs = []\n",
    "\n",
    "# Matritsaning ustunlari bo‘yicha aylanish (kolonlar)\n",
    "for col in upper.columns:\n",
    "    # Matritsaning qatorlari bo‘yicha aylanish (indekslar)\n",
    "    for row in upper.index:\n",
    "        # Agar qiymat NaN emas va korrelyatsiya 0.85 dan katta bo‘lsa\n",
    "        if upper.loc[row, col] is not np.nan and upper.loc[row, col] > 0.85:\n",
    "            # Ustun va qator nomini, hamda korrelyatsiya qiymatini (2 xonali yaxlitlangan holda) qo‘shamiz\n",
    "            high_corr_pairs.append([row, col, round(upper.loc[row, col], 2)])\n",
    "\n",
    "# Yuqori korrelyatsiyali juftliklardan jadval (DataFrame) hosil qilamiz\n",
    "corr_table = pd.DataFrame(high_corr_pairs, columns=['Feature 1', 'Feature 2', 'Correlation'])\n",
    "\n",
    "# Natijani ekranga chiqaramiz\n",
    "print(\"Highly correlated feature pairs (correlation > 0.8):\")\n",
    "print(corr_table)\n"
   ]
  },
  {
   "cell_type": "code",
   "execution_count": null,
   "id": "1dc9e76d",
   "metadata": {},
   "outputs": [
    {
     "name": "stdout",
     "output_type": "stream",
     "text": [
      "\n",
      "Original shape: (55500, 28)\n",
      "Shape after dropping correlated features: (55500, 26)\n"
     ]
    }
   ],
   "source": [
    "# Yuqori korrelyatsiyaga ega ustunlarni olib tashlash\n",
    "df_filtered = df.drop(columns=to_drop)  \n",
    "# df.drop(columns=to_drop) → DataFrame’dan `to_drop` ro‘yxatida keltirilgan ustunlarni olib tashlaydi\n",
    "# Natija: yangi DataFrame (`df_filtered`) hosil bo‘ladi, lekin asl df o‘zgarmaydi\n",
    "\n",
    "# Asl DataFrame o‘lchamini (qatorlar soni, ustunlar soni) chop qilish\n",
    "print(\"\\nOriginal shape:\", df.shape)  \n",
    "# df.shape → tuple qaytaradi: (qatorlar soni, ustunlar soni)\n",
    "# \"\\n\" → chop etishdan oldin yangi qatordan boshlash uchun ishlatilgan\n",
    "\n",
    "# Yuqori korrelyatsiyali ustunlar olib tashlangandan keyingi o‘lchamni chop qilish\n",
    "print(\"Shape after dropping correlated features:\", df_filtered.shape)  \n",
    "# df_filtered.shape → endi ustunlar soni kamaygan bo‘ladi\n",
    "# Bu natija orqali nechta ustun olib tashlanganini solishtirish mumkin\n"
   ]
  },
  {
   "cell_type": "code",
   "execution_count": null,
   "id": "f21e4762",
   "metadata": {},
   "outputs": [
    {
     "data": {
      "image/png": "[encoded data removed]",
      "text/plain": [
       "<Figure size 1200x1000 with 2 Axes>"
      ]
     },
     "metadata": {},
     "output_type": "display_data"
    }
   ],
   "source": [
    "# Grafik oynasini yaratish va o‘lchamini belgilash (eni=12, bo‘yi=10)\n",
    "plt.figure(figsize=(12, 10))  \n",
    "# Bu grafikning umumiy o‘lchamini sozlaydi (inchlarda)\n",
    "\n",
    "# Seaborn yordamida korrelyatsiya matritsasini heatmap tarzida chizish\n",
    "sns.heatmap(corr_matrix, annot=True, fmt=\".2f\", cmap=\"coolwarm\", cbar=True)  \n",
    "# corr_matrix → oldin hisoblangan korrelyatsiya matritsasi\n",
    "# annot=True   → har bir katak ichida raqam (korrelatsiya qiymati) ko‘rsatiladi\n",
    "# fmt=\".2f\"    → raqamlarni 2 xonali kasr bilan formatlaydi (masalan, 0.87)\n",
    "# cmap=\"coolwarm\" → rang sxemasi (sovuqdan issiqqa o‘tuvchi ranglar: ko‘k→qizil)\n",
    "# cbar=True    → yon tomonda rang shkalasi (color bar) chiqadi\n",
    "\n",
    "# Grafik sarlavhasini qo‘shish\n",
    "plt.title(\"Correlation Matrix Heatmap\")  \n",
    "# Grafikning yuqorisida nom chiqaradi\n",
    "\n",
    "# Grafikni ekranga chiqarish\n",
    "plt.show()  \n",
    "# Grafikni ko‘rsatadi (Jupyter Notebook yoki Python muhiti orqali)\n"
   ]
  },
  {
   "cell_type": "code",
   "execution_count": null,
   "id": "087c76b1",
   "metadata": {},
   "outputs": [
    {
     "data": {
      "application/vnd.plotly.v1+json": {
       "config": {
        "plotlyServerURL": "https://plot.ly"
       },
       "data": [
        {
         "coloraxis": "coloraxis",
         "hovertemplate": "x: %{x}<br>y: %{y}<br>color: %{z}<extra></extra>",
         "name": "0",
         "texttemplate": "%{z:.2f}",
         "type": "heatmap",
         "x": [
          "Name",
          "Age",
          "Blood Type",
          "Medical Condition",
          "Date of Admission",
          "Doctor",
          "Hospital",
          "Billing Amount",
          "Room Number",
          "Discharge Date",
          "Gender_Female",
          "Gender_Male",
          "Insurance Provider_Aetna",
          "Insurance Provider_Blue Cross",
          "Insurance Provider_Cigna",
          "Insurance Provider_Medicare",
          "Insurance Provider_UnitedHealthcare",
          "Admission Type_Elective",
          "Admission Type_Emergency",
          "Admission Type_Urgent",
          "Medication_Aspirin",
          "Medication_Ibuprofen",
          "Medication_Lipitor",
          "Medication_Paracetamol",
          "Medication_Penicillin",
          "Test Results_Abnormal",
          "Test Results_Inconclusive",
          "Test Results_Normal"
         ],
         "xaxis": "x",
         "y": [
          "Name",
          "Age",
          "Blood Type",
          "Medical Condition",
          "Date of Admission",
          "Doctor",
          "Hospital",
          "Billing Amount",
          "Room Number",
          "Discharge Date",
          "Gender_Female",
          "Gender_Male",
          "Insurance Provider_Aetna",
          "Insurance Provider_Blue Cross",
          "Insurance Provider_Cigna",
          "Insurance Provider_Medicare",
          "Insurance Provider_UnitedHealthcare",
          "Admission Type_Elective",
          "Admission Type_Emergency",
          "Admission Type_Urgent",
          "Medication_Aspirin",
          "Medication_Ibuprofen",
          "Medication_Lipitor",
          "Medication_Paracetamol",
          "Medication_Penicillin",
          "Test Results_Abnormal",
          "Test Results_Inconclusive",
          "Test Results_Normal"
         ],
         "yaxis": "y",
         "z": {
          "bdata": "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",
          "dtype": "f8",
          "shape": "28, 28"
         }
        }
       ],
       "layout": {
        "coloraxis": {
         "cmax": 1,
         "cmin": -1,
         "colorscale": [
          [
           0,
           "rgb(5,48,97)"
          ],
          [
           0.1,
           "rgb(33,102,172)"
          ],
          [
           0.2,
           "rgb(67,147,195)"
          ],
          [
           0.3,
           "rgb(146,197,222)"
          ],
          [
           0.4,
           "rgb(209,229,240)"
          ],
          [
           0.5,
           "rgb(247,247,247)"
          ],
          [
           0.6,
           "rgb(253,219,199)"
          ],
          [
           0.7,
           "rgb(244,165,130)"
          ],
          [
           0.8,
           "rgb(214,96,77)"
          ],
          [
           0.9,
           "rgb(178,24,43)"
          ],
          [
           1,
           "rgb(103,0,31)"
          ]
         ]
        },
        "height": 800,
        "template": {
         "data": {
          "bar": [
           {
            "error_x": {
             "color": "#2a3f5f"
            },
            "error_y": {
             "color": "#2a3f5f"
            },
            "marker": {
             "line": {
              "color": "#E5ECF6",
              "width": 0.5
             },
             "pattern": {
              "fillmode": "overlay",
              "size": 10,
              "solidity": 0.2
             }
            },
            "type": "bar"
           }
          ],
          "barpolar": [
           {
            "marker": {
             "line": {
              "color": "#E5ECF6",
              "width": 0.5
             },
             "pattern": {
              "fillmode": "overlay",
              "size": 10,
              "solidity": 0.2
             }
            },
            "type": "barpolar"
           }
          ],
          "carpet": [
           {
            "aaxis": {
             "endlinecolor": "#2a3f5f",
             "gridcolor": "white",
             "linecolor": "white",
             "minorgridcolor": "white",
             "startlinecolor": "#2a3f5f"
            },
            "baxis": {
             "endlinecolor": "#2a3f5f",
             "gridcolor": "white",
             "linecolor": "white",
             "minorgridcolor": "white",
             "startlinecolor": "#2a3f5f"
            },
            "type": "carpet"
           }
          ],
          "choropleth": [
           {
            "colorbar": {
             "outlinewidth": 0,
             "ticks": ""
            },
            "type": "choropleth"
           }
          ],
          "contour": [
           {
            "colorbar": {
             "outlinewidth": 0,
             "ticks": ""
            },
            "colorscale": [
             [
              0,
              "#0d0887"
             ],
             [
              0.1111111111111111,
              "#46039f"
             ],
             [
              0.2222222222222222,
              "#7201a8"
             ],
             [
              0.3333333333333333,
              "#9c179e"
             ],
             [
              0.4444444444444444,
              "#bd3786"
             ],
             [
              0.5555555555555556,
              "#d8576b"
             ],
             [
              0.6666666666666666,
              "#ed7953"
             ],
             [
              0.7777777777777778,
              "#fb9f3a"
             ],
             [
              0.8888888888888888,
              "#fdca26"
             ],
             [
              1,
              "#f0f921"
             ]
            ],
            "type": "contour"
           }
          ],
          "contourcarpet": [
           {
            "colorbar": {
             "outlinewidth": 0,
             "ticks": ""
            },
            "type": "contourcarpet"
           }
          ],
          "heatmap": [
           {
            "colorbar": {
             "outlinewidth": 0,
             "ticks": ""
            },
            "colorscale": [
             [
              0,
              "#0d0887"
             ],
             [
              0.1111111111111111,
              "#46039f"
             ],
             [
              0.2222222222222222,
              "#7201a8"
             ],
             [
              0.3333333333333333,
              "#9c179e"
             ],
             [
              0.4444444444444444,
              "#bd3786"
             ],
             [
              0.5555555555555556,
              "#d8576b"
             ],
             [
              0.6666666666666666,
              "#ed7953"
             ],
             [
              0.7777777777777778,
              "#fb9f3a"
             ],
             [
              0.8888888888888888,
              "#fdca26"
             ],
             [
              1,
              "#f0f921"
             ]
            ],
            "type": "heatmap"
           }
          ],
          "histogram": [
           {
            "marker": {
             "pattern": {
              "fillmode": "overlay",
              "size": 10,
              "solidity": 0.2
             }
            },
            "type": "histogram"
           }
          ],
          "histogram2d": [
           {
            "colorbar": {
             "outlinewidth": 0,
             "ticks": ""
            },
            "colorscale": [
             [
              0,
              "#0d0887"
             ],
             [
              0.1111111111111111,
              "#46039f"
             ],
             [
              0.2222222222222222,
              "#7201a8"
             ],
             [
              0.3333333333333333,
              "#9c179e"
             ],
             [
              0.4444444444444444,
              "#bd3786"
             ],
             [
              0.5555555555555556,
              "#d8576b"
             ],
             [
              0.6666666666666666,
              "#ed7953"
             ],
             [
              0.7777777777777778,
              "#fb9f3a"
             ],
             [
              0.8888888888888888,
              "#fdca26"
             ],
             [
              1,
              "#f0f921"
             ]
            ],
            "type": "histogram2d"
           }
          ],
          "histogram2dcontour": [
           {
            "colorbar": {
             "outlinewidth": 0,
             "ticks": ""
            },
            "colorscale": [
             [
              0,
              "#0d0887"
             ],
             [
              0.1111111111111111,
              "#46039f"
             ],
             [
              0.2222222222222222,
              "#7201a8"
             ],
             [
              0.3333333333333333,
              "#9c179e"
             ],
             [
              0.4444444444444444,
              "#bd3786"
             ],
             [
              0.5555555555555556,
              "#d8576b"
             ],
             [
              0.6666666666666666,
              "#ed7953"
             ],
             [
              0.7777777777777778,
              "#fb9f3a"
             ],
             [
              0.8888888888888888,
              "#fdca26"
             ],
             [
              1,
              "#f0f921"
             ]
            ],
            "type": "histogram2dcontour"
           }
          ],
          "mesh3d": [
           {
            "colorbar": {
             "outlinewidth": 0,
             "ticks": ""
            },
            "type": "mesh3d"
           }
          ],
          "parcoords": [
           {
            "line": {
             "colorbar": {
              "outlinewidth": 0,
              "ticks": ""
             }
            },
            "type": "parcoords"
           }
          ],
          "pie": [
           {
            "automargin": true,
            "type": "pie"
           }
          ],
          "scatter": [
           {
            "fillpattern": {
             "fillmode": "overlay",
             "size": 10,
             "solidity": 0.2
            },
            "type": "scatter"
           }
          ],
          "scatter3d": [
           {
            "line": {
             "colorbar": {
              "outlinewidth": 0,
              "ticks": ""
             }
            },
            "marker": {
             "colorbar": {
              "outlinewidth": 0,
              "ticks": ""
             }
            },
            "type": "scatter3d"
           }
          ],
          "scattercarpet": [
           {
            "marker": {
             "colorbar": {
              "outlinewidth": 0,
              "ticks": ""
             }
            },
            "type": "scattercarpet"
           }
          ],
          "scattergeo": [
           {
            "marker": {
             "colorbar": {
              "outlinewidth": 0,
              "ticks": ""
             }
            },
            "type": "scattergeo"
           }
          ],
          "scattergl": [
           {
            "marker": {
             "colorbar": {
              "outlinewidth": 0,
              "ticks": ""
             }
            },
            "type": "scattergl"
           }
          ],
          "scattermap": [
           {
            "marker": {
             "colorbar": {
              "outlinewidth": 0,
              "ticks": ""
             }
            },
            "type": "scattermap"
           }
          ],
          "scattermapbox": [
           {
            "marker": {
             "colorbar": {
              "outlinewidth": 0,
              "ticks": ""
             }
            },
            "type": "scattermapbox"
           }
          ],
          "scatterpolar": [
           {
            "marker": {
             "colorbar": {
              "outlinewidth": 0,
              "ticks": ""
             }
            },
            "type": "scatterpolar"
           }
          ],
          "scatterpolargl": [
           {
            "marker": {
             "colorbar": {
              "outlinewidth": 0,
              "ticks": ""
             }
            },
            "type": "scatterpolargl"
           }
          ],
          "scatterternary": [
           {
            "marker": {
             "colorbar": {
              "outlinewidth": 0,
              "ticks": ""
             }
            },
            "type": "scatterternary"
           }
          ],
          "surface": [
           {
            "colorbar": {
             "outlinewidth": 0,
             "ticks": ""
            },
            "colorscale": [
             [
              0,
              "#0d0887"
             ],
             [
              0.1111111111111111,
              "#46039f"
             ],
             [
              0.2222222222222222,
              "#7201a8"
             ],
             [
              0.3333333333333333,
              "#9c179e"
             ],
             [
              0.4444444444444444,
              "#bd3786"
             ],
             [
              0.5555555555555556,
              "#d8576b"
             ],
             [
              0.6666666666666666,
              "#ed7953"
             ],
             [
              0.7777777777777778,
              "#fb9f3a"
             ],
             [
              0.8888888888888888,
              "#fdca26"
             ],
             [
              1,
              "#f0f921"
             ]
            ],
            "type": "surface"
           }
          ],
          "table": [
           {
            "cells": {
             "fill": {
              "color": "#EBF0F8"
             },
             "line": {
              "color": "white"
             }
            },
            "header": {
             "fill": {
              "color": "#C8D4E3"
             },
             "line": {
              "color": "white"
             }
            },
            "type": "table"
           }
          ]
         },
         "layout": {
          "annotationdefaults": {
           "arrowcolor": "#2a3f5f",
           "arrowhead": 0,
           "arrowwidth": 1
          },
          "autotypenumbers": "strict",
          "coloraxis": {
           "colorbar": {
            "outlinewidth": 0,
            "ticks": ""
           }
          },
          "colorscale": {
           "diverging": [
            [
             0,
             "#8e0152"
            ],
            [
             0.1,
             "#c51b7d"
            ],
            [
             0.2,
             "#de77ae"
            ],
            [
             0.3,
             "#f1b6da"
            ],
            [
             0.4,
             "#fde0ef"
            ],
            [
             0.5,
             "#f7f7f7"
            ],
            [
             0.6,
             "#e6f5d0"
            ],
            [
             0.7,
             "#b8e186"
            ],
            [
             0.8,
             "#7fbc41"
            ],
            [
             0.9,
             "#4d9221"
            ],
            [
             1,
             "#276419"
            ]
           ],
           "sequential": [
            [
             0,
             "#0d0887"
            ],
            [
             0.1111111111111111,
             "#46039f"
            ],
            [
             0.2222222222222222,
             "#7201a8"
            ],
            [
             0.3333333333333333,
             "#9c179e"
            ],
            [
             0.4444444444444444,
             "#bd3786"
            ],
            [
             0.5555555555555556,
             "#d8576b"
            ],
            [
             0.6666666666666666,
             "#ed7953"
            ],
            [
             0.7777777777777778,
             "#fb9f3a"
            ],
            [
             0.8888888888888888,
             "#fdca26"
            ],
            [
             1,
             "#f0f921"
            ]
           ],
           "sequentialminus": [
            [
             0,
             "#0d0887"
            ],
            [
             0.1111111111111111,
             "#46039f"
            ],
            [
             0.2222222222222222,
             "#7201a8"
            ],
            [
             0.3333333333333333,
             "#9c179e"
            ],
            [
             0.4444444444444444,
             "#bd3786"
            ],
            [
             0.5555555555555556,
             "#d8576b"
            ],
            [
             0.6666666666666666,
             "#ed7953"
            ],
            [
             0.7777777777777778,
             "#fb9f3a"
            ],
            [
             0.8888888888888888,
             "#fdca26"
            ],
            [
             1,
             "#f0f921"
            ]
           ]
          },
          "colorway": [
           "#636efa",
           "#EF553B",
           "#00cc96",
           "#ab63fa",
           "#FFA15A",
           "#19d3f3",
           "#FF6692",
           "#B6E880",
           "#FF97FF",
           "#FECB52"
          ],
          "font": {
           "color": "#2a3f5f"
          },
          "geo": {
           "bgcolor": "white",
           "lakecolor": "white",
           "landcolor": "#E5ECF6",
           "showlakes": true,
           "showland": true,
           "subunitcolor": "white"
          },
          "hoverlabel": {
           "align": "left"
          },
          "hovermode": "closest",
          "mapbox": {
           "style": "light"
          },
          "paper_bgcolor": "white",
          "plot_bgcolor": "#E5ECF6",
          "polar": {
           "angularaxis": {
            "gridcolor": "white",
            "linecolor": "white",
            "ticks": ""
           },
           "bgcolor": "#E5ECF6",
           "radialaxis": {
            "gridcolor": "white",
            "linecolor": "white",
            "ticks": ""
           }
          },
          "scene": {
           "xaxis": {
            "backgroundcolor": "#E5ECF6",
            "gridcolor": "white",
            "gridwidth": 2,
            "linecolor": "white",
            "showbackground": true,
            "ticks": "",
            "zerolinecolor": "white"
           },
           "yaxis": {
            "backgroundcolor": "#E5ECF6",
            "gridcolor": "white",
            "gridwidth": 2,
            "linecolor": "white",
            "showbackground": true,
            "ticks": "",
            "zerolinecolor": "white"
           },
           "zaxis": {
            "backgroundcolor": "#E5ECF6",
            "gridcolor": "white",
            "gridwidth": 2,
            "linecolor": "white",
            "showbackground": true,
            "ticks": "",
            "zerolinecolor": "white"
           }
          },
          "shapedefaults": {
           "line": {
            "color": "#2a3f5f"
           }
          },
          "ternary": {
           "aaxis": {
            "gridcolor": "white",
            "linecolor": "white",
            "ticks": ""
           },
           "baxis": {
            "gridcolor": "white",
            "linecolor": "white",
            "ticks": ""
           },
           "bgcolor": "#E5ECF6",
           "caxis": {
            "gridcolor": "white",
            "linecolor": "white",
            "ticks": ""
           }
          },
          "title": {
           "x": 0.05
          },
          "xaxis": {
           "automargin": true,
           "gridcolor": "white",
           "linecolor": "white",
           "ticks": "",
           "title": {
            "standoff": 15
           },
           "zerolinecolor": "white",
           "zerolinewidth": 2
          },
          "yaxis": {
           "automargin": true,
           "gridcolor": "white",
           "linecolor": "white",
           "ticks": "",
           "title": {
            "standoff": 15
           },
           "zerolinecolor": "white",
           "zerolinewidth": 2
          }
         }
        },
        "title": {
         "text": "Correlation Matrix Heatmap (Interactive)"
        },
        "width": 900,
        "xaxis": {
         "anchor": "y",
         "domain": [
          0,
          1
         ],
         "title": {
          "text": "Features"
         }
        },
        "yaxis": {
         "anchor": "x",
         "autorange": "reversed",
         "domain": [
          0,
          1
         ],
         "title": {
          "text": "Features"
         }
        }
       }
      }
     },
     "metadata": {},
     "output_type": "display_data"
    }
   ],
   "source": [
    "import plotly.express as px  \n",
    "# Plotly Express kutubxonasini import qilamiz.\n",
    "# U interaktiv grafiklar (heatmap, scatter, bar va boshqalar) yaratish uchun ishlatiladi.\n",
    "\n",
    "# Create a long-form dataframe for Plotly\n",
    "# Plotly uchun \"long-form\" (uzun shakldagi) DataFrame yaratish\n",
    "corr_long = corr_matrix.reset_index().melt(id_vars='index')  \n",
    "# corr_matrix.reset_index() → korrelyatsiya matritsasining indeksini (ustun nomlari) alohida ustunga o‘tkazadi.  \n",
    "# .melt(id_vars='index')   → keng formatdagi jadvalni uzun formatga aylantiradi, \n",
    "# ya’ni har bir ustun-ustun juftligi uchun alohida qator hosil qiladi.\n",
    "corr_long.columns = ['Feature 1', 'Feature 2', 'Correlation']  \n",
    "# Ustun nomlarini yanada tushunarli qilib o‘zgartiramiz:  \n",
    "# Feature 1 → birinchi ustun,  \n",
    "# Feature 2 → ikkinchi ustun,  \n",
    "# Correlation → ular orasidagi korrelatsiya qiymati.\n",
    "\n",
    "# Plotly Express yordamida interaktiv korrelyatsiya heatmap chizish\n",
    "fig = px.imshow(\n",
    "    corr_matrix,                  # korrelatsiya matritsasini grafik uchun uzatamiz\n",
    "    text_auto='.2f',              # kataklarda qiymatlarni 2 xonali kasr bilan chiqaradi (masalan, 0.87)\n",
    "    aspect=\"auto\",                # kataklarning nisbatini avtomatik sozlaydi\n",
    "    color_continuous_scale='RdBu_r',  # rang palitrasi: qizil→salbiy, ko‘k→musbat (teskari)\n",
    "    zmin=-1, zmax=1,              # rang shkalasini -1 dan 1 gacha belgilash (korrelatsiya diapazoni)\n",
    "    title=\"Correlation Matrix Heatmap (Interactive)\"  # grafik sarlavhasi\n",
    ")\n",
    "\n",
    "# Grafikning tashqi ko‘rinishini sozlash\n",
    "fig.update_layout(\n",
    "    width=900,           # grafik eni (pikselda)\n",
    "    height=800,          # grafik bo‘yi (pikselda)\n",
    "    xaxis_title=\"Features\",  # X o‘qi nomi (ustunlar nomi)\n",
    "    yaxis_title=\"Features\"   # Y o‘qi nomi (ustunlar nomi)\n",
    ")\n",
    "\n",
    "fig.show()\n",
    "# Grafikni ko‘rsatadi.\n",
    "# Natija: interaktiv heatmap — katak ustiga sichqoncha olib borilganda qiymat ko‘rinadi,\n",
    "# zoom qilish, aylantirish va boshqa interaktiv funksiyalar ishlaydi.\n"
   ]
  },
  {
   "cell_type": "code",
   "execution_count": null,
   "id": "a94324b6",
   "metadata": {},
   "outputs": [
    {
     "name": "stdout",
     "output_type": "stream",
     "text": [
      "Features with low variance (to drop): []\n",
      "\n",
      "Original shape: (55500, 26)\n",
      "Shape after dropping low-variance features: (55500, 26)\n"
     ]
    }
   ],
   "source": [
    "# Low Variance\n",
    "from sklearn.feature_selection import VarianceThreshold  \n",
    "# sklearn kutubxonasidan VarianceThreshold klassini import qilamiz.\n",
    "# Bu klass ustunlardagi varians (tarqalish) qiymati past bo‘lgan ustunlarni aniqlash uchun ishlatiladi.\n",
    "\n",
    "# Varians uchun chegara qiymatini belgilash (masalan, 0.01)\n",
    "threshold = 0.01  \n",
    "# Agar ustunning variansi 0.01 dan kichik bo‘lsa, u \"kam variansli\" deb hisoblanadi.\n",
    "# Kam varians → ustun deyarli o‘zgarmaydi (masalan, barcha qiymatlar bir xil yoki juda o‘xshash).\n",
    "\n",
    "# VarianceThreshold obyektini yaratish\n",
    "selector = VarianceThreshold(threshold=threshold)  \n",
    "# threshold parametrini yuqorida belgilangan qiymatga teng qilib qo‘yamiz.\n",
    "# Bu obyekt yordamida biz DataFrame ustunlarini filtrlashimiz mumkin.\n",
    "\n",
    "\n",
    "# Dataset ustida modelni o‘rgatish (faqat variansni hisoblaydi)\n",
    "selector.fit(df_filtered)  \n",
    "# df_filtered → korrelyatsiyadan keyin qolgan DataFrame.\n",
    "# Bu qadamda sklearn har bir ustunning variansini hisoblaydi va\n",
    "# uni belgilangan threshold bilan taqqoslaydi.\n",
    "\n",
    "\n",
    "# Kam variansga ega ustunlarni aniqlash\n",
    "low_variance_features = df_filtered.columns[~selector.get_support()]  \n",
    "# selector.get_support() → True/False massiv qaytaradi:\n",
    "#     True  → ustun saqlanadi (variansi yuqori)\n",
    "#     False → ustun olib tashlanadi (variansi past)\n",
    "# ~ belgisini qo‘llash → False ni True ga aylantiradi (ya’ni olib tashlanishi kerak bo‘lganlarni tanlaydi).\n",
    "# Natija: past variansli ustunlarning nomlari chiqadi.\n",
    "\n",
    "\n",
    "# Past variansli ustunlarni olib tashlash\n",
    "df_low_variance_filtered = df_filtered.drop(columns=low_variance_features)  \n",
    "# DataFrame’dan aniqlangan past variansli ustunlar olib tashlanadi.\n",
    "# Yangi DataFrame → df_low_variance_filtered\n",
    "\n",
    "\n",
    "print(\"\\nOriginal shape:\", df_filtered.shape)  \n",
    "# Korrelyatsiyadan keyin qolgan DataFrame’ning o‘lchamini chiqaradi (qatorlar soni, ustunlar soni).\n",
    "\n",
    "print(\"Shape after dropping low-variance features:\", df_low_variance_filtered.shape)  \n",
    "# Past variansli ustunlarni olib tashlaganidan keyin yangi o‘lchamni chiqaradi.\n"
   ]
  },
  {
   "cell_type": "code",
   "execution_count": null,
   "id": "18800886",
   "metadata": {},
   "outputs": [
    {
     "name": "stdout",
     "output_type": "stream",
     "text": [
      "Features with low variance (to drop): []\n"
     ]
    }
   ],
   "source": [
    "# Past variansli ustunlarni aniqlash:\n",
    "# selector.get_support() -> True/False massiv qaytaradi (True = ustun saqlanadi, False = olib tashlanadi)\n",
    "# ~ belgisidan foydalansak, qiymatlar teskarilanadi (True = olib tashlanishi kerak bo‘lgan ustunlar)\n",
    "low_variance_features = df_filtered.columns[~selector.get_support()]\n",
    "\n",
    "# Past variansli ustunlarning nomlarini ro‘yxat shaklida ekranga chiqaramiz\n",
    "print(\"Features with low variance (to drop):\", list(low_variance_features))"
   ]
  },
  {
   "cell_type": "code",
   "execution_count": null,
   "id": "81c836b2",
   "metadata": {},
   "outputs": [
    {
     "data": {
      "application/vnd.plotly.v1+json": {
       "config": {
        "plotlyServerURL": "https://plot.ly"
       },
       "data": [
        {
         "hovertemplate": "LowVariance=No<br>Feature=%{x}<br>Variance=%{text}<extra></extra>",
         "legendgroup": "No",
         "marker": {
          "color": "blue",
          "pattern": {
           "shape": ""
          }
         },
         "name": "No",
         "orientation": "v",
         "showlegend": true,
         "text": {
          "bdata": "O2v1tERUtT/Cg9/v3gexP1E5n7f7Y7s/4S6j4XDivT+UwrUfGHW1PxkrXskz67Q/FTGB3Z/gsz8H9sls6zuxPx0eR1ovW7U/TLS3UcnLtD91lvgbEgDQP3WW+BsSANA/BPkQVVs4xD8aV/2fbmzEPx/VmrSFr8Q/+v5xvhKOxD+BVG/+0oPEP9n7F6AokMw/6YPq6uBDzD8CnpgSzoDMP+bX4zrZeMQ/L7DXFoiExD+sPoqtIInEP+N9Hy+xcMQ/AfApnqBvxD9GADdou4rMP6uyjxVZVcw/VpQwbEB1zD8=",
          "dtype": "f8"
         },
         "textposition": "auto",
         "type": "bar",
         "x": [
          "Name",
          "Age",
          "Blood Type",
          "Medical Condition",
          "Date of Admission",
          "Doctor",
          "Hospital",
          "Billing Amount",
          "Room Number",
          "Discharge Date",
          "Gender_Female",
          "Gender_Male",
          "Insurance Provider_Aetna",
          "Insurance Provider_Blue Cross",
          "Insurance Provider_Cigna",
          "Insurance Provider_Medicare",
          "Insurance Provider_UnitedHealthcare",
          "Admission Type_Elective",
          "Admission Type_Emergency",
          "Admission Type_Urgent",
          "Medication_Aspirin",
          "Medication_Ibuprofen",
          "Medication_Lipitor",
          "Medication_Paracetamol",
          "Medication_Penicillin",
          "Test Results_Abnormal",
          "Test Results_Inconclusive",
          "Test Results_Normal"
         ],
         "xaxis": "x",
         "y": {
          "bdata": "O2v1tERUtT/Cg9/v3gexP1E5n7f7Y7s/4S6j4XDivT+UwrUfGHW1PxkrXskz67Q/FTGB3Z/gsz8H9sls6zuxPx0eR1ovW7U/TLS3UcnLtD91lvgbEgDQP3WW+BsSANA/BPkQVVs4xD8aV/2fbmzEPx/VmrSFr8Q/+v5xvhKOxD+BVG/+0oPEP9n7F6AokMw/6YPq6uBDzD8CnpgSzoDMP+bX4zrZeMQ/L7DXFoiExD+sPoqtIInEP+N9Hy+xcMQ/AfApnqBvxD9GADdou4rMP6uyjxVZVcw/VpQwbEB1zD8=",
          "dtype": "f8"
         },
         "yaxis": "y"
        }
       ],
       "layout": {
        "barmode": "relative",
        "height": 600,
        "legend": {
         "title": {
          "text": "LowVariance"
         },
         "tracegroupgap": 0
        },
        "template": {
         "data": {
          "bar": [
           {
            "error_x": {
             "color": "#2a3f5f"
            },
            "error_y": {
             "color": "#2a3f5f"
            },
            "marker": {
             "line": {
              "color": "#E5ECF6",
              "width": 0.5
             },
             "pattern": {
              "fillmode": "overlay",
              "size": 10,
              "solidity": 0.2
             }
            },
            "type": "bar"
           }
          ],
          "barpolar": [
           {
            "marker": {
             "line": {
              "color": "#E5ECF6",
              "width": 0.5
             },
             "pattern": {
              "fillmode": "overlay",
              "size": 10,
              "solidity": 0.2
             }
            },
            "type": "barpolar"
           }
          ],
          "carpet": [
           {
            "aaxis": {
             "endlinecolor": "#2a3f5f",
             "gridcolor": "white",
             "linecolor": "white",
             "minorgridcolor": "white",
             "startlinecolor": "#2a3f5f"
            },
            "baxis": {
             "endlinecolor": "#2a3f5f",
             "gridcolor": "white",
             "linecolor": "white",
             "minorgridcolor": "white",
             "startlinecolor": "#2a3f5f"
            },
            "type": "carpet"
           }
          ],
          "choropleth": [
           {
            "colorbar": {
             "outlinewidth": 0,
             "ticks": ""
            },
            "type": "choropleth"
           }
          ],
          "contour": [
           {
            "colorbar": {
             "outlinewidth": 0,
             "ticks": ""
            },
            "colorscale": [
             [
              0,
              "#0d0887"
             ],
             [
              0.1111111111111111,
              "#46039f"
             ],
             [
              0.2222222222222222,
              "#7201a8"
             ],
             [
              0.3333333333333333,
              "#9c179e"
             ],
             [
              0.4444444444444444,
              "#bd3786"
             ],
             [
              0.5555555555555556,
              "#d8576b"
             ],
             [
              0.6666666666666666,
              "#ed7953"
             ],
             [
              0.7777777777777778,
              "#fb9f3a"
             ],
             [
              0.8888888888888888,
              "#fdca26"
             ],
             [
              1,
              "#f0f921"
             ]
            ],
            "type": "contour"
           }
          ],
          "contourcarpet": [
           {
            "colorbar": {
             "outlinewidth": 0,
             "ticks": ""
            },
            "type": "contourcarpet"
           }
          ],
          "heatmap": [
           {
            "colorbar": {
             "outlinewidth": 0,
             "ticks": ""
            },
            "colorscale": [
             [
              0,
              "#0d0887"
             ],
             [
              0.1111111111111111,
              "#46039f"
             ],
             [
              0.2222222222222222,
              "#7201a8"
             ],
             [
              0.3333333333333333,
              "#9c179e"
             ],
             [
              0.4444444444444444,
              "#bd3786"
             ],
             [
              0.5555555555555556,
              "#d8576b"
             ],
             [
              0.6666666666666666,
              "#ed7953"
             ],
             [
              0.7777777777777778,
              "#fb9f3a"
             ],
             [
              0.8888888888888888,
              "#fdca26"
             ],
             [
              1,
              "#f0f921"
             ]
            ],
            "type": "heatmap"
           }
          ],
          "histogram": [
           {
            "marker": {
             "pattern": {
              "fillmode": "overlay",
              "size": 10,
              "solidity": 0.2
             }
            },
            "type": "histogram"
           }
          ],
          "histogram2d": [
           {
            "colorbar": {
             "outlinewidth": 0,
             "ticks": ""
            },
            "colorscale": [
             [
              0,
              "#0d0887"
             ],
             [
              0.1111111111111111,
              "#46039f"
             ],
             [
              0.2222222222222222,
              "#7201a8"
             ],
             [
              0.3333333333333333,
              "#9c179e"
             ],
             [
              0.4444444444444444,
              "#bd3786"
             ],
             [
              0.5555555555555556,
              "#d8576b"
             ],
             [
              0.6666666666666666,
              "#ed7953"
             ],
             [
              0.7777777777777778,
              "#fb9f3a"
             ],
             [
              0.8888888888888888,
              "#fdca26"
             ],
             [
              1,
              "#f0f921"
             ]
            ],
            "type": "histogram2d"
           }
          ],
          "histogram2dcontour": [
           {
            "colorbar": {
             "outlinewidth": 0,
             "ticks": ""
            },
            "colorscale": [
             [
              0,
              "#0d0887"
             ],
             [
              0.1111111111111111,
              "#46039f"
             ],
             [
              0.2222222222222222,
              "#7201a8"
             ],
             [
              0.3333333333333333,
              "#9c179e"
             ],
             [
              0.4444444444444444,
              "#bd3786"
             ],
             [
              0.5555555555555556,
              "#d8576b"
             ],
             [
              0.6666666666666666,
              "#ed7953"
             ],
             [
              0.7777777777777778,
              "#fb9f3a"
             ],
             [
              0.8888888888888888,
              "#fdca26"
             ],
             [
              1,
              "#f0f921"
             ]
            ],
            "type": "histogram2dcontour"
           }
          ],
          "mesh3d": [
           {
            "colorbar": {
             "outlinewidth": 0,
             "ticks": ""
            },
            "type": "mesh3d"
           }
          ],
          "parcoords": [
           {
            "line": {
             "colorbar": {
              "outlinewidth": 0,
              "ticks": ""
             }
            },
            "type": "parcoords"
           }
          ],
          "pie": [
           {
            "automargin": true,
            "type": "pie"
           }
          ],
          "scatter": [
           {
            "fillpattern": {
             "fillmode": "overlay",
             "size": 10,
             "solidity": 0.2
            },
            "type": "scatter"
           }
          ],
          "scatter3d": [
           {
            "line": {
             "colorbar": {
              "outlinewidth": 0,
              "ticks": ""
             }
            },
            "marker": {
             "colorbar": {
              "outlinewidth": 0,
              "ticks": ""
             }
            },
            "type": "scatter3d"
           }
          ],
          "scattercarpet": [
           {
            "marker": {
             "colorbar": {
              "outlinewidth": 0,
              "ticks": ""
             }
            },
            "type": "scattercarpet"
           }
          ],
          "scattergeo": [
           {
            "marker": {
             "colorbar": {
              "outlinewidth": 0,
              "ticks": ""
             }
            },
            "type": "scattergeo"
           }
          ],
          "scattergl": [
           {
            "marker": {
             "colorbar": {
              "outlinewidth": 0,
              "ticks": ""
             }
            },
            "type": "scattergl"
           }
          ],
          "scattermap": [
           {
            "marker": {
             "colorbar": {
              "outlinewidth": 0,
              "ticks": ""
             }
            },
            "type": "scattermap"
           }
          ],
          "scattermapbox": [
           {
            "marker": {
             "colorbar": {
              "outlinewidth": 0,
              "ticks": ""
             }
            },
            "type": "scattermapbox"
           }
          ],
          "scatterpolar": [
           {
            "marker": {
             "colorbar": {
              "outlinewidth": 0,
              "ticks": ""
             }
            },
            "type": "scatterpolar"
           }
          ],
          "scatterpolargl": [
           {
            "marker": {
             "colorbar": {
              "outlinewidth": 0,
              "ticks": ""
             }
            },
            "type": "scatterpolargl"
           }
          ],
          "scatterternary": [
           {
            "marker": {
             "colorbar": {
              "outlinewidth": 0,
              "ticks": ""
             }
            },
            "type": "scatterternary"
           }
          ],
          "surface": [
           {
            "colorbar": {
             "outlinewidth": 0,
             "ticks": ""
            },
            "colorscale": [
             [
              0,
              "#0d0887"
             ],
             [
              0.1111111111111111,
              "#46039f"
             ],
             [
              0.2222222222222222,
              "#7201a8"
             ],
             [
              0.3333333333333333,
              "#9c179e"
             ],
             [
              0.4444444444444444,
              "#bd3786"
             ],
             [
              0.5555555555555556,
              "#d8576b"
             ],
             [
              0.6666666666666666,
              "#ed7953"
             ],
             [
              0.7777777777777778,
              "#fb9f3a"
             ],
             [
              0.8888888888888888,
              "#fdca26"
             ],
             [
              1,
              "#f0f921"
             ]
            ],
            "type": "surface"
           }
          ],
          "table": [
           {
            "cells": {
             "fill": {
              "color": "#EBF0F8"
             },
             "line": {
              "color": "white"
             }
            },
            "header": {
             "fill": {
              "color": "#C8D4E3"
             },
             "line": {
              "color": "white"
             }
            },
            "type": "table"
           }
          ]
         },
         "layout": {
          "annotationdefaults": {
           "arrowcolor": "#2a3f5f",
           "arrowhead": 0,
           "arrowwidth": 1
          },
          "autotypenumbers": "strict",
          "coloraxis": {
           "colorbar": {
            "outlinewidth": 0,
            "ticks": ""
           }
          },
          "colorscale": {
           "diverging": [
            [
             0,
             "#8e0152"
            ],
            [
             0.1,
             "#c51b7d"
            ],
            [
             0.2,
             "#de77ae"
            ],
            [
             0.3,
             "#f1b6da"
            ],
            [
             0.4,
             "#fde0ef"
            ],
            [
             0.5,
             "#f7f7f7"
            ],
            [
             0.6,
             "#e6f5d0"
            ],
            [
             0.7,
             "#b8e186"
            ],
            [
             0.8,
             "#7fbc41"
            ],
            [
             0.9,
             "#4d9221"
            ],
            [
             1,
             "#276419"
            ]
           ],
           "sequential": [
            [
             0,
             "#0d0887"
            ],
            [
             0.1111111111111111,
             "#46039f"
            ],
            [
             0.2222222222222222,
             "#7201a8"
            ],
            [
             0.3333333333333333,
             "#9c179e"
            ],
            [
             0.4444444444444444,
             "#bd3786"
            ],
            [
             0.5555555555555556,
             "#d8576b"
            ],
            [
             0.6666666666666666,
             "#ed7953"
            ],
            [
             0.7777777777777778,
             "#fb9f3a"
            ],
            [
             0.8888888888888888,
             "#fdca26"
            ],
            [
             1,
             "#f0f921"
            ]
           ],
           "sequentialminus": [
            [
             0,
             "#0d0887"
            ],
            [
             0.1111111111111111,
             "#46039f"
            ],
            [
             0.2222222222222222,
             "#7201a8"
            ],
            [
             0.3333333333333333,
             "#9c179e"
            ],
            [
             0.4444444444444444,
             "#bd3786"
            ],
            [
             0.5555555555555556,
             "#d8576b"
            ],
            [
             0.6666666666666666,
             "#ed7953"
            ],
            [
             0.7777777777777778,
             "#fb9f3a"
            ],
            [
             0.8888888888888888,
             "#fdca26"
            ],
            [
             1,
             "#f0f921"
            ]
           ]
          },
          "colorway": [
           "#636efa",
           "#EF553B",
           "#00cc96",
           "#ab63fa",
           "#FFA15A",
           "#19d3f3",
           "#FF6692",
           "#B6E880",
           "#FF97FF",
           "#FECB52"
          ],
          "font": {
           "color": "#2a3f5f"
          },
          "geo": {
           "bgcolor": "white",
           "lakecolor": "white",
           "landcolor": "#E5ECF6",
           "showlakes": true,
           "showland": true,
           "subunitcolor": "white"
          },
          "hoverlabel": {
           "align": "left"
          },
          "hovermode": "closest",
          "mapbox": {
           "style": "light"
          },
          "paper_bgcolor": "white",
          "plot_bgcolor": "#E5ECF6",
          "polar": {
           "angularaxis": {
            "gridcolor": "white",
            "linecolor": "white",
            "ticks": ""
           },
           "bgcolor": "#E5ECF6",
           "radialaxis": {
            "gridcolor": "white",
            "linecolor": "white",
            "ticks": ""
           }
          },
          "scene": {
           "xaxis": {
            "backgroundcolor": "#E5ECF6",
            "gridcolor": "white",
            "gridwidth": 2,
            "linecolor": "white",
            "showbackground": true,
            "ticks": "",
            "zerolinecolor": "white"
           },
           "yaxis": {
            "backgroundcolor": "#E5ECF6",
            "gridcolor": "white",
            "gridwidth": 2,
            "linecolor": "white",
            "showbackground": true,
            "ticks": "",
            "zerolinecolor": "white"
           },
           "zaxis": {
            "backgroundcolor": "#E5ECF6",
            "gridcolor": "white",
            "gridwidth": 2,
            "linecolor": "white",
            "showbackground": true,
            "ticks": "",
            "zerolinecolor": "white"
           }
          },
          "shapedefaults": {
           "line": {
            "color": "#2a3f5f"
           }
          },
          "ternary": {
           "aaxis": {
            "gridcolor": "white",
            "linecolor": "white",
            "ticks": ""
           },
           "baxis": {
            "gridcolor": "white",
            "linecolor": "white",
            "ticks": ""
           },
           "bgcolor": "#E5ECF6",
           "caxis": {
            "gridcolor": "white",
            "linecolor": "white",
            "ticks": ""
           }
          },
          "title": {
           "x": 0.05
          },
          "xaxis": {
           "automargin": true,
           "gridcolor": "white",
           "linecolor": "white",
           "ticks": "",
           "title": {
            "standoff": 15
           },
           "zerolinecolor": "white",
           "zerolinewidth": 2
          },
          "yaxis": {
           "automargin": true,
           "gridcolor": "white",
           "linecolor": "white",
           "ticks": "",
           "title": {
            "standoff": 15
           },
           "zerolinecolor": "white",
           "zerolinewidth": 2
          }
         }
        },
        "title": {
         "text": "Feature Variance (Low-Variance Highlighted in Red)"
        },
        "width": 1000,
        "xaxis": {
         "anchor": "y",
         "domain": [
          0,
          1
         ],
         "tickangle": -45,
         "title": {
          "text": "Feature"
         }
        },
        "yaxis": {
         "anchor": "x",
         "domain": [
          0,
          1
         ],
         "title": {
          "text": "Variance"
         }
        }
       }
      }
     },
     "metadata": {},
     "output_type": "display_data"
    }
   ],
   "source": [
    "# Faqat sonli ustunlarni tanlab olamiz\n",
    "numeric_cols = df.select_dtypes(include=[np.number]).columns\n",
    "\n",
    "# Har bir sonli ustun uchun variansani hisoblaymiz\n",
    "variances = df[numeric_cols].var()\n",
    "\n",
    "# Past variansa uchun threshold belgilaymiz (masalan: 0.01)\n",
    "threshold = 0.01\n",
    "\n",
    "# Threshold’dan kichik bo‘lgan variansali ustunlarni topamiz\n",
    "low_variance_features = variances[variances < threshold].index.tolist()\n",
    "\n",
    "# Natijani DataFrame ko‘rinishida saqlaymiz\n",
    "# Feature -> ustun nomi\n",
    "# Variance -> ustunning varians qiymati\n",
    "# LowVariance -> agar ustun past variansli bo‘lsa 'Yes', aks holda 'No'\n",
    "var_df = pd.DataFrame({\n",
    "    'Feature': variances.index,\n",
    "    'Variance': variances.values,\n",
    "    'LowVariance': ['Yes' if f in low_variance_features else 'No' for f in variances.index]\n",
    "})\n",
    "\n",
    "# Plotly Express yordamida bar chart (ustunli grafik) chizamiz\n",
    "fig = px.bar(\n",
    "    var_df,\n",
    "    x='Feature',        # x o‘qi – ustun nomlari\n",
    "    y='Variance',       # y o‘qi – varians qiymati\n",
    "    color='LowVariance',  # rang past variansli yoki yo‘qligiga qarab belgilanadi\n",
    "    color_discrete_map={'Yes': 'red', 'No': 'blue'},  # Yes -> qizil, No -> ko‘k\n",
    "    text='Variance',    # ustun ustiga varians qiymatini yozib qo‘yish\n",
    "    title='Feature Variance (Low-Variance Highlighted in Red)'  # grafik sarlavhasi\n",
    ")\n",
    "\n",
    "# Grafikni sozlash: x o‘qi yozuvlarini 45° buramiz, grafik o‘lchamini belgilaymiz\n",
    "fig.update_layout(\n",
    "    xaxis_tickangle=-45,\n",
    "    width=1000,\n",
    "    height=600\n",
    ")\n",
    "\n",
    "# Grafikni ko‘rsatish\n",
    "fig.show()"
   ]
  },
  {
   "cell_type": "code",
   "execution_count": 18,
   "id": "bd4d4b96",
   "metadata": {},
   "outputs": [
    {
     "name": "stdout",
     "output_type": "stream",
     "text": [
      "<class 'pandas.core.frame.DataFrame'>\n",
      "RangeIndex: 55500 entries, 0 to 55499\n",
      "Data columns (total 26 columns):\n",
      " #   Column                               Non-Null Count  Dtype  \n",
      "---  ------                               --------------  -----  \n",
      " 0   Name                                 55500 non-null  float64\n",
      " 1   Age                                  55500 non-null  float64\n",
      " 2   Blood Type                           55500 non-null  float64\n",
      " 3   Medical Condition                    55500 non-null  float64\n",
      " 4   Date of Admission                    55500 non-null  float64\n",
      " 5   Doctor                               55500 non-null  float64\n",
      " 6   Hospital                             55500 non-null  float64\n",
      " 7   Billing Amount                       55500 non-null  float64\n",
      " 8   Room Number                          55500 non-null  float64\n",
      " 9   Gender_Female                        55500 non-null  float64\n",
      " 10  Insurance Provider_Aetna             55500 non-null  float64\n",
      " 11  Insurance Provider_Blue Cross        55500 non-null  float64\n",
      " 12  Insurance Provider_Cigna             55500 non-null  float64\n",
      " 13  Insurance Provider_Medicare          55500 non-null  float64\n",
      " 14  Insurance Provider_UnitedHealthcare  55500 non-null  float64\n",
      " 15  Admission Type_Elective              55500 non-null  float64\n",
      " 16  Admission Type_Emergency             55500 non-null  float64\n",
      " 17  Admission Type_Urgent                55500 non-null  float64\n",
      " 18  Medication_Aspirin                   55500 non-null  float64\n",
      " 19  Medication_Ibuprofen                 55500 non-null  float64\n",
      " 20  Medication_Lipitor                   55500 non-null  float64\n",
      " 21  Medication_Paracetamol               55500 non-null  float64\n",
      " 22  Medication_Penicillin                55500 non-null  float64\n",
      " 23  Test Results_Abnormal                55500 non-null  float64\n",
      " 24  Test Results_Inconclusive            55500 non-null  float64\n",
      " 25  Test Results_Normal                  55500 non-null  float64\n",
      "dtypes: float64(26)\n",
      "memory usage: 11.0 MB\n"
     ]
    }
   ],
   "source": [
    "df_filtered.info()"
   ]
  },
  {
   "cell_type": "code",
   "execution_count": null,
   "id": "820fa36a",
   "metadata": {},
   "outputs": [],
   "source": [
    "#Drop qilinishi kerak"
   ]
  },
  {
   "cell_type": "code",
   "execution_count": 22,
   "id": "fe80da68",
   "metadata": {},
   "outputs": [],
   "source": [
    "# Recursive Feature Elimination (RFE) uchun kerakli kutubxonalarni chaqirib olamiz\n",
    "from sklearn.feature_selection import RFE\n",
    "from sklearn.linear_model import LinearRegression\n",
    "\n",
    "# Ma'lumotlarni X va y ga ajratamiz:\n",
    "# X - xususiyatlar (features), ya'ni 'Medical Condition' dan tashqari barcha ustunlar\n",
    "X = df.drop('Medical Condition', axis=1)\n",
    "\n",
    "# y - target (maqsadli ustun), ya'ni 'xG'\n",
    "y = df['Medical Condition']\n"
   ]
  },
  {
   "cell_type": "code",
   "execution_count": null,
   "id": "a9e43cac",
   "metadata": {},
   "outputs": [
    {
     "name": "stdout",
     "output_type": "stream",
     "text": [
      "Selected features: Index(['Name', 'Age', 'Blood Type', 'Date of Admission', 'Billing Amount',\n",
      "       'Room Number', 'Discharge Date', 'Insurance Provider_Cigna',\n",
      "       'Insurance Provider_UnitedHealthcare', 'Medication_Paracetamol'],\n",
      "      dtype='object')\n"
     ]
    }
   ],
   "source": [
    "# Oddiy chiziqli regressiya modelini yaratamiz (bu model RFE uchun asos bo'ladi)\n",
    "model = LinearRegression()\n",
    "\n",
    "# RFE (Recursive Feature Elimination) obyektini yaratamiz\n",
    "# Bu yerda model sifatida LinearRegression ishlatiladi\n",
    "# n_features_to_select=10 -> eng yaxshi 10 ta xususiyat (feature) tanlab olinadi\n",
    "rfe = RFE(model, n_features_to_select=10)\n",
    "\n",
    "# RFE ni X va y ma'lumotlari bo'yicha o'rgatamiz\n",
    "# Bu jarayonda RFE iterativ ravishda eng kam ahamiyatli xususiyatlarni olib tashlaydi\n",
    "rfe.fit(X, y)\n",
    "\n",
    "# Tanlab olingan xususiyatlarni olish:\n",
    "# rfe.support_ -> True/False massiv qaytaradi (True = tanlangan feature)\n",
    "selected_features = X.columns[rfe.support_]\n",
    "\n",
    "# Eng yaxshi tanlangan featurelarni chiqaramiz\n",
    "print(\"Selected features:\", selected_features)\n"
   ]
  },
  {
   "cell_type": "code",
   "execution_count": 24,
   "id": "211642b5",
   "metadata": {},
   "outputs": [
    {
     "name": "stderr",
     "output_type": "stream",
     "text": [
      "c:\\Users\\Rasulbek_Ruzmetov\\AppData\\Local\\Programs\\Python\\Python313\\Lib\\site-packages\\sklearn\\linear_model\\_coordinate_descent.py:681: ConvergenceWarning:\n",
      "\n",
      "Objective did not converge. You might want to increase the number of iterations. Duality gap: 8.592246516956948, tolerance: 0.58360598198198\n",
      "\n",
      "c:\\Users\\Rasulbek_Ruzmetov\\AppData\\Local\\Programs\\Python\\Python313\\Lib\\site-packages\\sklearn\\linear_model\\_coordinate_descent.py:681: ConvergenceWarning:\n",
      "\n",
      "Objective did not converge. You might want to increase the number of iterations. Duality gap: 54.50868663179335, tolerance: 0.58360598198198\n",
      "\n",
      "c:\\Users\\Rasulbek_Ruzmetov\\AppData\\Local\\Programs\\Python\\Python313\\Lib\\site-packages\\sklearn\\linear_model\\_coordinate_descent.py:681: ConvergenceWarning:\n",
      "\n",
      "Objective did not converge. You might want to increase the number of iterations. Duality gap: 110.05699002896108, tolerance: 0.58360598198198\n",
      "\n",
      "c:\\Users\\Rasulbek_Ruzmetov\\AppData\\Local\\Programs\\Python\\Python313\\Lib\\site-packages\\sklearn\\linear_model\\_coordinate_descent.py:681: ConvergenceWarning:\n",
      "\n",
      "Objective did not converge. You might want to increase the number of iterations. Duality gap: 162.42102385937778, tolerance: 0.58360598198198\n",
      "\n",
      "c:\\Users\\Rasulbek_Ruzmetov\\AppData\\Local\\Programs\\Python\\Python313\\Lib\\site-packages\\sklearn\\linear_model\\_coordinate_descent.py:681: ConvergenceWarning:\n",
      "\n",
      "Objective did not converge. You might want to increase the number of iterations. Duality gap: 208.05545054905087, tolerance: 0.58360598198198\n",
      "\n",
      "c:\\Users\\Rasulbek_Ruzmetov\\AppData\\Local\\Programs\\Python\\Python313\\Lib\\site-packages\\sklearn\\linear_model\\_coordinate_descent.py:681: ConvergenceWarning:\n",
      "\n",
      "Objective did not converge. You might want to increase the number of iterations. Duality gap: 246.54562471083682, tolerance: 0.58360598198198\n",
      "\n",
      "c:\\Users\\Rasulbek_Ruzmetov\\AppData\\Local\\Programs\\Python\\Python313\\Lib\\site-packages\\sklearn\\linear_model\\_coordinate_descent.py:681: ConvergenceWarning:\n",
      "\n",
      "Objective did not converge. You might want to increase the number of iterations. Duality gap: 278.5141501112839, tolerance: 0.58360598198198\n",
      "\n",
      "c:\\Users\\Rasulbek_Ruzmetov\\AppData\\Local\\Programs\\Python\\Python313\\Lib\\site-packages\\sklearn\\linear_model\\_coordinate_descent.py:681: ConvergenceWarning:\n",
      "\n",
      "Objective did not converge. You might want to increase the number of iterations. Duality gap: 304.86247926645956, tolerance: 0.58360598198198\n",
      "\n",
      "c:\\Users\\Rasulbek_Ruzmetov\\AppData\\Local\\Programs\\Python\\Python313\\Lib\\site-packages\\sklearn\\linear_model\\_coordinate_descent.py:681: ConvergenceWarning:\n",
      "\n",
      "Objective did not converge. You might want to increase the number of iterations. Duality gap: 326.493266544956, tolerance: 0.58360598198198\n",
      "\n",
      "c:\\Users\\Rasulbek_Ruzmetov\\AppData\\Local\\Programs\\Python\\Python313\\Lib\\site-packages\\sklearn\\linear_model\\_coordinate_descent.py:681: ConvergenceWarning:\n",
      "\n",
      "Objective did not converge. You might want to increase the number of iterations. Duality gap: 344.21565547612136, tolerance: 0.58360598198198\n",
      "\n",
      "c:\\Users\\Rasulbek_Ruzmetov\\AppData\\Local\\Programs\\Python\\Python313\\Lib\\site-packages\\sklearn\\linear_model\\_coordinate_descent.py:681: ConvergenceWarning:\n",
      "\n",
      "Objective did not converge. You might want to increase the number of iterations. Duality gap: 358.7217884999918, tolerance: 0.58360598198198\n",
      "\n",
      "c:\\Users\\Rasulbek_Ruzmetov\\AppData\\Local\\Programs\\Python\\Python313\\Lib\\site-packages\\sklearn\\linear_model\\_coordinate_descent.py:681: ConvergenceWarning:\n",
      "\n",
      "Objective did not converge. You might want to increase the number of iterations. Duality gap: 370.59048006143394, tolerance: 0.58360598198198\n",
      "\n",
      "c:\\Users\\Rasulbek_Ruzmetov\\AppData\\Local\\Programs\\Python\\Python313\\Lib\\site-packages\\sklearn\\linear_model\\_coordinate_descent.py:681: ConvergenceWarning:\n",
      "\n",
      "Objective did not converge. You might want to increase the number of iterations. Duality gap: 380.3001818349262, tolerance: 0.58360598198198\n",
      "\n",
      "c:\\Users\\Rasulbek_Ruzmetov\\AppData\\Local\\Programs\\Python\\Python313\\Lib\\site-packages\\sklearn\\linear_model\\_coordinate_descent.py:681: ConvergenceWarning:\n",
      "\n",
      "Objective did not converge. You might want to increase the number of iterations. Duality gap: 388.2439847587475, tolerance: 0.58360598198198\n",
      "\n",
      "c:\\Users\\Rasulbek_Ruzmetov\\AppData\\Local\\Programs\\Python\\Python313\\Lib\\site-packages\\sklearn\\linear_model\\_coordinate_descent.py:681: ConvergenceWarning:\n",
      "\n",
      "Objective did not converge. You might want to increase the number of iterations. Duality gap: 394.74383284793475, tolerance: 0.58360598198198\n",
      "\n",
      "c:\\Users\\Rasulbek_Ruzmetov\\AppData\\Local\\Programs\\Python\\Python313\\Lib\\site-packages\\sklearn\\linear_model\\_coordinate_descent.py:681: ConvergenceWarning:\n",
      "\n",
      "Objective did not converge. You might want to increase the number of iterations. Duality gap: 400.0629941891357, tolerance: 0.58360598198198\n",
      "\n",
      "c:\\Users\\Rasulbek_Ruzmetov\\AppData\\Local\\Programs\\Python\\Python313\\Lib\\site-packages\\sklearn\\linear_model\\_coordinate_descent.py:681: ConvergenceWarning:\n",
      "\n",
      "Objective did not converge. You might want to increase the number of iterations. Duality gap: 404.4166149738003, tolerance: 0.58360598198198\n",
      "\n",
      "c:\\Users\\Rasulbek_Ruzmetov\\AppData\\Local\\Programs\\Python\\Python313\\Lib\\site-packages\\sklearn\\linear_model\\_coordinate_descent.py:681: ConvergenceWarning:\n",
      "\n",
      "Objective did not converge. You might want to increase the number of iterations. Duality gap: 407.9804870697785, tolerance: 0.58360598198198\n",
      "\n",
      "c:\\Users\\Rasulbek_Ruzmetov\\AppData\\Local\\Programs\\Python\\Python313\\Lib\\site-packages\\sklearn\\linear_model\\_coordinate_descent.py:681: ConvergenceWarning:\n",
      "\n",
      "Objective did not converge. You might want to increase the number of iterations. Duality gap: 410.8982600670638, tolerance: 0.58360598198198\n",
      "\n",
      "c:\\Users\\Rasulbek_Ruzmetov\\AppData\\Local\\Programs\\Python\\Python313\\Lib\\site-packages\\sklearn\\linear_model\\_coordinate_descent.py:681: ConvergenceWarning:\n",
      "\n",
      "Objective did not converge. You might want to increase the number of iterations. Duality gap: 413.2873450185725, tolerance: 0.58360598198198\n",
      "\n",
      "c:\\Users\\Rasulbek_Ruzmetov\\AppData\\Local\\Programs\\Python\\Python313\\Lib\\site-packages\\sklearn\\linear_model\\_coordinate_descent.py:681: ConvergenceWarning:\n",
      "\n",
      "Objective did not converge. You might want to increase the number of iterations. Duality gap: 415.2437329877048, tolerance: 0.58360598198198\n",
      "\n",
      "c:\\Users\\Rasulbek_Ruzmetov\\AppData\\Local\\Programs\\Python\\Python313\\Lib\\site-packages\\sklearn\\linear_model\\_coordinate_descent.py:681: ConvergenceWarning:\n",
      "\n",
      "Objective did not converge. You might want to increase the number of iterations. Duality gap: 416.8459256737606, tolerance: 0.58360598198198\n",
      "\n",
      "c:\\Users\\Rasulbek_Ruzmetov\\AppData\\Local\\Programs\\Python\\Python313\\Lib\\site-packages\\sklearn\\linear_model\\_coordinate_descent.py:681: ConvergenceWarning:\n",
      "\n",
      "Objective did not converge. You might want to increase the number of iterations. Duality gap: 418.15813831599644, tolerance: 0.58360598198198\n",
      "\n",
      "c:\\Users\\Rasulbek_Ruzmetov\\AppData\\Local\\Programs\\Python\\Python313\\Lib\\site-packages\\sklearn\\linear_model\\_coordinate_descent.py:681: ConvergenceWarning:\n",
      "\n",
      "Objective did not converge. You might want to increase the number of iterations. Duality gap: 419.23291384672257, tolerance: 0.58360598198198\n",
      "\n",
      "c:\\Users\\Rasulbek_Ruzmetov\\AppData\\Local\\Programs\\Python\\Python313\\Lib\\site-packages\\sklearn\\linear_model\\_coordinate_descent.py:681: ConvergenceWarning:\n",
      "\n",
      "Objective did not converge. You might want to increase the number of iterations. Duality gap: 24.065991763490274, tolerance: 0.582581711711711\n",
      "\n",
      "c:\\Users\\Rasulbek_Ruzmetov\\AppData\\Local\\Programs\\Python\\Python313\\Lib\\site-packages\\sklearn\\linear_model\\_coordinate_descent.py:681: ConvergenceWarning:\n",
      "\n",
      "Objective did not converge. You might want to increase the number of iterations. Duality gap: 76.55275081920354, tolerance: 0.582581711711711\n",
      "\n",
      "c:\\Users\\Rasulbek_Ruzmetov\\AppData\\Local\\Programs\\Python\\Python313\\Lib\\site-packages\\sklearn\\linear_model\\_coordinate_descent.py:681: ConvergenceWarning:\n",
      "\n",
      "Objective did not converge. You might want to increase the number of iterations. Duality gap: 131.79191273463766, tolerance: 0.582581711711711\n",
      "\n",
      "c:\\Users\\Rasulbek_Ruzmetov\\AppData\\Local\\Programs\\Python\\Python313\\Lib\\site-packages\\sklearn\\linear_model\\_coordinate_descent.py:681: ConvergenceWarning:\n",
      "\n",
      "Objective did not converge. You might want to increase the number of iterations. Duality gap: 181.85809566758144, tolerance: 0.582581711711711\n",
      "\n",
      "c:\\Users\\Rasulbek_Ruzmetov\\AppData\\Local\\Programs\\Python\\Python313\\Lib\\site-packages\\sklearn\\linear_model\\_coordinate_descent.py:681: ConvergenceWarning:\n",
      "\n",
      "Objective did not converge. You might want to increase the number of iterations. Duality gap: 224.83525566948356, tolerance: 0.582581711711711\n",
      "\n",
      "c:\\Users\\Rasulbek_Ruzmetov\\AppData\\Local\\Programs\\Python\\Python313\\Lib\\site-packages\\sklearn\\linear_model\\_coordinate_descent.py:681: ConvergenceWarning:\n",
      "\n",
      "Objective did not converge. You might want to increase the number of iterations. Duality gap: 260.85190266584505, tolerance: 0.582581711711711\n",
      "\n",
      "c:\\Users\\Rasulbek_Ruzmetov\\AppData\\Local\\Programs\\Python\\Python313\\Lib\\site-packages\\sklearn\\linear_model\\_coordinate_descent.py:681: ConvergenceWarning:\n",
      "\n",
      "Objective did not converge. You might want to increase the number of iterations. Duality gap: 290.6863300367504, tolerance: 0.582581711711711\n",
      "\n",
      "c:\\Users\\Rasulbek_Ruzmetov\\AppData\\Local\\Programs\\Python\\Python313\\Lib\\site-packages\\sklearn\\linear_model\\_coordinate_descent.py:681: ConvergenceWarning:\n",
      "\n",
      "Objective did not converge. You might want to increase the number of iterations. Duality gap: 315.2546982481772, tolerance: 0.582581711711711\n",
      "\n",
      "c:\\Users\\Rasulbek_Ruzmetov\\AppData\\Local\\Programs\\Python\\Python313\\Lib\\site-packages\\sklearn\\linear_model\\_coordinate_descent.py:681: ConvergenceWarning:\n",
      "\n",
      "Objective did not converge. You might want to increase the number of iterations. Duality gap: 335.4257536514483, tolerance: 0.582581711711711\n",
      "\n",
      "c:\\Users\\Rasulbek_Ruzmetov\\AppData\\Local\\Programs\\Python\\Python313\\Lib\\site-packages\\sklearn\\linear_model\\_coordinate_descent.py:681: ConvergenceWarning:\n",
      "\n",
      "Objective did not converge. You might want to increase the number of iterations. Duality gap: 351.9617131806813, tolerance: 0.582581711711711\n",
      "\n",
      "c:\\Users\\Rasulbek_Ruzmetov\\AppData\\Local\\Programs\\Python\\Python313\\Lib\\site-packages\\sklearn\\linear_model\\_coordinate_descent.py:681: ConvergenceWarning:\n",
      "\n",
      "Objective did not converge. You might want to increase the number of iterations. Duality gap: 365.5083040077002, tolerance: 0.582581711711711\n",
      "\n",
      "c:\\Users\\Rasulbek_Ruzmetov\\AppData\\Local\\Programs\\Python\\Python313\\Lib\\site-packages\\sklearn\\linear_model\\_coordinate_descent.py:681: ConvergenceWarning:\n",
      "\n",
      "Objective did not converge. You might want to increase the number of iterations. Duality gap: 376.6031162228269, tolerance: 0.582581711711711\n",
      "\n",
      "c:\\Users\\Rasulbek_Ruzmetov\\AppData\\Local\\Programs\\Python\\Python313\\Lib\\site-packages\\sklearn\\linear_model\\_coordinate_descent.py:681: ConvergenceWarning:\n",
      "\n",
      "Objective did not converge. You might want to increase the number of iterations. Duality gap: 385.6896822887825, tolerance: 0.582581711711711\n",
      "\n",
      "c:\\Users\\Rasulbek_Ruzmetov\\AppData\\Local\\Programs\\Python\\Python313\\Lib\\site-packages\\sklearn\\linear_model\\_coordinate_descent.py:681: ConvergenceWarning:\n",
      "\n",
      "Objective did not converge. You might want to increase the number of iterations. Duality gap: 393.1322085618722, tolerance: 0.582581711711711\n",
      "\n",
      "c:\\Users\\Rasulbek_Ruzmetov\\AppData\\Local\\Programs\\Python\\Python313\\Lib\\site-packages\\sklearn\\linear_model\\_coordinate_descent.py:681: ConvergenceWarning:\n",
      "\n",
      "Objective did not converge. You might want to increase the number of iterations. Duality gap: 399.22904728414096, tolerance: 0.582581711711711\n",
      "\n",
      "c:\\Users\\Rasulbek_Ruzmetov\\AppData\\Local\\Programs\\Python\\Python313\\Lib\\site-packages\\sklearn\\linear_model\\_coordinate_descent.py:681: ConvergenceWarning:\n",
      "\n",
      "Objective did not converge. You might want to increase the number of iterations. Duality gap: 404.2243317540742, tolerance: 0.582581711711711\n",
      "\n",
      "c:\\Users\\Rasulbek_Ruzmetov\\AppData\\Local\\Programs\\Python\\Python313\\Lib\\site-packages\\sklearn\\linear_model\\_coordinate_descent.py:681: ConvergenceWarning:\n",
      "\n",
      "Objective did not converge. You might want to increase the number of iterations. Duality gap: 408.3177488446331, tolerance: 0.582581711711711\n",
      "\n",
      "c:\\Users\\Rasulbek_Ruzmetov\\AppData\\Local\\Programs\\Python\\Python313\\Lib\\site-packages\\sklearn\\linear_model\\_coordinate_descent.py:681: ConvergenceWarning:\n",
      "\n",
      "Objective did not converge. You might want to increase the number of iterations. Duality gap: 411.6726275240717, tolerance: 0.582581711711711\n",
      "\n",
      "c:\\Users\\Rasulbek_Ruzmetov\\AppData\\Local\\Programs\\Python\\Python313\\Lib\\site-packages\\sklearn\\linear_model\\_coordinate_descent.py:681: ConvergenceWarning:\n",
      "\n",
      "Objective did not converge. You might want to increase the number of iterations. Duality gap: 414.42258216559276, tolerance: 0.582581711711711\n",
      "\n",
      "c:\\Users\\Rasulbek_Ruzmetov\\AppData\\Local\\Programs\\Python\\Python313\\Lib\\site-packages\\sklearn\\linear_model\\_coordinate_descent.py:681: ConvergenceWarning:\n",
      "\n",
      "Objective did not converge. You might want to increase the number of iterations. Duality gap: 416.67694780833153, tolerance: 0.582581711711711\n",
      "\n",
      "c:\\Users\\Rasulbek_Ruzmetov\\AppData\\Local\\Programs\\Python\\Python313\\Lib\\site-packages\\sklearn\\linear_model\\_coordinate_descent.py:681: ConvergenceWarning:\n",
      "\n",
      "Objective did not converge. You might want to increase the number of iterations. Duality gap: 418.525219253067, tolerance: 0.582581711711711\n",
      "\n",
      "c:\\Users\\Rasulbek_Ruzmetov\\AppData\\Local\\Programs\\Python\\Python313\\Lib\\site-packages\\sklearn\\linear_model\\_coordinate_descent.py:681: ConvergenceWarning:\n",
      "\n",
      "Objective did not converge. You might want to increase the number of iterations. Duality gap: 420.04067239535925, tolerance: 0.582581711711711\n",
      "\n",
      "c:\\Users\\Rasulbek_Ruzmetov\\AppData\\Local\\Programs\\Python\\Python313\\Lib\\site-packages\\sklearn\\linear_model\\_coordinate_descent.py:681: ConvergenceWarning:\n",
      "\n",
      "Objective did not converge. You might want to increase the number of iterations. Duality gap: 421.28332083890564, tolerance: 0.582581711711711\n",
      "\n",
      "c:\\Users\\Rasulbek_Ruzmetov\\AppData\\Local\\Programs\\Python\\Python313\\Lib\\site-packages\\sklearn\\linear_model\\_coordinate_descent.py:681: ConvergenceWarning:\n",
      "\n",
      "Objective did not converge. You might want to increase the number of iterations. Duality gap: 422.3023279812578, tolerance: 0.582581711711711\n",
      "\n",
      "c:\\Users\\Rasulbek_Ruzmetov\\AppData\\Local\\Programs\\Python\\Python313\\Lib\\site-packages\\sklearn\\linear_model\\_coordinate_descent.py:681: ConvergenceWarning:\n",
      "\n",
      "Objective did not converge. You might want to increase the number of iterations. Duality gap: 10.455259201236913, tolerance: 0.5829817750550562\n",
      "\n",
      "c:\\Users\\Rasulbek_Ruzmetov\\AppData\\Local\\Programs\\Python\\Python313\\Lib\\site-packages\\sklearn\\linear_model\\_coordinate_descent.py:681: ConvergenceWarning:\n",
      "\n",
      "Objective did not converge. You might want to increase the number of iterations. Duality gap: 57.65134947962906, tolerance: 0.5829817750550562\n",
      "\n",
      "c:\\Users\\Rasulbek_Ruzmetov\\AppData\\Local\\Programs\\Python\\Python313\\Lib\\site-packages\\sklearn\\linear_model\\_coordinate_descent.py:681: ConvergenceWarning:\n",
      "\n",
      "Objective did not converge. You might want to increase the number of iterations. Duality gap: 113.33623860410898, tolerance: 0.5829817750550562\n",
      "\n",
      "c:\\Users\\Rasulbek_Ruzmetov\\AppData\\Local\\Programs\\Python\\Python313\\Lib\\site-packages\\sklearn\\linear_model\\_coordinate_descent.py:681: ConvergenceWarning:\n",
      "\n",
      "Objective did not converge. You might want to increase the number of iterations. Duality gap: 165.51668558239362, tolerance: 0.5829817750550562\n",
      "\n",
      "c:\\Users\\Rasulbek_Ruzmetov\\AppData\\Local\\Programs\\Python\\Python313\\Lib\\site-packages\\sklearn\\linear_model\\_coordinate_descent.py:681: ConvergenceWarning:\n",
      "\n",
      "Objective did not converge. You might want to increase the number of iterations. Duality gap: 210.90880818003006, tolerance: 0.5829817750550562\n",
      "\n",
      "c:\\Users\\Rasulbek_Ruzmetov\\AppData\\Local\\Programs\\Python\\Python313\\Lib\\site-packages\\sklearn\\linear_model\\_coordinate_descent.py:681: ConvergenceWarning:\n",
      "\n",
      "Objective did not converge. You might want to increase the number of iterations. Duality gap: 249.18006407617304, tolerance: 0.5829817750550562\n",
      "\n",
      "c:\\Users\\Rasulbek_Ruzmetov\\AppData\\Local\\Programs\\Python\\Python313\\Lib\\site-packages\\sklearn\\linear_model\\_coordinate_descent.py:681: ConvergenceWarning:\n",
      "\n",
      "Objective did not converge. You might want to increase the number of iterations. Duality gap: 280.9740154199112, tolerance: 0.5829817750550562\n",
      "\n",
      "c:\\Users\\Rasulbek_Ruzmetov\\AppData\\Local\\Programs\\Python\\Python313\\Lib\\site-packages\\sklearn\\linear_model\\_coordinate_descent.py:681: ConvergenceWarning:\n",
      "\n",
      "Objective did not converge. You might want to increase the number of iterations. Duality gap: 307.1921187199505, tolerance: 0.5829817750550562\n",
      "\n",
      "c:\\Users\\Rasulbek_Ruzmetov\\AppData\\Local\\Programs\\Python\\Python313\\Lib\\site-packages\\sklearn\\linear_model\\_coordinate_descent.py:681: ConvergenceWarning:\n",
      "\n",
      "Objective did not converge. You might want to increase the number of iterations. Duality gap: 328.7305339325112, tolerance: 0.5829817750550562\n",
      "\n",
      "c:\\Users\\Rasulbek_Ruzmetov\\AppData\\Local\\Programs\\Python\\Python313\\Lib\\site-packages\\sklearn\\linear_model\\_coordinate_descent.py:681: ConvergenceWarning:\n",
      "\n",
      "Objective did not converge. You might want to increase the number of iterations. Duality gap: 346.3906960940071, tolerance: 0.5829817750550562\n",
      "\n",
      "c:\\Users\\Rasulbek_Ruzmetov\\AppData\\Local\\Programs\\Python\\Python313\\Lib\\site-packages\\sklearn\\linear_model\\_coordinate_descent.py:681: ConvergenceWarning:\n",
      "\n",
      "Objective did not converge. You might want to increase the number of iterations. Duality gap: 360.8576721840582, tolerance: 0.5829817750550562\n",
      "\n",
      "c:\\Users\\Rasulbek_Ruzmetov\\AppData\\Local\\Programs\\Python\\Python313\\Lib\\site-packages\\sklearn\\linear_model\\_coordinate_descent.py:681: ConvergenceWarning:\n",
      "\n",
      "Objective did not converge. You might want to increase the number of iterations. Duality gap: 372.7043635054847, tolerance: 0.5829817750550562\n",
      "\n",
      "c:\\Users\\Rasulbek_Ruzmetov\\AppData\\Local\\Programs\\Python\\Python313\\Lib\\site-packages\\sklearn\\linear_model\\_coordinate_descent.py:681: ConvergenceWarning:\n",
      "\n",
      "Objective did not converge. You might want to increase the number of iterations. Duality gap: 382.4045028353953, tolerance: 0.5829817750550562\n",
      "\n",
      "c:\\Users\\Rasulbek_Ruzmetov\\AppData\\Local\\Programs\\Python\\Python313\\Lib\\site-packages\\sklearn\\linear_model\\_coordinate_descent.py:681: ConvergenceWarning:\n",
      "\n",
      "Objective did not converge. You might want to increase the number of iterations. Duality gap: 390.34751714367667, tolerance: 0.5829817750550562\n",
      "\n",
      "c:\\Users\\Rasulbek_Ruzmetov\\AppData\\Local\\Programs\\Python\\Python313\\Lib\\site-packages\\sklearn\\linear_model\\_coordinate_descent.py:681: ConvergenceWarning:\n",
      "\n",
      "Objective did not converge. You might want to increase the number of iterations. Duality gap: 396.8525594491589, tolerance: 0.5829817750550562\n",
      "\n",
      "c:\\Users\\Rasulbek_Ruzmetov\\AppData\\Local\\Programs\\Python\\Python313\\Lib\\site-packages\\sklearn\\linear_model\\_coordinate_descent.py:681: ConvergenceWarning:\n",
      "\n",
      "Objective did not converge. You might want to increase the number of iterations. Duality gap: 402.1808055039246, tolerance: 0.5829817750550562\n",
      "\n",
      "c:\\Users\\Rasulbek_Ruzmetov\\AppData\\Local\\Programs\\Python\\Python313\\Lib\\site-packages\\sklearn\\linear_model\\_coordinate_descent.py:681: ConvergenceWarning:\n",
      "\n",
      "Objective did not converge. You might want to increase the number of iterations. Duality gap: 406.54585683351706, tolerance: 0.5829817750550562\n",
      "\n",
      "c:\\Users\\Rasulbek_Ruzmetov\\AppData\\Local\\Programs\\Python\\Python313\\Lib\\site-packages\\sklearn\\linear_model\\_coordinate_descent.py:681: ConvergenceWarning:\n",
      "\n",
      "Objective did not converge. You might want to increase the number of iterations. Duality gap: 410.1223837171983, tolerance: 0.5829817750550562\n",
      "\n",
      "c:\\Users\\Rasulbek_Ruzmetov\\AppData\\Local\\Programs\\Python\\Python313\\Lib\\site-packages\\sklearn\\linear_model\\_coordinate_descent.py:681: ConvergenceWarning:\n",
      "\n",
      "Objective did not converge. You might want to increase the number of iterations. Duality gap: 413.05323796828543, tolerance: 0.5829817750550562\n",
      "\n",
      "c:\\Users\\Rasulbek_Ruzmetov\\AppData\\Local\\Programs\\Python\\Python313\\Lib\\site-packages\\sklearn\\linear_model\\_coordinate_descent.py:681: ConvergenceWarning:\n",
      "\n",
      "Objective did not converge. You might want to increase the number of iterations. Duality gap: 415.455277562869, tolerance: 0.5829817750550562\n",
      "\n",
      "c:\\Users\\Rasulbek_Ruzmetov\\AppData\\Local\\Programs\\Python\\Python313\\Lib\\site-packages\\sklearn\\linear_model\\_coordinate_descent.py:681: ConvergenceWarning:\n",
      "\n",
      "Objective did not converge. You might want to increase the number of iterations. Duality gap: 2.840767323149521, tolerance: 0.5823817577577576\n",
      "\n",
      "c:\\Users\\Rasulbek_Ruzmetov\\AppData\\Local\\Programs\\Python\\Python313\\Lib\\site-packages\\sklearn\\linear_model\\_coordinate_descent.py:681: ConvergenceWarning:\n",
      "\n",
      "Objective did not converge. You might want to increase the number of iterations. Duality gap: 42.69278826930167, tolerance: 0.5823817577577576\n",
      "\n",
      "c:\\Users\\Rasulbek_Ruzmetov\\AppData\\Local\\Programs\\Python\\Python313\\Lib\\site-packages\\sklearn\\linear_model\\_coordinate_descent.py:681: ConvergenceWarning:\n",
      "\n",
      "Objective did not converge. You might want to increase the number of iterations. Duality gap: 97.69825225456134, tolerance: 0.5823817577577576\n",
      "\n",
      "c:\\Users\\Rasulbek_Ruzmetov\\AppData\\Local\\Programs\\Python\\Python313\\Lib\\site-packages\\sklearn\\linear_model\\_coordinate_descent.py:681: ConvergenceWarning:\n",
      "\n",
      "Objective did not converge. You might want to increase the number of iterations. Duality gap: 151.19842434432758, tolerance: 0.5823817577577576\n",
      "\n",
      "c:\\Users\\Rasulbek_Ruzmetov\\AppData\\Local\\Programs\\Python\\Python313\\Lib\\site-packages\\sklearn\\linear_model\\_coordinate_descent.py:681: ConvergenceWarning:\n",
      "\n",
      "Objective did not converge. You might want to increase the number of iterations. Duality gap: 198.37654718991598, tolerance: 0.5823817577577576\n",
      "\n",
      "c:\\Users\\Rasulbek_Ruzmetov\\AppData\\Local\\Programs\\Python\\Python313\\Lib\\site-packages\\sklearn\\linear_model\\_coordinate_descent.py:681: ConvergenceWarning:\n",
      "\n",
      "Objective did not converge. You might want to increase the number of iterations. Duality gap: 238.38255080992622, tolerance: 0.5823817577577576\n",
      "\n",
      "c:\\Users\\Rasulbek_Ruzmetov\\AppData\\Local\\Programs\\Python\\Python313\\Lib\\site-packages\\sklearn\\linear_model\\_coordinate_descent.py:681: ConvergenceWarning:\n",
      "\n",
      "Objective did not converge. You might want to increase the number of iterations. Duality gap: 271.69974701061665, tolerance: 0.5823817577577576\n",
      "\n",
      "c:\\Users\\Rasulbek_Ruzmetov\\AppData\\Local\\Programs\\Python\\Python313\\Lib\\site-packages\\sklearn\\linear_model\\_coordinate_descent.py:681: ConvergenceWarning:\n",
      "\n",
      "Objective did not converge. You might want to increase the number of iterations. Duality gap: 299.19957597504344, tolerance: 0.5823817577577576\n",
      "\n",
      "c:\\Users\\Rasulbek_Ruzmetov\\AppData\\Local\\Programs\\Python\\Python313\\Lib\\site-packages\\sklearn\\linear_model\\_coordinate_descent.py:681: ConvergenceWarning:\n",
      "\n",
      "Objective did not converge. You might want to increase the number of iterations. Duality gap: 321.7944546579856, tolerance: 0.5823817577577576\n",
      "\n",
      "c:\\Users\\Rasulbek_Ruzmetov\\AppData\\Local\\Programs\\Python\\Python313\\Lib\\site-packages\\sklearn\\linear_model\\_coordinate_descent.py:681: ConvergenceWarning:\n",
      "\n",
      "Objective did not converge. You might want to increase the number of iterations. Duality gap: 340.31609879822736, tolerance: 0.5823817577577576\n",
      "\n",
      "c:\\Users\\Rasulbek_Ruzmetov\\AppData\\Local\\Programs\\Python\\Python313\\Lib\\site-packages\\sklearn\\linear_model\\_coordinate_descent.py:681: ConvergenceWarning:\n",
      "\n",
      "Objective did not converge. You might want to increase the number of iterations. Duality gap: 355.4814801076168, tolerance: 0.5823817577577576\n",
      "\n",
      "c:\\Users\\Rasulbek_Ruzmetov\\AppData\\Local\\Programs\\Python\\Python313\\Lib\\site-packages\\sklearn\\linear_model\\_coordinate_descent.py:681: ConvergenceWarning:\n",
      "\n",
      "Objective did not converge. You might want to increase the number of iterations. Duality gap: 367.8925434965331, tolerance: 0.5823817577577576\n",
      "\n",
      "c:\\Users\\Rasulbek_Ruzmetov\\AppData\\Local\\Programs\\Python\\Python313\\Lib\\site-packages\\sklearn\\linear_model\\_coordinate_descent.py:681: ConvergenceWarning:\n",
      "\n",
      "Objective did not converge. You might want to increase the number of iterations. Duality gap: 378.04791752278925, tolerance: 0.5823817577577576\n",
      "\n",
      "c:\\Users\\Rasulbek_Ruzmetov\\AppData\\Local\\Programs\\Python\\Python313\\Lib\\site-packages\\sklearn\\linear_model\\_coordinate_descent.py:681: ConvergenceWarning:\n",
      "\n",
      "Objective did not converge. You might want to increase the number of iterations. Duality gap: 386.3577559716714, tolerance: 0.5823817577577576\n",
      "\n",
      "c:\\Users\\Rasulbek_Ruzmetov\\AppData\\Local\\Programs\\Python\\Python313\\Lib\\site-packages\\sklearn\\linear_model\\_coordinate_descent.py:681: ConvergenceWarning:\n",
      "\n",
      "Objective did not converge. You might want to increase the number of iterations. Duality gap: 393.1582059417774, tolerance: 0.5823817577577576\n",
      "\n",
      "c:\\Users\\Rasulbek_Ruzmetov\\AppData\\Local\\Programs\\Python\\Python313\\Lib\\site-packages\\sklearn\\linear_model\\_coordinate_descent.py:681: ConvergenceWarning:\n",
      "\n",
      "Objective did not converge. You might want to increase the number of iterations. Duality gap: 398.72426129614587, tolerance: 0.5823817577577576\n",
      "\n",
      "c:\\Users\\Rasulbek_Ruzmetov\\AppData\\Local\\Programs\\Python\\Python313\\Lib\\site-packages\\sklearn\\linear_model\\_coordinate_descent.py:681: ConvergenceWarning:\n",
      "\n",
      "Objective did not converge. You might want to increase the number of iterations. Duality gap: 403.2807076919871, tolerance: 0.5823817577577576\n",
      "\n",
      "c:\\Users\\Rasulbek_Ruzmetov\\AppData\\Local\\Programs\\Python\\Python313\\Lib\\site-packages\\sklearn\\linear_model\\_coordinate_descent.py:681: ConvergenceWarning:\n",
      "\n",
      "Objective did not converge. You might want to increase the number of iterations. Duality gap: 407.0112450221486, tolerance: 0.5823817577577576\n",
      "\n",
      "c:\\Users\\Rasulbek_Ruzmetov\\AppData\\Local\\Programs\\Python\\Python313\\Lib\\site-packages\\sklearn\\linear_model\\_coordinate_descent.py:681: ConvergenceWarning:\n",
      "\n",
      "Objective did not converge. You might want to increase the number of iterations. Duality gap: 410.06600567966325, tolerance: 0.5823817577577576\n",
      "\n",
      "c:\\Users\\Rasulbek_Ruzmetov\\AppData\\Local\\Programs\\Python\\Python313\\Lib\\site-packages\\sklearn\\linear_model\\_coordinate_descent.py:681: ConvergenceWarning:\n",
      "\n",
      "Objective did not converge. You might want to increase the number of iterations. Duality gap: 412.56771344444905, tolerance: 0.5823817577577576\n",
      "\n",
      "c:\\Users\\Rasulbek_Ruzmetov\\AppData\\Local\\Programs\\Python\\Python313\\Lib\\site-packages\\sklearn\\linear_model\\_coordinate_descent.py:681: ConvergenceWarning:\n",
      "\n",
      "Objective did not converge. You might want to increase the number of iterations. Duality gap: 414.61671476373385, tolerance: 0.5823817577577576\n",
      "\n",
      "c:\\Users\\Rasulbek_Ruzmetov\\AppData\\Local\\Programs\\Python\\Python313\\Lib\\site-packages\\sklearn\\linear_model\\_coordinate_descent.py:681: ConvergenceWarning:\n",
      "\n",
      "Objective did not converge. You might want to increase the number of iterations. Duality gap: 7.720968182209617, tolerance: 0.5832535127927936\n",
      "\n",
      "c:\\Users\\Rasulbek_Ruzmetov\\AppData\\Local\\Programs\\Python\\Python313\\Lib\\site-packages\\sklearn\\linear_model\\_coordinate_descent.py:681: ConvergenceWarning:\n",
      "\n",
      "Objective did not converge. You might want to increase the number of iterations. Duality gap: 53.09448660637736, tolerance: 0.5832535127927936\n",
      "\n",
      "c:\\Users\\Rasulbek_Ruzmetov\\AppData\\Local\\Programs\\Python\\Python313\\Lib\\site-packages\\sklearn\\linear_model\\_coordinate_descent.py:681: ConvergenceWarning:\n",
      "\n",
      "Objective did not converge. You might want to increase the number of iterations. Duality gap: 108.84110892023728, tolerance: 0.5832535127927936\n",
      "\n",
      "c:\\Users\\Rasulbek_Ruzmetov\\AppData\\Local\\Programs\\Python\\Python313\\Lib\\site-packages\\sklearn\\linear_model\\_coordinate_descent.py:681: ConvergenceWarning:\n",
      "\n",
      "Objective did not converge. You might want to increase the number of iterations. Duality gap: 161.65023721627767, tolerance: 0.5832535127927936\n",
      "\n",
      "c:\\Users\\Rasulbek_Ruzmetov\\AppData\\Local\\Programs\\Python\\Python313\\Lib\\site-packages\\sklearn\\linear_model\\_coordinate_descent.py:681: ConvergenceWarning:\n",
      "\n",
      "Objective did not converge. You might want to increase the number of iterations. Duality gap: 207.79351575808414, tolerance: 0.5832535127927936\n",
      "\n",
      "c:\\Users\\Rasulbek_Ruzmetov\\AppData\\Local\\Programs\\Python\\Python313\\Lib\\site-packages\\sklearn\\linear_model\\_coordinate_descent.py:681: ConvergenceWarning:\n",
      "\n",
      "Objective did not converge. You might want to increase the number of iterations. Duality gap: 246.7846664950066, tolerance: 0.5832535127927936\n",
      "\n",
      "c:\\Users\\Rasulbek_Ruzmetov\\AppData\\Local\\Programs\\Python\\Python313\\Lib\\site-packages\\sklearn\\linear_model\\_coordinate_descent.py:681: ConvergenceWarning:\n",
      "\n",
      "Objective did not converge. You might want to increase the number of iterations. Duality gap: 279.2185016577746, tolerance: 0.5832535127927936\n",
      "\n",
      "c:\\Users\\Rasulbek_Ruzmetov\\AppData\\Local\\Programs\\Python\\Python313\\Lib\\site-packages\\sklearn\\linear_model\\_coordinate_descent.py:681: ConvergenceWarning:\n",
      "\n",
      "Objective did not converge. You might want to increase the number of iterations. Duality gap: 305.9870750863929, tolerance: 0.5832535127927936\n",
      "\n",
      "c:\\Users\\Rasulbek_Ruzmetov\\AppData\\Local\\Programs\\Python\\Python313\\Lib\\site-packages\\sklearn\\linear_model\\_coordinate_descent.py:681: ConvergenceWarning:\n",
      "\n",
      "Objective did not converge. You might want to increase the number of iterations. Duality gap: 327.9916344148114, tolerance: 0.5832535127927936\n",
      "\n",
      "c:\\Users\\Rasulbek_Ruzmetov\\AppData\\Local\\Programs\\Python\\Python313\\Lib\\site-packages\\sklearn\\linear_model\\_coordinate_descent.py:681: ConvergenceWarning:\n",
      "\n",
      "Objective did not converge. You might want to increase the number of iterations. Duality gap: 346.0433913000006, tolerance: 0.5832535127927936\n",
      "\n",
      "c:\\Users\\Rasulbek_Ruzmetov\\AppData\\Local\\Programs\\Python\\Python313\\Lib\\site-packages\\sklearn\\linear_model\\_coordinate_descent.py:681: ConvergenceWarning:\n",
      "\n",
      "Objective did not converge. You might want to increase the number of iterations. Duality gap: 360.83798116654634, tolerance: 0.5832535127927936\n",
      "\n",
      "c:\\Users\\Rasulbek_Ruzmetov\\AppData\\Local\\Programs\\Python\\Python313\\Lib\\site-packages\\sklearn\\linear_model\\_coordinate_descent.py:681: ConvergenceWarning:\n",
      "\n",
      "Objective did not converge. You might want to increase the number of iterations. Duality gap: 372.9581788006981, tolerance: 0.5832535127927936\n",
      "\n",
      "c:\\Users\\Rasulbek_Ruzmetov\\AppData\\Local\\Programs\\Python\\Python313\\Lib\\site-packages\\sklearn\\linear_model\\_coordinate_descent.py:681: ConvergenceWarning:\n",
      "\n",
      "Objective did not converge. You might want to increase the number of iterations. Duality gap: 382.8864113510899, tolerance: 0.5832535127927936\n",
      "\n",
      "c:\\Users\\Rasulbek_Ruzmetov\\AppData\\Local\\Programs\\Python\\Python313\\Lib\\site-packages\\sklearn\\linear_model\\_coordinate_descent.py:681: ConvergenceWarning:\n",
      "\n",
      "Objective did not converge. You might want to increase the number of iterations. Duality gap: 391.0195503389623, tolerance: 0.5832535127927936\n",
      "\n",
      "c:\\Users\\Rasulbek_Ruzmetov\\AppData\\Local\\Programs\\Python\\Python313\\Lib\\site-packages\\sklearn\\linear_model\\_coordinate_descent.py:681: ConvergenceWarning:\n",
      "\n",
      "Objective did not converge. You might want to increase the number of iterations. Duality gap: 397.68303324856925, tolerance: 0.5832535127927936\n",
      "\n",
      "c:\\Users\\Rasulbek_Ruzmetov\\AppData\\Local\\Programs\\Python\\Python313\\Lib\\site-packages\\sklearn\\linear_model\\_coordinate_descent.py:681: ConvergenceWarning:\n",
      "\n",
      "Objective did not converge. You might want to increase the number of iterations. Duality gap: 403.1433027362564, tolerance: 0.5832535127927936\n",
      "\n",
      "c:\\Users\\Rasulbek_Ruzmetov\\AppData\\Local\\Programs\\Python\\Python313\\Lib\\site-packages\\sklearn\\linear_model\\_coordinate_descent.py:681: ConvergenceWarning:\n",
      "\n",
      "Objective did not converge. You might want to increase the number of iterations. Duality gap: 407.6183588510571, tolerance: 0.5832535127927936\n",
      "\n",
      "c:\\Users\\Rasulbek_Ruzmetov\\AppData\\Local\\Programs\\Python\\Python313\\Lib\\site-packages\\sklearn\\linear_model\\_coordinate_descent.py:681: ConvergenceWarning:\n",
      "\n",
      "Objective did not converge. You might want to increase the number of iterations. Duality gap: 411.2865384458546, tolerance: 0.5832535127927936\n",
      "\n",
      "c:\\Users\\Rasulbek_Ruzmetov\\AppData\\Local\\Programs\\Python\\Python313\\Lib\\site-packages\\sklearn\\linear_model\\_coordinate_descent.py:681: ConvergenceWarning:\n",
      "\n",
      "Objective did not converge. You might want to increase the number of iterations. Duality gap: 414.2937485170837, tolerance: 0.5832535127927936\n",
      "\n",
      "c:\\Users\\Rasulbek_Ruzmetov\\AppData\\Local\\Programs\\Python\\Python313\\Lib\\site-packages\\sklearn\\linear_model\\_coordinate_descent.py:681: ConvergenceWarning:\n",
      "\n",
      "Objective did not converge. You might want to increase the number of iterations. Duality gap: 416.7593920007771, tolerance: 0.5832535127927936\n",
      "\n",
      "c:\\Users\\Rasulbek_Ruzmetov\\AppData\\Local\\Programs\\Python\\Python313\\Lib\\site-packages\\sklearn\\linear_model\\_coordinate_descent.py:681: ConvergenceWarning:\n",
      "\n",
      "Objective did not converge. You might want to increase the number of iterations. Duality gap: 418.78121081990867, tolerance: 0.5832535127927936\n",
      "\n",
      "c:\\Users\\Rasulbek_Ruzmetov\\AppData\\Local\\Programs\\Python\\Python313\\Lib\\site-packages\\sklearn\\linear_model\\_coordinate_descent.py:681: ConvergenceWarning:\n",
      "\n",
      "Objective did not converge. You might want to increase the number of iterations. Duality gap: 420.4392398004984, tolerance: 0.5832535127927936\n",
      "\n",
      "c:\\Users\\Rasulbek_Ruzmetov\\AppData\\Local\\Programs\\Python\\Python313\\Lib\\site-packages\\sklearn\\linear_model\\_coordinate_descent.py:681: ConvergenceWarning:\n",
      "\n",
      "Objective did not converge. You might want to increase the number of iterations. Duality gap: 421.799033977396, tolerance: 0.5832535127927936\n",
      "\n",
      "c:\\Users\\Rasulbek_Ruzmetov\\AppData\\Local\\Programs\\Python\\Python313\\Lib\\site-packages\\sklearn\\linear_model\\_coordinate_descent.py:681: ConvergenceWarning:\n",
      "\n",
      "Objective did not converge. You might want to increase the number of iterations. Duality gap: 422.9143015466261, tolerance: 0.5832535127927936\n",
      "\n",
      "c:\\Users\\Rasulbek_Ruzmetov\\AppData\\Local\\Programs\\Python\\Python313\\Lib\\site-packages\\sklearn\\linear_model\\_coordinate_descent.py:681: ConvergenceWarning:\n",
      "\n",
      "Objective did not converge. You might want to increase the number of iterations. Duality gap: 423.8290552177882, tolerance: 0.5832535127927936\n",
      "\n",
      "c:\\Users\\Rasulbek_Ruzmetov\\AppData\\Local\\Programs\\Python\\Python313\\Lib\\site-packages\\sklearn\\linear_model\\_coordinate_descent.py:681: ConvergenceWarning:\n",
      "\n",
      "Objective did not converge. You might want to increase the number of iterations. Duality gap: 424.5793705806245, tolerance: 0.5832535127927936\n",
      "\n",
      "c:\\Users\\Rasulbek_Ruzmetov\\AppData\\Local\\Programs\\Python\\Python313\\Lib\\site-packages\\sklearn\\linear_model\\_coordinate_descent.py:681: ConvergenceWarning:\n",
      "\n",
      "Objective did not converge. You might want to increase the number of iterations. Duality gap: 27.880991540915602, tolerance: 0.582724625745747\n",
      "\n",
      "c:\\Users\\Rasulbek_Ruzmetov\\AppData\\Local\\Programs\\Python\\Python313\\Lib\\site-packages\\sklearn\\linear_model\\_coordinate_descent.py:681: ConvergenceWarning:\n",
      "\n",
      "Objective did not converge. You might want to increase the number of iterations. Duality gap: 81.15260393347035, tolerance: 0.582724625745747\n",
      "\n",
      "c:\\Users\\Rasulbek_Ruzmetov\\AppData\\Local\\Programs\\Python\\Python313\\Lib\\site-packages\\sklearn\\linear_model\\_coordinate_descent.py:681: ConvergenceWarning:\n",
      "\n",
      "Objective did not converge. You might want to increase the number of iterations. Duality gap: 136.0700261664715, tolerance: 0.582724625745747\n",
      "\n",
      "c:\\Users\\Rasulbek_Ruzmetov\\AppData\\Local\\Programs\\Python\\Python313\\Lib\\site-packages\\sklearn\\linear_model\\_coordinate_descent.py:681: ConvergenceWarning:\n",
      "\n",
      "Objective did not converge. You might want to increase the number of iterations. Duality gap: 185.50130927163445, tolerance: 0.582724625745747\n",
      "\n",
      "c:\\Users\\Rasulbek_Ruzmetov\\AppData\\Local\\Programs\\Python\\Python313\\Lib\\site-packages\\sklearn\\linear_model\\_coordinate_descent.py:681: ConvergenceWarning:\n",
      "\n",
      "Objective did not converge. You might want to increase the number of iterations. Duality gap: 227.80314937625462, tolerance: 0.582724625745747\n",
      "\n",
      "c:\\Users\\Rasulbek_Ruzmetov\\AppData\\Local\\Programs\\Python\\Python313\\Lib\\site-packages\\sklearn\\linear_model\\_coordinate_descent.py:681: ConvergenceWarning:\n",
      "\n",
      "Objective did not converge. You might want to increase the number of iterations. Duality gap: 263.19680593612065, tolerance: 0.582724625745747\n",
      "\n",
      "c:\\Users\\Rasulbek_Ruzmetov\\AppData\\Local\\Programs\\Python\\Python313\\Lib\\site-packages\\sklearn\\linear_model\\_coordinate_descent.py:681: ConvergenceWarning:\n",
      "\n",
      "Objective did not converge. You might want to increase the number of iterations. Duality gap: 292.487082683856, tolerance: 0.582724625745747\n",
      "\n",
      "c:\\Users\\Rasulbek_Ruzmetov\\AppData\\Local\\Programs\\Python\\Python313\\Lib\\site-packages\\sklearn\\linear_model\\_coordinate_descent.py:681: ConvergenceWarning:\n",
      "\n",
      "Objective did not converge. You might want to increase the number of iterations. Duality gap: 316.591851924577, tolerance: 0.582724625745747\n",
      "\n",
      "c:\\Users\\Rasulbek_Ruzmetov\\AppData\\Local\\Programs\\Python\\Python313\\Lib\\site-packages\\sklearn\\linear_model\\_coordinate_descent.py:681: ConvergenceWarning:\n",
      "\n",
      "Objective did not converge. You might want to increase the number of iterations. Duality gap: 336.3727547472272, tolerance: 0.582724625745747\n",
      "\n",
      "c:\\Users\\Rasulbek_Ruzmetov\\AppData\\Local\\Programs\\Python\\Python313\\Lib\\site-packages\\sklearn\\linear_model\\_coordinate_descent.py:681: ConvergenceWarning:\n",
      "\n",
      "Objective did not converge. You might want to increase the number of iterations. Duality gap: 352.5824211918093, tolerance: 0.582724625745747\n",
      "\n",
      "c:\\Users\\Rasulbek_Ruzmetov\\AppData\\Local\\Programs\\Python\\Python313\\Lib\\site-packages\\sklearn\\linear_model\\_coordinate_descent.py:681: ConvergenceWarning:\n",
      "\n",
      "Objective did not converge. You might want to increase the number of iterations. Duality gap: 365.8569985862541, tolerance: 0.582724625745747\n",
      "\n",
      "c:\\Users\\Rasulbek_Ruzmetov\\AppData\\Local\\Programs\\Python\\Python313\\Lib\\site-packages\\sklearn\\linear_model\\_coordinate_descent.py:681: ConvergenceWarning:\n",
      "\n",
      "Objective did not converge. You might want to increase the number of iterations. Duality gap: 376.72540895959855, tolerance: 0.582724625745747\n",
      "\n",
      "c:\\Users\\Rasulbek_Ruzmetov\\AppData\\Local\\Programs\\Python\\Python313\\Lib\\site-packages\\sklearn\\linear_model\\_coordinate_descent.py:681: ConvergenceWarning:\n",
      "\n",
      "Objective did not converge. You might want to increase the number of iterations. Duality gap: 385.62367612722164, tolerance: 0.582724625745747\n",
      "\n",
      "c:\\Users\\Rasulbek_Ruzmetov\\AppData\\Local\\Programs\\Python\\Python313\\Lib\\site-packages\\sklearn\\linear_model\\_coordinate_descent.py:681: ConvergenceWarning:\n",
      "\n",
      "Objective did not converge. You might want to increase the number of iterations. Duality gap: 392.9096399279965, tolerance: 0.582724625745747\n",
      "\n",
      "c:\\Users\\Rasulbek_Ruzmetov\\AppData\\Local\\Programs\\Python\\Python313\\Lib\\site-packages\\sklearn\\linear_model\\_coordinate_descent.py:681: ConvergenceWarning:\n",
      "\n",
      "Objective did not converge. You might want to increase the number of iterations. Duality gap: 398.876312872158, tolerance: 0.582724625745747\n",
      "\n",
      "c:\\Users\\Rasulbek_Ruzmetov\\AppData\\Local\\Programs\\Python\\Python313\\Lib\\site-packages\\sklearn\\linear_model\\_coordinate_descent.py:681: ConvergenceWarning:\n",
      "\n",
      "Objective did not converge. You might want to increase the number of iterations. Duality gap: 403.76337495399275, tolerance: 0.582724625745747\n",
      "\n",
      "c:\\Users\\Rasulbek_Ruzmetov\\AppData\\Local\\Programs\\Python\\Python313\\Lib\\site-packages\\sklearn\\linear_model\\_coordinate_descent.py:681: ConvergenceWarning:\n",
      "\n",
      "Objective did not converge. You might want to increase the number of iterations. Duality gap: 407.76680872840234, tolerance: 0.582724625745747\n",
      "\n",
      "c:\\Users\\Rasulbek_Ruzmetov\\AppData\\Local\\Programs\\Python\\Python313\\Lib\\site-packages\\sklearn\\linear_model\\_coordinate_descent.py:681: ConvergenceWarning:\n",
      "\n",
      "Objective did not converge. You might want to increase the number of iterations. Duality gap: 411.0468653645348, tolerance: 0.582724625745747\n",
      "\n",
      "c:\\Users\\Rasulbek_Ruzmetov\\AppData\\Local\\Programs\\Python\\Python313\\Lib\\site-packages\\sklearn\\linear_model\\_coordinate_descent.py:681: ConvergenceWarning:\n",
      "\n",
      "Objective did not converge. You might want to increase the number of iterations. Duality gap: 413.7346032049859, tolerance: 0.582724625745747\n",
      "\n",
      "c:\\Users\\Rasulbek_Ruzmetov\\AppData\\Local\\Programs\\Python\\Python313\\Lib\\site-packages\\sklearn\\linear_model\\_coordinate_descent.py:681: ConvergenceWarning:\n",
      "\n",
      "Objective did not converge. You might want to increase the number of iterations. Duality gap: 415.9372341964995, tolerance: 0.582724625745747\n",
      "\n",
      "c:\\Users\\Rasulbek_Ruzmetov\\AppData\\Local\\Programs\\Python\\Python313\\Lib\\site-packages\\sklearn\\linear_model\\_coordinate_descent.py:681: ConvergenceWarning:\n",
      "\n",
      "Objective did not converge. You might want to increase the number of iterations. Duality gap: 417.74248888960483, tolerance: 0.582724625745747\n",
      "\n",
      "c:\\Users\\Rasulbek_Ruzmetov\\AppData\\Local\\Programs\\Python\\Python313\\Lib\\site-packages\\sklearn\\linear_model\\_coordinate_descent.py:681: ConvergenceWarning:\n",
      "\n",
      "Objective did not converge. You might want to increase the number of iterations. Duality gap: 419.2221770132219, tolerance: 0.582724625745747\n",
      "\n",
      "c:\\Users\\Rasulbek_Ruzmetov\\AppData\\Local\\Programs\\Python\\Python313\\Lib\\site-packages\\sklearn\\linear_model\\_coordinate_descent.py:681: ConvergenceWarning:\n",
      "\n",
      "Objective did not converge. You might want to increase the number of iterations. Duality gap: 14.394179782530045, tolerance: 0.5837325405405406\n",
      "\n",
      "c:\\Users\\Rasulbek_Ruzmetov\\AppData\\Local\\Programs\\Python\\Python313\\Lib\\site-packages\\sklearn\\linear_model\\_coordinate_descent.py:681: ConvergenceWarning:\n",
      "\n",
      "Objective did not converge. You might want to increase the number of iterations. Duality gap: 63.68903584096006, tolerance: 0.5837325405405406\n",
      "\n",
      "c:\\Users\\Rasulbek_Ruzmetov\\AppData\\Local\\Programs\\Python\\Python313\\Lib\\site-packages\\sklearn\\linear_model\\_coordinate_descent.py:681: ConvergenceWarning:\n",
      "\n",
      "Objective did not converge. You might want to increase the number of iterations. Duality gap: 119.37578097500864, tolerance: 0.5837325405405406\n",
      "\n",
      "c:\\Users\\Rasulbek_Ruzmetov\\AppData\\Local\\Programs\\Python\\Python313\\Lib\\site-packages\\sklearn\\linear_model\\_coordinate_descent.py:681: ConvergenceWarning:\n",
      "\n",
      "Objective did not converge. You might want to increase the number of iterations. Duality gap: 170.92554192458283, tolerance: 0.5837325405405406\n",
      "\n",
      "c:\\Users\\Rasulbek_Ruzmetov\\AppData\\Local\\Programs\\Python\\Python313\\Lib\\site-packages\\sklearn\\linear_model\\_coordinate_descent.py:681: ConvergenceWarning:\n",
      "\n",
      "Objective did not converge. You might want to increase the number of iterations. Duality gap: 215.5489634350024, tolerance: 0.5837325405405406\n",
      "\n",
      "c:\\Users\\Rasulbek_Ruzmetov\\AppData\\Local\\Programs\\Python\\Python313\\Lib\\site-packages\\sklearn\\linear_model\\_coordinate_descent.py:681: ConvergenceWarning:\n",
      "\n",
      "Objective did not converge. You might want to increase the number of iterations. Duality gap: 253.0838820808467, tolerance: 0.5837325405405406\n",
      "\n",
      "c:\\Users\\Rasulbek_Ruzmetov\\AppData\\Local\\Programs\\Python\\Python313\\Lib\\site-packages\\sklearn\\linear_model\\_coordinate_descent.py:681: ConvergenceWarning:\n",
      "\n",
      "Objective did not converge. You might want to increase the number of iterations. Duality gap: 284.22726402549915, tolerance: 0.5837325405405406\n",
      "\n",
      "c:\\Users\\Rasulbek_Ruzmetov\\AppData\\Local\\Programs\\Python\\Python313\\Lib\\site-packages\\sklearn\\linear_model\\_coordinate_descent.py:681: ConvergenceWarning:\n",
      "\n",
      "Objective did not converge. You might want to increase the number of iterations. Duality gap: 309.8903469261604, tolerance: 0.5837325405405406\n",
      "\n",
      "c:\\Users\\Rasulbek_Ruzmetov\\AppData\\Local\\Programs\\Python\\Python313\\Lib\\site-packages\\sklearn\\linear_model\\_coordinate_descent.py:681: ConvergenceWarning:\n",
      "\n",
      "Objective did not converge. You might want to increase the number of iterations. Duality gap: 330.9631958479931, tolerance: 0.5837325405405406\n",
      "\n",
      "c:\\Users\\Rasulbek_Ruzmetov\\AppData\\Local\\Programs\\Python\\Python313\\Lib\\site-packages\\sklearn\\linear_model\\_coordinate_descent.py:681: ConvergenceWarning:\n",
      "\n",
      "Objective did not converge. You might want to increase the number of iterations. Duality gap: 348.2361664706259, tolerance: 0.5837325405405406\n",
      "\n",
      "c:\\Users\\Rasulbek_Ruzmetov\\AppData\\Local\\Programs\\Python\\Python313\\Lib\\site-packages\\sklearn\\linear_model\\_coordinate_descent.py:681: ConvergenceWarning:\n",
      "\n",
      "Objective did not converge. You might want to increase the number of iterations. Duality gap: 362.38255130603875, tolerance: 0.5837325405405406\n",
      "\n",
      "c:\\Users\\Rasulbek_Ruzmetov\\AppData\\Local\\Programs\\Python\\Python313\\Lib\\site-packages\\sklearn\\linear_model\\_coordinate_descent.py:681: ConvergenceWarning:\n",
      "\n",
      "Objective did not converge. You might want to increase the number of iterations. Duality gap: 373.96438629758086, tolerance: 0.5837325405405406\n",
      "\n",
      "c:\\Users\\Rasulbek_Ruzmetov\\AppData\\Local\\Programs\\Python\\Python313\\Lib\\site-packages\\sklearn\\linear_model\\_coordinate_descent.py:681: ConvergenceWarning:\n",
      "\n",
      "Objective did not converge. You might want to increase the number of iterations. Duality gap: 383.44594390117663, tolerance: 0.5837325405405406\n",
      "\n",
      "c:\\Users\\Rasulbek_Ruzmetov\\AppData\\Local\\Programs\\Python\\Python313\\Lib\\site-packages\\sklearn\\linear_model\\_coordinate_descent.py:681: ConvergenceWarning:\n",
      "\n",
      "Objective did not converge. You might want to increase the number of iterations. Duality gap: 391.20864011140884, tolerance: 0.5837325405405406\n",
      "\n",
      "c:\\Users\\Rasulbek_Ruzmetov\\AppData\\Local\\Programs\\Python\\Python313\\Lib\\site-packages\\sklearn\\linear_model\\_coordinate_descent.py:681: ConvergenceWarning:\n",
      "\n",
      "Objective did not converge. You might want to increase the number of iterations. Duality gap: 397.56494037697075, tolerance: 0.5837325405405406\n",
      "\n",
      "c:\\Users\\Rasulbek_Ruzmetov\\AppData\\Local\\Programs\\Python\\Python313\\Lib\\site-packages\\sklearn\\linear_model\\_coordinate_descent.py:681: ConvergenceWarning:\n",
      "\n",
      "Objective did not converge. You might want to increase the number of iterations. Duality gap: 402.7704791195724, tolerance: 0.5837325405405406\n",
      "\n",
      "c:\\Users\\Rasulbek_Ruzmetov\\AppData\\Local\\Programs\\Python\\Python313\\Lib\\site-packages\\sklearn\\linear_model\\_coordinate_descent.py:681: ConvergenceWarning:\n",
      "\n",
      "Objective did not converge. You might want to increase the number of iterations. Duality gap: 407.0342832976139, tolerance: 0.5837325405405406\n",
      "\n",
      "c:\\Users\\Rasulbek_Ruzmetov\\AppData\\Local\\Programs\\Python\\Python313\\Lib\\site-packages\\sklearn\\linear_model\\_coordinate_descent.py:681: ConvergenceWarning:\n",
      "\n",
      "Objective did not converge. You might want to increase the number of iterations. Duality gap: 410.5272536606235, tolerance: 0.5837325405405406\n",
      "\n",
      "c:\\Users\\Rasulbek_Ruzmetov\\AppData\\Local\\Programs\\Python\\Python313\\Lib\\site-packages\\sklearn\\linear_model\\_coordinate_descent.py:681: ConvergenceWarning:\n",
      "\n",
      "Objective did not converge. You might want to increase the number of iterations. Duality gap: 413.38913797898294, tolerance: 0.5837325405405406\n",
      "\n",
      "c:\\Users\\Rasulbek_Ruzmetov\\AppData\\Local\\Programs\\Python\\Python313\\Lib\\site-packages\\sklearn\\linear_model\\_coordinate_descent.py:681: ConvergenceWarning:\n",
      "\n",
      "Objective did not converge. You might want to increase the number of iterations. Duality gap: 11.413007566074157, tolerance: 0.5825795754954955\n",
      "\n",
      "c:\\Users\\Rasulbek_Ruzmetov\\AppData\\Local\\Programs\\Python\\Python313\\Lib\\site-packages\\sklearn\\linear_model\\_coordinate_descent.py:681: ConvergenceWarning:\n",
      "\n",
      "Objective did not converge. You might want to increase the number of iterations. Duality gap: 59.14323628771672, tolerance: 0.5825795754954955\n",
      "\n",
      "c:\\Users\\Rasulbek_Ruzmetov\\AppData\\Local\\Programs\\Python\\Python313\\Lib\\site-packages\\sklearn\\linear_model\\_coordinate_descent.py:681: ConvergenceWarning:\n",
      "\n",
      "Objective did not converge. You might want to increase the number of iterations. Duality gap: 114.79090555941548, tolerance: 0.5825795754954955\n",
      "\n",
      "c:\\Users\\Rasulbek_Ruzmetov\\AppData\\Local\\Programs\\Python\\Python313\\Lib\\site-packages\\sklearn\\linear_model\\_coordinate_descent.py:681: ConvergenceWarning:\n",
      "\n",
      "Objective did not converge. You might want to increase the number of iterations. Duality gap: 166.7665520451419, tolerance: 0.5825795754954955\n",
      "\n",
      "c:\\Users\\Rasulbek_Ruzmetov\\AppData\\Local\\Programs\\Python\\Python313\\Lib\\site-packages\\sklearn\\linear_model\\_coordinate_descent.py:681: ConvergenceWarning:\n",
      "\n",
      "Objective did not converge. You might want to increase the number of iterations. Duality gap: 211.92168833513279, tolerance: 0.5825795754954955\n",
      "\n",
      "c:\\Users\\Rasulbek_Ruzmetov\\AppData\\Local\\Programs\\Python\\Python313\\Lib\\site-packages\\sklearn\\linear_model\\_coordinate_descent.py:681: ConvergenceWarning:\n",
      "\n",
      "Objective did not converge. You might want to increase the number of iterations. Duality gap: 249.96973022741076, tolerance: 0.5825795754954955\n",
      "\n",
      "c:\\Users\\Rasulbek_Ruzmetov\\AppData\\Local\\Programs\\Python\\Python313\\Lib\\site-packages\\sklearn\\linear_model\\_coordinate_descent.py:681: ConvergenceWarning:\n",
      "\n",
      "Objective did not converge. You might want to increase the number of iterations. Duality gap: 281.5680644509566, tolerance: 0.5825795754954955\n",
      "\n",
      "c:\\Users\\Rasulbek_Ruzmetov\\AppData\\Local\\Programs\\Python\\Python313\\Lib\\site-packages\\sklearn\\linear_model\\_coordinate_descent.py:681: ConvergenceWarning:\n",
      "\n",
      "Objective did not converge. You might want to increase the number of iterations. Duality gap: 307.62008962392656, tolerance: 0.5825795754954955\n",
      "\n",
      "c:\\Users\\Rasulbek_Ruzmetov\\AppData\\Local\\Programs\\Python\\Python313\\Lib\\site-packages\\sklearn\\linear_model\\_coordinate_descent.py:681: ConvergenceWarning:\n",
      "\n",
      "Objective did not converge. You might want to increase the number of iterations. Duality gap: 329.01966473850916, tolerance: 0.5825795754954955\n",
      "\n",
      "c:\\Users\\Rasulbek_Ruzmetov\\AppData\\Local\\Programs\\Python\\Python313\\Lib\\site-packages\\sklearn\\linear_model\\_coordinate_descent.py:681: ConvergenceWarning:\n",
      "\n",
      "Objective did not converge. You might want to increase the number of iterations. Duality gap: 346.5646649413138, tolerance: 0.5825795754954955\n",
      "\n",
      "c:\\Users\\Rasulbek_Ruzmetov\\AppData\\Local\\Programs\\Python\\Python313\\Lib\\site-packages\\sklearn\\linear_model\\_coordinate_descent.py:681: ConvergenceWarning:\n",
      "\n",
      "Objective did not converge. You might want to increase the number of iterations. Duality gap: 360.93650176844403, tolerance: 0.5825795754954955\n",
      "\n",
      "c:\\Users\\Rasulbek_Ruzmetov\\AppData\\Local\\Programs\\Python\\Python313\\Lib\\site-packages\\sklearn\\linear_model\\_coordinate_descent.py:681: ConvergenceWarning:\n",
      "\n",
      "Objective did not converge. You might want to increase the number of iterations. Duality gap: 372.70475061733214, tolerance: 0.5825795754954955\n",
      "\n",
      "c:\\Users\\Rasulbek_Ruzmetov\\AppData\\Local\\Programs\\Python\\Python313\\Lib\\site-packages\\sklearn\\linear_model\\_coordinate_descent.py:681: ConvergenceWarning:\n",
      "\n",
      "Objective did not converge. You might want to increase the number of iterations. Duality gap: 382.34027019716905, tolerance: 0.5825795754954955\n",
      "\n",
      "c:\\Users\\Rasulbek_Ruzmetov\\AppData\\Local\\Programs\\Python\\Python313\\Lib\\site-packages\\sklearn\\linear_model\\_coordinate_descent.py:681: ConvergenceWarning:\n",
      "\n",
      "Objective did not converge. You might want to increase the number of iterations. Duality gap: 390.2300652454778, tolerance: 0.5825795754954955\n",
      "\n",
      "c:\\Users\\Rasulbek_Ruzmetov\\AppData\\Local\\Programs\\Python\\Python313\\Lib\\site-packages\\sklearn\\linear_model\\_coordinate_descent.py:681: ConvergenceWarning:\n",
      "\n",
      "Objective did not converge. You might want to increase the number of iterations. Duality gap: 396.6912736443719, tolerance: 0.5825795754954955\n",
      "\n",
      "c:\\Users\\Rasulbek_Ruzmetov\\AppData\\Local\\Programs\\Python\\Python313\\Lib\\site-packages\\sklearn\\linear_model\\_coordinate_descent.py:681: ConvergenceWarning:\n",
      "\n",
      "Objective did not converge. You might want to increase the number of iterations. Duality gap: 401.9834060724388, tolerance: 0.5825795754954955\n",
      "\n",
      "c:\\Users\\Rasulbek_Ruzmetov\\AppData\\Local\\Programs\\Python\\Python313\\Lib\\site-packages\\sklearn\\linear_model\\_coordinate_descent.py:681: ConvergenceWarning:\n",
      "\n",
      "Objective did not converge. You might want to increase the number of iterations. Duality gap: 406.3186931914647, tolerance: 0.5825795754954955\n",
      "\n",
      "c:\\Users\\Rasulbek_Ruzmetov\\AppData\\Local\\Programs\\Python\\Python313\\Lib\\site-packages\\sklearn\\linear_model\\_coordinate_descent.py:681: ConvergenceWarning:\n",
      "\n",
      "Objective did not converge. You might want to increase the number of iterations. Duality gap: 409.87067844514604, tolerance: 0.5825795754954955\n",
      "\n",
      "c:\\Users\\Rasulbek_Ruzmetov\\AppData\\Local\\Programs\\Python\\Python313\\Lib\\site-packages\\sklearn\\linear_model\\_coordinate_descent.py:681: ConvergenceWarning:\n",
      "\n",
      "Objective did not converge. You might want to increase the number of iterations. Duality gap: 412.78128779225335, tolerance: 0.5825795754954955\n",
      "\n",
      "c:\\Users\\Rasulbek_Ruzmetov\\AppData\\Local\\Programs\\Python\\Python313\\Lib\\site-packages\\sklearn\\linear_model\\_coordinate_descent.py:681: ConvergenceWarning:\n",
      "\n",
      "Objective did not converge. You might want to increase the number of iterations. Duality gap: 415.1666188500021, tolerance: 0.5825795754954955\n",
      "\n",
      "c:\\Users\\Rasulbek_Ruzmetov\\AppData\\Local\\Programs\\Python\\Python313\\Lib\\site-packages\\sklearn\\linear_model\\_coordinate_descent.py:681: ConvergenceWarning:\n",
      "\n",
      "Objective did not converge. You might want to increase the number of iterations. Duality gap: 417.12166815102273, tolerance: 0.5825795754954955\n",
      "\n",
      "c:\\Users\\Rasulbek_Ruzmetov\\AppData\\Local\\Programs\\Python\\Python313\\Lib\\site-packages\\sklearn\\linear_model\\_coordinate_descent.py:681: ConvergenceWarning:\n",
      "\n",
      "Objective did not converge. You might want to increase the number of iterations. Duality gap: 418.7241898360262, tolerance: 0.5825795754954955\n",
      "\n",
      "c:\\Users\\Rasulbek_Ruzmetov\\AppData\\Local\\Programs\\Python\\Python313\\Lib\\site-packages\\sklearn\\linear_model\\_coordinate_descent.py:681: ConvergenceWarning:\n",
      "\n",
      "Objective did not converge. You might want to increase the number of iterations. Duality gap: 420.0378425187673, tolerance: 0.5825795754954955\n",
      "\n",
      "c:\\Users\\Rasulbek_Ruzmetov\\AppData\\Local\\Programs\\Python\\Python313\\Lib\\site-packages\\sklearn\\linear_model\\_coordinate_descent.py:681: ConvergenceWarning:\n",
      "\n",
      "Objective did not converge. You might want to increase the number of iterations. Duality gap: 421.114758778514, tolerance: 0.5825795754954955\n",
      "\n",
      "c:\\Users\\Rasulbek_Ruzmetov\\AppData\\Local\\Programs\\Python\\Python313\\Lib\\site-packages\\sklearn\\linear_model\\_coordinate_descent.py:681: ConvergenceWarning:\n",
      "\n",
      "Objective did not converge. You might want to increase the number of iterations. Duality gap: 1.2986683236022145, tolerance: 0.5834055732532551\n",
      "\n",
      "c:\\Users\\Rasulbek_Ruzmetov\\AppData\\Local\\Programs\\Python\\Python313\\Lib\\site-packages\\sklearn\\linear_model\\_coordinate_descent.py:681: ConvergenceWarning:\n",
      "\n",
      "Objective did not converge. You might want to increase the number of iterations. Duality gap: 38.131650366602116, tolerance: 0.5834055732532551\n",
      "\n",
      "c:\\Users\\Rasulbek_Ruzmetov\\AppData\\Local\\Programs\\Python\\Python313\\Lib\\site-packages\\sklearn\\linear_model\\_coordinate_descent.py:681: ConvergenceWarning:\n",
      "\n",
      "Objective did not converge. You might want to increase the number of iterations. Duality gap: 92.93884563661959, tolerance: 0.5834055732532551\n",
      "\n",
      "c:\\Users\\Rasulbek_Ruzmetov\\AppData\\Local\\Programs\\Python\\Python313\\Lib\\site-packages\\sklearn\\linear_model\\_coordinate_descent.py:681: ConvergenceWarning:\n",
      "\n",
      "Objective did not converge. You might want to increase the number of iterations. Duality gap: 147.10277301270617, tolerance: 0.5834055732532551\n",
      "\n",
      "c:\\Users\\Rasulbek_Ruzmetov\\AppData\\Local\\Programs\\Python\\Python313\\Lib\\site-packages\\sklearn\\linear_model\\_coordinate_descent.py:681: ConvergenceWarning:\n",
      "\n",
      "Objective did not converge. You might want to increase the number of iterations. Duality gap: 195.15777863941912, tolerance: 0.5834055732532551\n",
      "\n",
      "c:\\Users\\Rasulbek_Ruzmetov\\AppData\\Local\\Programs\\Python\\Python313\\Lib\\site-packages\\sklearn\\linear_model\\_coordinate_descent.py:681: ConvergenceWarning:\n",
      "\n",
      "Objective did not converge. You might want to increase the number of iterations. Duality gap: 236.0289830556876, tolerance: 0.5834055732532551\n",
      "\n",
      "c:\\Users\\Rasulbek_Ruzmetov\\AppData\\Local\\Programs\\Python\\Python313\\Lib\\site-packages\\sklearn\\linear_model\\_coordinate_descent.py:681: ConvergenceWarning:\n",
      "\n",
      "Objective did not converge. You might want to increase the number of iterations. Duality gap: 270.12563080185737, tolerance: 0.5834055732532551\n",
      "\n",
      "c:\\Users\\Rasulbek_Ruzmetov\\AppData\\Local\\Programs\\Python\\Python313\\Lib\\site-packages\\sklearn\\linear_model\\_coordinate_descent.py:681: ConvergenceWarning:\n",
      "\n",
      "Objective did not converge. You might want to increase the number of iterations. Duality gap: 298.301387811312, tolerance: 0.5834055732532551\n",
      "\n",
      "c:\\Users\\Rasulbek_Ruzmetov\\AppData\\Local\\Programs\\Python\\Python313\\Lib\\site-packages\\sklearn\\linear_model\\_coordinate_descent.py:681: ConvergenceWarning:\n",
      "\n",
      "Objective did not converge. You might want to increase the number of iterations. Duality gap: 321.4719142252161, tolerance: 0.5834055732532551\n",
      "\n",
      "c:\\Users\\Rasulbek_Ruzmetov\\AppData\\Local\\Programs\\Python\\Python313\\Lib\\site-packages\\sklearn\\linear_model\\_coordinate_descent.py:681: ConvergenceWarning:\n",
      "\n",
      "Objective did not converge. You might want to increase the number of iterations. Duality gap: 340.47935603447877, tolerance: 0.5834055732532551\n",
      "\n",
      "c:\\Users\\Rasulbek_Ruzmetov\\AppData\\Local\\Programs\\Python\\Python313\\Lib\\site-packages\\sklearn\\linear_model\\_coordinate_descent.py:681: ConvergenceWarning:\n",
      "\n",
      "Objective did not converge. You might want to increase the number of iterations. Duality gap: 356.0527790986166, tolerance: 0.5834055732532551\n",
      "\n",
      "c:\\Users\\Rasulbek_Ruzmetov\\AppData\\Local\\Programs\\Python\\Python313\\Lib\\site-packages\\sklearn\\linear_model\\_coordinate_descent.py:681: ConvergenceWarning:\n",
      "\n",
      "Objective did not converge. You might want to increase the number of iterations. Duality gap: 368.8057324433348, tolerance: 0.5834055732532551\n",
      "\n",
      "c:\\Users\\Rasulbek_Ruzmetov\\AppData\\Local\\Programs\\Python\\Python313\\Lib\\site-packages\\sklearn\\linear_model\\_coordinate_descent.py:681: ConvergenceWarning:\n",
      "\n",
      "Objective did not converge. You might want to increase the number of iterations. Duality gap: 379.24720662983145, tolerance: 0.5834055732532551\n",
      "\n",
      "c:\\Users\\Rasulbek_Ruzmetov\\AppData\\Local\\Programs\\Python\\Python313\\Lib\\site-packages\\sklearn\\linear_model\\_coordinate_descent.py:681: ConvergenceWarning:\n",
      "\n",
      "Objective did not converge. You might want to increase the number of iterations. Duality gap: 387.7963062775452, tolerance: 0.5834055732532551\n",
      "\n",
      "c:\\Users\\Rasulbek_Ruzmetov\\AppData\\Local\\Programs\\Python\\Python313\\Lib\\site-packages\\sklearn\\linear_model\\_coordinate_descent.py:681: ConvergenceWarning:\n",
      "\n",
      "Objective did not converge. You might want to increase the number of iterations. Duality gap: 394.79678364237225, tolerance: 0.5834055732532551\n",
      "\n",
      "c:\\Users\\Rasulbek_Ruzmetov\\AppData\\Local\\Programs\\Python\\Python313\\Lib\\site-packages\\sklearn\\linear_model\\_coordinate_descent.py:681: ConvergenceWarning:\n",
      "\n",
      "Objective did not converge. You might want to increase the number of iterations. Duality gap: 400.53003910916686, tolerance: 0.5834055732532551\n",
      "\n",
      "c:\\Users\\Rasulbek_Ruzmetov\\AppData\\Local\\Programs\\Python\\Python313\\Lib\\site-packages\\sklearn\\linear_model\\_coordinate_descent.py:681: ConvergenceWarning:\n",
      "\n",
      "Objective did not converge. You might want to increase the number of iterations. Duality gap: 405.2262322944771, tolerance: 0.5834055732532551\n",
      "\n",
      "c:\\Users\\Rasulbek_Ruzmetov\\AppData\\Local\\Programs\\Python\\Python313\\Lib\\site-packages\\sklearn\\linear_model\\_coordinate_descent.py:681: ConvergenceWarning:\n",
      "\n",
      "Objective did not converge. You might want to increase the number of iterations. Duality gap: 409.07356128489437, tolerance: 0.5834055732532551\n",
      "\n",
      "c:\\Users\\Rasulbek_Ruzmetov\\AppData\\Local\\Programs\\Python\\Python313\\Lib\\site-packages\\sklearn\\linear_model\\_coordinate_descent.py:681: ConvergenceWarning:\n",
      "\n",
      "Objective did not converge. You might want to increase the number of iterations. Duality gap: 412.2259199671944, tolerance: 0.5834055732532551\n",
      "\n",
      "c:\\Users\\Rasulbek_Ruzmetov\\AppData\\Local\\Programs\\Python\\Python313\\Lib\\site-packages\\sklearn\\linear_model\\_coordinate_descent.py:681: ConvergenceWarning:\n",
      "\n",
      "Objective did not converge. You might want to increase the number of iterations. Duality gap: 414.8091774440172, tolerance: 0.5834055732532551\n",
      "\n",
      "c:\\Users\\Rasulbek_Ruzmetov\\AppData\\Local\\Programs\\Python\\Python313\\Lib\\site-packages\\sklearn\\linear_model\\_coordinate_descent.py:681: ConvergenceWarning:\n",
      "\n",
      "Objective did not converge. You might want to increase the number of iterations. Duality gap: 416.9263093423965, tolerance: 0.5834055732532551\n",
      "\n",
      "c:\\Users\\Rasulbek_Ruzmetov\\AppData\\Local\\Programs\\Python\\Python313\\Lib\\site-packages\\sklearn\\linear_model\\_coordinate_descent.py:681: ConvergenceWarning:\n",
      "\n",
      "Objective did not converge. You might want to increase the number of iterations. Duality gap: 6.940128335769259, tolerance: 0.5836252323523523\n",
      "\n",
      "c:\\Users\\Rasulbek_Ruzmetov\\AppData\\Local\\Programs\\Python\\Python313\\Lib\\site-packages\\sklearn\\linear_model\\_coordinate_descent.py:681: ConvergenceWarning:\n",
      "\n",
      "Objective did not converge. You might want to increase the number of iterations. Duality gap: 51.64892337989659, tolerance: 0.5836252323523523\n",
      "\n",
      "c:\\Users\\Rasulbek_Ruzmetov\\AppData\\Local\\Programs\\Python\\Python313\\Lib\\site-packages\\sklearn\\linear_model\\_coordinate_descent.py:681: ConvergenceWarning:\n",
      "\n",
      "Objective did not converge. You might want to increase the number of iterations. Duality gap: 107.3050084937222, tolerance: 0.5836252323523523\n",
      "\n",
      "c:\\Users\\Rasulbek_Ruzmetov\\AppData\\Local\\Programs\\Python\\Python313\\Lib\\site-packages\\sklearn\\linear_model\\_coordinate_descent.py:681: ConvergenceWarning:\n",
      "\n",
      "Objective did not converge. You might want to increase the number of iterations. Duality gap: 160.18434779427298, tolerance: 0.5836252323523523\n",
      "\n",
      "c:\\Users\\Rasulbek_Ruzmetov\\AppData\\Local\\Programs\\Python\\Python313\\Lib\\site-packages\\sklearn\\linear_model\\_coordinate_descent.py:681: ConvergenceWarning:\n",
      "\n",
      "Objective did not converge. You might want to increase the number of iterations. Duality gap: 206.42844718346623, tolerance: 0.5836252323523523\n",
      "\n",
      "c:\\Users\\Rasulbek_Ruzmetov\\AppData\\Local\\Programs\\Python\\Python313\\Lib\\site-packages\\sklearn\\linear_model\\_coordinate_descent.py:681: ConvergenceWarning:\n",
      "\n",
      "Objective did not converge. You might want to increase the number of iterations. Duality gap: 245.51046394947662, tolerance: 0.5836252323523523\n",
      "\n",
      "c:\\Users\\Rasulbek_Ruzmetov\\AppData\\Local\\Programs\\Python\\Python313\\Lib\\site-packages\\sklearn\\linear_model\\_coordinate_descent.py:681: ConvergenceWarning:\n",
      "\n",
      "Objective did not converge. You might want to increase the number of iterations. Duality gap: 278.0149128037915, tolerance: 0.5836252323523523\n",
      "\n",
      "c:\\Users\\Rasulbek_Ruzmetov\\AppData\\Local\\Programs\\Python\\Python313\\Lib\\site-packages\\sklearn\\linear_model\\_coordinate_descent.py:681: ConvergenceWarning:\n",
      "\n",
      "Objective did not converge. You might want to increase the number of iterations. Duality gap: 304.8338306462956, tolerance: 0.5836252323523523\n",
      "\n",
      "c:\\Users\\Rasulbek_Ruzmetov\\AppData\\Local\\Programs\\Python\\Python313\\Lib\\site-packages\\sklearn\\linear_model\\_coordinate_descent.py:681: ConvergenceWarning:\n",
      "\n",
      "Objective did not converge. You might want to increase the number of iterations. Duality gap: 326.8715978502869, tolerance: 0.5836252323523523\n",
      "\n",
      "c:\\Users\\Rasulbek_Ruzmetov\\AppData\\Local\\Programs\\Python\\Python313\\Lib\\site-packages\\sklearn\\linear_model\\_coordinate_descent.py:681: ConvergenceWarning:\n",
      "\n",
      "Objective did not converge. You might want to increase the number of iterations. Duality gap: 344.9431241984589, tolerance: 0.5836252323523523\n",
      "\n",
      "c:\\Users\\Rasulbek_Ruzmetov\\AppData\\Local\\Programs\\Python\\Python313\\Lib\\site-packages\\sklearn\\linear_model\\_coordinate_descent.py:681: ConvergenceWarning:\n",
      "\n",
      "Objective did not converge. You might want to increase the number of iterations. Duality gap: 359.74741563831367, tolerance: 0.5836252323523523\n",
      "\n",
      "c:\\Users\\Rasulbek_Ruzmetov\\AppData\\Local\\Programs\\Python\\Python313\\Lib\\site-packages\\sklearn\\linear_model\\_coordinate_descent.py:681: ConvergenceWarning:\n",
      "\n",
      "Objective did not converge. You might want to increase the number of iterations. Duality gap: 371.8700402442928, tolerance: 0.5836252323523523\n",
      "\n",
      "c:\\Users\\Rasulbek_Ruzmetov\\AppData\\Local\\Programs\\Python\\Python313\\Lib\\site-packages\\sklearn\\linear_model\\_coordinate_descent.py:681: ConvergenceWarning:\n",
      "\n",
      "Objective did not converge. You might want to increase the number of iterations. Duality gap: 381.79563208761283, tolerance: 0.5836252323523523\n",
      "\n",
      "c:\\Users\\Rasulbek_Ruzmetov\\AppData\\Local\\Programs\\Python\\Python313\\Lib\\site-packages\\sklearn\\linear_model\\_coordinate_descent.py:681: ConvergenceWarning:\n",
      "\n",
      "Objective did not converge. You might want to increase the number of iterations. Duality gap: 389.9227551820327, tolerance: 0.5836252323523523\n",
      "\n",
      "c:\\Users\\Rasulbek_Ruzmetov\\AppData\\Local\\Programs\\Python\\Python313\\Lib\\site-packages\\sklearn\\linear_model\\_coordinate_descent.py:681: ConvergenceWarning:\n",
      "\n",
      "Objective did not converge. You might want to increase the number of iterations. Duality gap: 396.57811735318273, tolerance: 0.5836252323523523\n",
      "\n",
      "c:\\Users\\Rasulbek_Ruzmetov\\AppData\\Local\\Programs\\Python\\Python313\\Lib\\site-packages\\sklearn\\linear_model\\_coordinate_descent.py:681: ConvergenceWarning:\n",
      "\n",
      "Objective did not converge. You might want to increase the number of iterations. Duality gap: 402.02909546108276, tolerance: 0.5836252323523523\n",
      "\n",
      "c:\\Users\\Rasulbek_Ruzmetov\\AppData\\Local\\Programs\\Python\\Python313\\Lib\\site-packages\\sklearn\\linear_model\\_coordinate_descent.py:681: ConvergenceWarning:\n",
      "\n",
      "Objective did not converge. You might want to increase the number of iterations. Duality gap: 406.4943624281391, tolerance: 0.5836252323523523\n",
      "\n",
      "c:\\Users\\Rasulbek_Ruzmetov\\AppData\\Local\\Programs\\Python\\Python313\\Lib\\site-packages\\sklearn\\linear_model\\_coordinate_descent.py:681: ConvergenceWarning:\n",
      "\n",
      "Objective did not converge. You might want to increase the number of iterations. Duality gap: 410.15272773584684, tolerance: 0.5836252323523523\n",
      "\n",
      "c:\\Users\\Rasulbek_Ruzmetov\\AppData\\Local\\Programs\\Python\\Python313\\Lib\\site-packages\\sklearn\\linear_model\\_coordinate_descent.py:681: ConvergenceWarning:\n",
      "\n",
      "Objective did not converge. You might want to increase the number of iterations. Duality gap: 413.1504198443872, tolerance: 0.5836252323523523\n",
      "\n",
      "c:\\Users\\Rasulbek_Ruzmetov\\AppData\\Local\\Programs\\Python\\Python313\\Lib\\site-packages\\sklearn\\linear_model\\_coordinate_descent.py:681: ConvergenceWarning:\n",
      "\n",
      "Objective did not converge. You might want to increase the number of iterations. Duality gap: 415.60704964743536, tolerance: 0.5836252323523523\n",
      "\n",
      "c:\\Users\\Rasulbek_Ruzmetov\\AppData\\Local\\Programs\\Python\\Python313\\Lib\\site-packages\\sklearn\\linear_model\\_coordinate_descent.py:681: ConvergenceWarning:\n",
      "\n",
      "Objective did not converge. You might want to increase the number of iterations. Duality gap: 417.62048430192317, tolerance: 0.5836252323523523\n",
      "\n",
      "c:\\Users\\Rasulbek_Ruzmetov\\AppData\\Local\\Programs\\Python\\Python313\\Lib\\site-packages\\sklearn\\linear_model\\_coordinate_descent.py:681: ConvergenceWarning:\n",
      "\n",
      "Objective did not converge. You might want to increase the number of iterations. Duality gap: 419.27082317473287, tolerance: 0.5836252323523523\n",
      "\n",
      "c:\\Users\\Rasulbek_Ruzmetov\\AppData\\Local\\Programs\\Python\\Python313\\Lib\\site-packages\\sklearn\\linear_model\\_coordinate_descent.py:681: ConvergenceWarning:\n",
      "\n",
      "Objective did not converge. You might want to increase the number of iterations. Duality gap: 420.6236424693798, tolerance: 0.5836252323523523\n",
      "\n",
      "c:\\Users\\Rasulbek_Ruzmetov\\AppData\\Local\\Programs\\Python\\Python313\\Lib\\site-packages\\sklearn\\linear_model\\_coordinate_descent.py:681: ConvergenceWarning:\n",
      "\n",
      "Objective did not converge. You might want to increase the number of iterations. Duality gap: 421.73264217519545, tolerance: 0.5836252323523523\n",
      "\n",
      "c:\\Users\\Rasulbek_Ruzmetov\\AppData\\Local\\Programs\\Python\\Python313\\Lib\\site-packages\\sklearn\\linear_model\\_coordinate_descent.py:681: ConvergenceWarning:\n",
      "\n",
      "Objective did not converge. You might want to increase the number of iterations. Duality gap: 422.64180713253563, tolerance: 0.5836252323523523\n",
      "\n"
     ]
    }
   ],
   "source": [
    "# --- Embedded Methods ---\n",
    "# Xususiyat tanlash uchun Linear Model'larda ishlatiladigan usul (LASSO regression)\n",
    "\n",
    "# LassoCV (L1-regularizatsiya) ni import qilamiz\n",
    "# CV - cross-validation, u model uchun optimal alpha (regulyarizatsiya kuchi) tanlab beradi\n",
    "from sklearn.linear_model import LassoCV\n",
    "\n",
    "# X = Featurelar (kiruvchi ma'lumotlar), ya'ni 'Medical Condition' ustunidan tashqari barcha ustunlar\n",
    "X = df.drop('Medical Condition', axis=1)\n",
    "\n",
    "# y = Target (chiqish qiymati), ya'ni 'Medical Condition' ustuni\n",
    "y = df['Medical Condition']\n",
    "\n",
    "# LassoCV modelini yaratib, uni darhol X va y ma'lumotlariga o'rgatamiz\n",
    "# cv=10 -> 10-fold cross-validation ishlatiladi\n",
    "# random_state=42 -> natijalarni qayta ishlab bo‘lganda bir xil chiqishi uchun\n",
    "lasso = LassoCV(cv=10, random_state=42).fit(X, y)\n",
    "\n",
    "# Olingan koeffitsientlarning qiymatini absolut qilib olamiz\n",
    "# Chunki LASSO ba'zi koeffitsientlarni 0 ga tenglashtirib tashlaydi (ahamyatsiz xususiyatlar)\n",
    "# Qolganlar esa ahamiyat darajasini ko'rsatadi\n",
    "importance = np.abs(lasso.coef_)"
   ]
  },
  {
   "cell_type": "code",
   "execution_count": 25,
   "id": "bf6a3300",
   "metadata": {},
   "outputs": [
    {
     "name": "stdout",
     "output_type": "stream",
     "text": [
      "Selected features using Lasso (non-zero coefficients):\n",
      "[]\n"
     ]
    }
   ],
   "source": [
    "# LASSO modelida nol bo'lmagan koeffitsientlarga ega bo'lgan ustunlarni tanlab olamiz\n",
    "# importance > 0 -> faqat ahamiyatli (muqim) ustunlarni olib qoladi\n",
    "selected_features = X.columns[importance > 0]\n",
    "\n",
    "# Natijani chiqaramiz: LASSO orqali tanlangan ustunlar ro'yxati\n",
    "print(\"Selected features using Lasso (non-zero coefficients):\")\n",
    "\n",
    "# Tanlangan ustunlarni list ko'rinishida chiqaramiz\n",
    "print(selected_features.tolist())\n"
   ]
  },
  {
   "cell_type": "code",
   "execution_count": 26,
   "id": "eb199edd",
   "metadata": {},
   "outputs": [
    {
     "name": "stdout",
     "output_type": "stream",
     "text": [
      "\n",
      "Top 25% important features based on Lasso coefficients:\n",
      "['Name', 'Age', 'Blood Type', 'Date of Admission', 'Doctor', 'Hospital', 'Billing Amount', 'Room Number', 'Discharge Date', 'Gender_Female', 'Gender_Male', 'Insurance Provider_Aetna', 'Insurance Provider_Blue Cross', 'Insurance Provider_Cigna', 'Insurance Provider_Medicare', 'Insurance Provider_UnitedHealthcare', 'Admission Type_Elective', 'Admission Type_Emergency', 'Admission Type_Urgent', 'Medication_Aspirin', 'Medication_Ibuprofen', 'Medication_Lipitor', 'Medication_Paracetamol', 'Medication_Penicillin', 'Test Results_Abnormal', 'Test Results_Inconclusive', 'Test Results_Normal']\n"
     ]
    }
   ],
   "source": [
    "# Faqat muhim featurelarni saqlab qolish\n",
    "\n",
    "# importance qiymatlari ichidan 75-percentile (ya'ni yuqori 25% chegarasi) ni hisoblaymiz\n",
    "# np.percentile(importance, 75) -> importance qiymatlarining 75 foizdan yuqori bo'lgan qismi\n",
    "percentile_threshold = np.percentile(importance, 75)  # top 25% features\n",
    "\n",
    "# Yuqori 25% ga tushadigan featurelarni tanlaymiz\n",
    "# importance >= percentile_threshold bo'lgan ustunlar qoldiriladi\n",
    "top_features = X.columns[importance >= percentile_threshold]\n",
    "\n",
    "# Natija chiqishi uchun bo'sh qatordan keyin matn chiqaramiz\n",
    "print(\"\\nTop 25% important features based on Lasso coefficients:\")\n",
    "\n",
    "# Yuqori 25% muhim ustunlarning nomlarini ro'yxat ko'rinishida chiqaramiz\n",
    "print(top_features.tolist())\n"
   ]
  },
  {
   "cell_type": "code",
   "execution_count": 27,
   "id": "1b97d162",
   "metadata": {},
   "outputs": [
    {
     "name": "stdout",
     "output_type": "stream",
     "text": [
      "Feature Importance Table:\n",
      "                                Feature  Importance Top25%\n",
      "0                                  Name         0.0    Yes\n",
      "1                                   Age         0.0    Yes\n",
      "2                            Blood Type         0.0    Yes\n",
      "3                     Date of Admission         0.0    Yes\n",
      "4                                Doctor         0.0    Yes\n",
      "5                              Hospital         0.0    Yes\n",
      "6                        Billing Amount         0.0    Yes\n",
      "7                           Room Number         0.0    Yes\n",
      "8                        Discharge Date         0.0    Yes\n",
      "9                         Gender_Female         0.0    Yes\n",
      "10                          Gender_Male         0.0    Yes\n",
      "11             Insurance Provider_Aetna         0.0    Yes\n",
      "12        Insurance Provider_Blue Cross         0.0    Yes\n",
      "13             Insurance Provider_Cigna         0.0    Yes\n",
      "14          Insurance Provider_Medicare         0.0    Yes\n",
      "15  Insurance Provider_UnitedHealthcare         0.0    Yes\n",
      "16              Admission Type_Elective         0.0    Yes\n",
      "17             Admission Type_Emergency         0.0    Yes\n",
      "18                Admission Type_Urgent         0.0    Yes\n",
      "19                   Medication_Aspirin         0.0    Yes\n",
      "20                 Medication_Ibuprofen         0.0    Yes\n",
      "21                   Medication_Lipitor         0.0    Yes\n",
      "22               Medication_Paracetamol         0.0    Yes\n",
      "23                Medication_Penicillin         0.0    Yes\n",
      "24                Test Results_Abnormal         0.0    Yes\n",
      "25            Test Results_Inconclusive         0.0    Yes\n",
      "26                  Test Results_Normal         0.0    Yes\n"
     ]
    }
   ],
   "source": [
    "# Feature importance'ni jadval shaklida tayyorlash\n",
    "\n",
    "# DataFrame yaratamiz:\n",
    "# Feature -> ustun nomlari\n",
    "# Importance -> LASSO orqali olingan ahamiyat qiymatlari\n",
    "feat_df = pd.DataFrame({\n",
    "    'Feature': X.columns,\n",
    "    'Importance': importance\n",
    "})\n",
    "\n",
    "# Importance qiymatlariga qarab kamayish tartibida (eng muhimdan kam muhimga qarab) saralaymiz\n",
    "feat_df = feat_df.sort_values(by='Importance', ascending=False)\n",
    "\n",
    "# Yuqori 25% eng muhim featurelarni belgilash uchun threshold hisoblaymiz\n",
    "# Bu yerda 65-percentile ishlatilgan (demak, top 35% olinadi, agar top 25% bo‘lsa 75 qilamiz)\n",
    "percentile_threshold = np.percentile(importance, 65)\n",
    "\n",
    "# Agar Importance >= threshold bo‘lsa -> 'Yes' deb belgilanadi (Top25%)\n",
    "# Aks holda -> 'No' deb yoziladi\n",
    "feat_df['Top25%'] = np.where(feat_df['Importance'] >= percentile_threshold, 'Yes', 'No')\n",
    "\n",
    "# Jadval haqida ma'lumot chiqaramiz\n",
    "print(\"Feature Importance Table:\")\n",
    "\n",
    "# Tayyor jadvalni ekranga chiqaramiz\n",
    "print(feat_df)"
   ]
  },
  {
   "cell_type": "code",
   "execution_count": 28,
   "id": "194c9a4a",
   "metadata": {},
   "outputs": [
    {
     "data": {
      "application/vnd.plotly.v1+json": {
       "config": {
        "plotlyServerURL": "https://plot.ly"
       },
       "data": [
        {
         "hovertemplate": "Top25%=Yes<br>Feature=%{x}<br>Importance=%{text}<extra></extra>",
         "legendgroup": "Yes",
         "marker": {
          "color": "red",
          "pattern": {
           "shape": ""
          }
         },
         "name": "Yes",
         "orientation": "v",
         "showlegend": true,
         "text": {
          "bdata": "AAAAAAAAAAAAAAAAAAAAAAAAAAAAAAAAAAAAAAAAAAAAAAAAAAAAAAAAAAAAAAAAAAAAAAAAAAAAAAAAAAAAAAAAAAAAAAAAAAAAAAAAAAAAAAAAAAAAAAAAAAAAAAAAAAAAAAAAAAAAAAAAAAAAAAAAAAAAAAAAAAAAAAAAAAAAAAAAAAAAAAAAAAAAAAAAAAAAAAAAAAAAAAAAAAAAAAAAAAAAAAAAAAAAAAAAAAAAAAAAAAAAAAAAAAAAAAAAAAAAAAAAAAAAAAAAAAAAAAAAAAAAAAAA",
          "dtype": "f8"
         },
         "textposition": "auto",
         "type": "bar",
         "x": [
          "Name",
          "Age",
          "Blood Type",
          "Date of Admission",
          "Doctor",
          "Hospital",
          "Billing Amount",
          "Room Number",
          "Discharge Date",
          "Gender_Female",
          "Gender_Male",
          "Insurance Provider_Aetna",
          "Insurance Provider_Blue Cross",
          "Insurance Provider_Cigna",
          "Insurance Provider_Medicare",
          "Insurance Provider_UnitedHealthcare",
          "Admission Type_Elective",
          "Admission Type_Emergency",
          "Admission Type_Urgent",
          "Medication_Aspirin",
          "Medication_Ibuprofen",
          "Medication_Lipitor",
          "Medication_Paracetamol",
          "Medication_Penicillin",
          "Test Results_Abnormal",
          "Test Results_Inconclusive",
          "Test Results_Normal"
         ],
         "xaxis": "x",
         "y": {
          "bdata": "AAAAAAAAAAAAAAAAAAAAAAAAAAAAAAAAAAAAAAAAAAAAAAAAAAAAAAAAAAAAAAAAAAAAAAAAAAAAAAAAAAAAAAAAAAAAAAAAAAAAAAAAAAAAAAAAAAAAAAAAAAAAAAAAAAAAAAAAAAAAAAAAAAAAAAAAAAAAAAAAAAAAAAAAAAAAAAAAAAAAAAAAAAAAAAAAAAAAAAAAAAAAAAAAAAAAAAAAAAAAAAAAAAAAAAAAAAAAAAAAAAAAAAAAAAAAAAAAAAAAAAAAAAAAAAAAAAAAAAAAAAAAAAAA",
          "dtype": "f8"
         },
         "yaxis": "y"
        }
       ],
       "layout": {
        "barmode": "relative",
        "height": 600,
        "legend": {
         "title": {
          "text": "Top25%"
         },
         "tracegroupgap": 0
        },
        "template": {
         "data": {
          "bar": [
           {
            "error_x": {
             "color": "#2a3f5f"
            },
            "error_y": {
             "color": "#2a3f5f"
            },
            "marker": {
             "line": {
              "color": "#E5ECF6",
              "width": 0.5
             },
             "pattern": {
              "fillmode": "overlay",
              "size": 10,
              "solidity": 0.2
             }
            },
            "type": "bar"
           }
          ],
          "barpolar": [
           {
            "marker": {
             "line": {
              "color": "#E5ECF6",
              "width": 0.5
             },
             "pattern": {
              "fillmode": "overlay",
              "size": 10,
              "solidity": 0.2
             }
            },
            "type": "barpolar"
           }
          ],
          "carpet": [
           {
            "aaxis": {
             "endlinecolor": "#2a3f5f",
             "gridcolor": "white",
             "linecolor": "white",
             "minorgridcolor": "white",
             "startlinecolor": "#2a3f5f"
            },
            "baxis": {
             "endlinecolor": "#2a3f5f",
             "gridcolor": "white",
             "linecolor": "white",
             "minorgridcolor": "white",
             "startlinecolor": "#2a3f5f"
            },
            "type": "carpet"
           }
          ],
          "choropleth": [
           {
            "colorbar": {
             "outlinewidth": 0,
             "ticks": ""
            },
            "type": "choropleth"
           }
          ],
          "contour": [
           {
            "colorbar": {
             "outlinewidth": 0,
             "ticks": ""
            },
            "colorscale": [
             [
              0,
              "#0d0887"
             ],
             [
              0.1111111111111111,
              "#46039f"
             ],
             [
              0.2222222222222222,
              "#7201a8"
             ],
             [
              0.3333333333333333,
              "#9c179e"
             ],
             [
              0.4444444444444444,
              "#bd3786"
             ],
             [
              0.5555555555555556,
              "#d8576b"
             ],
             [
              0.6666666666666666,
              "#ed7953"
             ],
             [
              0.7777777777777778,
              "#fb9f3a"
             ],
             [
              0.8888888888888888,
              "#fdca26"
             ],
             [
              1,
              "#f0f921"
             ]
            ],
            "type": "contour"
           }
          ],
          "contourcarpet": [
           {
            "colorbar": {
             "outlinewidth": 0,
             "ticks": ""
            },
            "type": "contourcarpet"
           }
          ],
          "heatmap": [
           {
            "colorbar": {
             "outlinewidth": 0,
             "ticks": ""
            },
            "colorscale": [
             [
              0,
              "#0d0887"
             ],
             [
              0.1111111111111111,
              "#46039f"
             ],
             [
              0.2222222222222222,
              "#7201a8"
             ],
             [
              0.3333333333333333,
              "#9c179e"
             ],
             [
              0.4444444444444444,
              "#bd3786"
             ],
             [
              0.5555555555555556,
              "#d8576b"
             ],
             [
              0.6666666666666666,
              "#ed7953"
             ],
             [
              0.7777777777777778,
              "#fb9f3a"
             ],
             [
              0.8888888888888888,
              "#fdca26"
             ],
             [
              1,
              "#f0f921"
             ]
            ],
            "type": "heatmap"
           }
          ],
          "histogram": [
           {
            "marker": {
             "pattern": {
              "fillmode": "overlay",
              "size": 10,
              "solidity": 0.2
             }
            },
            "type": "histogram"
           }
          ],
          "histogram2d": [
           {
            "colorbar": {
             "outlinewidth": 0,
             "ticks": ""
            },
            "colorscale": [
             [
              0,
              "#0d0887"
             ],
             [
              0.1111111111111111,
              "#46039f"
             ],
             [
              0.2222222222222222,
              "#7201a8"
             ],
             [
              0.3333333333333333,
              "#9c179e"
             ],
             [
              0.4444444444444444,
              "#bd3786"
             ],
             [
              0.5555555555555556,
              "#d8576b"
             ],
             [
              0.6666666666666666,
              "#ed7953"
             ],
             [
              0.7777777777777778,
              "#fb9f3a"
             ],
             [
              0.8888888888888888,
              "#fdca26"
             ],
             [
              1,
              "#f0f921"
             ]
            ],
            "type": "histogram2d"
           }
          ],
          "histogram2dcontour": [
           {
            "colorbar": {
             "outlinewidth": 0,
             "ticks": ""
            },
            "colorscale": [
             [
              0,
              "#0d0887"
             ],
             [
              0.1111111111111111,
              "#46039f"
             ],
             [
              0.2222222222222222,
              "#7201a8"
             ],
             [
              0.3333333333333333,
              "#9c179e"
             ],
             [
              0.4444444444444444,
              "#bd3786"
             ],
             [
              0.5555555555555556,
              "#d8576b"
             ],
             [
              0.6666666666666666,
              "#ed7953"
             ],
             [
              0.7777777777777778,
              "#fb9f3a"
             ],
             [
              0.8888888888888888,
              "#fdca26"
             ],
             [
              1,
              "#f0f921"
             ]
            ],
            "type": "histogram2dcontour"
           }
          ],
          "mesh3d": [
           {
            "colorbar": {
             "outlinewidth": 0,
             "ticks": ""
            },
            "type": "mesh3d"
           }
          ],
          "parcoords": [
           {
            "line": {
             "colorbar": {
              "outlinewidth": 0,
              "ticks": ""
             }
            },
            "type": "parcoords"
           }
          ],
          "pie": [
           {
            "automargin": true,
            "type": "pie"
           }
          ],
          "scatter": [
           {
            "fillpattern": {
             "fillmode": "overlay",
             "size": 10,
             "solidity": 0.2
            },
            "type": "scatter"
           }
          ],
          "scatter3d": [
           {
            "line": {
             "colorbar": {
              "outlinewidth": 0,
              "ticks": ""
             }
            },
            "marker": {
             "colorbar": {
              "outlinewidth": 0,
              "ticks": ""
             }
            },
            "type": "scatter3d"
           }
          ],
          "scattercarpet": [
           {
            "marker": {
             "colorbar": {
              "outlinewidth": 0,
              "ticks": ""
             }
            },
            "type": "scattercarpet"
           }
          ],
          "scattergeo": [
           {
            "marker": {
             "colorbar": {
              "outlinewidth": 0,
              "ticks": ""
             }
            },
            "type": "scattergeo"
           }
          ],
          "scattergl": [
           {
            "marker": {
             "colorbar": {
              "outlinewidth": 0,
              "ticks": ""
             }
            },
            "type": "scattergl"
           }
          ],
          "scattermap": [
           {
            "marker": {
             "colorbar": {
              "outlinewidth": 0,
              "ticks": ""
             }
            },
            "type": "scattermap"
           }
          ],
          "scattermapbox": [
           {
            "marker": {
             "colorbar": {
              "outlinewidth": 0,
              "ticks": ""
             }
            },
            "type": "scattermapbox"
           }
          ],
          "scatterpolar": [
           {
            "marker": {
             "colorbar": {
              "outlinewidth": 0,
              "ticks": ""
             }
            },
            "type": "scatterpolar"
           }
          ],
          "scatterpolargl": [
           {
            "marker": {
             "colorbar": {
              "outlinewidth": 0,
              "ticks": ""
             }
            },
            "type": "scatterpolargl"
           }
          ],
          "scatterternary": [
           {
            "marker": {
             "colorbar": {
              "outlinewidth": 0,
              "ticks": ""
             }
            },
            "type": "scatterternary"
           }
          ],
          "surface": [
           {
            "colorbar": {
             "outlinewidth": 0,
             "ticks": ""
            },
            "colorscale": [
             [
              0,
              "#0d0887"
             ],
             [
              0.1111111111111111,
              "#46039f"
             ],
             [
              0.2222222222222222,
              "#7201a8"
             ],
             [
              0.3333333333333333,
              "#9c179e"
             ],
             [
              0.4444444444444444,
              "#bd3786"
             ],
             [
              0.5555555555555556,
              "#d8576b"
             ],
             [
              0.6666666666666666,
              "#ed7953"
             ],
             [
              0.7777777777777778,
              "#fb9f3a"
             ],
             [
              0.8888888888888888,
              "#fdca26"
             ],
             [
              1,
              "#f0f921"
             ]
            ],
            "type": "surface"
           }
          ],
          "table": [
           {
            "cells": {
             "fill": {
              "color": "#EBF0F8"
             },
             "line": {
              "color": "white"
             }
            },
            "header": {
             "fill": {
              "color": "#C8D4E3"
             },
             "line": {
              "color": "white"
             }
            },
            "type": "table"
           }
          ]
         },
         "layout": {
          "annotationdefaults": {
           "arrowcolor": "#2a3f5f",
           "arrowhead": 0,
           "arrowwidth": 1
          },
          "autotypenumbers": "strict",
          "coloraxis": {
           "colorbar": {
            "outlinewidth": 0,
            "ticks": ""
           }
          },
          "colorscale": {
           "diverging": [
            [
             0,
             "#8e0152"
            ],
            [
             0.1,
             "#c51b7d"
            ],
            [
             0.2,
             "#de77ae"
            ],
            [
             0.3,
             "#f1b6da"
            ],
            [
             0.4,
             "#fde0ef"
            ],
            [
             0.5,
             "#f7f7f7"
            ],
            [
             0.6,
             "#e6f5d0"
            ],
            [
             0.7,
             "#b8e186"
            ],
            [
             0.8,
             "#7fbc41"
            ],
            [
             0.9,
             "#4d9221"
            ],
            [
             1,
             "#276419"
            ]
           ],
           "sequential": [
            [
             0,
             "#0d0887"
            ],
            [
             0.1111111111111111,
             "#46039f"
            ],
            [
             0.2222222222222222,
             "#7201a8"
            ],
            [
             0.3333333333333333,
             "#9c179e"
            ],
            [
             0.4444444444444444,
             "#bd3786"
            ],
            [
             0.5555555555555556,
             "#d8576b"
            ],
            [
             0.6666666666666666,
             "#ed7953"
            ],
            [
             0.7777777777777778,
             "#fb9f3a"
            ],
            [
             0.8888888888888888,
             "#fdca26"
            ],
            [
             1,
             "#f0f921"
            ]
           ],
           "sequentialminus": [
            [
             0,
             "#0d0887"
            ],
            [
             0.1111111111111111,
             "#46039f"
            ],
            [
             0.2222222222222222,
             "#7201a8"
            ],
            [
             0.3333333333333333,
             "#9c179e"
            ],
            [
             0.4444444444444444,
             "#bd3786"
            ],
            [
             0.5555555555555556,
             "#d8576b"
            ],
            [
             0.6666666666666666,
             "#ed7953"
            ],
            [
             0.7777777777777778,
             "#fb9f3a"
            ],
            [
             0.8888888888888888,
             "#fdca26"
            ],
            [
             1,
             "#f0f921"
            ]
           ]
          },
          "colorway": [
           "#636efa",
           "#EF553B",
           "#00cc96",
           "#ab63fa",
           "#FFA15A",
           "#19d3f3",
           "#FF6692",
           "#B6E880",
           "#FF97FF",
           "#FECB52"
          ],
          "font": {
           "color": "#2a3f5f"
          },
          "geo": {
           "bgcolor": "white",
           "lakecolor": "white",
           "landcolor": "#E5ECF6",
           "showlakes": true,
           "showland": true,
           "subunitcolor": "white"
          },
          "hoverlabel": {
           "align": "left"
          },
          "hovermode": "closest",
          "mapbox": {
           "style": "light"
          },
          "paper_bgcolor": "white",
          "plot_bgcolor": "#E5ECF6",
          "polar": {
           "angularaxis": {
            "gridcolor": "white",
            "linecolor": "white",
            "ticks": ""
           },
           "bgcolor": "#E5ECF6",
           "radialaxis": {
            "gridcolor": "white",
            "linecolor": "white",
            "ticks": ""
           }
          },
          "scene": {
           "xaxis": {
            "backgroundcolor": "#E5ECF6",
            "gridcolor": "white",
            "gridwidth": 2,
            "linecolor": "white",
            "showbackground": true,
            "ticks": "",
            "zerolinecolor": "white"
           },
           "yaxis": {
            "backgroundcolor": "#E5ECF6",
            "gridcolor": "white",
            "gridwidth": 2,
            "linecolor": "white",
            "showbackground": true,
            "ticks": "",
            "zerolinecolor": "white"
           },
           "zaxis": {
            "backgroundcolor": "#E5ECF6",
            "gridcolor": "white",
            "gridwidth": 2,
            "linecolor": "white",
            "showbackground": true,
            "ticks": "",
            "zerolinecolor": "white"
           }
          },
          "shapedefaults": {
           "line": {
            "color": "#2a3f5f"
           }
          },
          "ternary": {
           "aaxis": {
            "gridcolor": "white",
            "linecolor": "white",
            "ticks": ""
           },
           "baxis": {
            "gridcolor": "white",
            "linecolor": "white",
            "ticks": ""
           },
           "bgcolor": "#E5ECF6",
           "caxis": {
            "gridcolor": "white",
            "linecolor": "white",
            "ticks": ""
           }
          },
          "title": {
           "x": 0.05
          },
          "xaxis": {
           "automargin": true,
           "gridcolor": "white",
           "linecolor": "white",
           "ticks": "",
           "title": {
            "standoff": 15
           },
           "zerolinecolor": "white",
           "zerolinewidth": 2
          },
          "yaxis": {
           "automargin": true,
           "gridcolor": "white",
           "linecolor": "white",
           "ticks": "",
           "title": {
            "standoff": 15
           },
           "zerolinecolor": "white",
           "zerolinewidth": 2
          }
         }
        },
        "title": {
         "text": "Lasso Feature Importance"
        },
        "width": 1000,
        "xaxis": {
         "anchor": "y",
         "domain": [
          0,
          1
         ],
         "tickangle": -45,
         "title": {
          "text": "Feature"
         }
        },
        "yaxis": {
         "anchor": "x",
         "domain": [
          0,
          1
         ],
         "title": {
          "text": "Importance"
         }
        }
       }
      }
     },
     "metadata": {},
     "output_type": "display_data"
    }
   ],
   "source": [
    "# Plotly Express yordamida feature importance'ni ustunli grafik (bar chart) ko'rinishida chizish\n",
    "fig = px.bar(\n",
    "    feat_df,                # Ma'lumot manbasi sifatida feat_df jadvalini olamiz\n",
    "    x='Feature',            # X o‘qi – feature (ustun) nomlari\n",
    "    y='Importance',         # Y o‘qi – importance qiymatlari\n",
    "    color='Top25%',         # Ranglash – Top25% ustuni bo‘yicha ('Yes' yoki 'No')\n",
    "    color_discrete_map={'Yes': 'red', 'No': 'blue'},  # 'Yes' qizil, 'No' ko‘k rang bilan ajratiladi\n",
    "    text='Importance',      # Har bir ustun ustiga importance qiymatini yozib qo‘yish\n",
    "    title='Lasso Feature Importance'  # Grafik sarlavhasi\n",
    ")\n",
    "\n",
    "# Grafikning umumiy ko‘rinishini sozlash\n",
    "fig.update_layout(\n",
    "    xaxis_tickangle=-45,  # X o‘qi yozuvlarini 45° ga buramiz, uzun nomlar chiroyli ko‘rinishi uchun\n",
    "    width=1000,           # Grafikning eni\n",
    "    height=600            # Grafikning bo‘yi\n",
    ")\n",
    "\n",
    "# Grafikni interaktiv tarzda ko‘rsatamiz\n",
    "fig.show()\n"
   ]
  },
  {
   "cell_type": "code",
   "execution_count": 29,
   "id": "f367dd57",
   "metadata": {},
   "outputs": [
    {
     "name": "stdout",
     "output_type": "stream",
     "text": [
      "Random Forest Feature Importance Table:\n",
      "                                Feature  Importance Top25%\n",
      "0                                  Name    0.116064    Yes\n",
      "6                        Billing Amount    0.115780    Yes\n",
      "4                                Doctor    0.115730    Yes\n",
      "5                              Hospital    0.115522    Yes\n",
      "7                           Room Number    0.106329    Yes\n",
      "1                                   Age    0.083992    Yes\n",
      "3                     Date of Admission    0.069225    Yes\n",
      "8                        Discharge Date    0.069172     No\n",
      "2                            Blood Type    0.045413     No\n",
      "24                Test Results_Abnormal    0.009713     No\n",
      "26                  Test Results_Normal    0.009601     No\n",
      "25            Test Results_Inconclusive    0.009535     No\n",
      "16              Admission Type_Elective    0.009486     No\n",
      "17             Admission Type_Emergency    0.009426     No\n",
      "18                Admission Type_Urgent    0.009405     No\n",
      "14          Insurance Provider_Medicare    0.009261     No\n",
      "23                Medication_Penicillin    0.009258     No\n",
      "21                   Medication_Lipitor    0.009250     No\n",
      "15  Insurance Provider_UnitedHealthcare    0.009244     No\n",
      "12        Insurance Provider_Blue Cross    0.009238     No\n",
      "19                   Medication_Aspirin    0.009230     No\n",
      "13             Insurance Provider_Cigna    0.009191     No\n",
      "11             Insurance Provider_Aetna    0.009125     No\n",
      "20                 Medication_Ibuprofen    0.009118     No\n",
      "22               Medication_Paracetamol    0.008721     No\n",
      "10                          Gender_Male    0.007023     No\n",
      "9                         Gender_Female    0.006949     No\n"
     ]
    }
   ],
   "source": [
    "# --- Tree based (Random Forest) Feature Importance ---\n",
    "\n",
    "# Random Forest Regressorni import qilamiz\n",
    "from sklearn.ensemble import RandomForestRegressor\n",
    "\n",
    "# Random Forest modelini yaratamiz\n",
    "# n_estimators=500 -> 500 ta daraxt quriladi\n",
    "# random_state=42 -> natijani barqaror qilish uchun tasodifiylikni cheklaydi\n",
    "rf = RandomForestRegressor(n_estimators=500, random_state=42)\n",
    "\n",
    "# Modelni ma'lumotlarga o'rgatamiz (X = features, y = target)\n",
    "rf.fit(X, y)\n",
    "\n",
    "# Har bir feature uchun ahamiyat darajasini (importance) olamiz\n",
    "# Random Forest buni \"daraxtlarda qanchalik tez-tez split qilinishi\" orqali hisoblaydi\n",
    "importances = rf.feature_importances_\n",
    "\n",
    "# Feature importance jadvali yaratamiz\n",
    "feat_df = pd.DataFrame({\n",
    "    'Feature': X.columns,       # ustun nomlari\n",
    "    'Importance': importances   # ularning ahamiyat qiymatlari\n",
    "})\n",
    "\n",
    "# Jadvalni ahamiyat darajasiga qarab kamayish tartibida saralaymiz\n",
    "feat_df = feat_df.sort_values(by='Importance', ascending=False)\n",
    "\n",
    "# Eng muhim 25% featurelarni belgilash uchun threshold hisoblaymiz\n",
    "percentile_threshold = np.percentile(importances, 75)\n",
    "\n",
    "# Agar feature importance >= threshold bo‘lsa, 'Yes' deb belgilanadi, aks holda 'No'\n",
    "feat_df['Top25%'] = np.where(feat_df['Importance'] >= percentile_threshold, 'Yes', 'No')\n",
    "\n",
    "# Jadval haqida xabar chiqaramiz\n",
    "print(\"Random Forest Feature Importance Table:\")\n",
    "\n",
    "# Tayyor jadvalni ekranga chiqaramiz\n",
    "print(feat_df)\n"
   ]
  },
  {
   "cell_type": "code",
   "execution_count": 30,
   "id": "e2bcafed",
   "metadata": {},
   "outputs": [
    {
     "data": {
      "application/vnd.plotly.v1+json": {
       "config": {
        "plotlyServerURL": "https://plot.ly"
       },
       "data": [
        {
         "hovertemplate": "Top25%=Yes<br>Feature=%{x}<br>Importance=%{text}<extra></extra>",
         "legendgroup": "Yes",
         "marker": {
          "color": "red",
          "pattern": {
           "shape": ""
          }
         },
         "name": "Yes",
         "orientation": "v",
         "showlegend": true,
         "text": {
          "bdata": "00GAHWG2vT9XgghgxaO9P7D1zJF9oL0/7lZIH+GSvT9Fjx5HZzi7PyVmabh6gLU/C1vK8rS4sT8=",
          "dtype": "f8"
         },
         "textposition": "auto",
         "type": "bar",
         "x": [
          "Name",
          "Billing Amount",
          "Doctor",
          "Hospital",
          "Room Number",
          "Age",
          "Date of Admission"
         ],
         "xaxis": "x",
         "y": {
          "bdata": "00GAHWG2vT9XgghgxaO9P7D1zJF9oL0/7lZIH+GSvT9Fjx5HZzi7PyVmabh6gLU/C1vK8rS4sT8=",
          "dtype": "f8"
         },
         "yaxis": "y"
        },
        {
         "hovertemplate": "Top25%=No<br>Feature=%{x}<br>Importance=%{text}<extra></extra>",
         "legendgroup": "No",
         "marker": {
          "color": "blue",
          "pattern": {
           "shape": ""
          }
         },
         "name": "No",
         "orientation": "v",
         "showlegend": true,
         "text": {
          "bdata": "CUsk/Ty1sT+2u4F0XECnP4unZsgv5IM/hLCA5bypgz+EP15514aDP+8Y2YkxbYM/f8KQS9pNgz/w+BR17UKDP7w8SflE94I//hq6o+r1gj8ffzmDvvGCP+5x8Lxl7oI/moyl71Hrgj8yaOEETeeCP6+jsdd50oI/wx2oljGwgj/Kp8jdTKyCPygUQM1R3IE/A4K70Z7EfD8kjjXv9nZ8Pw==",
          "dtype": "f8"
         },
         "textposition": "auto",
         "type": "bar",
         "x": [
          "Discharge Date",
          "Blood Type",
          "Test Results_Abnormal",
          "Test Results_Normal",
          "Test Results_Inconclusive",
          "Admission Type_Elective",
          "Admission Type_Emergency",
          "Admission Type_Urgent",
          "Insurance Provider_Medicare",
          "Medication_Penicillin",
          "Medication_Lipitor",
          "Insurance Provider_UnitedHealthcare",
          "Insurance Provider_Blue Cross",
          "Medication_Aspirin",
          "Insurance Provider_Cigna",
          "Insurance Provider_Aetna",
          "Medication_Ibuprofen",
          "Medication_Paracetamol",
          "Gender_Male",
          "Gender_Female"
         ],
         "xaxis": "x",
         "y": {
          "bdata": "CUsk/Ty1sT+2u4F0XECnP4unZsgv5IM/hLCA5bypgz+EP15514aDP+8Y2YkxbYM/f8KQS9pNgz/w+BR17UKDP7w8SflE94I//hq6o+r1gj8ffzmDvvGCP+5x8Lxl7oI/moyl71Hrgj8yaOEETeeCP6+jsdd50oI/wx2oljGwgj/Kp8jdTKyCPygUQM1R3IE/A4K70Z7EfD8kjjXv9nZ8Pw==",
          "dtype": "f8"
         },
         "yaxis": "y"
        }
       ],
       "layout": {
        "barmode": "relative",
        "height": 600,
        "legend": {
         "title": {
          "text": "Top25%"
         },
         "tracegroupgap": 0
        },
        "template": {
         "data": {
          "bar": [
           {
            "error_x": {
             "color": "#2a3f5f"
            },
            "error_y": {
             "color": "#2a3f5f"
            },
            "marker": {
             "line": {
              "color": "#E5ECF6",
              "width": 0.5
             },
             "pattern": {
              "fillmode": "overlay",
              "size": 10,
              "solidity": 0.2
             }
            },
            "type": "bar"
           }
          ],
          "barpolar": [
           {
            "marker": {
             "line": {
              "color": "#E5ECF6",
              "width": 0.5
             },
             "pattern": {
              "fillmode": "overlay",
              "size": 10,
              "solidity": 0.2
             }
            },
            "type": "barpolar"
           }
          ],
          "carpet": [
           {
            "aaxis": {
             "endlinecolor": "#2a3f5f",
             "gridcolor": "white",
             "linecolor": "white",
             "minorgridcolor": "white",
             "startlinecolor": "#2a3f5f"
            },
            "baxis": {
             "endlinecolor": "#2a3f5f",
             "gridcolor": "white",
             "linecolor": "white",
             "minorgridcolor": "white",
             "startlinecolor": "#2a3f5f"
            },
            "type": "carpet"
           }
          ],
          "choropleth": [
           {
            "colorbar": {
             "outlinewidth": 0,
             "ticks": ""
            },
            "type": "choropleth"
           }
          ],
          "contour": [
           {
            "colorbar": {
             "outlinewidth": 0,
             "ticks": ""
            },
            "colorscale": [
             [
              0,
              "#0d0887"
             ],
             [
              0.1111111111111111,
              "#46039f"
             ],
             [
              0.2222222222222222,
              "#7201a8"
             ],
             [
              0.3333333333333333,
              "#9c179e"
             ],
             [
              0.4444444444444444,
              "#bd3786"
             ],
             [
              0.5555555555555556,
              "#d8576b"
             ],
             [
              0.6666666666666666,
              "#ed7953"
             ],
             [
              0.7777777777777778,
              "#fb9f3a"
             ],
             [
              0.8888888888888888,
              "#fdca26"
             ],
             [
              1,
              "#f0f921"
             ]
            ],
            "type": "contour"
           }
          ],
          "contourcarpet": [
           {
            "colorbar": {
             "outlinewidth": 0,
             "ticks": ""
            },
            "type": "contourcarpet"
           }
          ],
          "heatmap": [
           {
            "colorbar": {
             "outlinewidth": 0,
             "ticks": ""
            },
            "colorscale": [
             [
              0,
              "#0d0887"
             ],
             [
              0.1111111111111111,
              "#46039f"
             ],
             [
              0.2222222222222222,
              "#7201a8"
             ],
             [
              0.3333333333333333,
              "#9c179e"
             ],
             [
              0.4444444444444444,
              "#bd3786"
             ],
             [
              0.5555555555555556,
              "#d8576b"
             ],
             [
              0.6666666666666666,
              "#ed7953"
             ],
             [
              0.7777777777777778,
              "#fb9f3a"
             ],
             [
              0.8888888888888888,
              "#fdca26"
             ],
             [
              1,
              "#f0f921"
             ]
            ],
            "type": "heatmap"
           }
          ],
          "histogram": [
           {
            "marker": {
             "pattern": {
              "fillmode": "overlay",
              "size": 10,
              "solidity": 0.2
             }
            },
            "type": "histogram"
           }
          ],
          "histogram2d": [
           {
            "colorbar": {
             "outlinewidth": 0,
             "ticks": ""
            },
            "colorscale": [
             [
              0,
              "#0d0887"
             ],
             [
              0.1111111111111111,
              "#46039f"
             ],
             [
              0.2222222222222222,
              "#7201a8"
             ],
             [
              0.3333333333333333,
              "#9c179e"
             ],
             [
              0.4444444444444444,
              "#bd3786"
             ],
             [
              0.5555555555555556,
              "#d8576b"
             ],
             [
              0.6666666666666666,
              "#ed7953"
             ],
             [
              0.7777777777777778,
              "#fb9f3a"
             ],
             [
              0.8888888888888888,
              "#fdca26"
             ],
             [
              1,
              "#f0f921"
             ]
            ],
            "type": "histogram2d"
           }
          ],
          "histogram2dcontour": [
           {
            "colorbar": {
             "outlinewidth": 0,
             "ticks": ""
            },
            "colorscale": [
             [
              0,
              "#0d0887"
             ],
             [
              0.1111111111111111,
              "#46039f"
             ],
             [
              0.2222222222222222,
              "#7201a8"
             ],
             [
              0.3333333333333333,
              "#9c179e"
             ],
             [
              0.4444444444444444,
              "#bd3786"
             ],
             [
              0.5555555555555556,
              "#d8576b"
             ],
             [
              0.6666666666666666,
              "#ed7953"
             ],
             [
              0.7777777777777778,
              "#fb9f3a"
             ],
             [
              0.8888888888888888,
              "#fdca26"
             ],
             [
              1,
              "#f0f921"
             ]
            ],
            "type": "histogram2dcontour"
           }
          ],
          "mesh3d": [
           {
            "colorbar": {
             "outlinewidth": 0,
             "ticks": ""
            },
            "type": "mesh3d"
           }
          ],
          "parcoords": [
           {
            "line": {
             "colorbar": {
              "outlinewidth": 0,
              "ticks": ""
             }
            },
            "type": "parcoords"
           }
          ],
          "pie": [
           {
            "automargin": true,
            "type": "pie"
           }
          ],
          "scatter": [
           {
            "fillpattern": {
             "fillmode": "overlay",
             "size": 10,
             "solidity": 0.2
            },
            "type": "scatter"
           }
          ],
          "scatter3d": [
           {
            "line": {
             "colorbar": {
              "outlinewidth": 0,
              "ticks": ""
             }
            },
            "marker": {
             "colorbar": {
              "outlinewidth": 0,
              "ticks": ""
             }
            },
            "type": "scatter3d"
           }
          ],
          "scattercarpet": [
           {
            "marker": {
             "colorbar": {
              "outlinewidth": 0,
              "ticks": ""
             }
            },
            "type": "scattercarpet"
           }
          ],
          "scattergeo": [
           {
            "marker": {
             "colorbar": {
              "outlinewidth": 0,
              "ticks": ""
             }
            },
            "type": "scattergeo"
           }
          ],
          "scattergl": [
           {
            "marker": {
             "colorbar": {
              "outlinewidth": 0,
              "ticks": ""
             }
            },
            "type": "scattergl"
           }
          ],
          "scattermap": [
           {
            "marker": {
             "colorbar": {
              "outlinewidth": 0,
              "ticks": ""
             }
            },
            "type": "scattermap"
           }
          ],
          "scattermapbox": [
           {
            "marker": {
             "colorbar": {
              "outlinewidth": 0,
              "ticks": ""
             }
            },
            "type": "scattermapbox"
           }
          ],
          "scatterpolar": [
           {
            "marker": {
             "colorbar": {
              "outlinewidth": 0,
              "ticks": ""
             }
            },
            "type": "scatterpolar"
           }
          ],
          "scatterpolargl": [
           {
            "marker": {
             "colorbar": {
              "outlinewidth": 0,
              "ticks": ""
             }
            },
            "type": "scatterpolargl"
           }
          ],
          "scatterternary": [
           {
            "marker": {
             "colorbar": {
              "outlinewidth": 0,
              "ticks": ""
             }
            },
            "type": "scatterternary"
           }
          ],
          "surface": [
           {
            "colorbar": {
             "outlinewidth": 0,
             "ticks": ""
            },
            "colorscale": [
             [
              0,
              "#0d0887"
             ],
             [
              0.1111111111111111,
              "#46039f"
             ],
             [
              0.2222222222222222,
              "#7201a8"
             ],
             [
              0.3333333333333333,
              "#9c179e"
             ],
             [
              0.4444444444444444,
              "#bd3786"
             ],
             [
              0.5555555555555556,
              "#d8576b"
             ],
             [
              0.6666666666666666,
              "#ed7953"
             ],
             [
              0.7777777777777778,
              "#fb9f3a"
             ],
             [
              0.8888888888888888,
              "#fdca26"
             ],
             [
              1,
              "#f0f921"
             ]
            ],
            "type": "surface"
           }
          ],
          "table": [
           {
            "cells": {
             "fill": {
              "color": "#EBF0F8"
             },
             "line": {
              "color": "white"
             }
            },
            "header": {
             "fill": {
              "color": "#C8D4E3"
             },
             "line": {
              "color": "white"
             }
            },
            "type": "table"
           }
          ]
         },
         "layout": {
          "annotationdefaults": {
           "arrowcolor": "#2a3f5f",
           "arrowhead": 0,
           "arrowwidth": 1
          },
          "autotypenumbers": "strict",
          "coloraxis": {
           "colorbar": {
            "outlinewidth": 0,
            "ticks": ""
           }
          },
          "colorscale": {
           "diverging": [
            [
             0,
             "#8e0152"
            ],
            [
             0.1,
             "#c51b7d"
            ],
            [
             0.2,
             "#de77ae"
            ],
            [
             0.3,
             "#f1b6da"
            ],
            [
             0.4,
             "#fde0ef"
            ],
            [
             0.5,
             "#f7f7f7"
            ],
            [
             0.6,
             "#e6f5d0"
            ],
            [
             0.7,
             "#b8e186"
            ],
            [
             0.8,
             "#7fbc41"
            ],
            [
             0.9,
             "#4d9221"
            ],
            [
             1,
             "#276419"
            ]
           ],
           "sequential": [
            [
             0,
             "#0d0887"
            ],
            [
             0.1111111111111111,
             "#46039f"
            ],
            [
             0.2222222222222222,
             "#7201a8"
            ],
            [
             0.3333333333333333,
             "#9c179e"
            ],
            [
             0.4444444444444444,
             "#bd3786"
            ],
            [
             0.5555555555555556,
             "#d8576b"
            ],
            [
             0.6666666666666666,
             "#ed7953"
            ],
            [
             0.7777777777777778,
             "#fb9f3a"
            ],
            [
             0.8888888888888888,
             "#fdca26"
            ],
            [
             1,
             "#f0f921"
            ]
           ],
           "sequentialminus": [
            [
             0,
             "#0d0887"
            ],
            [
             0.1111111111111111,
             "#46039f"
            ],
            [
             0.2222222222222222,
             "#7201a8"
            ],
            [
             0.3333333333333333,
             "#9c179e"
            ],
            [
             0.4444444444444444,
             "#bd3786"
            ],
            [
             0.5555555555555556,
             "#d8576b"
            ],
            [
             0.6666666666666666,
             "#ed7953"
            ],
            [
             0.7777777777777778,
             "#fb9f3a"
            ],
            [
             0.8888888888888888,
             "#fdca26"
            ],
            [
             1,
             "#f0f921"
            ]
           ]
          },
          "colorway": [
           "#636efa",
           "#EF553B",
           "#00cc96",
           "#ab63fa",
           "#FFA15A",
           "#19d3f3",
           "#FF6692",
           "#B6E880",
           "#FF97FF",
           "#FECB52"
          ],
          "font": {
           "color": "#2a3f5f"
          },
          "geo": {
           "bgcolor": "white",
           "lakecolor": "white",
           "landcolor": "#E5ECF6",
           "showlakes": true,
           "showland": true,
           "subunitcolor": "white"
          },
          "hoverlabel": {
           "align": "left"
          },
          "hovermode": "closest",
          "mapbox": {
           "style": "light"
          },
          "paper_bgcolor": "white",
          "plot_bgcolor": "#E5ECF6",
          "polar": {
           "angularaxis": {
            "gridcolor": "white",
            "linecolor": "white",
            "ticks": ""
           },
           "bgcolor": "#E5ECF6",
           "radialaxis": {
            "gridcolor": "white",
            "linecolor": "white",
            "ticks": ""
           }
          },
          "scene": {
           "xaxis": {
            "backgroundcolor": "#E5ECF6",
            "gridcolor": "white",
            "gridwidth": 2,
            "linecolor": "white",
            "showbackground": true,
            "ticks": "",
            "zerolinecolor": "white"
           },
           "yaxis": {
            "backgroundcolor": "#E5ECF6",
            "gridcolor": "white",
            "gridwidth": 2,
            "linecolor": "white",
            "showbackground": true,
            "ticks": "",
            "zerolinecolor": "white"
           },
           "zaxis": {
            "backgroundcolor": "#E5ECF6",
            "gridcolor": "white",
            "gridwidth": 2,
            "linecolor": "white",
            "showbackground": true,
            "ticks": "",
            "zerolinecolor": "white"
           }
          },
          "shapedefaults": {
           "line": {
            "color": "#2a3f5f"
           }
          },
          "ternary": {
           "aaxis": {
            "gridcolor": "white",
            "linecolor": "white",
            "ticks": ""
           },
           "baxis": {
            "gridcolor": "white",
            "linecolor": "white",
            "ticks": ""
           },
           "bgcolor": "#E5ECF6",
           "caxis": {
            "gridcolor": "white",
            "linecolor": "white",
            "ticks": ""
           }
          },
          "title": {
           "x": 0.05
          },
          "xaxis": {
           "automargin": true,
           "gridcolor": "white",
           "linecolor": "white",
           "ticks": "",
           "title": {
            "standoff": 15
           },
           "zerolinecolor": "white",
           "zerolinewidth": 2
          },
          "yaxis": {
           "automargin": true,
           "gridcolor": "white",
           "linecolor": "white",
           "ticks": "",
           "title": {
            "standoff": 15
           },
           "zerolinecolor": "white",
           "zerolinewidth": 2
          }
         }
        },
        "title": {
         "text": "Random Forest Feature Importance"
        },
        "width": 1000,
        "xaxis": {
         "anchor": "y",
         "domain": [
          0,
          1
         ],
         "tickangle": -45,
         "title": {
          "text": "Feature"
         }
        },
        "yaxis": {
         "anchor": "x",
         "domain": [
          0,
          1
         ],
         "title": {
          "text": "Importance"
         }
        }
       }
      }
     },
     "metadata": {},
     "output_type": "display_data"
    }
   ],
   "source": [
    "# Plotly Express yordamida Random Forest feature importance'ni grafik ko'rinishida chiqaramiz\n",
    "fig = px.bar(\n",
    "    feat_df,                # Ma'lumot manbasi – feat_df jadvali\n",
    "    x='Feature',            # X o‘qi – ustun (feature) nomlari\n",
    "    y='Importance',         # Y o‘qi – feature importance qiymatlari\n",
    "    color='Top25%',         # Ranglash – 'Top25%' ustuni bo‘yicha ('Yes' = muhim, 'No' = kamroq muhim)\n",
    "    color_discrete_map={'Yes': 'red', 'No': 'blue'},  # Rang sozlamasi: Yes = qizil, No = ko‘k\n",
    "    text='Importance',      # Har bir ustunning ustiga importance qiymatini yozib qo‘yish\n",
    "    title='Random Forest Feature Importance'  # Grafik sarlavhasi\n",
    ")\n",
    "\n",
    "# Grafikning umumiy ko‘rinishini sozlash\n",
    "fig.update_layout(\n",
    "    xaxis_tickangle=-45,  # X o‘qi yozuvlarini 45° ga buramiz (uzun nomlar chiroyli ko‘rinsin)\n",
    "    width=1000,           # Grafikning eni\n",
    "    height=600            # Grafikning bo‘yi\n",
    ")\n",
    "\n",
    "# Grafikni interaktiv tarzda ko‘rsatamiz\n",
    "fig.show()\n"
   ]
  }
 ],
 "metadata": {
  "kernelspec": {
   "display_name": "Python 3",
   "language": "python",
   "name": "python3"
  },
  "language_info": {
   "codemirror_mode": {
    "name": "ipython",
    "version": 3
   },
   "file_extension": ".py",
   "mimetype": "text/x-python",
   "name": "python",
   "nbconvert_exporter": "python",
   "pygments_lexer": "ipython3",
   "version": "3.13.3"
  }
 },
 "nbformat": 4,
 "nbformat_minor": 5
}
